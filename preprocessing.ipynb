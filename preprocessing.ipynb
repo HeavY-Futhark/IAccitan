{
 "cells": [
  {
   "cell_type": "markdown",
   "metadata": {},
   "source": [
    "# Splitting sentences into two distinct csv for french and occitan"
   ]
  },
  {
   "cell_type": "code",
   "execution_count": 8,
   "metadata": {},
   "outputs": [],
   "source": [
    "dataset_folder = 'traduction_occitan/'"
   ]
  },
  {
   "cell_type": "code",
   "execution_count": 9,
   "metadata": {},
   "outputs": [],
   "source": [
    "data_dict = {}"
   ]
  },
  {
   "cell_type": "code",
   "execution_count": 10,
   "metadata": {},
   "outputs": [],
   "source": [
    "import pandas as pd\n",
    "import csv\n",
    "delimiter = '§'\n",
    "\n",
    "file_path = dataset_folder + 'train.csv'\n",
    "\n",
    "# Open the CSV file\n",
    "with open(file_path, 'r') as file:\n",
    "    csv_reader = csv.reader(file, delimiter=delimiter, quotechar=None)\n",
    "    for i, row in enumerate(csv_reader):\n",
    "        # print(row)\n",
    "        # print()\n",
    "        key = row[2]\n",
    "        if key in data_dict:\n",
    "            data_dict[key].append([row[0], row[1]])\n",
    "        else:\n",
    "            data_dict[key] = [[row[0], row[1]]]\n",
    "        if len(row) != 3:\n",
    "            print(f'{len(row)=} ; line:{i} ; row:{row}\\n\\n')"
   ]
  },
  {
   "cell_type": "code",
   "execution_count": 19,
   "metadata": {},
   "outputs": [
    {
     "name": "stdout",
     "output_type": "stream",
     "text": [
      "0\n",
      "Lo podètz crompar sul site de Macarel.\n",
      "Lo podètz crompar sul site de Macarel.\n"
     ]
    }
   ],
   "source": [
    "import Levenshtein\n",
    "ex = data_dict['lengadoc'][5]\n",
    "print(Levenshtein.distance(ex[0], ex[1]))\n",
    "print(ex[0])\n",
    "print(ex[1])"
   ]
  },
  {
   "cell_type": "code",
   "execution_count": 20,
   "metadata": {},
   "outputs": [
    {
     "data": {
      "text/plain": [
       "dict_keys(['gascon', 'lengadoc', 'lemosin'])"
      ]
     },
     "execution_count": 20,
     "metadata": {},
     "output_type": "execute_result"
    }
   ],
   "source": [
    "data_dict.keys()"
   ]
  },
  {
   "cell_type": "code",
   "execution_count": 21,
   "metadata": {},
   "outputs": [
    {
     "name": "stdout",
     "output_type": "stream",
     "text": [
      "erreurs : 2084, sur 25409 examples (8.2%)\n",
      "erreurs : 199, sur 6276 examples (3.17%)\n",
      "erreurs : 296, sur 11863 examples (2.5%)\n"
     ]
    }
   ],
   "source": [
    "# check ligne foireuse\n",
    "def check_lignes_foireuses():\n",
    "    for key in data_dict.keys():\n",
    "        dataset = data_dict[key]\n",
    "        count = 0\n",
    "        for example in dataset:\n",
    "            dist = Levenshtein.distance(example[0], example[1])\n",
    "            if dist == 0:\n",
    "                count += 1\n",
    "                # print(example)\n",
    "                # if count >= 10:\n",
    "                #     break\n",
    "        print(f'erreurs : {count}, sur {len(dataset)} examples ({round((count/len(dataset)) * 100, 2)}%)')\n",
    "check_lignes_foireuses()"
   ]
  },
  {
   "cell_type": "code",
   "execution_count": 22,
   "metadata": {},
   "outputs": [],
   "source": [
    "# clean lignes foireuses\n",
    "for key in data_dict.keys():\n",
    "    dataset = data_dict[key]\n",
    "    data_dict[key] = [[a, b] for a, b in dataset if Levenshtein.distance(a, b) != 0]"
   ]
  },
  {
   "cell_type": "code",
   "execution_count": 23,
   "metadata": {},
   "outputs": [
    {
     "name": "stdout",
     "output_type": "stream",
     "text": [
      "erreurs : 0, sur 23325 examples (0.0%)\n",
      "erreurs : 0, sur 6077 examples (0.0%)\n",
      "erreurs : 0, sur 11567 examples (0.0%)\n"
     ]
    }
   ],
   "source": [
    "check_lignes_foireuses()"
   ]
  },
  {
   "cell_type": "code",
   "execution_count": null,
   "metadata": {},
   "outputs": [],
   "source": []
  },
  {
   "cell_type": "code",
   "execution_count": null,
   "metadata": {},
   "outputs": [],
   "source": []
  }
 ],
 "metadata": {
  "kernelspec": {
   "display_name": "Python 3",
   "language": "python",
   "name": "python3"
  },
  "language_info": {
   "codemirror_mode": {
    "name": "ipython",
    "version": 3
   },
   "file_extension": ".py",
   "mimetype": "text/x-python",
   "name": "python",
   "nbconvert_exporter": "python",
   "pygments_lexer": "ipython3",
   "version": "3.8.10"
  }
 },
 "nbformat": 4,
 "nbformat_minor": 2
}
