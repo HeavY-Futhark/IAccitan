{
 "cells": [
  {
   "cell_type": "markdown",
   "metadata": {},
   "source": [
    "# Cleaning training data"
   ]
  },
  {
   "cell_type": "code",
   "execution_count": 12,
   "metadata": {},
   "outputs": [],
   "source": [
    "import pandas as pd\n",
    "import csv\n",
    "\n",
    "delimiter = '§'\n",
    "data_dict = {}\n",
    "dataset_folder = 'traduction_occitan/'\n",
    "filename = 'train.csv'\n",
    "file_path = dataset_folder + filename\n",
    "\n",
    "# Open the CSV file\n",
    "with open(file_path, 'r') as file:\n",
    "    csv_reader = csv.reader(file, delimiter=delimiter, quotechar=None)\n",
    "    for i, row in enumerate(csv_reader):\n",
    "        # print(row)\n",
    "        # print()\n",
    "        key = row[2]\n",
    "        if key in data_dict:\n",
    "            data_dict[key].append([row[0], row[1]])\n",
    "        else:\n",
    "            data_dict[key] = [[row[0], row[1]]]\n",
    "        if len(row) != 3:\n",
    "            print(f'{len(row)=} ; line:{i} ; row:{row}\\n\\n')"
   ]
  },
  {
   "cell_type": "code",
   "execution_count": 13,
   "metadata": {},
   "outputs": [
    {
     "name": "stdout",
     "output_type": "stream",
     "text": [
      "1\n",
      "Patrici Baccou\n",
      "Patrice Baccou\n"
     ]
    }
   ],
   "source": [
    "import Levenshtein\n",
    "ex = data_dict['lengadoc'][5]\n",
    "print(Levenshtein.distance(ex[0], ex[1]))\n",
    "print(ex[0])\n",
    "print(ex[1])"
   ]
  },
  {
   "cell_type": "code",
   "execution_count": 14,
   "metadata": {},
   "outputs": [
    {
     "data": {
      "text/plain": [
       "dict_keys(['lengadoc', 'gascon'])"
      ]
     },
     "execution_count": 14,
     "metadata": {},
     "output_type": "execute_result"
    }
   ],
   "source": [
    "data_dict.keys()"
   ]
  },
  {
   "cell_type": "code",
   "execution_count": 15,
   "metadata": {},
   "outputs": [
    {
     "name": "stdout",
     "output_type": "stream",
     "text": [
      "erreurs : 10, sur 282 examples (3.55%)\n",
      "erreurs : 61, sur 2718 examples (2.24%)\n"
     ]
    }
   ],
   "source": [
    "# check ligne foireuse\n",
    "def check_lignes_duplique():\n",
    "    for key in data_dict.keys():\n",
    "        dataset = data_dict[key]\n",
    "        count = 0\n",
    "        for example in dataset:\n",
    "            dist = Levenshtein.distance(example[0], example[1])\n",
    "            if dist == 0:\n",
    "                count += 1\n",
    "                # print(example)\n",
    "                # if count >= 10:\n",
    "                #     break\n",
    "        print(f'erreurs : {count}, sur {len(dataset)} examples ({round((count/len(dataset)) * 100, 2)}%)')\n",
    "check_lignes_duplique()"
   ]
  },
  {
   "cell_type": "code",
   "execution_count": 16,
   "metadata": {},
   "outputs": [],
   "source": [
    "# clean lignes foireuses\n",
    "for key in data_dict.keys():\n",
    "    dataset = data_dict[key]\n",
    "    data_dict[key] = [[a, b] for a, b in dataset if Levenshtein.distance(a, b) != 0]"
   ]
  },
  {
   "cell_type": "code",
   "execution_count": 17,
   "metadata": {},
   "outputs": [
    {
     "name": "stdout",
     "output_type": "stream",
     "text": [
      "erreurs : 0, sur 272 examples (0.0%)\n",
      "erreurs : 0, sur 2657 examples (0.0%)\n"
     ]
    }
   ],
   "source": [
    "check_lignes_duplique()"
   ]
  },
  {
   "cell_type": "code",
   "execution_count": 18,
   "metadata": {},
   "outputs": [
    {
     "name": "stdout",
     "output_type": "stream",
     "text": [
      "La création du fichier CSV à partir de data_dict est terminée. Le fichier de sortie est : traduction_occitan/testNorm.csv\n"
     ]
    }
   ],
   "source": [
    "# PART 1 : Préparation de `data_dict` (déjà fourni dans votre code)\n",
    "# ...\n",
    "\n",
    "# PART 2 : Création d'un nouveau fichier CSV à partir de `data_dict`\n",
    "output_file_path = 'traduction_occitan/' + filename.split('.')[0] + 'Norm.csv'\n",
    "\n",
    "# Ouvrir le fichier de sortie\n",
    "with open(output_file_path, 'w', newline='', encoding='utf-8') as outfile:\n",
    "    writer = csv.writer(outfile)\n",
    "    \n",
    "    # Itérer sur chaque clé (dialecte) dans `data_dict`\n",
    "    for key in data_dict.keys():\n",
    "        dataset = data_dict[key]  # Liste de paires [occitan, français]\n",
    "        \n",
    "        # Écrire chaque paire dans le fichier CSV\n",
    "        for occitan, french in dataset:\n",
    "            writer.writerow([occitan, french, key])\n",
    "\n",
    "print(\"La création du fichier CSV à partir de data_dict est terminée. Le fichier de sortie est :\", output_file_path)\n"
   ]
  },
  {
   "cell_type": "markdown",
   "metadata": {},
   "source": [
    "# More cleaning"
   ]
  },
  {
   "cell_type": "code",
   "execution_count": 22,
   "metadata": {},
   "outputs": [
    {
     "name": "stdout",
     "output_type": "stream",
     "text": [
      "Doublon trouvé à la ligne 6082: los òmes ! | Los òmes !\n",
      "Doublon trouvé à la ligne 6087: los òmes ! | Los òmes !\n",
      "Doublon trouvé à la ligne 6947: Bona Annada 2020 ! | Bona annada 2020 !\n",
      "Doublon trouvé à la ligne 12430: DVD  Festival Escambis 5ème édition \t | DVD  Festival Escambis 5ème édition\n",
      "Doublon trouvé à la ligne 22476: Ofici public de la lengua occitana 22, bd maréchal juin 31406 Tolosa cedex 9 Tel 05 82 60 02 80 | Ofici public de la lengua occitana 22, bd Maréchal Juin 31406 Tolosa cedex 9 Tel 05 82 60 02 80\n",
      "Doublon trouvé à la ligne 27940: La lenga que parlam es patrimòni de l'umanitat ! | la lenga que parlam es patrimòni de l'umanitat !\n",
      "Doublon trouvé à la ligne 28903: monsieur, je crois que j'ai dit une grosse connerie ! | Monsieur, je crois que j'ai dit une grosse connerie !\n",
      "Doublon trouvé à la ligne 38505: dragon | Dragon\n"
     ]
    }
   ],
   "source": [
    "import csv\n",
    "from Levenshtein import distance\n",
    "\n",
    "input_file_path = 'traduction_occitan/' + filename.split('.')[0] + 'Norm.csv'\n",
    "\n",
    "\n",
    "# Fonction pour vérifier s'il y a des doublons dans une ligne\n",
    "def verifier_doublons(csv_path):\n",
    "    with open(csv_path, 'r', encoding='utf-8') as csvfile:\n",
    "        reader = csv.reader(csvfile)\n",
    "        for i, row in enumerate(reader):\n",
    "            # Assurez-vous que la ligne a au moins deux colonnes\n",
    "            if len(row) >= 2:\n",
    "                # Comparer le contenu des deux premières colonnes\n",
    "                if row[0].strip().lower() == row[1].strip().lower():\n",
    "                    print(f\"Doublon trouvé à la ligne {i+1}: {row[0]} | {row[1]}\")\n",
    "                elif distance(row[0].strip().lower(), row[1].strip().lower()) == 0:  # Utiliser la distance de Levenshtein si nécessaire\n",
    "                    print(f\"Doublon (par distance) trouvé à la ligne {i+1}: {row[0]} | {row[1]}\")\n",
    "            else:\n",
    "                print(f\"Ligne {i+1} ignorée (pas assez de colonnes).\")\n",
    "\n",
    "verifier_doublons(input_file_path)"
   ]
  },
  {
   "cell_type": "code",
   "execution_count": 23,
   "metadata": {},
   "outputs": [
    {
     "name": "stdout",
     "output_type": "stream",
     "text": [
      "La séparation est terminée. Les fichiers occitan_train.csv et french_train.csv ont été créés.\n"
     ]
    }
   ],
   "source": [
    "import csv\n",
    "\n",
    "input_file_path = 'traduction_occitan/trainNorm.csv'\n",
    "occitan_output_file_path = 'traduction_occitan/occitan_train.csv'\n",
    "french_output_file_path = 'traduction_occitan/french_train.csv'\n",
    "\n",
    "# Ouvrir le fichier d'entrée\n",
    "with open(input_file_path, 'r', encoding='utf-8') as infile:\n",
    "    reader = csv.reader(infile)\n",
    "    \n",
    "    # Ouvrir les fichiers de sortie pour occitan et français\n",
    "    with open(occitan_output_file_path, 'w', newline='', encoding='utf-8') as occitan_outfile, \\\n",
    "         open(french_output_file_path, 'w', newline='', encoding='utf-8') as french_outfile:\n",
    "        \n",
    "        occitan_writer = csv.writer(occitan_outfile)\n",
    "        french_writer = csv.writer(french_outfile)\n",
    "        \n",
    "        # Lire chaque ligne du fichier d'entrée\n",
    "        for row in reader:\n",
    "            if len(row) < 2:  # S'assurer que la ligne contient les deux parties et le délimiteur\n",
    "                continue\n",
    "            # Écrire la partie occitane dans occitan_train.csv\n",
    "            occitan_writer.writerow([row[0]])\n",
    "            # Écrire la partie française dans french_train.csv\n",
    "            french_writer.writerow([row[1]])  # Adjuster l'indice si nécessaire selon la structure exacte de vos données\n",
    "\n",
    "print(\"La séparation est terminée. Les fichiers occitan_train.csv et french_train.csv ont été créés.\")\n"
   ]
  }
 ],
 "metadata": {
  "kernelspec": {
   "display_name": "Python 3",
   "language": "python",
   "name": "python3"
  },
  "language_info": {
   "codemirror_mode": {
    "name": "ipython",
    "version": 3
   },
   "file_extension": ".py",
   "mimetype": "text/x-python",
   "name": "python",
   "nbconvert_exporter": "python",
   "pygments_lexer": "ipython3",
   "version": "3.8.10"
  }
 },
 "nbformat": 4,
 "nbformat_minor": 2
}
