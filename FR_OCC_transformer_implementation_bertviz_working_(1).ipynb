{
  "cells": [
    {
      "cell_type": "markdown",
      "metadata": {
        "id": "1eNA7v6iyRZ_"
      },
      "source": [
        "# Transfomer for translation (https://www.tensorflow.org/text/tutorials/transformer)"
      ]
    },
    {
      "cell_type": "markdown",
      "metadata": {
        "id": "lriGjd1-wJVS"
      },
      "source": [
        "- train tokenizer for occitan\n",
        "- create transformer architecture\n",
        "- try inference with one examples, even untrained\n",
        "- tokenize examples (fr - occ)\n",
        "- make batches\n",
        "- train transformer\n",
        "- inference\n",
        "- eval\n",
        "- visualisation"
      ]
    },
    {
      "cell_type": "code",
      "execution_count": 29,
      "metadata": {
        "id": "gDLAMB6YwJVY"
      },
      "outputs": [],
      "source": [
        "import tensorflow as tf\n",
        "import pandas as pd\n",
        "import numpy as np"
      ]
    },
    {
      "cell_type": "code",
      "execution_count": 30,
      "metadata": {
        "colab": {
          "base_uri": "https://localhost:8080/"
        },
        "id": "w2BNjPnEyEgY",
        "outputId": "0a6e3439-dc2c-492f-b9b5-2d6588c07952"
      },
      "outputs": [
        {
          "name": "stdout",
          "output_type": "stream",
          "text": [
            "No GPU available. TensorFlow will use CPU.\n"
          ]
        }
      ],
      "source": [
        "# Check available GPUs\n",
        "physical_devices = tf.config.list_physical_devices('GPU')\n",
        "if physical_devices:\n",
        "    # Limit TensorFlow to use only the first GPU\n",
        "    tf.config.set_visible_devices(physical_devices[0], 'GPU')\n",
        "    # Allow memory growth to avoid allocating all GPU memory upfront\n",
        "    tf.config.experimental.set_memory_growth(physical_devices[0], True)\n",
        "    print('GPU is available and configured for TensorFlow.')\n",
        "else:\n",
        "    print('No GPU available. TensorFlow will use CPU.')"
      ]
    },
    {
      "cell_type": "code",
      "execution_count": 31,
      "metadata": {
        "colab": {
          "base_uri": "https://localhost:8080/"
        },
        "id": "bH7I32nAwSHn",
        "outputId": "ce3bce6a-d4f1-4d74-f461-c787fbbac6e4"
      },
      "outputs": [
        {
          "name": "stdout",
          "output_type": "stream",
          "text": [
            "Drive already mounted at /content/drive; to attempt to forcibly remount, call drive.mount(\"/content/drive\", force_remount=True).\n"
          ]
        }
      ],
      "source": [
        "# Mount Google Drive\n",
        "from google.colab import drive\n",
        "drive.mount('/content/drive')"
      ]
    },
    {
      "cell_type": "code",
      "execution_count": 32,
      "metadata": {
        "id": "u9da2VPQwJVa"
      },
      "outputs": [],
      "source": [
        "dataset_folder = 'traduction_occitan/'\n",
        "filename = 'trainNormBig.csv'\n",
        "drivepath = '/content/drive/MyDrive/Colab/occitan/'\n",
        "# filepath = dataset_folder + filename\n",
        "filepath = drivepath + dataset_folder + filename"
      ]
    },
    {
      "cell_type": "code",
      "execution_count": 33,
      "metadata": {
        "colab": {
          "base_uri": "https://localhost:8080/"
        },
        "id": "kJayYRN1wJVb",
        "outputId": "bde02479-1964-452a-a42d-f77d63b2faa6"
      },
      "outputs": [
        {
          "name": "stdout",
          "output_type": "stream",
          "text": [
            "                                                       0  \\\n",
            "0      Stir Fry/Padelada ! Quò es un mejan perfièch p...   \n",
            "1      Coleslaw/Ensalada de chaul ! Sètz en trin de v...   \n",
            "2      Maki Roll/Rotlèus Maki ! La sabor delicata de ...   \n",
            "3      Lucky Lunch/Repais jauvent ! Una vièlha legend...   \n",
            "4      Roasted Hazelnuts/Nosilhas grilhadas ! Ai un b...   \n",
            "...                                                  ...   \n",
            "40964  Un brave nombre d'amainatjaments fuguèren fach...   \n",
            "40965  Un suènh, una armonia e una rigor particularas...   \n",
            "40966  Dins lo cas que quauques mots vos eschaparián,...   \n",
            "40967  Podètz quand volètz far ‘na pausa dins un dial...   \n",
            "40968  Stardew Valley coma tots los elements grafics ...   \n",
            "\n",
            "                                                       1        2  \n",
            "0      Stir Fry/Sauté de légumes! C’est le moyen idéa...  lemosin  \n",
            "1                            Pancakes/Pancakes ! Parfois  lemosin  \n",
            "2      Complete Breakfast/Petit-déjeuner complet ! La...  lemosin  \n",
            "3      Pink Cake/Gâteau rose ! Une téléspectatrice de...  lemosin  \n",
            "4                                                   Sam   lemosin  \n",
            "...                                                  ...      ...  \n",
            "40964  Un certain nombre d'aménagements ont été effec...  lemosin  \n",
            "40965  Un soin, une harmonie et une rigueur particuli...  lemosin  \n",
            "40966  Pour le cas où certains mots vous échapperaien...  lemosin  \n",
            "40967  Vous pouvez à tout moment faire une pause dans...  lemosin  \n",
            "40968  Stardew Valley ainsi que tous les éléments gra...  lemosin  \n",
            "\n",
            "[210288 rows x 3 columns]\n"
          ]
        }
      ],
      "source": [
        "print(df)"
      ]
    },
    {
      "cell_type": "code",
      "execution_count": 34,
      "metadata": {
        "colab": {
          "base_uri": "https://localhost:8080/"
        },
        "id": "agbLKz-GwJVb",
        "outputId": "f892932d-52a8-4e91-e7ff-5faab77546dd"
      },
      "outputs": [
        {
          "name": "stdout",
          "output_type": "stream",
          "text": [
            "[\"Stir Fry/Padelada ! Quò es un mejan perfièch per botar un pauc de sana verdura dins vòstra sieta. Fasètz sautar dins un pauc d'òli de sesame e apondètz totplen de gengibre fresche e de gòuça. Aura bufatz prigondament... Ò quò es bon./Padelada\", \"Coleslaw/Ensalada de chaul ! Sètz en trin de vos imaginar daus modelons deissaborits de chauls molards ? Parièr. Mas una bona ensalada de chaul quò pòt èsser plan mai que quò. Asseguratz-vos d'aver dau chaul fresche e aigós per quela-qui. Boiratz emb un pauc de vinagre e de la maionesa e quò es prèste. ARadish Salad/Ensalada de rafes ! Ren vau un rafe fresche e suavament pebrat. Quò me recòrda la fin de la prima... Ma mair copava daus rafes fresches e los serviá sus dau pan de granas emb un pauc de sau. AOmelet/Moleta ! Quò es un plat tot simpleBaked Fish/Peisson au forn ! Quand fau quò chas ieuPancakes/Crèspas ! Daus uns còps me laisse emportar per daus plats sofisticats e complicats... Mas i a quauquarren de conortant dins una simpla crèspa. Voudretz segurament botar totplen de burre e de siròp d'aserau sus quilhs pilòts chauds e moflets... Mmm.../Crèspas\", \"Maki Roll/Rotlèus Maki ! La sabor delicata de la marBread/Pan ! Far dau pan pòt èsser una forma d'art un pauc malaisadaTortilla/Tortilha ! Quantben d'entre vautres son en trin de chaunhar un burrito desjà aprestat e reschaufat au microondas en espiar queu programa ? Vergonha ! Podriatz tant plan plejar vòstras mongetas dins un vièlh toalhon. AuraTrout Soup/Sopa de trucha ! I a quauquarren dins una trucha juste 'trapada que me fai barbelar. Benlèu lo gost fin dau riu. Qué que ne'n siáGlazed Yams/Nhams glaçats ! Quò es la sason daus nhamsArtichoke Dip/Trempat d'artichauts ! Quò es un bon biais de minjar mai sovent daus artichauts. Bon personalamentPlum Pudding/Clafotís ! Joan-golard es preissat de tastar a queu delici fondent e lipós. E li podèm pas reprochar. Las prunas son sucradas e floralasChocolate Cake/Pastís de chocolat ! Coneissètz un melhor mejan de s'ocupar pendent las frejas serenadas d'ivèrn que de se chavar un chamin tras una montanha de chocolat ? Emb mon ajudaPumpkin Pie/Milhasson ! Chas ieuCranberry Candy/Gelèa de berberins ! Ne'n veiquí 'na pita per vos ajudar a festejar la novèla annada. Los berberins son acides quand son soletsPizza/Pizza ! I a una rason per que la pizza siá un classic intemporau de la cosina. Avètz una crosta artisanala plan dauradaHashbrowns/Pompiras rostidas ! Quela-qui es simplaComplete Breakfast/Dejunar complèt ! La setmana passada vos apreniá a far de las pompiras rostidas. Questa setmana vos vau mostrar coma las combinar emb d'autres ingredients per far un dejunar complèt e copiós. Queu repais vos aulhará vertadièrament e vos donará l'energia qu'avètz mestièr per començar 'na rufa jornada de trabalh./Dejunar complèt\", \"Lucky Lunch/Repais jauvent ! Una vièlha legenda conta que los esperits de la chança e de la fortuna pòden pas resistir a queu plat. Après z'aver consomatCarp Surprise/ÒuMaple Bar/Bunhets d'aserau ! Avètz desjà fach 'tencion au fach que los bunhets d'aseraus son totjorn los prumièrs a disparéisser de la bóitia ? Çò qu'es estonant quand sabèm que lo bunhet d'aserau mejan a lo gost d'un palet sucrat. Dise la vertatPink Cake/Una telespectatritz de Pampalí m'escriguèt recentament... Vejam donc... Se 'pèla Angèla. Escriguèt : 'Tastí vòstre pastís ròse lo darrièr còp que ieu èra a Zozó e ne'n sei tombada amorosa. Podriatz partatjar la recèpta dins vòstre episòdi venent ?' E ben mas perqué pas ? Quò es un gastèu formidable. E devinaretz jamai l'ingredient secrèt... dau melon !/Pastís ròse\", \"Roasted Hazelnuts/Nosilhas grilhadas ! Ai un brave nosilhièr darrièr la maisonFruit Salad/Ensalada de frucha ! Veiquí una lechotariá per esbelar vòstra jornada. Lo chause mai important quò es de se sovenir que la frucha deu èsser madura. Podètz obludar los afars fadinhards dau subremerchat... Parle de fruchas culhidas de frescheBlackberry Cobbler/Torta d'amoras ! Quò me fai pensar a Vau Serena. I a quauques jorns en autona que la vau se crueba de las amoras las mai deliciosas que me fuguèt jamai donar de tastar. Se podètz botar la man sus quauquas unasCrab Cakes/Pans de chancre ! La charn de chancre es un pauc mingra tota solaFiddlehead Risotto/Risotto de faugièras ! Las brotas de faugièras son bravasPoppyseed Muffin/Pastís a las granas de pavòt ! Los cluquets fan de las bravas flors ornamentalas... Mas perqué pas far un usatge complèt de la planta emb quilhs briochons deliciós ? Sei afeccionada de granas de pavòt. Son finasLobster Bisque/Bisca de ligombau ! Podètz servir quò au quite deputat. Quò es richeBruschetta/Pan-tomata ! Quò es un aperitiu simple que bòta en valor la qualitat daus ingredients. Vos faudrá dau panShrimp Cocktail/Coctèl de chambaròtas ! Veiquí un autre bon aperitiu per vos e vòstres convidats. Ma saussa coctèl es supèr picantaDis\"] 210288\n"
          ]
        }
      ],
      "source": [
        "occitan_sentences = df.iloc[:, 0].tolist()\n",
        "print(occitan_sentences[:5], len(occitan_sentences))"
      ]
    },
    {
      "cell_type": "markdown",
      "metadata": {
        "id": "rUWKuJvVwJVb"
      },
      "source": [
        "# Train a tokenizer for occitan\n"
      ]
    },
    {
      "cell_type": "code",
      "execution_count": 35,
      "metadata": {
        "colab": {
          "base_uri": "https://localhost:8080/",
          "height": 176
        },
        "id": "4-AUXsMGwJVb",
        "outputId": "74cd770e-bb74-404b-e598-75a70adb8b3d"
      },
      "outputs": [
        {
          "ename": "TypeError",
          "evalue": "unsupported operand type(s) for +: 'float' and 'str'",
          "output_type": "error",
          "traceback": [
            "\u001b[0;31m---------------------------------------------------------------------------\u001b[0m",
            "\u001b[0;31mTypeError\u001b[0m                                 Traceback (most recent call last)",
            "\u001b[0;32m<ipython-input-35-c8bb032aca19>\u001b[0m in \u001b[0;36m<cell line: 2>\u001b[0;34m()\u001b[0m\n\u001b[1;32m      2\u001b[0m \u001b[0;32mwith\u001b[0m \u001b[0mopen\u001b[0m\u001b[0;34m(\u001b[0m\u001b[0;34m\"occitan_sentences_for_tokenizer.txt\"\u001b[0m\u001b[0;34m,\u001b[0m \u001b[0;34m\"w\"\u001b[0m\u001b[0;34m,\u001b[0m \u001b[0mencoding\u001b[0m\u001b[0;34m=\u001b[0m\u001b[0;34m\"utf-8\"\u001b[0m\u001b[0;34m)\u001b[0m \u001b[0;32mas\u001b[0m \u001b[0mf\u001b[0m\u001b[0;34m:\u001b[0m\u001b[0;34m\u001b[0m\u001b[0;34m\u001b[0m\u001b[0m\n\u001b[1;32m      3\u001b[0m     \u001b[0;32mfor\u001b[0m \u001b[0msentence\u001b[0m \u001b[0;32min\u001b[0m \u001b[0moccitan_sentences\u001b[0m\u001b[0;34m:\u001b[0m\u001b[0;34m\u001b[0m\u001b[0;34m\u001b[0m\u001b[0m\n\u001b[0;32m----> 4\u001b[0;31m         \u001b[0mf\u001b[0m\u001b[0;34m.\u001b[0m\u001b[0mwrite\u001b[0m\u001b[0;34m(\u001b[0m\u001b[0msentence\u001b[0m \u001b[0;34m+\u001b[0m \u001b[0;34m\"\\n\"\u001b[0m\u001b[0;34m)\u001b[0m\u001b[0;34m\u001b[0m\u001b[0;34m\u001b[0m\u001b[0m\n\u001b[0m",
            "\u001b[0;31mTypeError\u001b[0m: unsupported operand type(s) for +: 'float' and 'str'"
          ]
        }
      ],
      "source": [
        "# Write the Occitan sentences to a text file\n",
        "with open(\"occitan_sentences_for_tokenizer.txt\", \"w\", encoding=\"utf-8\") as f:\n",
        "    for sentence in occitan_sentences:\n",
        "        f.write(sentence + \"\\n\")"
      ]
    },
    {
      "cell_type": "code",
      "execution_count": 36,
      "metadata": {
        "id": "gM4XLn5mwJVc"
      },
      "outputs": [],
      "source": [
        "from tokenizers import Tokenizer, trainers, normalizers, pre_tokenizers, decoders\n",
        "from tokenizers.models import BPE\n",
        "from tokenizers.normalizers import NFD, StripAccents\n",
        "\n",
        "# Define the tokenizer\n",
        "occ_tokenizer = Tokenizer(BPE())\n",
        "\n",
        "# Customize normalization and pre-tokenization if needed\n",
        "occ_tokenizer.normalizer = normalizers.Sequence([\n",
        "    NFD(),   # Normalize to decomposed unicode (e.g., é -> e +  ́)\n",
        "])\n",
        "occ_tokenizer.pre_tokenizer = pre_tokenizers.Whitespace()\n",
        "\n",
        "# Train the tokenizer on your Occitan sentences\n",
        "trainer = trainers.BpeTrainer(special_tokens=[\"[UNK]\", \"[CLS]\", \"[SEP]\", \"[PAD]\", \"[MASK]\"])\n",
        "occ_tokenizer.train(files=[\"occitan_sentences_for_tokenizer.txt\"], trainer=trainer)\n",
        "\n",
        "from tokenizers.processors import TemplateProcessing\n",
        "occ_tokenizer.post_processor = TemplateProcessing(\n",
        "    single=\"[BOS] $A [EOS]\",\n",
        "    special_tokens=[(\"[BOS]\", 1), (\"[EOS]\", 2)],\n",
        ")\n",
        "\n",
        "# Save the trained tokenizer\n",
        "occ_tokenizer.save(\"occitan_tokenizer.json\")"
      ]
    },
    {
      "cell_type": "markdown",
      "metadata": {
        "id": "WmB-cg0WwJVc"
      },
      "source": [
        "## test tokenizer"
      ]
    },
    {
      "cell_type": "code",
      "execution_count": null,
      "metadata": {
        "colab": {
          "base_uri": "https://localhost:8080/"
        },
        "id": "wuFkN785wJVd",
        "outputId": "4e13f247-d756-49c9-f1d1-da6fb9b2cd16"
      },
      "outputs": [
        {
          "name": "stdout",
          "output_type": "stream",
          "text": [
            "Que'u seguirà a quate òras deu vrèspe l'espectacle Contes d'un Doman Acabat de Gric de Prat.\n",
            "['[BOS]', 'Que', \"'\", 'u', 'seguirà', 'a', 'quate', 'òras', 'deu', 'vrèspe', 'l', \"'\", 'espectacle', 'Contes', 'd', \"'\", 'un', 'Doman', 'Aca', 'bat', 'de', 'Gric', 'de', 'Prat', '.', '[EOS]']\n",
            "[1, 276, 11, 88, 8370, 68, 1482, 1016, 194, 1719, 79, 11, 1199, 2688, 71, 11, 165, 10442, 1979, 695, 138, 5094, 138, 4590, 18, 2]\n",
            "Number of tokens in vocab: 30000\n",
            "[1, 2]\n"
          ]
        }
      ],
      "source": [
        "from tokenizers import Tokenizer\n",
        "from tokenizers.models import BPE\n",
        "from tokenizers.normalizers import NFD, StripAccents\n",
        "from tokenizers.pre_tokenizers import Whitespace\n",
        "\n",
        "# Load the tokenizer\n",
        "occ_tokenizer = Tokenizer.from_file(\"occitan_tokenizer.json\")\n",
        "\n",
        "# Tokenize a sample Occitan sentence\n",
        "sentence = occitan_sentences[1]\n",
        "tokens = occ_tokenizer.encode(sentence)\n",
        "\n",
        "# Print the tokens\n",
        "print(sentence)\n",
        "print(tokens.tokens)\n",
        "print(tokens.ids)\n",
        "# vocab size\n",
        "print(\"Number of tokens in vocab:\", occ_tokenizer.get_vocab_size())\n",
        "print(occ_tokenizer.encode('').ids)"
      ]
    },
    {
      "cell_type": "markdown",
      "metadata": {
        "id": "LGzWqCi7wJVd"
      },
      "source": [
        "## instantiate french tokenizer"
      ]
    },
    {
      "cell_type": "code",
      "execution_count": null,
      "metadata": {
        "colab": {
          "base_uri": "https://localhost:8080/",
          "height": 217,
          "referenced_widgets": [
            "f6b999693dfb42e4ac190fc81f0cf5e6",
            "cb28f003f0fd477fb06755e66e9f3432",
            "48db8c598e0846c0b6d0d0c9399f6379",
            "da989fe499254e9eb62a86f8b21d7551",
            "a8e36f41d4504616aaf5c5f53f8e429f",
            "e4d75c63616840adb7d4949aac13bda3",
            "73e40d7298d54093a953f7f4355d8892",
            "2cc9da18c5c340bc892ccbce46b824a2",
            "4279d9193f2f486f94a52b7471024d55",
            "b8a3a1984fd64b558c645d4e720088e6",
            "522bf0947193421db9267a37cec0035c",
            "d8b6005c4ddf463fada6052040108aff",
            "a324140fd2de4666b49a29d1cbd0ff91",
            "6ce5030c86c74e77b7d218e72cff681b",
            "0290e21261424c1c96e519978b2bc3ee",
            "081210c708184bd0ade047f385733322",
            "fc193539726545b29eda938aff5286b1",
            "4823e9b9419a4ba5abb3511ea5aaf0c4",
            "707d665b8edc4376b3bf5db96dc5b3fe",
            "76dedcf233be4f89a341e7fc8f8846ba",
            "95fd4e7bba9f48fcbc84c0dbb657a1bb",
            "1a96a39364864cfe93c985cdda1bcc12",
            "6dba5a7d7c8e431eafd116c9c15c29d3",
            "7b3dadad0c75491d9d7f233e2b8737c1",
            "f236cd634d2845ca9ea29d1eab1fba0c",
            "79d6769d9ad24c7dad151991eb06982d",
            "3bad43f61ebd4e0997f0fa0172ba79ad",
            "71dc91b051284502ad945d03fcbba96f",
            "79ab831f9b734c849056e667d68b2939",
            "b40b147094034fc6844a8e4505e436fc",
            "151cf68e1a4c41a6bf6b74195569fd28",
            "0914c1cee6c346bf9e52c235c3d3bde8",
            "785ffebff29d4c68820c29e1c295067a"
          ]
        },
        "id": "wOxu1GRZwJVd",
        "outputId": "156ad535-4349-42e5-b860-b0131cdfb10b"
      },
      "outputs": [
        {
          "name": "stderr",
          "output_type": "stream",
          "text": [
            "/usr/local/lib/python3.10/dist-packages/huggingface_hub/utils/_token.py:88: UserWarning: \n",
            "The secret `HF_TOKEN` does not exist in your Colab secrets.\n",
            "To authenticate with the Hugging Face Hub, create a token in your settings tab (https://huggingface.co/settings/tokens), set it as secret in your Google Colab and restart your session.\n",
            "You will be able to reuse this secret in all of your notebooks.\n",
            "Please note that authentication is recommended but still optional to access public models or datasets.\n",
            "  warnings.warn(\n"
          ]
        },
        {
          "data": {
            "application/vnd.jupyter.widget-view+json": {
              "model_id": "f6b999693dfb42e4ac190fc81f0cf5e6",
              "version_major": 2,
              "version_minor": 0
            },
            "text/plain": [
              "tokenizer_config.json:   0%|          | 0.00/83.0 [00:00<?, ?B/s]"
            ]
          },
          "metadata": {},
          "output_type": "display_data"
        },
        {
          "data": {
            "application/vnd.jupyter.widget-view+json": {
              "model_id": "d8b6005c4ddf463fada6052040108aff",
              "version_major": 2,
              "version_minor": 0
            },
            "text/plain": [
              "config.json:   0%|          | 0.00/420 [00:00<?, ?B/s]"
            ]
          },
          "metadata": {},
          "output_type": "display_data"
        },
        {
          "data": {
            "application/vnd.jupyter.widget-view+json": {
              "model_id": "6dba5a7d7c8e431eafd116c9c15c29d3",
              "version_major": 2,
              "version_minor": 0
            },
            "text/plain": [
              "vocab.txt:   0%|          | 0.00/227k [00:00<?, ?B/s]"
            ]
          },
          "metadata": {},
          "output_type": "display_data"
        }
      ],
      "source": [
        "from transformers import AutoTokenizer\n",
        "\n",
        "# Load the pre-trained French tokenizer\n",
        "fr_tokenizer = AutoTokenizer.from_pretrained(\"dbmdz/bert-base-french-europeana-cased\")"
      ]
    },
    {
      "cell_type": "code",
      "execution_count": null,
      "metadata": {
        "colab": {
          "base_uri": "https://localhost:8080/"
        },
        "id": "ht2bvkaPwJVe",
        "outputId": "cc41f0a5-a3fc-4b8f-871f-ec908254740f"
      },
      "outputs": [
        {
          "name": "stdout",
          "output_type": "stream",
          "text": [
            "['la', 'proposition', 'de', 'ce', 'chose', 'préf', '##ait', 'possède', 'quelque', 'chose', 'de', 'puissant', 'et', 'indem', '##ont', '##able'] 32000\n"
          ]
        }
      ],
      "source": [
        "# Tokenize a French sentence\n",
        "french_sentence = \"la proposition de ce chose préfait possède quelque chose de puissant et indemontable\"\n",
        "tokens = fr_tokenizer.tokenize(french_sentence)\n",
        "\n",
        "# Print the tokens\n",
        "print(tokens, len(fr_tokenizer.get_vocab()))"
      ]
    },
    {
      "cell_type": "markdown",
      "metadata": {
        "id": "hUC9ZZDGwJVe"
      },
      "source": [
        "# Transformer architecture"
      ]
    },
    {
      "cell_type": "code",
      "execution_count": null,
      "metadata": {
        "id": "Nqfyi5RnwJVe"
      },
      "outputs": [],
      "source": [
        "def positional_encoding(length, depth):\n",
        "  depth = depth/2\n",
        "\n",
        "  positions = np.arange(length)[:, np.newaxis]     # (seq, 1)\n",
        "  depths = np.arange(depth)[np.newaxis, :]/depth   # (1, depth)\n",
        "\n",
        "  angle_rates = 1 / (10000**depths)         # (1, depth)\n",
        "  angle_rads = positions * angle_rates      # (pos, depth)\n",
        "\n",
        "  pos_encoding = np.concatenate(\n",
        "      [np.sin(angle_rads), np.cos(angle_rads)],\n",
        "      axis=-1)\n",
        "\n",
        "  return tf.cast(pos_encoding, dtype=tf.float32)"
      ]
    },
    {
      "cell_type": "code",
      "execution_count": null,
      "metadata": {
        "id": "lTU7lgMJwJVf"
      },
      "outputs": [],
      "source": [
        "class PositionalEmbedding(tf.keras.layers.Layer):\n",
        "  def __init__(self, vocab_size, d_model):\n",
        "    super().__init__()\n",
        "    self.d_model = d_model\n",
        "    self.embedding = tf.keras.layers.Embedding(vocab_size, d_model, mask_zero=True)\n",
        "    self.pos_encoding = positional_encoding(length=2048, depth=d_model)\n",
        "\n",
        "  def compute_mask(self, *args, **kwargs):\n",
        "    return self.embedding.compute_mask(*args, **kwargs)\n",
        "\n",
        "  def call(self, x):\n",
        "    length = tf.shape(x)[1]\n",
        "    x = self.embedding(x)\n",
        "    # This factor sets the relative scale of the embedding and positonal_encoding.\n",
        "    x *= tf.math.sqrt(tf.cast(self.d_model, tf.float32))\n",
        "    x = x + self.pos_encoding[tf.newaxis, :length, :]\n",
        "    return x\n"
      ]
    },
    {
      "cell_type": "code",
      "execution_count": null,
      "metadata": {
        "id": "cPNmvsl3wJVf"
      },
      "outputs": [],
      "source": [
        "class BaseAttention(tf.keras.layers.Layer):\n",
        "  def __init__(self, **kwargs):\n",
        "    super().__init__()\n",
        "    self.mha = tf.keras.layers.MultiHeadAttention(**kwargs)\n",
        "    self.layernorm = tf.keras.layers.LayerNormalization()\n",
        "    self.add = tf.keras.layers.Add()"
      ]
    },
    {
      "cell_type": "code",
      "execution_count": null,
      "metadata": {
        "id": "ehbah1A9wJVg"
      },
      "outputs": [],
      "source": [
        "class CrossAttention(BaseAttention):\n",
        "  def call(self, x, context):\n",
        "    attn_output, attn_scores = self.mha(\n",
        "        query=x,\n",
        "        key=context,\n",
        "        value=context,\n",
        "        return_attention_scores=True)\n",
        "\n",
        "    # Cache the attention scores for plotting later.\n",
        "    self.last_attn_scores = attn_scores\n",
        "\n",
        "    x = self.add([x, attn_output])\n",
        "    x = self.layernorm(x)\n",
        "\n",
        "    return x"
      ]
    },
    {
      "cell_type": "code",
      "execution_count": null,
      "metadata": {
        "id": "2B-HThZUwJVg"
      },
      "outputs": [],
      "source": [
        "class GlobalSelfAttention(BaseAttention):\n",
        "  def call(self, x):\n",
        "    attn_output = self.mha(\n",
        "        query=x,\n",
        "        value=x,\n",
        "        key=x)\n",
        "    x = self.add([x, attn_output])\n",
        "    x = self.layernorm(x)\n",
        "    return x"
      ]
    },
    {
      "cell_type": "code",
      "execution_count": null,
      "metadata": {
        "id": "2hxabFGawJVh"
      },
      "outputs": [],
      "source": [
        "class CausalSelfAttention(BaseAttention):\n",
        "  def call(self, x):\n",
        "    attn_output = self.mha(\n",
        "        query=x,\n",
        "        value=x,\n",
        "        key=x,\n",
        "        use_causal_mask = True)\n",
        "    x = self.add([x, attn_output])\n",
        "    x = self.layernorm(x)\n",
        "    return x"
      ]
    },
    {
      "cell_type": "code",
      "execution_count": null,
      "metadata": {
        "id": "YnFr6bZcwJVi"
      },
      "outputs": [],
      "source": [
        "class FeedForward(tf.keras.layers.Layer):\n",
        "  def __init__(self, d_model, dff, dropout_rate=0.1):\n",
        "    super().__init__()\n",
        "    self.seq = tf.keras.Sequential([\n",
        "      tf.keras.layers.Dense(dff, activation='relu'),\n",
        "      tf.keras.layers.Dense(d_model),\n",
        "      tf.keras.layers.Dropout(dropout_rate)\n",
        "    ])\n",
        "    self.add = tf.keras.layers.Add()\n",
        "    self.layer_norm = tf.keras.layers.LayerNormalization()\n",
        "\n",
        "  def call(self, x):\n",
        "    x = self.add([x, self.seq(x)])\n",
        "    x = self.layer_norm(x)\n",
        "    return x\n"
      ]
    },
    {
      "cell_type": "code",
      "execution_count": null,
      "metadata": {
        "id": "bJoUWROowJVi"
      },
      "outputs": [],
      "source": [
        "class EncoderLayer(tf.keras.layers.Layer):\n",
        "  def __init__(self,*, d_model, num_heads, dff, dropout_rate=0.1):\n",
        "    super().__init__()\n",
        "\n",
        "    self.self_attention = GlobalSelfAttention(\n",
        "        num_heads=num_heads,\n",
        "        key_dim=d_model,\n",
        "        dropout=dropout_rate)\n",
        "\n",
        "    self.ffn = FeedForward(d_model, dff)\n",
        "\n",
        "  def call(self, x):\n",
        "    x = self.self_attention(x)\n",
        "    x = self.ffn(x)\n",
        "    return x"
      ]
    },
    {
      "cell_type": "code",
      "execution_count": null,
      "metadata": {
        "id": "gwCdQldRwJVi"
      },
      "outputs": [],
      "source": [
        "class Encoder(tf.keras.layers.Layer):\n",
        "  def __init__(self, *, num_layers, d_model, num_heads,\n",
        "               dff, vocab_size, dropout_rate=0.1):\n",
        "    super().__init__()\n",
        "\n",
        "    self.d_model = d_model\n",
        "    self.num_layers = num_layers\n",
        "\n",
        "    self.pos_embedding = PositionalEmbedding(\n",
        "        vocab_size=vocab_size, d_model=d_model)\n",
        "\n",
        "    self.enc_layers = [\n",
        "        EncoderLayer(d_model=d_model,\n",
        "                     num_heads=num_heads,\n",
        "                     dff=dff,\n",
        "                     dropout_rate=dropout_rate)\n",
        "        for _ in range(num_layers)]\n",
        "    self.dropout = tf.keras.layers.Dropout(dropout_rate)\n",
        "\n",
        "  def call(self, x):\n",
        "    # `x` is token-IDs shape: (batch, seq_len)\n",
        "    x = self.pos_embedding(x)  # Shape `(batch_size, seq_len, d_model)`.\n",
        "\n",
        "    # Add dropout.\n",
        "    x = self.dropout(x)\n",
        "\n",
        "    for i in range(self.num_layers):\n",
        "      x = self.enc_layers[i](x)\n",
        "\n",
        "    return x  # Shape `(batch_size, seq_len, d_model)`."
      ]
    },
    {
      "cell_type": "code",
      "execution_count": null,
      "metadata": {
        "id": "RCSLY4YPwJVj"
      },
      "outputs": [],
      "source": [
        "class DecoderLayer(tf.keras.layers.Layer):\n",
        "  def __init__(self,\n",
        "               *,\n",
        "               d_model,\n",
        "               num_heads,\n",
        "               dff,\n",
        "               dropout_rate=0.1):\n",
        "    super(DecoderLayer, self).__init__()\n",
        "\n",
        "    self.causal_self_attention = CausalSelfAttention(\n",
        "        num_heads=num_heads,\n",
        "        key_dim=d_model,\n",
        "        dropout=dropout_rate)\n",
        "\n",
        "    self.cross_attention = CrossAttention(\n",
        "        num_heads=num_heads,\n",
        "        key_dim=d_model,\n",
        "        dropout=dropout_rate)\n",
        "\n",
        "    self.ffn = FeedForward(d_model, dff)\n",
        "\n",
        "  def call(self, x, context):\n",
        "    x = self.causal_self_attention(x=x)\n",
        "    x = self.cross_attention(x=x, context=context)\n",
        "\n",
        "    # Cache the last attention scores for plotting later\n",
        "    self.last_attn_scores = self.cross_attention.last_attn_scores\n",
        "\n",
        "    x = self.ffn(x)  # Shape `(batch_size, seq_len, d_model)`.\n",
        "    return x"
      ]
    },
    {
      "cell_type": "code",
      "execution_count": null,
      "metadata": {
        "id": "WYj5JDxYwJVk"
      },
      "outputs": [],
      "source": [
        "class Decoder(tf.keras.layers.Layer):\n",
        "  def __init__(self, *, num_layers, d_model, num_heads, dff, vocab_size,\n",
        "               dropout_rate=0.1):\n",
        "    super(Decoder, self).__init__()\n",
        "\n",
        "    self.d_model = d_model\n",
        "    self.num_layers = num_layers\n",
        "\n",
        "    self.pos_embedding = PositionalEmbedding(vocab_size=vocab_size,\n",
        "                                             d_model=d_model)\n",
        "    self.dropout = tf.keras.layers.Dropout(dropout_rate)\n",
        "    self.dec_layers = [\n",
        "        DecoderLayer(d_model=d_model, num_heads=num_heads,\n",
        "                     dff=dff, dropout_rate=dropout_rate)\n",
        "        for _ in range(num_layers)]\n",
        "\n",
        "    self.last_attn_scores = None\n",
        "\n",
        "  def call(self, x, context):\n",
        "    # `x` is token-IDs shape (batch, target_seq_len)\n",
        "    x = self.pos_embedding(x)  # (batch_size, target_seq_len, d_model)\n",
        "\n",
        "    x = self.dropout(x)\n",
        "\n",
        "    for i in range(self.num_layers):\n",
        "      x  = self.dec_layers[i](x, context)\n",
        "\n",
        "    self.last_attn_scores = self.dec_layers[-1].last_attn_scores\n",
        "\n",
        "    # The shape of x is (batch_size, target_seq_len, d_model).\n",
        "    return x"
      ]
    },
    {
      "cell_type": "code",
      "execution_count": null,
      "metadata": {
        "id": "782sDroHwJVm"
      },
      "outputs": [],
      "source": [
        "class Transformer(tf.keras.Model):\n",
        "  def __init__(self, *, num_layers, d_model, num_heads, dff,\n",
        "               input_vocab_size, target_vocab_size, dropout_rate=0.1):\n",
        "    super().__init__()\n",
        "    self.encoder = Encoder(num_layers=num_layers, d_model=d_model,\n",
        "                           num_heads=num_heads, dff=dff,\n",
        "                           vocab_size=input_vocab_size,\n",
        "                           dropout_rate=dropout_rate)\n",
        "\n",
        "    self.decoder = Decoder(num_layers=num_layers, d_model=d_model,\n",
        "                           num_heads=num_heads, dff=dff,\n",
        "                           vocab_size=target_vocab_size,\n",
        "                           dropout_rate=dropout_rate)\n",
        "\n",
        "    self.final_layer = tf.keras.layers.Dense(target_vocab_size)\n",
        "\n",
        "  def call(self, inputs):\n",
        "    # To use a Keras model with `.fit` you must pass all your inputs in the\n",
        "    # first argument.\n",
        "    context, x  = inputs\n",
        "\n",
        "    context = self.encoder(context)  # (batch_size, context_len, d_model)\n",
        "\n",
        "    x = self.decoder(x, context)  # (batch_size, target_len, d_model)\n",
        "\n",
        "    # Final linear layer output.\n",
        "    logits = self.final_layer(x)  # (batch_size, target_len, target_vocab_size)\n",
        "\n",
        "    try:\n",
        "      # Drop the keras mask, so it doesn't scale the losses/metrics.\n",
        "      # b/250038731\n",
        "      del logits._keras_mask\n",
        "    except AttributeError:\n",
        "      pass\n",
        "\n",
        "    # Return the final output and the attention weights.\n",
        "    return logits"
      ]
    },
    {
      "cell_type": "markdown",
      "metadata": {
        "id": "b4yMX7xEwJVm"
      },
      "source": [
        "# Testing Architecture on a single example"
      ]
    },
    {
      "cell_type": "markdown",
      "metadata": {
        "id": "Zc1TiFvA2nEN"
      },
      "source": [
        "## Instantiating model and loading all example sentences"
      ]
    },
    {
      "cell_type": "code",
      "execution_count": null,
      "metadata": {
        "id": "ruuFdZhrwJVn"
      },
      "outputs": [],
      "source": [
        "# instantiating model\n",
        "num_layers = 4\n",
        "d_model = 64 # must correspond to output of tokenizer\n",
        "dff = 512\n",
        "num_heads = 8\n",
        "dropout_rate = 0.1\n",
        "\n",
        "transformer = Transformer(\n",
        "    num_layers=num_layers,\n",
        "    d_model=d_model,\n",
        "    num_heads=num_heads,\n",
        "    dff=dff,\n",
        "    input_vocab_size=len(fr_tokenizer.get_vocab()),\n",
        "    target_vocab_size=occ_tokenizer.get_vocab_size(),\n",
        "    dropout_rate=dropout_rate)"
      ]
    },
    {
      "cell_type": "code",
      "execution_count": null,
      "metadata": {
        "colab": {
          "base_uri": "https://localhost:8080/"
        },
        "id": "1f7rOO9P1jzU",
        "outputId": "2cff756f-4245-4825-f3d2-7e7c66f9e90a"
      },
      "outputs": [
        {
          "name": "stdout",
          "output_type": "stream",
          "text": [
            "(23325,) (23325,)\n"
          ]
        }
      ],
      "source": [
        "# \"gascon\", \"lemosin\" or \"lengadoc\"\n",
        "#dialect_df = df[df.iloc[:, 2] == 'gascon']\n",
        "\n",
        "occitan_sentences = dialect_df.iloc[:, 0].tolist()\n",
        "french_sentences = dialect_df.iloc[:, 1].tolist()\n",
        "\n",
        "occitan_sentences = np.array(occitan_sentences)\n",
        "french_sentences = np.array(french_sentences)\n",
        "print(occitan_sentences.shape, french_sentences.shape)"
      ]
    },
    {
      "cell_type": "code",
      "execution_count": null,
      "metadata": {
        "colab": {
          "base_uri": "https://localhost:8080/"
        },
        "id": "0hb0Ldr_wJVo",
        "outputId": "1e72b420-da86-4bcb-d53c-b51997286c9e",
        "vscode": {
          "languageId": "javascript"
        }
      },
      "outputs": [
        {
          "name": "stdout",
          "output_type": "stream",
          "text": [
            "(40969,) (40969,)\n"
          ]
        }
      ],
      "source": [
        "occitan_sentences = np.array(df.iloc[:, 0].tolist())\n",
        "french_sentences = np.array(df.iloc[:, 1].tolist())\n",
        "print(occitan_sentences.shape, french_sentences.shape)"
      ]
    },
    {
      "cell_type": "markdown",
      "metadata": {
        "id": "ABWEg7VO2y9v"
      },
      "source": [
        "## Passing an example through the model"
      ]
    },
    {
      "cell_type": "code",
      "execution_count": null,
      "metadata": {
        "colab": {
          "base_uri": "https://localhost:8080/"
        },
        "id": "xvFDzrW9wJVo",
        "outputId": "798db69f-6576-4c03-c3ea-b414dc555064"
      },
      "outputs": [
        {
          "name": "stdout",
          "output_type": "stream",
          "text": [
            "(1, 64) (1, 64)\n",
            "[[   1  361   30 1880  194 1376  476   30  958   72 1006  138  885  529\n",
            "   503   30  882   12 1057   13  977   30 5860   71   11  370  272   11\n",
            "    81  268  239    2    0    0    0    0    0    0    0    0    0    0\n",
            "     0    0    0    0    0    0    0    0    0    0    0    0    0    0\n",
            "     0    0    0    0    0    0    0    0]] [[    2 21413   339    30    46 12046   212   378  4254  2875  2693  3043\n",
            "     30   884    72    87 24360  1988 12999   283  8836    30  3256    12\n",
            "   1612    13 12758    30 14076    71    11    37 19980   623   728  2464\n",
            "    467     3     0     0     0     0     0     0     0     0     0     0\n",
            "      0     0     0     0     0     0     0     0     0     0     0     0\n",
            "      0     0     0     0]]\n"
          ]
        }
      ],
      "source": [
        "import numpy as np\n",
        "from tensorflow.keras.preprocessing.sequence import pad_sequences\n",
        "\n",
        "# Choose an index\n",
        "index = 0  # You can choose any index you want to test\n",
        "PADDING = 64\n",
        "\n",
        "# Select a single pair of sentences\n",
        "occitan_sentence = occitan_sentences[index]\n",
        "french_sentence = french_sentences[index]\n",
        "\n",
        "# Tokenize the sentences\n",
        "occitan_token_ids = occ_tokenizer.encode(occitan_sentence).ids\n",
        "french_token_ids = fr_tokenizer.encode(french_sentence)\n",
        "\n",
        "# Reshape the inputs to add a batch dimension\n",
        "occitan_token_ids = np.expand_dims(occitan_token_ids, axis=0)\n",
        "french_token_ids = np.expand_dims(french_token_ids, axis=0)\n",
        "# Add padding to the sequences\n",
        "occitan_token_ids = pad_sequences(occitan_token_ids, maxlen=PADDING, padding='post')\n",
        "french_token_ids = pad_sequences(french_token_ids, maxlen=PADDING, padding='post')\n",
        "\n",
        "print(occitan_token_ids.shape, french_token_ids.shape)\n",
        "print(occitan_token_ids, french_token_ids)"
      ]
    },
    {
      "cell_type": "code",
      "execution_count": null,
      "metadata": {
        "colab": {
          "base_uri": "https://localhost:8080/"
        },
        "id": "SpVFmdfFwJVp",
        "outputId": "f969c807-8e82-4724-8982-0bacc232635b"
      },
      "outputs": [
        {
          "name": "stdout",
          "output_type": "stream",
          "text": [
            "(1, 64) (1, 64)\n"
          ]
        }
      ],
      "source": [
        "# input : ((batch_size, source_sequence_length), (batch_size, target_sequence_length))\n",
        "print(occitan_token_ids.shape, french_token_ids.shape)\n",
        "out = transformer((occitan_token_ids, french_token_ids))"
      ]
    },
    {
      "cell_type": "code",
      "execution_count": null,
      "metadata": {
        "colab": {
          "base_uri": "https://localhost:8080/"
        },
        "id": "uFYwUJIewJVp",
        "outputId": "4b55da7a-72f4-46fb-c717-2dacd82e382a"
      },
      "outputs": [
        {
          "name": "stdout",
          "output_type": "stream",
          "text": [
            "(1, 64, 30000)\n"
          ]
        }
      ],
      "source": [
        "print(out.shape)"
      ]
    },
    {
      "cell_type": "code",
      "execution_count": null,
      "metadata": {
        "colab": {
          "base_uri": "https://localhost:8080/"
        },
        "id": "E2rJ5GmGwJVp",
        "outputId": "1d4c4b10-cc3f-4229-f815-4069aaa7dca3"
      },
      "outputs": [
        {
          "name": "stdout",
          "output_type": "stream",
          "text": [
            "(1, 8, 64, 64)\n"
          ]
        }
      ],
      "source": [
        "attn_scores = transformer.decoder.dec_layers[-1].last_attn_scores\n",
        "print(attn_scores.shape)  # (batch, heads, target_seq, input_seq)"
      ]
    },
    {
      "cell_type": "code",
      "execution_count": null,
      "metadata": {
        "colab": {
          "base_uri": "https://localhost:8080/"
        },
        "id": "zYDNB_SJwJVp",
        "outputId": "1bb6f3ec-2fa3-4dbb-9ae8-77f3efbb2e4c"
      },
      "outputs": [
        {
          "name": "stdout",
          "output_type": "stream",
          "text": [
            "Model: \"transformer\"\n",
            "_________________________________________________________________\n",
            " Layer (type)                Output Shape              Param #   \n",
            "=================================================================\n",
            " encoder (Encoder)           multiple                  2844160   \n",
            "                                                                 \n",
            " decoder (Decoder)           multiple                  3247360   \n",
            "                                                                 \n",
            " dense_16 (Dense)            multiple                  1950000   \n",
            "                                                                 \n",
            "=================================================================\n",
            "Total params: 8041520 (30.68 MB)\n",
            "Trainable params: 8041520 (30.68 MB)\n",
            "Non-trainable params: 0 (0.00 Byte)\n",
            "_________________________________________________________________\n"
          ]
        }
      ],
      "source": [
        "transformer.summary()"
      ]
    },
    {
      "cell_type": "markdown",
      "metadata": {
        "id": "l8v9tEn1wJVq"
      },
      "source": [
        "# Creating dataset for training"
      ]
    },
    {
      "cell_type": "code",
      "execution_count": null,
      "metadata": {
        "colab": {
          "base_uri": "https://localhost:8080/"
        },
        "id": "vEi-4ADwwJVq",
        "outputId": "35949fd4-11a8-493b-8e5e-72106d431fd4"
      },
      "outputs": [
        {
          "name": "stderr",
          "output_type": "stream",
          "text": [
            "2120it [00:00, 3377.00it/s]Token indices sequence length is longer than the specified maximum sequence length for this model (787 > 512). Running this sequence through the model will result in indexing errors\n",
            "36872it [00:15, 2427.85it/s]\n",
            "4097it [00:06, 660.29it/s] \n"
          ]
        }
      ],
      "source": [
        "import numpy as np\n",
        "import tensorflow as tf\n",
        "from tensorflow.keras.preprocessing.sequence import pad_sequences\n",
        "from sklearn.model_selection import train_test_split\n",
        "from tqdm import tqdm\n",
        "\n",
        "# Define a function to preprocess data into batches\n",
        "def create_batches(occitan_sentences, french_sentences, occ_tokenizer, fr_tokenizer, batch_size, padding_length, validation_split=0.2):\n",
        "    # Split data into training and validation sets\n",
        "    occitan_train, occitan_val, french_train, french_val = train_test_split(occitan_sentences, french_sentences, test_size=validation_split, random_state=42)\n",
        "\n",
        "    # Tokenize and pad sequences for training data\n",
        "    train_dataset = _create_dataset(occitan_train, french_train, occ_tokenizer, fr_tokenizer, batch_size, padding_length)\n",
        "\n",
        "    # Tokenize and pad sequences for validation data\n",
        "    val_dataset = _create_dataset(occitan_val, french_val, occ_tokenizer, fr_tokenizer, batch_size, padding_length)\n",
        "\n",
        "    return train_dataset, val_dataset\n",
        "\n",
        "def _create_dataset(occitan_sentences, french_sentences, occ_tokenizer, fr_tokenizer, batch_size, padding_length):\n",
        "    inputs_tokenized = []\n",
        "    #french_target_tokenized = []\n",
        "    occitan_target_tokenized = []\n",
        "\n",
        "    # Tokenize and pad sequences\n",
        "    for occitan_sentence, french_sentence in tqdm(zip(occitan_sentences, french_sentences)):\n",
        "        occitan_token_ids = occ_tokenizer.encode(occitan_sentence).ids\n",
        "        french_token_ids = fr_tokenizer.encode(french_sentence)\n",
        "\n",
        "        # Shift French sequences for labels\n",
        "        #french_input = french_token_ids[:-1]\n",
        "        #french_target = french_token_ids[1:]\n",
        "        occitan_input = occitan_token_ids[:-1]\n",
        "        occitan_target = occitan_token_ids[1:]\n",
        "\n",
        "        french_token_ids = pad_sequences([french_token_ids], maxlen=padding_length, padding='post')[0]\n",
        "        occitan_input = pad_sequences([occitan_input], maxlen=padding_length, padding='post')[0]\n",
        "        occitan_target = pad_sequences([occitan_target], maxlen=padding_length, padding='post')[0]\n",
        "\n",
        "        #inputs_tokenized.append((occitan_token_ids, french_input))\n",
        "        #french_target_tokenized.append(french_target)\n",
        "        inputs_tokenized.append((french_token_ids, occitan_input))\n",
        "        occitan_target_tokenized.append(occitan_target)\n",
        "\n",
        "    # Convert lists to numpy arrays\n",
        "    french_inputs = np.array([pair[0] for pair in inputs_tokenized])\n",
        "    occitan_inputs = np.array([pair[1] for pair in inputs_tokenized])\n",
        "    occitan_targets = np.array(occitan_target_tokenized)\n",
        "\n",
        "    # Create dataset\n",
        "    dataset = tf.data.Dataset.from_tensor_slices(((french_inputs, occitan_inputs), occitan_targets))\n",
        "\n",
        "    # Batch the dataset\n",
        "    dataset = dataset.batch(batch_size, drop_remainder=True)\n",
        "\n",
        "    return dataset\n",
        "\n",
        "# CREATING DATASET\n",
        "batch_size = 32\n",
        "padding_length = 64\n",
        "validation_split = 0.1  # 20% of the data will be used for validation\n",
        "\n",
        "train_dataset, val_dataset = create_batches(occitan_sentences, french_sentences, occ_tokenizer, fr_tokenizer, batch_size, padding_length, validation_split)\n"
      ]
    },
    {
      "cell_type": "code",
      "execution_count": null,
      "metadata": {
        "colab": {
          "base_uri": "https://localhost:8080/"
        },
        "id": "vBrm4ZkqwJVq",
        "outputId": "264f5b98-74a0-40c7-eb09-74d21ce04f3e"
      },
      "outputs": [
        {
          "name": "stdout",
          "output_type": "stream",
          "text": [
            "Training Batch 1:\n",
            "Occitan Inputs shape: tf.Tensor(\n",
            "[[    2  2579  6013 ...     0     0     0]\n",
            " [    2 21413   339 ...     0     0     0]\n",
            " [    2   447 30962 ...     0     0     0]\n",
            " ...\n",
            " [    2   646   399 ...     0     0     0]\n",
            " [    2   667 10563 ...     0     0     0]\n",
            " [    2   528   401 ...     0     0     0]], shape=(32, 64), dtype=int32)\n",
            "French Inputs shape: tf.Tensor(\n",
            "[[    1 20077 12752 ...     0     0     0]\n",
            " [    1  3169    30 ...     0     0     0]\n",
            " [    1   230  7324 ...     0     0     0]\n",
            " ...\n",
            " [    1    41  4231 ...     0     0     0]\n",
            " [    1   276 17836 ...     0     0     0]\n",
            " [    1   197    11 ...     0     0     0]], shape=(32, 64), dtype=int32)\n",
            "French Labels shape: (32, 64)\n",
            "Validation Batch 1:\n",
            "Occitan Inputs shape: (32, 64)\n",
            "French Inputs shape: (32, 64)\n",
            "French Labels shape: (32, 64)\n"
          ]
        }
      ],
      "source": [
        "\n",
        "# Iterate through batches of training dataset\n",
        "for (batch, (inputs, labels)) in enumerate(train_dataset.take(1)):\n",
        "    print(f\"Training Batch {batch + 1}:\")\n",
        "    print(\"Occitan Inputs shape:\", inputs[0])\n",
        "    print(\"French Inputs shape:\", inputs[1])\n",
        "    print(\"French Labels shape:\", labels.shape)\n",
        "    break\n",
        "\n",
        "# Iterate through batches of validation dataset\n",
        "for (batch, (inputs, labels)) in enumerate(val_dataset.take(1)):\n",
        "    print(f\"Validation Batch {batch + 1}:\")\n",
        "    print(\"Occitan Inputs shape:\", inputs[0].shape)\n",
        "    print(\"French Inputs shape:\", inputs[1].shape)\n",
        "    print(\"French Labels shape:\", labels.shape)\n",
        "    break\n"
      ]
    },
    {
      "cell_type": "markdown",
      "metadata": {
        "id": "TiEiqHn4wJVr"
      },
      "source": [
        "# training\n"
      ]
    },
    {
      "cell_type": "code",
      "execution_count": null,
      "metadata": {
        "id": "TkxWPpmnwJVr"
      },
      "outputs": [],
      "source": [
        "class CustomSchedule(tf.keras.optimizers.schedules.LearningRateSchedule):\n",
        "  def __init__(self, d_model, warmup_steps=4000):\n",
        "    super().__init__()\n",
        "\n",
        "    self.d_model = d_model\n",
        "    self.d_model = tf.cast(self.d_model, tf.float32)\n",
        "\n",
        "    self.warmup_steps = warmup_steps\n",
        "\n",
        "  def __call__(self, step):\n",
        "    step = tf.cast(step, dtype=tf.float32)\n",
        "    arg1 = tf.math.rsqrt(step)\n",
        "    arg2 = step * (self.warmup_steps ** -1.5)\n",
        "\n",
        "    return tf.math.rsqrt(self.d_model) * tf.math.minimum(arg1, arg2)"
      ]
    },
    {
      "cell_type": "code",
      "execution_count": null,
      "metadata": {
        "id": "nbciJKM7wJV-"
      },
      "outputs": [],
      "source": [
        "learning_rate = CustomSchedule(d_model)\n",
        "\n",
        "optimizer = tf.keras.optimizers.Adam(learning_rate, beta_1=0.9, beta_2=0.98,\n",
        "                                     epsilon=1e-9)"
      ]
    },
    {
      "cell_type": "code",
      "execution_count": null,
      "metadata": {
        "id": "kuRD4qQzwJV-"
      },
      "outputs": [],
      "source": [
        "def masked_loss(label, pred):\n",
        "  mask = label != 0\n",
        "  loss_object = tf.keras.losses.SparseCategoricalCrossentropy(\n",
        "    from_logits=True, reduction='none')\n",
        "  loss = loss_object(label, pred)\n",
        "\n",
        "  mask = tf.cast(mask, dtype=loss.dtype)\n",
        "  loss *= mask\n",
        "\n",
        "  loss = tf.reduce_sum(loss)/tf.reduce_sum(mask)\n",
        "  return loss\n",
        "\n",
        "\n",
        "def masked_accuracy(label, pred):\n",
        "  pred = tf.argmax(pred, axis=2)\n",
        "  label = tf.cast(label, pred.dtype)\n",
        "  match = label == pred\n",
        "\n",
        "  mask = label != 0\n",
        "\n",
        "  match = match & mask\n",
        "\n",
        "  match = tf.cast(match, dtype=tf.float32)\n",
        "  mask = tf.cast(mask, dtype=tf.float32)\n",
        "  return tf.reduce_sum(match)/tf.reduce_sum(mask)"
      ]
    },
    {
      "cell_type": "code",
      "execution_count": null,
      "metadata": {
        "colab": {
          "base_uri": "https://localhost:8080/"
        },
        "id": "DLsWUV3OwJV_",
        "outputId": "5db8dfb8-8781-4058-860f-2d67756515b5"
      },
      "outputs": [
        {
          "name": "stderr",
          "output_type": "stream",
          "text": [
            "WARNING:tensorflow:`period` argument is deprecated. Please use `save_freq` to specify the frequency in number of batches seen.\n"
          ]
        }
      ],
      "source": [
        "from tensorflow.keras.callbacks import ModelCheckpoint\n",
        "\n",
        "checkpoint_path = drivepath + \"checkpoints/fr_occ_base/\"\n",
        "epochs_per_checkpoint = 2\n",
        "\n",
        "# Define the ModelCheckpoint callback\n",
        "checkpoint_callback = ModelCheckpoint(\n",
        "    filepath=checkpoint_path,\n",
        "    save_weights_only=True,  # Save only the model's weights\n",
        "    save_freq='epoch',  # Save after each epoch\n",
        "    period=epochs_per_checkpoint,  # Save every `epochs_per_checkpoint` epochs\n",
        "    verbose=1  # Print messages about saving checkpoints\n",
        ")\n",
        "\n"
      ]
    },
    {
      "cell_type": "code",
      "execution_count": null,
      "metadata": {
        "colab": {
          "base_uri": "https://localhost:8080/"
        },
        "id": "u-o041e1BISx",
        "outputId": "b79131ae-32e9-4522-d78e-b5ce9113294c"
      },
      "outputs": [
        {
          "name": "stdout",
          "output_type": "stream",
          "text": [
            "No checkpoint found, starting training from scratch.\n"
          ]
        }
      ],
      "source": [
        "transformer.compile(\n",
        "    loss=masked_loss,\n",
        "    optimizer=optimizer,\n",
        "    metrics=[masked_accuracy]\n",
        ")\n",
        "\n",
        "# Load the latest checkpoint if it exists\n",
        "latest_checkpoint = tf.train.latest_checkpoint(checkpoint_path)\n",
        "if latest_checkpoint is not None:\n",
        "    transformer.load_weights(latest_checkpoint)\n",
        "    print('Latest checkpoint loaded:', latest_checkpoint)\n",
        "else:\n",
        "    print('No checkpoint found, starting training from scratch.')"
      ]
    },
    {
      "cell_type": "code",
      "execution_count": null,
      "metadata": {
        "colab": {
          "base_uri": "https://localhost:8080/"
        },
        "id": "kNB7a_PAwJV_",
        "outputId": "dc1e126a-f24c-4a34-8f04-0c983980624d"
      },
      "outputs": [
        {
          "name": "stdout",
          "output_type": "stream",
          "text": [
            "Epoch 1/10\n",
            "1152/1152 [==============================] - 231s 170ms/step - loss: 7.5244 - masked_accuracy: 0.1083 - val_loss: 5.6728 - val_masked_accuracy: 0.2226\n",
            "Epoch 2/10\n",
            "1152/1152 [==============================] - ETA: 0s - loss: 5.1578 - masked_accuracy: 0.2826\n",
            "Epoch 2: saving model to /content/drive/MyDrive/Colab/occitan/checkpoints/fr_occ_base/\n",
            "1152/1152 [==============================] - 120s 104ms/step - loss: 5.1578 - masked_accuracy: 0.2826 - val_loss: 4.6069 - val_masked_accuracy: 0.3561\n",
            "Epoch 3/10\n",
            "1152/1152 [==============================] - 119s 103ms/step - loss: 4.3393 - masked_accuracy: 0.3825 - val_loss: 3.9828 - val_masked_accuracy: 0.4414\n",
            "Epoch 4/10\n",
            "1152/1152 [==============================] - ETA: 0s - loss: 3.8022 - masked_accuracy: 0.4515\n",
            "Epoch 4: saving model to /content/drive/MyDrive/Colab/occitan/checkpoints/fr_occ_base/\n",
            "1152/1152 [==============================] - 120s 104ms/step - loss: 3.8022 - masked_accuracy: 0.4515 - val_loss: 3.6843 - val_masked_accuracy: 0.4772\n",
            "Epoch 5/10\n",
            "1152/1152 [==============================] - 118s 103ms/step - loss: 3.3530 - masked_accuracy: 0.5081 - val_loss: 3.3515 - val_masked_accuracy: 0.5317\n",
            "Epoch 6/10\n",
            "1152/1152 [==============================] - ETA: 0s - loss: 3.0437 - masked_accuracy: 0.5527\n",
            "Epoch 6: saving model to /content/drive/MyDrive/Colab/occitan/checkpoints/fr_occ_base/\n",
            "1152/1152 [==============================] - 120s 104ms/step - loss: 3.0437 - masked_accuracy: 0.5527 - val_loss: 3.1760 - val_masked_accuracy: 0.5654\n",
            "Epoch 7/10\n",
            "1152/1152 [==============================] - 119s 103ms/step - loss: 2.8066 - masked_accuracy: 0.5887 - val_loss: 3.0216 - val_masked_accuracy: 0.5882\n",
            "Epoch 8/10\n",
            "1152/1152 [==============================] - ETA: 0s - loss: 2.6289 - masked_accuracy: 0.6134\n",
            "Epoch 8: saving model to /content/drive/MyDrive/Colab/occitan/checkpoints/fr_occ_base/\n",
            "1152/1152 [==============================] - 119s 104ms/step - loss: 2.6289 - masked_accuracy: 0.6134 - val_loss: 2.9454 - val_masked_accuracy: 0.6041\n",
            "Epoch 9/10\n",
            "1152/1152 [==============================] - 124s 108ms/step - loss: 2.4867 - masked_accuracy: 0.6330 - val_loss: 2.8919 - val_masked_accuracy: 0.6141\n",
            "Epoch 10/10\n",
            "1152/1152 [==============================] - ETA: 0s - loss: 2.3795 - masked_accuracy: 0.6469\n",
            "Epoch 10: saving model to /content/drive/MyDrive/Colab/occitan/checkpoints/fr_occ_base/\n",
            "1152/1152 [==============================] - 119s 104ms/step - loss: 2.3795 - masked_accuracy: 0.6469 - val_loss: 2.8297 - val_masked_accuracy: 0.6232\n"
          ]
        },
        {
          "data": {
            "text/plain": [
              "<keras.src.callbacks.History at 0x7d065019e3e0>"
            ]
          },
          "execution_count": 39,
          "metadata": {},
          "output_type": "execute_result"
        }
      ],
      "source": [
        "transformer.fit(\n",
        "    train_dataset,\n",
        "    epochs=10,\n",
        "    steps_per_epoch=len(train_dataset),\n",
        "    validation_data=val_dataset,\n",
        "    validation_steps=len(val_dataset),\n",
        "    callbacks=[checkpoint_callback]\n",
        ")"
      ]
    },
    {
      "cell_type": "markdown",
      "metadata": {
        "id": "JOILQbyDyOQK"
      },
      "source": [
        "# Inference"
      ]
    },
    {
      "cell_type": "code",
      "execution_count": null,
      "metadata": {
        "colab": {
          "base_uri": "https://localhost:8080/"
        },
        "id": "rl74nTUo8PIv",
        "outputId": "9d4928f3-2f78-4fc5-eb90-4c9352fc6b4f"
      },
      "outputs": [
        {
          "name": "stdout",
          "output_type": "stream",
          "text": [
            "[2, 68, 3]\n",
            "a\n"
          ]
        }
      ],
      "source": [
        "token_ids = fr_tokenizer.encode('a')\n",
        "decoded_text = fr_tokenizer.decode(token_ids, skip_special_tokens=True)\n",
        "print(token_ids)\n",
        "print(decoded_text)"
      ]
    },
    {
      "cell_type": "code",
      "execution_count": null,
      "metadata": {
        "colab": {
          "base_uri": "https://localhost:8080/"
        },
        "id": "l6cUHtAe8QbS",
        "outputId": "09ba3338-0578-4957-bb94-b47362a82d6b"
      },
      "outputs": [
        {
          "name": "stdout",
          "output_type": "stream",
          "text": [
            "[1, 2]\n"
          ]
        }
      ],
      "source": [
        "a = occ_tokenizer.encode('').ids\n",
        "print(a)"
      ]
    },
    {
      "cell_type": "code",
      "execution_count": null,
      "metadata": {
        "id": "nxcUyTANwJWA"
      },
      "outputs": [],
      "source": [
        "class Translator(tf.Module):\n",
        "  def __init__(self, occ_tokenizer, fr_tokenizer, transformer):\n",
        "    self.fr_tokenizer = fr_tokenizer\n",
        "    self.occ_tokenizer = occ_tokenizer\n",
        "    self.transformer = transformer\n",
        "\n",
        "  def __call__(self, sentence, max_length=64):\n",
        "    # The input sentence is Portuguese, hence adding the `[START]` and `[END]` tokens.\n",
        "    # assert isinstance(sentence, tf.Tensor)\n",
        "    #if len(sentence.shape) == 0:\n",
        "    #  sentence = sentence[tf.newaxis]\n",
        "\n",
        "    # sentence = self.tokenizers.pt.tokenize(sentence).to_tensor()\n",
        "    # print(sentence, self.occ_tokenizer.encode(sentence))\n",
        "    sentence = self.fr_tokenizer.encode(sentence)\n",
        "    # print(len(sentence))\n",
        "    sentence = np.expand_dims(sentence, axis=0)\n",
        "    sentence = pad_sequences(sentence, maxlen=max_length, padding='post')\n",
        "    # print(sentence)\n",
        "\n",
        "    encoder_input = sentence\n",
        "    print(encoder_input.shape)\n",
        "\n",
        "    # As the output language is English, initialize the output with the\n",
        "    # English `[START]` token.\n",
        "    start_end = self.occ_tokenizer.encode('').ids\n",
        "    print(start_end)\n",
        "    # print(start_end)\n",
        "    start = start_end[0]\n",
        "    end = start_end[1]\n",
        "\n",
        "    # `tf.TensorArray` is required here (instead of a Python list), so that the\n",
        "    # dynamic-loop can be traced by `tf.function`.\n",
        "    output_array = tf.TensorArray(dtype=tf.int64, size=0, dynamic_size=True)\n",
        "    output_array = output_array.write(0, start)\n",
        "\n",
        "    for i in tf.range(max_length):\n",
        "      output = tf.transpose(output_array.stack())\n",
        "      output = tf.expand_dims(output, axis=0)\n",
        "\n",
        "      predictions = self.transformer((encoder_input, output), training=False)\n",
        "\n",
        "      # Select the last token from the `seq_len` dimension.\n",
        "      predictions = predictions[:, -1:, :]  # Shape `(batch_size, 1, vocab_size)`.\n",
        "\n",
        "      predicted_id = tf.argmax(predictions, axis=-1)\n",
        "      #print(predictions)\n",
        "      print(predicted_id)\n",
        "\n",
        "      # Concatenate the `predicted_id` to the output which is given to the\n",
        "      # decoder as its input.\n",
        "      output_array = output_array.write(i+1, predicted_id[0, 0])\n",
        "\n",
        "      if predicted_id == end:\n",
        "        break\n",
        "\n",
        "    output = tf.transpose(output_array.stack())\n",
        "    # The output shape is `(1, tokens)`.\n",
        "    print(output.shape, output)\n",
        "    text = self.occ_tokenizer.decode(output, skip_special_tokens=True)  # Shape: `()`.\n",
        "\n",
        "    tokens = output\n",
        "\n",
        "    # `tf.function` prevents us from using the attention_weights that were\n",
        "    # calculated on the last iteration of the loop.\n",
        "    # So, recalculate them outside the loop.\n",
        "    output = tf.transpose(output_array.stack())\n",
        "    output = tf.expand_dims(output, axis=0)\n",
        "    self.transformer((encoder_input, output), training=False)\n",
        "    attention_weights = self.transformer.decoder.last_attn_scores\n",
        "\n",
        "    return text, tokens, attention_weights"
      ]
    },
    {
      "cell_type": "code",
      "execution_count": null,
      "metadata": {
        "id": "CXUpQ7ZfwJWA"
      },
      "outputs": [],
      "source": [
        "translator = Translator(occ_tokenizer, fr_tokenizer, transformer)"
      ]
    },
    {
      "cell_type": "code",
      "execution_count": null,
      "metadata": {
        "colab": {
          "base_uri": "https://localhost:8080/"
        },
        "id": "PyMcQWRfz3nc",
        "outputId": "b8e96ba3-b3b6-4d2c-daab-344d3966332a"
      },
      "outputs": [
        {
          "name": "stdout",
          "output_type": "stream",
          "text": [
            "(1, 64)\n",
            "[1, 2]\n",
            "tf.Tensor([[276]], shape=(1, 1), dtype=int64)\n",
            "tf.Tensor([[629]], shape=(1, 1), dtype=int64)\n",
            "tf.Tensor([[1641]], shape=(1, 1), dtype=int64)\n",
            "tf.Tensor([[68]], shape=(1, 1), dtype=int64)\n",
            "tf.Tensor([[958]], shape=(1, 1), dtype=int64)\n",
            "tf.Tensor([[75]], shape=(1, 1), dtype=int64)\n",
            "tf.Tensor([[194]], shape=(1, 1), dtype=int64)\n",
            "tf.Tensor([[1199]], shape=(1, 1), dtype=int64)\n",
            "tf.Tensor([[2688]], shape=(1, 1), dtype=int64)\n",
            "tf.Tensor([[71]], shape=(1, 1), dtype=int64)\n",
            "tf.Tensor([[11]], shape=(1, 1), dtype=int64)\n",
            "tf.Tensor([[165]], shape=(1, 1), dtype=int64)\n",
            "tf.Tensor([[1347]], shape=(1, 1), dtype=int64)\n",
            "tf.Tensor([[138]], shape=(1, 1), dtype=int64)\n",
            "tf.Tensor([[5094]], shape=(1, 1), dtype=int64)\n",
            "tf.Tensor([[138]], shape=(1, 1), dtype=int64)\n",
            "tf.Tensor([[4590]], shape=(1, 1), dtype=int64)\n",
            "tf.Tensor([[18]], shape=(1, 1), dtype=int64)\n",
            "tf.Tensor([[2]], shape=(1, 1), dtype=int64)\n",
            "(20,) tf.Tensor(\n",
            "[   1  276  629 1641   68  958   75  194 1199 2688   71   11  165 1347\n",
            "  138 5094  138 4590   18    2], shape=(20,), dtype=int64)\n"
          ]
        }
      ],
      "source": [
        "# sentence = 'Títol : Jornadas deu Patrimòni Quan : 16 e 17 de seteme 2017 On : Bordèu (33) Adreça : Musèu d\\'Aquitània Tà\\'n saber mei'\n",
        "# sentence = 'Bonjour à tous les amis de mon pays'\n",
        "# sentence = 'Jornadas deu Patrimòni Quan'\n",
        "sentence = 'Elle sera suivie à 16 h du spectacle Contes d\\'un Doman Acabat de Gric de Prat.'\n",
        "ground_truth = 'Que\\'u seguirà a quate òras deu vrèspe l\\'espectacle Contes d\\'un Doman Acabat de Gric de Prat.'\n",
        "\n",
        "translated_text, translated_tokens, attn_weights = translator(sentence)"
      ]
    },
    {
      "cell_type": "code",
      "execution_count": null,
      "metadata": {
        "colab": {
          "base_uri": "https://localhost:8080/"
        },
        "id": "wg3R8cDnVZSj",
        "outputId": "f9fa42eb-b1b7-4e24-8faf-973d00fae4d5"
      },
      "outputs": [
        {
          "name": "stdout",
          "output_type": "stream",
          "text": [
            "Input:         : Elle sera suivie à 16 h du spectacle Contes d'un Doman Acabat de Gric de Prat.\n",
            "Translation    : Que serà seguida a 16 h deu espectacle Contes d ' un utís de Gric de Prat .\n",
            "output tokens  : [   1  276  629 1641   68  958   75  194 1199 2688   71   11  165 1347\n",
            "  138 5094  138 4590   18    2]\n",
            "Ground truth   : Que'u seguirà a quate òras deu vrèspe l'espectacle Contes d'un Doman Acabat de Gric de Prat.\n"
          ]
        }
      ],
      "source": [
        "def print_translation(sentence, translated_text, tokens, ground_truth):\n",
        "  print(f'{\"Input:\":15s}: {sentence}')\n",
        "  print(f'{\"Translation\":15s}: {translated_text}')\n",
        "  print(f'{\"output tokens\":15s}: {tokens}')\n",
        "  print(f'{\"Ground truth\":15s}: {ground_truth}')\n",
        "print_translation(sentence, translated_text, translated_tokens, ground_truth)"
      ]
    },
    {
      "cell_type": "markdown",
      "metadata": {
        "id": "9hMdm-ZIVEDo"
      },
      "source": [
        "# Attention visualization"
      ]
    },
    {
      "cell_type": "code",
      "execution_count": null,
      "metadata": {
        "colab": {
          "base_uri": "https://localhost:8080/"
        },
        "id": "Ktz5KVNMOzuD",
        "outputId": "90f6d6b7-385d-4c6a-c6c7-516ecc3e70ba"
      },
      "outputs": [
        {
          "name": "stdout",
          "output_type": "stream",
          "text": [
            "(1, 8, 20, 64)\n"
          ]
        }
      ],
      "source": [
        "print(attn_weights.shape)"
      ]
    },
    {
      "cell_type": "code",
      "execution_count": null,
      "metadata": {
        "colab": {
          "base_uri": "https://localhost:8080/"
        },
        "id": "XML2Wcy6UrlD",
        "outputId": "c0099579-4d7e-4d1c-9292-f5bcca43c83f"
      },
      "outputs": [
        {
          "name": "stdout",
          "output_type": "stream",
          "text": [
            "Collecting bertviz\n",
            "  Downloading bertviz-1.4.0-py3-none-any.whl (157 kB)\n",
            "\u001b[?25l     \u001b[90m━━━━━━━━━━━━━━━━━━━━━━━━━━━━━━━━━━━━━━━━\u001b[0m \u001b[32m0.0/157.6 kB\u001b[0m \u001b[31m?\u001b[0m eta \u001b[36m-:--:--\u001b[0m\r\u001b[2K     \u001b[90m━━━━━━━━━━━━━━━━━━━━━━━━━━━━━━━━━━━━━━━━\u001b[0m \u001b[32m157.6/157.6 kB\u001b[0m \u001b[31m5.9 MB/s\u001b[0m eta \u001b[36m0:00:00\u001b[0m\n",
            "\u001b[?25hRequirement already satisfied: transformers>=2.0 in /usr/local/lib/python3.10/dist-packages (from bertviz) (4.38.2)\n",
            "Requirement already satisfied: torch>=1.0 in /usr/local/lib/python3.10/dist-packages (from bertviz) (2.2.1+cu121)\n",
            "Requirement already satisfied: tqdm in /usr/local/lib/python3.10/dist-packages (from bertviz) (4.66.2)\n",
            "Collecting boto3 (from bertviz)\n",
            "  Downloading boto3-1.34.67-py3-none-any.whl (139 kB)\n",
            "\u001b[2K     \u001b[90m━━━━━━━━━━━━━━━━━━━━━━━━━━━━━━━━━━━━━━━━\u001b[0m \u001b[32m139.3/139.3 kB\u001b[0m \u001b[31m9.6 MB/s\u001b[0m eta \u001b[36m0:00:00\u001b[0m\n",
            "\u001b[?25hRequirement already satisfied: requests in /usr/local/lib/python3.10/dist-packages (from bertviz) (2.31.0)\n",
            "Requirement already satisfied: regex in /usr/local/lib/python3.10/dist-packages (from bertviz) (2023.12.25)\n",
            "Requirement already satisfied: sentencepiece in /usr/local/lib/python3.10/dist-packages (from bertviz) (0.1.99)\n",
            "Requirement already satisfied: filelock in /usr/local/lib/python3.10/dist-packages (from torch>=1.0->bertviz) (3.13.1)\n",
            "Requirement already satisfied: typing-extensions>=4.8.0 in /usr/local/lib/python3.10/dist-packages (from torch>=1.0->bertviz) (4.10.0)\n",
            "Requirement already satisfied: sympy in /usr/local/lib/python3.10/dist-packages (from torch>=1.0->bertviz) (1.12)\n",
            "Requirement already satisfied: networkx in /usr/local/lib/python3.10/dist-packages (from torch>=1.0->bertviz) (3.2.1)\n",
            "Requirement already satisfied: jinja2 in /usr/local/lib/python3.10/dist-packages (from torch>=1.0->bertviz) (3.1.3)\n",
            "Requirement already satisfied: fsspec in /usr/local/lib/python3.10/dist-packages (from torch>=1.0->bertviz) (2023.6.0)\n",
            "Collecting nvidia-cuda-nvrtc-cu12==12.1.105 (from torch>=1.0->bertviz)\n",
            "  Downloading nvidia_cuda_nvrtc_cu12-12.1.105-py3-none-manylinux1_x86_64.whl (23.7 MB)\n",
            "\u001b[2K     \u001b[90m━━━━━━━━━━━━━━━━━━━━━━━━━━━━━━━━━━━━━━━━\u001b[0m \u001b[32m23.7/23.7 MB\u001b[0m \u001b[31m25.9 MB/s\u001b[0m eta \u001b[36m0:00:00\u001b[0m\n",
            "\u001b[?25hCollecting nvidia-cuda-runtime-cu12==12.1.105 (from torch>=1.0->bertviz)\n",
            "  Downloading nvidia_cuda_runtime_cu12-12.1.105-py3-none-manylinux1_x86_64.whl (823 kB)\n",
            "\u001b[2K     \u001b[90m━━━━━━━━━━━━━━━━━━━━━━━━━━━━━━━━━━━━━━━━\u001b[0m \u001b[32m823.6/823.6 kB\u001b[0m \u001b[31m21.3 MB/s\u001b[0m eta \u001b[36m0:00:00\u001b[0m\n",
            "\u001b[?25hCollecting nvidia-cuda-cupti-cu12==12.1.105 (from torch>=1.0->bertviz)\n",
            "  Downloading nvidia_cuda_cupti_cu12-12.1.105-py3-none-manylinux1_x86_64.whl (14.1 MB)\n",
            "\u001b[2K     \u001b[90m━━━━━━━━━━━━━━━━━━━━━━━━━━━━━━━━━━━━━━━━\u001b[0m \u001b[32m14.1/14.1 MB\u001b[0m \u001b[31m40.6 MB/s\u001b[0m eta \u001b[36m0:00:00\u001b[0m\n",
            "\u001b[?25hCollecting nvidia-cudnn-cu12==8.9.2.26 (from torch>=1.0->bertviz)\n",
            "  Downloading nvidia_cudnn_cu12-8.9.2.26-py3-none-manylinux1_x86_64.whl (731.7 MB)\n",
            "\u001b[2K     \u001b[90m━━━━━━━━━━━━━━━━━━━━━━━━━━━━━━━━━━━━━━━━\u001b[0m \u001b[32m731.7/731.7 MB\u001b[0m \u001b[31m958.2 kB/s\u001b[0m eta \u001b[36m0:00:00\u001b[0m\n",
            "\u001b[?25hCollecting nvidia-cublas-cu12==12.1.3.1 (from torch>=1.0->bertviz)\n",
            "  Downloading nvidia_cublas_cu12-12.1.3.1-py3-none-manylinux1_x86_64.whl (410.6 MB)\n",
            "\u001b[2K     \u001b[90m━━━━━━━━━━━━━━━━━━━━━━━━━━━━━━━━━━━━━━━━\u001b[0m \u001b[32m410.6/410.6 MB\u001b[0m \u001b[31m1.3 MB/s\u001b[0m eta \u001b[36m0:00:00\u001b[0m\n",
            "\u001b[?25hCollecting nvidia-cufft-cu12==11.0.2.54 (from torch>=1.0->bertviz)\n",
            "  Downloading nvidia_cufft_cu12-11.0.2.54-py3-none-manylinux1_x86_64.whl (121.6 MB)\n",
            "\u001b[2K     \u001b[90m━━━━━━━━━━━━━━━━━━━━━━━━━━━━━━━━━━━━━━━━\u001b[0m \u001b[32m121.6/121.6 MB\u001b[0m \u001b[31m10.1 MB/s\u001b[0m eta \u001b[36m0:00:00\u001b[0m\n",
            "\u001b[?25hCollecting nvidia-curand-cu12==10.3.2.106 (from torch>=1.0->bertviz)\n",
            "  Downloading nvidia_curand_cu12-10.3.2.106-py3-none-manylinux1_x86_64.whl (56.5 MB)\n",
            "\u001b[2K     \u001b[90m━━━━━━━━━━━━━━━━━━━━━━━━━━━━━━━━━━━━━━━━\u001b[0m \u001b[32m56.5/56.5 MB\u001b[0m \u001b[31m12.2 MB/s\u001b[0m eta \u001b[36m0:00:00\u001b[0m\n",
            "\u001b[?25hCollecting nvidia-cusolver-cu12==11.4.5.107 (from torch>=1.0->bertviz)\n",
            "  Downloading nvidia_cusolver_cu12-11.4.5.107-py3-none-manylinux1_x86_64.whl (124.2 MB)\n",
            "\u001b[2K     \u001b[90m━━━━━━━━━━━━━━━━━━━━━━━━━━━━━━━━━━━━━━━━\u001b[0m \u001b[32m124.2/124.2 MB\u001b[0m \u001b[31m8.9 MB/s\u001b[0m eta \u001b[36m0:00:00\u001b[0m\n",
            "\u001b[?25hCollecting nvidia-cusparse-cu12==12.1.0.106 (from torch>=1.0->bertviz)\n",
            "  Downloading nvidia_cusparse_cu12-12.1.0.106-py3-none-manylinux1_x86_64.whl (196.0 MB)\n",
            "\u001b[2K     \u001b[90m━━━━━━━━━━━━━━━━━━━━━━━━━━━━━━━━━━━━━━━━\u001b[0m \u001b[32m196.0/196.0 MB\u001b[0m \u001b[31m3.6 MB/s\u001b[0m eta \u001b[36m0:00:00\u001b[0m\n",
            "\u001b[?25hCollecting nvidia-nccl-cu12==2.19.3 (from torch>=1.0->bertviz)\n",
            "  Downloading nvidia_nccl_cu12-2.19.3-py3-none-manylinux1_x86_64.whl (166.0 MB)\n",
            "\u001b[2K     \u001b[90m━━━━━━━━━━━━━━━━━━━━━━━━━━━━━━━━━━━━━━━━\u001b[0m \u001b[32m166.0/166.0 MB\u001b[0m \u001b[31m4.1 MB/s\u001b[0m eta \u001b[36m0:00:00\u001b[0m\n",
            "\u001b[?25hCollecting nvidia-nvtx-cu12==12.1.105 (from torch>=1.0->bertviz)\n",
            "  Downloading nvidia_nvtx_cu12-12.1.105-py3-none-manylinux1_x86_64.whl (99 kB)\n",
            "\u001b[2K     \u001b[90m━━━━━━━━━━━━━━━━━━━━━━━━━━━━━━━━━━━━━━━━\u001b[0m \u001b[32m99.1/99.1 kB\u001b[0m \u001b[31m15.1 MB/s\u001b[0m eta \u001b[36m0:00:00\u001b[0m\n",
            "\u001b[?25hRequirement already satisfied: triton==2.2.0 in /usr/local/lib/python3.10/dist-packages (from torch>=1.0->bertviz) (2.2.0)\n",
            "Collecting nvidia-nvjitlink-cu12 (from nvidia-cusolver-cu12==11.4.5.107->torch>=1.0->bertviz)\n",
            "  Downloading nvidia_nvjitlink_cu12-12.4.99-py3-none-manylinux2014_x86_64.whl (21.1 MB)\n",
            "\u001b[2K     \u001b[90m━━━━━━━━━━━━━━━━━━━━━━━━━━━━━━━━━━━━━━━━\u001b[0m \u001b[32m21.1/21.1 MB\u001b[0m \u001b[31m78.1 MB/s\u001b[0m eta \u001b[36m0:00:00\u001b[0m\n",
            "\u001b[?25hRequirement already satisfied: huggingface-hub<1.0,>=0.19.3 in /usr/local/lib/python3.10/dist-packages (from transformers>=2.0->bertviz) (0.20.3)\n",
            "Requirement already satisfied: numpy>=1.17 in /usr/local/lib/python3.10/dist-packages (from transformers>=2.0->bertviz) (1.25.2)\n",
            "Requirement already satisfied: packaging>=20.0 in /usr/local/lib/python3.10/dist-packages (from transformers>=2.0->bertviz) (24.0)\n",
            "Requirement already satisfied: pyyaml>=5.1 in /usr/local/lib/python3.10/dist-packages (from transformers>=2.0->bertviz) (6.0.1)\n",
            "Requirement already satisfied: tokenizers<0.19,>=0.14 in /usr/local/lib/python3.10/dist-packages (from transformers>=2.0->bertviz) (0.15.2)\n",
            "Requirement already satisfied: safetensors>=0.4.1 in /usr/local/lib/python3.10/dist-packages (from transformers>=2.0->bertviz) (0.4.2)\n",
            "Collecting botocore<1.35.0,>=1.34.67 (from boto3->bertviz)\n",
            "  Downloading botocore-1.34.67-py3-none-any.whl (12.0 MB)\n",
            "\u001b[2K     \u001b[90m━━━━━━━━━━━━━━━━━━━━━━━━━━━━━━━━━━━━━━━━\u001b[0m \u001b[32m12.0/12.0 MB\u001b[0m \u001b[31m76.1 MB/s\u001b[0m eta \u001b[36m0:00:00\u001b[0m\n",
            "\u001b[?25hCollecting jmespath<2.0.0,>=0.7.1 (from boto3->bertviz)\n",
            "  Downloading jmespath-1.0.1-py3-none-any.whl (20 kB)\n",
            "Collecting s3transfer<0.11.0,>=0.10.0 (from boto3->bertviz)\n",
            "  Downloading s3transfer-0.10.1-py3-none-any.whl (82 kB)\n",
            "\u001b[2K     \u001b[90m━━━━━━━━━━━━━━━━━━━━━━━━━━━━━━━━━━━━━━━━\u001b[0m \u001b[32m82.2/82.2 kB\u001b[0m \u001b[31m10.5 MB/s\u001b[0m eta \u001b[36m0:00:00\u001b[0m\n",
            "\u001b[?25hRequirement already satisfied: charset-normalizer<4,>=2 in /usr/local/lib/python3.10/dist-packages (from requests->bertviz) (3.3.2)\n",
            "Requirement already satisfied: idna<4,>=2.5 in /usr/local/lib/python3.10/dist-packages (from requests->bertviz) (3.6)\n",
            "Requirement already satisfied: urllib3<3,>=1.21.1 in /usr/local/lib/python3.10/dist-packages (from requests->bertviz) (2.0.7)\n",
            "Requirement already satisfied: certifi>=2017.4.17 in /usr/local/lib/python3.10/dist-packages (from requests->bertviz) (2024.2.2)\n",
            "Requirement already satisfied: python-dateutil<3.0.0,>=2.1 in /usr/local/lib/python3.10/dist-packages (from botocore<1.35.0,>=1.34.67->boto3->bertviz) (2.8.2)\n",
            "Requirement already satisfied: MarkupSafe>=2.0 in /usr/local/lib/python3.10/dist-packages (from jinja2->torch>=1.0->bertviz) (2.1.5)\n",
            "Requirement already satisfied: mpmath>=0.19 in /usr/local/lib/python3.10/dist-packages (from sympy->torch>=1.0->bertviz) (1.3.0)\n",
            "Requirement already satisfied: six>=1.5 in /usr/local/lib/python3.10/dist-packages (from python-dateutil<3.0.0,>=2.1->botocore<1.35.0,>=1.34.67->boto3->bertviz) (1.16.0)\n",
            "Installing collected packages: nvidia-nvtx-cu12, nvidia-nvjitlink-cu12, nvidia-nccl-cu12, nvidia-curand-cu12, nvidia-cufft-cu12, nvidia-cuda-runtime-cu12, nvidia-cuda-nvrtc-cu12, nvidia-cuda-cupti-cu12, nvidia-cublas-cu12, jmespath, nvidia-cusparse-cu12, nvidia-cudnn-cu12, botocore, s3transfer, nvidia-cusolver-cu12, boto3, bertviz\n",
            "Successfully installed bertviz-1.4.0 boto3-1.34.67 botocore-1.34.67 jmespath-1.0.1 nvidia-cublas-cu12-12.1.3.1 nvidia-cuda-cupti-cu12-12.1.105 nvidia-cuda-nvrtc-cu12-12.1.105 nvidia-cuda-runtime-cu12-12.1.105 nvidia-cudnn-cu12-8.9.2.26 nvidia-cufft-cu12-11.0.2.54 nvidia-curand-cu12-10.3.2.106 nvidia-cusolver-cu12-11.4.5.107 nvidia-cusparse-cu12-12.1.0.106 nvidia-nccl-cu12-2.19.3 nvidia-nvjitlink-cu12-12.4.99 nvidia-nvtx-cu12-12.1.105 s3transfer-0.10.1\n"
          ]
        }
      ],
      "source": [
        "!pip install bertviz"
      ]
    },
    {
      "cell_type": "code",
      "execution_count": null,
      "metadata": {
        "colab": {
          "base_uri": "https://localhost:8080/"
        },
        "id": "ng8RXGZSY0Qu",
        "outputId": "8afc75f5-bdc1-4924-dd3e-22c1416d6743"
      },
      "outputs": [
        {
          "name": "stdout",
          "output_type": "stream",
          "text": [
            "Elle sera suivie à 16 h du spectacle Contes d'un Doman Acabat de Gric de Prat.\n",
            "[1, 18459, 4526, 386, 76, 3286, 238, 958, 75, 274, 9572, 3913, 2688, 71, 11, 165, 10442, 1979, 695, 138, 5094, 138, 4590, 18, 2] 25\n",
            "(1, 8, 20, 64)\n",
            "4\n",
            "16\n",
            "64 20\n",
            "['[BOS]', 'Elle', 'sera', 'suivie', 'à', '16', 'h', 'du', 'spectacle', 'Contes', 'd', \"'\", 'un', 'Dom', '##an', 'Aca', '##bat', 'de', 'Gri', '##c', 'de', 'Prat', '.', '[EOS]', 'pad', 'pad', 'pad', 'pad', 'pad', 'pad', 'pad', 'pad', 'pad', 'pad', 'pad', 'pad', 'pad', 'pad', 'pad', 'pad', 'pad', 'pad', 'pad', 'pad', 'pad', 'pad', 'pad', 'pad', 'pad', 'pad', 'pad', 'pad', 'pad', 'pad', 'pad', 'pad', 'pad', 'pad', 'pad', 'pad', 'pad', 'pad', 'pad', 'pad']\n"
          ]
        }
      ],
      "source": [
        "print(sentence)\n",
        "sentence_tokens = occ_tokenizer.encode(sentence).ids\n",
        "print(sentence_tokens, len(sentence_tokens))\n",
        "print(attn_weights.shape)\n",
        "print(len(attn_weights.shape))\n",
        "print(len(tokens))\n",
        "\n",
        "#enc_tokens = occ_tokenizer.encode(sentence).tokens\n",
        "#dec_tokens = fr_tokenizer.tokenize(translated_text)\n",
        "enc_tokens = fr_tokenizer.tokenize(sentence)\n",
        "enc_tokens = ['[BOS]'] + enc_tokens + ['[EOS]']\n",
        "dec_tokens = occ_tokenizer.encode(translated_text).tokens\n",
        "dec_tokens = dec_tokens[1:-2]\n",
        "enc_tokens_padded = enc_tokens + ['pad' for i in range(64 - len(enc_tokens))]\n",
        "dec_tokens_padded = dec_tokens + ['pad' for j in range(attn_weights.shape[2] - len(dec_tokens))]\n",
        "\n",
        "print(len(enc_tokens_padded), len(dec_tokens_padded))\n",
        "print(enc_tokens_padded)"
      ]
    },
    {
      "cell_type": "code",
      "execution_count": null,
      "metadata": {
        "colab": {
          "base_uri": "https://localhost:8080/",
          "height": 1000
        },
        "id": "cYxY9MHZUs6V",
        "outputId": "4a7d31c0-c7bf-4727-9aa6-9ff4bc71a11c"
      },
      "outputs": [
        {
          "data": {
            "text/html": [
              "<script src=\"https://cdnjs.cloudflare.com/ajax/libs/require.js/2.3.6/require.min.js\"></script>"
            ],
            "text/plain": [
              "<IPython.core.display.HTML object>"
            ]
          },
          "metadata": {},
          "output_type": "display_data"
        },
        {
          "data": {
            "text/html": [
              "      \n",
              "        <div id=\"bertviz-f28d8a7b03cb47c3874dbf8d917f5914\" style=\"font-family:'Helvetica Neue', Helvetica, Arial, sans-serif;\">\n",
              "            <span style=\"user-select:none\">\n",
              "                Layer: <select id=\"layer\"></select>\n",
              "                \n",
              "            </span>\n",
              "            <div id='vis'></div>\n",
              "        </div>\n",
              "    "
            ],
            "text/plain": [
              "<IPython.core.display.HTML object>"
            ]
          },
          "metadata": {},
          "output_type": "display_data"
        },
        {
          "data": {
            "application/javascript": "/**\n * @fileoverview Transformer Visualization D3 javascript code.\n *\n *\n *  Based on: https://github.com/tensorflow/tensor2tensor/blob/master/tensor2tensor/visualization/attention.js\n *\n * Change log:\n *\n * 12/19/18  Jesse Vig   Assorted cleanup. Changed orientation of attention matrices.\n * 12/29/20  Jesse Vig   Significant refactor.\n * 12/31/20  Jesse Vig   Support multiple visualizations in single notebook.\n * 02/06/21  Jesse Vig   Move require config from separate jupyter notebook step\n * 05/03/21  Jesse Vig   Adjust height of visualization dynamically\n * 07/25/21  Jesse Vig   Support layer filtering\n * 03/23/22  Daniel SC   Update requirement URLs for d3 and jQuery (source of bug not allowing end result to be displayed on browsers)\n **/\n\nrequire.config({\n  paths: {\n      d3: 'https://cdnjs.cloudflare.com/ajax/libs/d3/5.7.0/d3.min',\n    jquery: 'https://cdnjs.cloudflare.com/ajax/libs/jquery/2.0.0/jquery.min',\n  }\n});\n\nrequirejs(['jquery', 'd3'], function ($, d3) {\n\n    const params = {\"attention\": [{\"name\": \"Cross\", \"attn\": [[[[0.002863685367628932, 0.027075067162513733, 0.15336965024471283, 0.15152542293071747, 0.35026466846466064, 0.07665899395942688, 0.01152848731726408, 0.0005881913821212947, 0.03579116240143776, 0.003990357741713524, 0.0044002593494951725, 0.0016566170379519463, 0.011049535125494003, 0.00911686196923256, 0.0034917450975626707, 0.034975554794073105, 0.009375054389238358, 0.006880301982164383, 0.024431295692920685, 0.003044420387595892, 0.0037864656187593937, 0.06878668069839478, 0.003945640288293362, 0.001403902773745358, 0.0, 0.0, 0.0, 0.0, 0.0, 0.0, 0.0, 0.0, 0.0, 0.0, 0.0, 0.0, 0.0, 0.0, 0.0, 0.0, 0.0, 0.0, 0.0, 0.0, 0.0, 0.0, 0.0, 0.0, 0.0, 0.0, 0.0, 0.0, 0.0, 0.0, 0.0, 0.0, 0.0, 0.0, 0.0, 0.0, 0.0, 0.0, 0.0, 0.0], [0.01695355400443077, 0.053385596722364426, 0.6999046802520752, 0.05445631593465805, 0.0562165305018425, 0.007201506290584803, 0.00371166062541306, 0.0010365312919020653, 0.002416974864900112, 0.00031473487615585327, 0.001430320437066257, 0.027179118245840073, 0.002384314313530922, 0.0032129036262631416, 0.007230536546558142, 0.003837136784568429, 0.001503085601143539, 0.0025120461359620094, 0.02407602220773697, 0.009406630881130695, 0.0014330812264233828, 0.016363875940442085, 0.002251783385872841, 0.0015810424229130149, 0.0, 0.0, 0.0, 0.0, 0.0, 0.0, 0.0, 0.0, 0.0, 0.0, 0.0, 0.0, 0.0, 0.0, 0.0, 0.0, 0.0, 0.0, 0.0, 0.0, 0.0, 0.0, 0.0, 0.0, 0.0, 0.0, 0.0, 0.0, 0.0, 0.0, 0.0, 0.0, 0.0, 0.0, 0.0, 0.0, 0.0, 0.0, 0.0, 0.0], [0.0003641139774117619, 0.002619312610477209, 0.025218570604920387, 0.5557667016983032, 0.3165176212787628, 0.012284851633012295, 0.0017779470654204488, 0.00030019786208868027, 0.0010757852578535676, 0.0013952445005998015, 0.0003350404149387032, 0.0002846345887519419, 0.00024622268392704427, 0.000744668475817889, 0.0011513984063640237, 0.0009589699911884964, 0.004236998502165079, 0.003098849207162857, 0.00525288563221693, 0.0010429791873320937, 0.004630134906619787, 0.05198528617620468, 0.004694873001426458, 0.004016708116978407, 0.0, 0.0, 0.0, 0.0, 0.0, 0.0, 0.0, 0.0, 0.0, 0.0, 0.0, 0.0, 0.0, 0.0, 0.0, 0.0, 0.0, 0.0, 0.0, 0.0, 0.0, 0.0, 0.0, 0.0, 0.0, 0.0, 0.0, 0.0, 0.0, 0.0, 0.0, 0.0, 0.0, 0.0, 0.0, 0.0, 0.0, 0.0, 0.0, 0.0], [0.005891974084079266, 0.021415600553154945, 0.021626707166433334, 0.1122020035982132, 0.6741908192634583, 0.05047489330172539, 0.009348458610475063, 0.0033141046296805143, 0.011971762403845787, 0.0022169749718159437, 0.008328727446496487, 0.011783106252551079, 0.0016890056431293488, 0.0002500742848496884, 0.006726016756147146, 0.00117120158392936, 0.005612443666905165, 0.003474848112091422, 0.0010655864607542753, 0.006808585487306118, 0.005910577718168497, 0.019894134253263474, 0.0054470812901854515, 0.009185334667563438, 0.0, 0.0, 0.0, 0.0, 0.0, 0.0, 0.0, 0.0, 0.0, 0.0, 0.0, 0.0, 0.0, 0.0, 0.0, 0.0, 0.0, 0.0, 0.0, 0.0, 0.0, 0.0, 0.0, 0.0, 0.0, 0.0, 0.0, 0.0, 0.0, 0.0, 0.0, 0.0, 0.0, 0.0, 0.0, 0.0, 0.0, 0.0, 0.0, 0.0], [2.3399043129757047e-05, 0.00022764714958611876, 0.00041714817052707076, 0.0018156709847971797, 0.003102916292846203, 0.9157392978668213, 0.06779751926660538, 3.38570935127791e-05, 0.00876278430223465, 0.00033640983747318387, 1.7356234820908867e-05, 1.750608134898357e-05, 3.4671527828322724e-05, 6.12714429735206e-05, 8.837100904202089e-05, 8.049917232710868e-05, 1.3239371583040338e-05, 3.053363570870715e-06, 0.00022776720288675278, 0.00010937889601336792, 4.864564289164264e-06, 0.000997845083475113, 1.4614148312830366e-05, 7.292232476174831e-05, 0.0, 0.0, 0.0, 0.0, 0.0, 0.0, 0.0, 0.0, 0.0, 0.0, 0.0, 0.0, 0.0, 0.0, 0.0, 0.0, 0.0, 0.0, 0.0, 0.0, 0.0, 0.0, 0.0, 0.0, 0.0, 0.0, 0.0, 0.0, 0.0, 0.0, 0.0, 0.0, 0.0, 0.0, 0.0, 0.0, 0.0, 0.0, 0.0, 0.0], [0.02770064026117325, 0.010282075963914394, 0.003907316830009222, 0.008743086829781532, 0.05128142610192299, 0.15202750265598297, 0.5473859310150146, 0.039486974477767944, 0.03898349776864052, 0.0018793230410665274, 0.0091309929266572, 0.06564465165138245, 0.011323495768010616, 0.0004846853844355792, 0.010010618716478348, 0.0001831559929996729, 0.0003324885619804263, 0.00015140596951823682, 0.0002795833570417017, 0.010507915169000626, 0.00028050984838046134, 0.0015380186960101128, 0.0008315597078762949, 0.007623150013387203, 0.0, 0.0, 0.0, 0.0, 0.0, 0.0, 0.0, 0.0, 0.0, 0.0, 0.0, 0.0, 0.0, 0.0, 0.0, 0.0, 0.0, 0.0, 0.0, 0.0, 0.0, 0.0, 0.0, 0.0, 0.0, 0.0, 0.0, 0.0, 0.0, 0.0, 0.0, 0.0, 0.0, 0.0, 0.0, 0.0, 0.0, 0.0, 0.0, 0.0], [0.0011127716861665249, 0.0037147311959415674, 0.002623003674671054, 0.002414268208667636, 0.04773198440670967, 0.13483813405036926, 0.05716409906744957, 0.047382902354002, 0.636409342288971, 0.030438462272286415, 0.025760645046830177, 0.0016801534220576286, 0.002544129965826869, 0.00020341337949503213, 0.002927151508629322, 0.00012391628115437925, 4.358665682957508e-05, 6.085608220018912e-06, 2.1399941033450887e-05, 0.0022290523629635572, 6.406276042980608e-06, 7.201695552794263e-05, 2.3635853722225875e-05, 0.0005288549000397325, 0.0, 0.0, 0.0, 0.0, 0.0, 0.0, 0.0, 0.0, 0.0, 0.0, 0.0, 0.0, 0.0, 0.0, 0.0, 0.0, 0.0, 0.0, 0.0, 0.0, 0.0, 0.0, 0.0, 0.0, 0.0, 0.0, 0.0, 0.0, 0.0, 0.0, 0.0, 0.0, 0.0, 0.0, 0.0, 0.0, 0.0, 0.0, 0.0, 0.0], [9.50364483287558e-06, 0.00011729723337339237, 2.6028255888377316e-05, 4.97992878081277e-05, 3.7238023651298136e-05, 0.015182270668447018, 0.024099227041006088, 0.0009388876496814191, 0.7157351970672607, 0.23317822813987732, 0.0037732834462076426, 2.2949117919779383e-05, 0.00014185711916070431, 0.004164761397987604, 0.00034118987969122827, 0.00190465128980577, 1.2127000445616432e-05, 6.223907575986232e-07, 9.235225661541335e-06, 0.0002512241480872035, 1.8669355483780237e-07, 1.850735543484916e-06, 1.5369884920346522e-07, 2.2008484847901855e-06, 0.0, 0.0, 0.0, 0.0, 0.0, 0.0, 0.0, 0.0, 0.0, 0.0, 0.0, 0.0, 0.0, 0.0, 0.0, 0.0, 0.0, 0.0, 0.0, 0.0, 0.0, 0.0, 0.0, 0.0, 0.0, 0.0, 0.0, 0.0, 0.0, 0.0, 0.0, 0.0, 0.0, 0.0, 0.0, 0.0, 0.0, 0.0, 0.0, 0.0], [4.400965553941205e-05, 0.00021934972028248012, 5.520920967683196e-05, 0.00024922931334003806, 0.0005559445708058774, 0.0003707306459546089, 0.0005643503391183913, 0.0008927117451094091, 0.0558706596493721, 0.29786479473114014, 0.5593863725662231, 0.0006716718198731542, 0.040460262447595596, 0.01431325078010559, 0.0014735484728589654, 0.024013102054595947, 0.0014479781966656446, 0.0002708357060328126, 0.00023624410096090287, 0.0008019169908948243, 1.769597474776674e-05, 0.000199614412849769, 5.137539119459689e-06, 1.544649785500951e-05, 0.0, 0.0, 0.0, 0.0, 0.0, 0.0, 0.0, 0.0, 0.0, 0.0, 0.0, 0.0, 0.0, 0.0, 0.0, 0.0, 0.0, 0.0, 0.0, 0.0, 0.0, 0.0, 0.0, 0.0, 0.0, 0.0, 0.0, 0.0, 0.0, 0.0, 0.0, 0.0, 0.0, 0.0, 0.0, 0.0, 0.0, 0.0, 0.0, 0.0], [8.174662798410282e-05, 0.00020545847655739635, 3.941733666579239e-05, 0.00016140575462486595, 0.0033948388881981373, 0.00018520197772886604, 9.563740604789928e-05, 0.0006977880839258432, 0.003549508284777403, 0.010033306665718555, 0.9407230615615845, 0.0018408241448923945, 0.032655443996191025, 0.0003272174799349159, 0.0008675272692926228, 0.002162196207791567, 0.0005847747670486569, 0.0012846665922552347, 7.090109284035861e-05, 0.00048690513358451426, 0.00021383256535045803, 0.0002841179084498435, 1.4518470379698556e-05, 3.971277692471631e-05, 0.0, 0.0, 0.0, 0.0, 0.0, 0.0, 0.0, 0.0, 0.0, 0.0, 0.0, 0.0, 0.0, 0.0, 0.0, 0.0, 0.0, 0.0, 0.0, 0.0, 0.0, 0.0, 0.0, 0.0, 0.0, 0.0, 0.0, 0.0, 0.0, 0.0, 0.0, 0.0, 0.0, 0.0, 0.0, 0.0, 0.0, 0.0, 0.0, 0.0], [0.012104975059628487, 0.0033934060484170914, 0.003039655974134803, 0.00031847256468608975, 0.0003219794889446348, 3.9412014302797616e-05, 0.0001756366400513798, 0.0010341410525143147, 9.96959934127517e-05, 0.00011044089478673413, 0.015791304409503937, 0.9281388521194458, 0.012051695957779884, 0.0007738310960121453, 0.006493501365184784, 0.00032809333060868084, 0.0009013970848172903, 0.0014329851837828755, 0.0011831895681098104, 0.0104769766330719, 0.0003374895313754678, 0.0003249270375818014, 0.0003959308669436723, 0.000732081476598978, 0.0, 0.0, 0.0, 0.0, 0.0, 0.0, 0.0, 0.0, 0.0, 0.0, 0.0, 0.0, 0.0, 0.0, 0.0, 0.0, 0.0, 0.0, 0.0, 0.0, 0.0, 0.0, 0.0, 0.0, 0.0, 0.0, 0.0, 0.0, 0.0, 0.0, 0.0, 0.0, 0.0, 0.0, 0.0, 0.0, 0.0, 0.0, 0.0, 0.0], [0.00038576635415665805, 0.0006572876591235399, 0.0002579254796728492, 0.0002772936422843486, 0.0005385534605011344, 0.0007583764963783324, 0.0005213831318542361, 9.918337309500203e-05, 0.06404369324445724, 0.013439178466796875, 0.044356223195791245, 0.00027070316718891263, 0.3976408839225769, 0.05718563124537468, 0.0023085721768438816, 0.39627066254615784, 0.011073154397308826, 0.0020844866521656513, 0.004175996873527765, 0.0012108413502573967, 0.00019687859457917511, 0.002152935368940234, 6.777296221116558e-05, 2.674241113709286e-05, 0.0, 0.0, 0.0, 0.0, 0.0, 0.0, 0.0, 0.0, 0.0, 0.0, 0.0, 0.0, 0.0, 0.0, 0.0, 0.0, 0.0, 0.0, 0.0, 0.0, 0.0, 0.0, 0.0, 0.0, 0.0, 0.0, 0.0, 0.0, 0.0, 0.0, 0.0, 0.0, 0.0, 0.0, 0.0, 0.0, 0.0, 0.0, 0.0, 0.0], [3.623129305196926e-05, 0.00022866501240059733, 2.8353075322229415e-05, 0.00015759514644742012, 2.303247310919687e-05, 0.00014552737411577255, 0.00042864729766733944, 3.6467055906541646e-05, 0.021019261330366135, 0.02651984989643097, 0.002213879255577922, 2.8174770704936236e-05, 0.0025988139677792788, 0.21387773752212524, 0.0008659953600727022, 0.723143458366394, 0.003850898938253522, 0.0012720474041998386, 0.0024960346054285765, 0.00044119457015767694, 0.00011753602302633226, 0.00045291733113117516, 1.2727274224744178e-05, 4.9248415052716155e-06, 0.0, 0.0, 0.0, 0.0, 0.0, 0.0, 0.0, 0.0, 0.0, 0.0, 0.0, 0.0, 0.0, 0.0, 0.0, 0.0, 0.0, 0.0, 0.0, 0.0, 0.0, 0.0, 0.0, 0.0, 0.0, 0.0, 0.0, 0.0, 0.0, 0.0, 0.0, 0.0, 0.0, 0.0, 0.0, 0.0, 0.0, 0.0, 0.0, 0.0], [7.494973397115245e-05, 0.00034489919198676944, 0.00011716180597431958, 0.0005904128775000572, 0.00043914062553085387, 0.00021830324840266258, 0.0008156191324815154, 0.0001920909999171272, 0.00032470651785843074, 0.022301988676190376, 0.11629645526409149, 0.0015260109212249517, 0.03473413363099098, 0.055472712963819504, 0.0010451015550643206, 0.3347257673740387, 0.05352437496185303, 0.20243802666664124, 0.08608304709196091, 0.000718321418389678, 0.029968656599521637, 0.05706992372870445, 0.0006943676853552461, 0.0002837992797140032, 0.0, 0.0, 0.0, 0.0, 0.0, 0.0, 0.0, 0.0, 0.0, 0.0, 0.0, 0.0, 0.0, 0.0, 0.0, 0.0, 0.0, 0.0, 0.0, 0.0, 0.0, 0.0, 0.0, 0.0, 0.0, 0.0, 0.0, 0.0, 0.0, 0.0, 0.0, 0.0, 0.0, 0.0, 0.0, 0.0, 0.0, 0.0, 0.0, 0.0], [1.0662729437171947e-05, 0.00016971553850453347, 2.6933816116070375e-05, 2.0325225705164485e-05, 1.4861675481370185e-05, 9.93999419733882e-05, 0.0008642550092190504, 1.0650676813384052e-05, 0.0004723015008494258, 0.0019370713271200657, 0.006124875508248806, 0.002583030378445983, 0.0017543016001582146, 0.02763012982904911, 0.0002786646655295044, 0.15202327072620392, 0.00348148331977427, 0.0066400207579135895, 0.5248920917510986, 0.0003421285073272884, 0.0009599372860975564, 0.26960107684135437, 3.6444438592297956e-05, 2.633394433360081e-05, 0.0, 0.0, 0.0, 0.0, 0.0, 0.0, 0.0, 0.0, 0.0, 0.0, 0.0, 0.0, 0.0, 0.0, 0.0, 0.0, 0.0, 0.0, 0.0, 0.0, 0.0, 0.0, 0.0, 0.0, 0.0, 0.0, 0.0, 0.0, 0.0, 0.0, 0.0, 0.0, 0.0, 0.0, 0.0, 0.0, 0.0, 0.0, 0.0, 0.0], [0.0010146118002012372, 0.001757514663040638, 0.0003059822483919561, 0.0011357635958120227, 0.002454346977174282, 0.0005393762839958072, 0.00038647884503006935, 6.90625820425339e-05, 9.377063543070108e-05, 0.0002316531172255054, 0.006417192984372377, 0.012877288274466991, 0.006153964437544346, 0.0006242653471417725, 0.00294596329331398, 0.015755057334899902, 0.04732643812894821, 0.25356385111808777, 0.02990935742855072, 0.003251126268878579, 0.4244039058685303, 0.16168202459812164, 0.00809091329574585, 0.019010081887245178, 0.0, 0.0, 0.0, 0.0, 0.0, 0.0, 0.0, 0.0, 0.0, 0.0, 0.0, 0.0, 0.0, 0.0, 0.0, 0.0, 0.0, 0.0, 0.0, 0.0, 0.0, 0.0, 0.0, 0.0, 0.0, 0.0, 0.0, 0.0, 0.0, 0.0, 0.0, 0.0, 0.0, 0.0, 0.0, 0.0, 0.0, 0.0, 0.0, 0.0], [0.00020788698748219758, 0.0008637376595288515, 0.0005816922057420015, 0.0007400000467896461, 0.00036023592110723257, 0.0010564849944785237, 0.003113415325060487, 6.794049113523215e-05, 0.00021070509683340788, 0.001268977764993906, 0.000802098133135587, 0.002348662819713354, 0.0005783920059911907, 0.008273168466985226, 0.001072339597158134, 0.03598114103078842, 0.032684534788131714, 0.024501066654920578, 0.21965043246746063, 0.0014258340233936906, 0.01813768781721592, 0.6384360790252686, 0.005627691745758057, 0.002009807853028178, 0.0, 0.0, 0.0, 0.0, 0.0, 0.0, 0.0, 0.0, 0.0, 0.0, 0.0, 0.0, 0.0, 0.0, 0.0, 0.0, 0.0, 0.0, 0.0, 0.0, 0.0, 0.0, 0.0, 0.0, 0.0, 0.0, 0.0, 0.0, 0.0, 0.0, 0.0, 0.0, 0.0, 0.0, 0.0, 0.0, 0.0, 0.0, 0.0, 0.0], [0.0008456181967630982, 0.0009523408953100443, 0.0005153638194315135, 0.0016210898756980896, 0.0008231686661019921, 9.548512753099203e-05, 7.350579835474491e-05, 8.384452485188376e-06, 2.6538258680375293e-05, 1.611520565347746e-05, 0.00015875042299740016, 0.0016075680032372475, 0.0010874285362660885, 0.00040609497227706015, 0.0008972217910923064, 0.005208620335906744, 0.11317766457796097, 0.14704006910324097, 0.024733491241931915, 0.0010946453548967838, 0.48255640268325806, 0.14117354154586792, 0.02567693032324314, 0.05020386353135109, 0.0, 0.0, 0.0, 0.0, 0.0, 0.0, 0.0, 0.0, 0.0, 0.0, 0.0, 0.0, 0.0, 0.0, 0.0, 0.0, 0.0, 0.0, 0.0, 0.0, 0.0, 0.0, 0.0, 0.0, 0.0, 0.0, 0.0, 0.0, 0.0, 0.0, 0.0, 0.0, 0.0, 0.0, 0.0, 0.0, 0.0, 0.0, 0.0, 0.0], [0.009875249117612839, 0.008063891902565956, 0.0031431447714567184, 0.018756352365016937, 0.0075668455101549625, 0.001304687699303031, 0.00040612579323351383, 0.00016090157441794872, 0.00015064534090925008, 5.733688158215955e-05, 0.0007506577530875802, 0.09152766317129135, 0.0015874967211857438, 0.00013015106378588825, 0.012019212357699871, 0.00039415652281604707, 0.013203826732933521, 0.031043846160173416, 0.0028824969194829464, 0.01887737400829792, 0.11338086426258087, 0.014098023064434528, 0.00750921992585063, 0.6431097388267517, 0.0, 0.0, 0.0, 0.0, 0.0, 0.0, 0.0, 0.0, 0.0, 0.0, 0.0, 0.0, 0.0, 0.0, 0.0, 0.0, 0.0, 0.0, 0.0, 0.0, 0.0, 0.0, 0.0, 0.0, 0.0, 0.0, 0.0, 0.0, 0.0, 0.0, 0.0, 0.0, 0.0, 0.0, 0.0, 0.0, 0.0, 0.0, 0.0, 0.0], [0.003514643758535385, 0.0021736978087574244, 0.0035987875889986753, 0.01201043464243412, 0.03392145037651062, 0.009707394056022167, 0.0032093951012939215, 0.0019595331978052855, 0.0004157809598837048, 0.0005693907150998712, 0.002699342556297779, 0.0025567759294062853, 0.0053567904978990555, 0.000316799123538658, 0.002283512381836772, 0.0011120457202196121, 0.08185847103595734, 0.06104595586657524, 0.011177562177181244, 0.0026046454440802336, 0.2957857549190521, 0.10319384932518005, 0.1778707057237625, 0.18105730414390564, 0.0, 0.0, 0.0, 0.0, 0.0, 0.0, 0.0, 0.0, 0.0, 0.0, 0.0, 0.0, 0.0, 0.0, 0.0, 0.0, 0.0, 0.0, 0.0, 0.0, 0.0, 0.0, 0.0, 0.0, 0.0, 0.0, 0.0, 0.0, 0.0, 0.0, 0.0, 0.0, 0.0, 0.0, 0.0, 0.0, 0.0, 0.0, 0.0, 0.0]], [[0.0003158218751195818, 0.021005161106586456, 0.7681923508644104, 0.17650555074214935, 0.002160109346732497, 0.0030881145503371954, 0.00255071884021163, 1.3094553651171736e-05, 0.001452083233743906, 0.00020690455858130008, 2.0047958969371393e-05, 0.0033834646455943584, 0.0007332018576562405, 0.0002801947994157672, 0.005764797795563936, 0.000474568922072649, 0.0024725901894271374, 0.00010809242667164654, 0.0002011962205870077, 0.007867904379963875, 9.831843635765836e-05, 0.0013075013412162662, 0.00037626526318490505, 0.0014218519208952785, 0.0, 0.0, 0.0, 0.0, 0.0, 0.0, 0.0, 0.0, 0.0, 0.0, 0.0, 0.0, 0.0, 0.0, 0.0, 0.0, 0.0, 0.0, 0.0, 0.0, 0.0, 0.0, 0.0, 0.0, 0.0, 0.0, 0.0, 0.0, 0.0, 0.0, 0.0, 0.0, 0.0, 0.0, 0.0, 0.0, 0.0, 0.0, 0.0, 0.0], [0.0025611300952732563, 0.05284750089049339, 0.7086343169212341, 0.1136879026889801, 0.002720776479691267, 0.0028430430684238672, 0.0014602631563320756, 1.0077212209580466e-05, 0.0013819384621456265, 2.3340013285633177e-05, 2.434235102555249e-05, 0.006197513081133366, 0.00012710306327790022, 0.00019772900850512087, 0.04053496941924095, 0.000673404720146209, 0.0007222163840197027, 0.0003042090393137187, 0.0002200626186095178, 0.05893954262137413, 0.00020039069931954145, 0.0009565988439135253, 9.768526069819927e-05, 0.004634057637304068, 0.0, 0.0, 0.0, 0.0, 0.0, 0.0, 0.0, 0.0, 0.0, 0.0, 0.0, 0.0, 0.0, 0.0, 0.0, 0.0, 0.0, 0.0, 0.0, 0.0, 0.0, 0.0, 0.0, 0.0, 0.0, 0.0, 0.0, 0.0, 0.0, 0.0, 0.0, 0.0, 0.0, 0.0, 0.0, 0.0, 0.0, 0.0, 0.0, 0.0], [0.0002671243855729699, 0.004766198340803385, 0.008620837703347206, 0.9593825340270996, 0.008783753961324692, 0.005933570209890604, 0.0012071183882653713, 3.897222541127121e-06, 0.0006146761006675661, 6.162057252367958e-05, 1.059452074514411e-06, 0.0004806446086149663, 9.192964171234053e-06, 4.802640978596173e-05, 0.004457919392734766, 7.474557060049847e-05, 0.0005633556866087019, 1.0941887921944726e-05, 2.937030694738496e-05, 0.0035391405690461397, 1.4091057892073877e-05, 0.00032420409843325615, 1.2513546607806347e-05, 0.0007933276938274503, 0.0, 0.0, 0.0, 0.0, 0.0, 0.0, 0.0, 0.0, 0.0, 0.0, 0.0, 0.0, 0.0, 0.0, 0.0, 0.0, 0.0, 0.0, 0.0, 0.0, 0.0, 0.0, 0.0, 0.0, 0.0, 0.0, 0.0, 0.0, 0.0, 0.0, 0.0, 0.0, 0.0, 0.0, 0.0, 0.0, 0.0, 0.0, 0.0, 0.0], [0.002511772559955716, 0.020412005484104156, 0.01986403949558735, 0.3063754141330719, 0.06802667677402496, 0.25710558891296387, 0.08001893758773804, 0.0006035085534676909, 0.0709102600812912, 0.008016522042453289, 0.00040041108150035143, 0.006334954407066107, 0.0022261932026594877, 0.004105922766029835, 0.019795797765254974, 0.01279248483479023, 0.047836363315582275, 0.00030235902522690594, 0.0035205392632633448, 0.017059272155165672, 0.0004635897639673203, 0.039823662489652634, 0.001535558607429266, 0.009958168491721153, 0.0, 0.0, 0.0, 0.0, 0.0, 0.0, 0.0, 0.0, 0.0, 0.0, 0.0, 0.0, 0.0, 0.0, 0.0, 0.0, 0.0, 0.0, 0.0, 0.0, 0.0, 0.0, 0.0, 0.0, 0.0, 0.0, 0.0, 0.0, 0.0, 0.0, 0.0, 0.0, 0.0, 0.0, 0.0, 0.0, 0.0, 0.0, 0.0, 0.0], [0.0009658380877226591, 0.0018238849006593227, 0.0016658911481499672, 0.0025441711768507957, 0.010587265715003014, 0.8132680058479309, 0.11242428421974182, 5.4177700803847983e-05, 0.028732625767588615, 0.00035132182529196143, 3.7383342714747414e-05, 0.001704971306025982, 0.00017696530267130584, 0.0003063325129915029, 0.010509850457310677, 0.00016280464478768408, 0.00018203492800239474, 5.22118807566585e-06, 6.997415039222687e-05, 0.013170688413083553, 4.891082426183857e-06, 0.0003840783319901675, 0.00011222614557482302, 0.0007550911977887154, 0.0, 0.0, 0.0, 0.0, 0.0, 0.0, 0.0, 0.0, 0.0, 0.0, 0.0, 0.0, 0.0, 0.0, 0.0, 0.0, 0.0, 0.0, 0.0, 0.0, 0.0, 0.0, 0.0, 0.0, 0.0, 0.0, 0.0, 0.0, 0.0, 0.0, 0.0, 0.0, 0.0, 0.0, 0.0, 0.0, 0.0, 0.0, 0.0, 0.0], [0.0029500725213438272, 0.001286044716835022, 0.00039903854485601187, 0.015852928161621094, 0.020086349919438362, 0.1404193937778473, 0.7254119515419006, 0.0012825564481317997, 0.03893003985285759, 0.004605568945407867, 0.0003788708127103746, 0.004668551962822676, 0.001210150308907032, 0.004277773667126894, 0.010845690965652466, 0.0022007517982274294, 0.0021157742012292147, 1.837062336562667e-05, 0.00019981434161309153, 0.010163554921746254, 3.92171714338474e-05, 0.002178765134885907, 0.0004370264941826463, 0.01004177425056696, 0.0, 0.0, 0.0, 0.0, 0.0, 0.0, 0.0, 0.0, 0.0, 0.0, 0.0, 0.0, 0.0, 0.0, 0.0, 0.0, 0.0, 0.0, 0.0, 0.0, 0.0, 0.0, 0.0, 0.0, 0.0, 0.0, 0.0, 0.0, 0.0, 0.0, 0.0, 0.0, 0.0, 0.0, 0.0, 0.0, 0.0, 0.0, 0.0, 0.0], [0.00010132377065019682, 0.0005416017957031727, 0.00039158499566838145, 0.002002786146476865, 0.004527967888861895, 0.07153680175542831, 0.20761175453662872, 0.018953150138258934, 0.5470717549324036, 0.14075256884098053, 0.001652275794185698, 0.0004507375997491181, 0.0009519904269836843, 0.000767624587751925, 0.0010808384977281094, 0.0004035721649415791, 0.0002425887214485556, 2.6962050014844863e-07, 3.195247927578748e-06, 0.0007808815571479499, 2.2562640822343383e-07, 6.101951839809772e-06, 1.6773608876974322e-05, 0.0001516110060038045, 0.0, 0.0, 0.0, 0.0, 0.0, 0.0, 0.0, 0.0, 0.0, 0.0, 0.0, 0.0, 0.0, 0.0, 0.0, 0.0, 0.0, 0.0, 0.0, 0.0, 0.0, 0.0, 0.0, 0.0, 0.0, 0.0, 0.0, 0.0, 0.0, 0.0, 0.0, 0.0, 0.0, 0.0, 0.0, 0.0, 0.0, 0.0, 0.0, 0.0], [3.7982685171300545e-05, 0.00045312056317925453, 2.7079844585387036e-05, 0.0002127657935488969, 0.00020157144172117114, 0.07483979314565659, 0.18634465336799622, 0.004261907655745745, 0.5403703451156616, 0.165731742978096, 0.005893453024327755, 0.0008732436690479517, 0.00025569359422661364, 0.008338467217981815, 0.005464454647153616, 0.0019066155655309558, 8.193789835786447e-05, 1.6155738649104023e-06, 3.4047245662804926e-06, 0.004581092856824398, 4.984375436833943e-07, 2.8020153877150733e-06, 5.321262960933382e-06, 0.00011051088222302496, 0.0, 0.0, 0.0, 0.0, 0.0, 0.0, 0.0, 0.0, 0.0, 0.0, 0.0, 0.0, 0.0, 0.0, 0.0, 0.0, 0.0, 0.0, 0.0, 0.0, 0.0, 0.0, 0.0, 0.0, 0.0, 0.0, 0.0, 0.0, 0.0, 0.0, 0.0, 0.0, 0.0, 0.0, 0.0, 0.0, 0.0, 0.0, 0.0, 0.0], [3.94977769246907e-06, 2.8058608222636394e-05, 3.0093149234744487e-06, 2.7445303203421645e-05, 7.3247560976597015e-06, 5.829924702993594e-05, 0.000387568463338539, 0.0007062111981213093, 0.026404330506920815, 0.7332252860069275, 0.05575671046972275, 0.0001380777102895081, 0.05111546814441681, 0.08735094219446182, 0.0001615847577340901, 0.0386507473886013, 0.005754129961133003, 4.19201705881278e-06, 0.0001215686570503749, 7.831260154489428e-05, 1.79985534032312e-07, 1.2180974408693146e-05, 2.159349833164015e-06, 2.3385216536553344e-06, 0.0, 0.0, 0.0, 0.0, 0.0, 0.0, 0.0, 0.0, 0.0, 0.0, 0.0, 0.0, 0.0, 0.0, 0.0, 0.0, 0.0, 0.0, 0.0, 0.0, 0.0, 0.0, 0.0, 0.0, 0.0, 0.0, 0.0, 0.0, 0.0, 0.0, 0.0, 0.0, 0.0, 0.0, 0.0, 0.0, 0.0, 0.0, 0.0, 0.0], [0.0003431241784710437, 0.0004449689295142889, 0.00014846697740722448, 0.0010575457708910108, 0.00030600326135754585, 0.0007679909467697144, 0.0021703329402953386, 0.005521763581782579, 0.0567127950489521, 0.2963401675224304, 0.24413444101810455, 0.001812917529605329, 0.1601550579071045, 0.08661654591560364, 0.002032178919762373, 0.10836172103881836, 0.02777215465903282, 0.00016467762179672718, 0.0022767139598727226, 0.0010285851312801242, 2.5402247047168203e-05, 0.0015384455909952521, 7.330866355914623e-05, 0.0001946730335475877, 0.0, 0.0, 0.0, 0.0, 0.0, 0.0, 0.0, 0.0, 0.0, 0.0, 0.0, 0.0, 0.0, 0.0, 0.0, 0.0, 0.0, 0.0, 0.0, 0.0, 0.0, 0.0, 0.0, 0.0, 0.0, 0.0, 0.0, 0.0, 0.0, 0.0, 0.0, 0.0, 0.0, 0.0, 0.0, 0.0, 0.0, 0.0, 0.0, 0.0], [0.00036564934998750687, 0.001606579520739615, 0.0009420260903425515, 0.0013988114660605788, 0.00027045217575505376, 0.0017760265618562698, 0.007071030791848898, 0.0012377947568893433, 0.027360953390598297, 0.08543079346418381, 0.049506980925798416, 0.007190668489784002, 0.10798550397157669, 0.400989294052124, 0.009232543408870697, 0.2236611247062683, 0.057172901928424835, 0.0022043203935027122, 0.0038178337272256613, 0.008469423279166222, 0.0002781954826787114, 0.0008486599544994533, 0.0006350261974148452, 0.0005472542252391577, 0.0, 0.0, 0.0, 0.0, 0.0, 0.0, 0.0, 0.0, 0.0, 0.0, 0.0, 0.0, 0.0, 0.0, 0.0, 0.0, 0.0, 0.0, 0.0, 0.0, 0.0, 0.0, 0.0, 0.0, 0.0, 0.0, 0.0, 0.0, 0.0, 0.0, 0.0, 0.0, 0.0, 0.0, 0.0, 0.0, 0.0, 0.0, 0.0, 0.0], [1.2710957889794372e-05, 6.41335136606358e-05, 9.593993127055e-06, 1.9664803403429687e-05, 3.9145279515651055e-06, 2.412914182059467e-05, 6.229082646314055e-05, 2.8531590032798704e-06, 0.013390728272497654, 0.0033399832900613546, 0.0026940091047436, 0.00021699977514799684, 0.20766334235668182, 0.1867411881685257, 0.0015003244625404477, 0.5487158298492432, 0.03422940522432327, 8.233484550146386e-05, 0.00021832463971804827, 0.0009151994599960744, 3.073017069255002e-06, 5.897379742236808e-05, 2.1790590835735202e-05, 9.148874596576206e-06, 0.0, 0.0, 0.0, 0.0, 0.0, 0.0, 0.0, 0.0, 0.0, 0.0, 0.0, 0.0, 0.0, 0.0, 0.0, 0.0, 0.0, 0.0, 0.0, 0.0, 0.0, 0.0, 0.0, 0.0, 0.0, 0.0, 0.0, 0.0, 0.0, 0.0, 0.0, 0.0, 0.0, 0.0, 0.0, 0.0, 0.0, 0.0, 0.0, 0.0], [6.073257736716187e-06, 0.0001027706457534805, 2.442741561026196e-06, 6.681714876322076e-05, 3.44608565683302e-06, 1.7022350220941007e-05, 4.67604877485428e-05, 1.0485674465599004e-05, 0.00424620695412159, 0.005587458144873381, 0.001370249199680984, 0.00019464408978819847, 0.006413449067622423, 0.3386666178703308, 0.0024889055639505386, 0.6272600293159485, 0.010503716766834259, 0.001086337142623961, 0.0005337341572158039, 0.001292465371079743, 4.115331466891803e-05, 4.322885433793999e-05, 9.664979188528378e-06, 6.280042271100683e-06, 0.0, 0.0, 0.0, 0.0, 0.0, 0.0, 0.0, 0.0, 0.0, 0.0, 0.0, 0.0, 0.0, 0.0, 0.0, 0.0, 0.0, 0.0, 0.0, 0.0, 0.0, 0.0, 0.0, 0.0, 0.0, 0.0, 0.0, 0.0, 0.0, 0.0, 0.0, 0.0, 0.0, 0.0, 0.0, 0.0, 0.0, 0.0, 0.0, 0.0], [2.5703482151584467e-06, 4.42287273472175e-05, 4.387593435239978e-06, 9.091976971831173e-05, 6.287146447903069e-07, 1.5651997955501429e-06, 1.5533209079876542e-05, 5.182673248782521e-06, 5.634464287140872e-06, 0.007304460275918245, 0.0028590194415301085, 0.00029830753919668496, 0.007790016010403633, 0.15493974089622498, 0.00015113368863239884, 0.5342798829078674, 0.19999368488788605, 0.004741397686302662, 0.07726806402206421, 9.010028588818386e-05, 0.00035696919076144695, 0.009701481088995934, 2.052101081062574e-05, 3.458618448348716e-05, 0.0, 0.0, 0.0, 0.0, 0.0, 0.0, 0.0, 0.0, 0.0, 0.0, 0.0, 0.0, 0.0, 0.0, 0.0, 0.0, 0.0, 0.0, 0.0, 0.0, 0.0, 0.0, 0.0, 0.0, 0.0, 0.0, 0.0, 0.0, 0.0, 0.0, 0.0, 0.0, 0.0, 0.0, 0.0, 0.0, 0.0, 0.0, 0.0, 0.0], [2.7891483114217408e-05, 0.00023111829068511724, 1.5536374121438712e-05, 2.2122278096503578e-05, 3.2642033147567417e-06, 1.851126944529824e-05, 0.00017178749840240926, 9.722432878334075e-06, 0.0001409907272318378, 0.0005936896777711809, 0.0013376432470977306, 0.0014849129365757108, 0.003160570515319705, 0.1783420741558075, 0.0008156074909493327, 0.40120747685432434, 0.027369413524866104, 0.022579722106456757, 0.2247859686613083, 0.0008840485825203359, 0.003633051412180066, 0.1328042596578598, 0.00019589900330174714, 0.00016469460388179868, 0.0, 0.0, 0.0, 0.0, 0.0, 0.0, 0.0, 0.0, 0.0, 0.0, 0.0, 0.0, 0.0, 0.0, 0.0, 0.0, 0.0, 0.0, 0.0, 0.0, 0.0, 0.0, 0.0, 0.0, 0.0, 0.0, 0.0, 0.0, 0.0, 0.0, 0.0, 0.0, 0.0, 0.0, 0.0, 0.0, 0.0, 0.0, 0.0, 0.0], [9.294998744735494e-05, 0.0001396176521666348, 0.00010131105955224484, 0.0006523311021737754, 8.208113285945728e-05, 9.51608526520431e-05, 0.00017005400150083005, 1.181217248813482e-05, 6.993930128373904e-06, 0.00013396675058174878, 0.00014720947365276515, 0.00024491583462804556, 0.0008735141600482166, 0.0033389045856893063, 0.00010559346264926717, 0.036726973950862885, 0.22244320809841156, 0.014799114316701889, 0.19422149658203125, 0.00012214701564516872, 0.04396136850118637, 0.473613440990448, 0.004435667302459478, 0.003480157582089305, 0.0, 0.0, 0.0, 0.0, 0.0, 0.0, 0.0, 0.0, 0.0, 0.0, 0.0, 0.0, 0.0, 0.0, 0.0, 0.0, 0.0, 0.0, 0.0, 0.0, 0.0, 0.0, 0.0, 0.0, 0.0, 0.0, 0.0, 0.0, 0.0, 0.0, 0.0, 0.0, 0.0, 0.0, 0.0, 0.0, 0.0, 0.0, 0.0, 0.0], [0.0030600521713495255, 0.003256028052419424, 0.00044493796303868294, 0.0008396673365496099, 0.00037852980312891304, 0.0003883069148287177, 0.0007400652393698692, 0.0001333001273451373, 0.00040952040581032634, 0.0003170027630403638, 0.0014295501168817282, 0.006479091010987759, 0.002340705366805196, 0.009388698264956474, 0.0033913920633494854, 0.02963169477880001, 0.03432052582502365, 0.034133847802877426, 0.14708495140075684, 0.0036400218959897757, 0.026760274544358253, 0.6737950444221497, 0.0039042015559971333, 0.013732647523283958, 0.0, 0.0, 0.0, 0.0, 0.0, 0.0, 0.0, 0.0, 0.0, 0.0, 0.0, 0.0, 0.0, 0.0, 0.0, 0.0, 0.0, 0.0, 0.0, 0.0, 0.0, 0.0, 0.0, 0.0, 0.0, 0.0, 0.0, 0.0, 0.0, 0.0, 0.0, 0.0, 0.0, 0.0, 0.0, 0.0, 0.0, 0.0, 0.0, 0.0], [0.00013192991900723428, 0.0002750648418441415, 0.0008686168002896011, 0.0028094244189560413, 5.7887220464181155e-05, 2.9509898013202474e-05, 2.0516294171102345e-05, 1.8585008092486532e-06, 1.1443554285506252e-05, 1.4055169231141917e-05, 1.4714008102600928e-05, 0.00014260104217100888, 0.0012042684247717261, 0.0019344770116731524, 0.00016503968799952418, 0.02439088746905327, 0.5719143748283386, 0.019179753959178925, 0.05003555119037628, 0.00022368266945704818, 0.07810293883085251, 0.21080949902534485, 0.026052212342619896, 0.011609776876866817, 0.0, 0.0, 0.0, 0.0, 0.0, 0.0, 0.0, 0.0, 0.0, 0.0, 0.0, 0.0, 0.0, 0.0, 0.0, 0.0, 0.0, 0.0, 0.0, 0.0, 0.0, 0.0, 0.0, 0.0, 0.0, 0.0, 0.0, 0.0, 0.0, 0.0, 0.0, 0.0, 0.0, 0.0, 0.0, 0.0, 0.0, 0.0, 0.0, 0.0], [0.0004200973780825734, 0.0025882250629365444, 0.011096342466771603, 0.013729898259043694, 0.0007822918705642223, 0.004038290120661259, 0.0032489232253283262, 2.1476935216924176e-05, 0.00022977020125836134, 0.00019619747763499618, 5.7825040130410343e-05, 0.0011371099390089512, 0.000665523111820221, 0.001784427324309945, 0.0006442491430789232, 0.009948172606527805, 0.5530748963356018, 0.0027890056371688843, 0.03786202520132065, 0.0014780837809666991, 0.019391927868127823, 0.24684986472129822, 0.019261326640844345, 0.06870406866073608, 0.0, 0.0, 0.0, 0.0, 0.0, 0.0, 0.0, 0.0, 0.0, 0.0, 0.0, 0.0, 0.0, 0.0, 0.0, 0.0, 0.0, 0.0, 0.0, 0.0, 0.0, 0.0, 0.0, 0.0, 0.0, 0.0, 0.0, 0.0, 0.0, 0.0, 0.0, 0.0, 0.0, 0.0, 0.0, 0.0, 0.0, 0.0, 0.0, 0.0], [0.008131159469485283, 0.0038796577136963606, 0.019518515095114708, 0.06006835773587227, 0.02218329720199108, 0.0077017610892653465, 0.0028278983663767576, 0.001754778902977705, 0.00024996892898343503, 0.0014898296212777495, 0.0007884257356636226, 0.0023751305416226387, 0.007784517481923103, 0.0021830005571246147, 0.0017485619755461812, 0.006682202219963074, 0.3619571626186371, 0.0208300594240427, 0.057285208255052567, 0.0018903659656643867, 0.08469443023204803, 0.10266445577144623, 0.15399226546287537, 0.06731905043125153, 0.0, 0.0, 0.0, 0.0, 0.0, 0.0, 0.0, 0.0, 0.0, 0.0, 0.0, 0.0, 0.0, 0.0, 0.0, 0.0, 0.0, 0.0, 0.0, 0.0, 0.0, 0.0, 0.0, 0.0, 0.0, 0.0, 0.0, 0.0, 0.0, 0.0, 0.0, 0.0, 0.0, 0.0, 0.0, 0.0, 0.0, 0.0, 0.0, 0.0]], [[0.0009070691303350031, 0.02083759568631649, 0.29423603415489197, 0.4627757966518402, 0.06329513341188431, 0.030534571036696434, 0.07846900075674057, 0.0002542583388276398, 0.002138962736353278, 8.801904186839238e-05, 0.0002747304970398545, 0.0012049619108438492, 0.0004237550310790539, 0.0015423372387886047, 0.0071610999293625355, 0.0007043309742584825, 0.002762277377769351, 0.011182572692632675, 0.0025852674152702093, 0.005398120265454054, 0.006372224539518356, 0.0020536703523248434, 0.004183399025350809, 0.000614803982898593, 0.0, 0.0, 0.0, 0.0, 0.0, 0.0, 0.0, 0.0, 0.0, 0.0, 0.0, 0.0, 0.0, 0.0, 0.0, 0.0, 0.0, 0.0, 0.0, 0.0, 0.0, 0.0, 0.0, 0.0, 0.0, 0.0, 0.0, 0.0, 0.0, 0.0, 0.0, 0.0, 0.0, 0.0, 0.0, 0.0, 0.0, 0.0, 0.0, 0.0], [0.0015793096972629428, 0.011944303289055824, 0.6154879331588745, 0.3429151475429535, 0.007633446715772152, 0.00238107331097126, 0.011754883453249931, 0.00023833895102143288, 0.0007974045583978295, 0.00017051096074283123, 4.815196371055208e-05, 3.107958400505595e-05, 1.6526104445802048e-05, 0.0004982203245162964, 0.0003624726668931544, 0.00030539778526872396, 0.001062322175130248, 0.0002704761573113501, 0.0011156982509419322, 0.0003109931421931833, 0.0001983498368645087, 0.0004979358054697514, 0.0002022916596615687, 0.00017771573038771749, 0.0, 0.0, 0.0, 0.0, 0.0, 0.0, 0.0, 0.0, 0.0, 0.0, 0.0, 0.0, 0.0, 0.0, 0.0, 0.0, 0.0, 0.0, 0.0, 0.0, 0.0, 0.0, 0.0, 0.0, 0.0, 0.0, 0.0, 0.0, 0.0, 0.0, 0.0, 0.0, 0.0, 0.0, 0.0, 0.0, 0.0, 0.0, 0.0, 0.0], [0.000600657716859132, 0.002157638082280755, 0.02492130920290947, 0.9363606572151184, 0.028389979153871536, 0.0020484905689954758, 0.0029272630345076323, 4.68637517769821e-05, 8.531808998668566e-05, 0.00010156424104934558, 3.939447651646333e-06, 5.437368236016482e-05, 7.456614525835903e-07, 2.0672374375863e-05, 0.000399638811359182, 1.36143989948323e-05, 0.0004477313777897507, 3.153543730149977e-05, 0.00015502447786275297, 0.0003127858799416572, 5.4241922043729573e-05, 0.00015367058222182095, 0.00015982502372935414, 0.0005523876752704382, 0.0, 0.0, 0.0, 0.0, 0.0, 0.0, 0.0, 0.0, 0.0, 0.0, 0.0, 0.0, 0.0, 0.0, 0.0, 0.0, 0.0, 0.0, 0.0, 0.0, 0.0, 0.0, 0.0, 0.0, 0.0, 0.0, 0.0, 0.0, 0.0, 0.0, 0.0, 0.0, 0.0, 0.0, 0.0, 0.0, 0.0, 0.0, 0.0, 0.0], [0.019029591232538223, 0.0243779718875885, 0.060564637184143066, 0.1501651257276535, 0.6029547452926636, 0.018308257684111595, 0.01681351102888584, 0.018217626959085464, 0.004423403646796942, 0.0011139748385176063, 0.0016295014647766948, 0.01441187784075737, 4.227945828461088e-05, 5.795086326543242e-05, 0.017549807205796242, 0.0001939143257914111, 0.006818566471338272, 0.0010343167232349515, 0.0003015178954228759, 0.016650883480906487, 0.0015941908350214362, 0.0008383608656004071, 0.007469678297638893, 0.015438245609402657, 0.0, 0.0, 0.0, 0.0, 0.0, 0.0, 0.0, 0.0, 0.0, 0.0, 0.0, 0.0, 0.0, 0.0, 0.0, 0.0, 0.0, 0.0, 0.0, 0.0, 0.0, 0.0, 0.0, 0.0, 0.0, 0.0, 0.0, 0.0, 0.0, 0.0, 0.0, 0.0, 0.0, 0.0, 0.0, 0.0, 0.0, 0.0, 0.0, 0.0], [1.1375460417184513e-05, 0.00041511745075695217, 0.000568755145650357, 0.0035322844050824642, 0.007091190665960312, 0.3337455987930298, 0.6505610942840576, 0.00023567836615256965, 0.001879679155535996, 0.0003101558249909431, 4.374427589937113e-06, 1.991133285628166e-05, 5.036507673139567e-07, 0.00010558016947470605, 0.00012616578896995634, 2.5633284167270176e-05, 1.3066256542515475e-05, 1.8399690588921658e-06, 0.0006803954020142555, 0.00012145968503318727, 2.4618691440991824e-06, 0.0003091237449552864, 0.00015848416660446674, 8.00675552454777e-05, 0.0, 0.0, 0.0, 0.0, 0.0, 0.0, 0.0, 0.0, 0.0, 0.0, 0.0, 0.0, 0.0, 0.0, 0.0, 0.0, 0.0, 0.0, 0.0, 0.0, 0.0, 0.0, 0.0, 0.0, 0.0, 0.0, 0.0, 0.0, 0.0, 0.0, 0.0, 0.0, 0.0, 0.0, 0.0, 0.0, 0.0, 0.0, 0.0, 0.0], [0.018411414697766304, 0.009433883242309093, 0.05215844511985779, 0.10274694859981537, 0.16778916120529175, 0.064536914229393, 0.3674977123737335, 0.06647444516420364, 0.05075361952185631, 0.011173740029335022, 0.004727387335151434, 0.02539163827896118, 0.00029280921444296837, 0.0005861262907274067, 0.022471776232123375, 0.00017059696256183088, 0.003632701002061367, 6.371628114720806e-05, 0.0002659221354406327, 0.021708447486162186, 6.624206434935331e-05, 0.0002829797740560025, 0.00285067455843091, 0.006512617692351341, 0.0, 0.0, 0.0, 0.0, 0.0, 0.0, 0.0, 0.0, 0.0, 0.0, 0.0, 0.0, 0.0, 0.0, 0.0, 0.0, 0.0, 0.0, 0.0, 0.0, 0.0, 0.0, 0.0, 0.0, 0.0, 0.0, 0.0, 0.0, 0.0, 0.0, 0.0, 0.0, 0.0, 0.0, 0.0, 0.0, 0.0, 0.0, 0.0, 0.0], [0.00041309642256237566, 0.0007006757659837604, 0.0009529507951810956, 0.002874897327274084, 0.05645901709794998, 0.09877621382474899, 0.33714166283607483, 0.2649967670440674, 0.18188218772411346, 0.031673166900873184, 0.004107819404453039, 0.0027935795951634645, 4.2363404645584524e-05, 0.00010980563092743978, 0.008837852627038956, 3.750023097381927e-05, 0.00021306930284481496, 1.5966968476277543e-06, 7.1392173595086206e-06, 0.007228609174489975, 9.691522109278594e-07, 3.893352186423726e-06, 0.00020030014275107533, 0.0005448450101539493, 0.0, 0.0, 0.0, 0.0, 0.0, 0.0, 0.0, 0.0, 0.0, 0.0, 0.0, 0.0, 0.0, 0.0, 0.0, 0.0, 0.0, 0.0, 0.0, 0.0, 0.0, 0.0, 0.0, 0.0, 0.0, 0.0, 0.0, 0.0, 0.0, 0.0, 0.0, 0.0, 0.0, 0.0, 0.0, 0.0, 0.0, 0.0, 0.0, 0.0], [1.7655756892054342e-05, 9.597715688869357e-05, 1.554395566927269e-05, 4.441654891707003e-05, 0.00021599784668069333, 0.013109144754707813, 0.09731985628604889, 0.028414826840162277, 0.5254533290863037, 0.3150372803211212, 0.012414932250976562, 9.81111588771455e-05, 7.93483413872309e-05, 0.0051882765255868435, 0.000979989068582654, 0.0008428011788055301, 2.0698678781627677e-05, 1.0477516525497776e-06, 7.0050878093752544e-06, 0.0006329420139081776, 1.839893855049013e-07, 5.082207508166903e-07, 3.7933864405204076e-06, 6.321385171759175e-06, 0.0, 0.0, 0.0, 0.0, 0.0, 0.0, 0.0, 0.0, 0.0, 0.0, 0.0, 0.0, 0.0, 0.0, 0.0, 0.0, 0.0, 0.0, 0.0, 0.0, 0.0, 0.0, 0.0, 0.0, 0.0, 0.0, 0.0, 0.0, 0.0, 0.0, 0.0, 0.0, 0.0, 0.0, 0.0, 0.0, 0.0, 0.0, 0.0, 0.0], [5.0702572480076924e-05, 3.677377026178874e-05, 1.0941487744275946e-05, 0.00011377862392691895, 0.00018153911514673382, 0.00024679454509168863, 0.0023850048892199993, 0.022310951724648476, 0.03514691814780235, 0.7928309440612793, 0.10443678498268127, 0.0011200339067727327, 0.004126125015318394, 0.025427570566534996, 0.004112068098038435, 0.003968349192291498, 0.0011817185441032052, 2.2191185053088702e-05, 3.793299038079567e-05, 0.0022197505459189415, 8.244709306381992e-07, 1.3760283081865055e-06, 2.1651465431204997e-05, 9.14458814804675e-06, 0.0, 0.0, 0.0, 0.0, 0.0, 0.0, 0.0, 0.0, 0.0, 0.0, 0.0, 0.0, 0.0, 0.0, 0.0, 0.0, 0.0, 0.0, 0.0, 0.0, 0.0, 0.0, 0.0, 0.0, 0.0, 0.0, 0.0, 0.0, 0.0, 0.0, 0.0, 0.0, 0.0, 0.0, 0.0, 0.0, 0.0, 0.0, 0.0, 0.0], [0.0007519166683778167, 0.0003015013935510069, 0.00023790038540028036, 0.0011451481841504574, 0.003048216225579381, 0.000998767325654626, 0.0040586041286587715, 0.10946094244718552, 0.011510838754475117, 0.29599446058273315, 0.4085506498813629, 0.007571263238787651, 0.02462209016084671, 0.016495781019330025, 0.02612355537712574, 0.014137843623757362, 0.050656337291002274, 0.004125557839870453, 0.0004815748252440244, 0.01654786430299282, 0.0004963371902704239, 7.303665188373998e-05, 0.0016874305438250303, 0.0009223722154274583, 0.0, 0.0, 0.0, 0.0, 0.0, 0.0, 0.0, 0.0, 0.0, 0.0, 0.0, 0.0, 0.0, 0.0, 0.0, 0.0, 0.0, 0.0, 0.0, 0.0, 0.0, 0.0, 0.0, 0.0, 0.0, 0.0, 0.0, 0.0, 0.0, 0.0, 0.0, 0.0, 0.0, 0.0, 0.0, 0.0, 0.0, 0.0, 0.0, 0.0], [0.005539131350815296, 0.002914902986958623, 0.0037787340115755796, 0.0027796428184956312, 0.0030503948219120502, 0.0007326657068915665, 0.0019701721612364054, 0.023298729211091995, 0.004868147894740105, 0.02078949473798275, 0.14784948527812958, 0.040886253118515015, 0.35845544934272766, 0.1106993556022644, 0.024003783240914345, 0.08595915138721466, 0.060519296675920486, 0.04486611858010292, 0.016607757657766342, 0.019974227994680405, 0.006043275818228722, 0.00487843994051218, 0.007169903255999088, 0.0023655304685235023, 0.0, 0.0, 0.0, 0.0, 0.0, 0.0, 0.0, 0.0, 0.0, 0.0, 0.0, 0.0, 0.0, 0.0, 0.0, 0.0, 0.0, 0.0, 0.0, 0.0, 0.0, 0.0, 0.0, 0.0, 0.0, 0.0, 0.0, 0.0, 0.0, 0.0, 0.0, 0.0, 0.0, 0.0, 0.0, 0.0, 0.0, 0.0, 0.0, 0.0], [0.0003732246404979378, 0.0003818743280135095, 4.8191814130404964e-05, 7.895120506873354e-05, 4.923209417029284e-05, 0.0001823517814045772, 0.0003672348102554679, 0.00021702703088521957, 0.018926085904240608, 0.027046946808695793, 0.013934229500591755, 0.0005781746585853398, 0.05276160314679146, 0.44467484951019287, 0.00514229154214263, 0.41058218479156494, 0.014801638200879097, 0.0005120194400660694, 0.006019342690706253, 0.0029183379374444485, 1.4686940630781464e-05, 0.000248466880293563, 0.00012119256280129775, 1.9909612092305906e-05, 0.0, 0.0, 0.0, 0.0, 0.0, 0.0, 0.0, 0.0, 0.0, 0.0, 0.0, 0.0, 0.0, 0.0, 0.0, 0.0, 0.0, 0.0, 0.0, 0.0, 0.0, 0.0, 0.0, 0.0, 0.0, 0.0, 0.0, 0.0, 0.0, 0.0, 0.0, 0.0, 0.0, 0.0, 0.0, 0.0, 0.0, 0.0, 0.0, 0.0], [0.00018279650248587132, 0.0005738279432989657, 3.379032568773255e-05, 0.00034479342866688967, 6.925235356902704e-05, 0.00019048285321332514, 0.002052797470241785, 0.0016280623385682702, 0.009641701355576515, 0.09496073424816132, 0.030517425388097763, 0.0011736517772078514, 0.003157910192385316, 0.5481265187263489, 0.005943454336374998, 0.2788516879081726, 0.011441781185567379, 0.0020951787009835243, 0.005399088840931654, 0.0031962392386049032, 8.421242091571912e-05, 0.00012490972585510463, 0.00017356856551487, 3.60996818926651e-05, 0.0, 0.0, 0.0, 0.0, 0.0, 0.0, 0.0, 0.0, 0.0, 0.0, 0.0, 0.0, 0.0, 0.0, 0.0, 0.0, 0.0, 0.0, 0.0, 0.0, 0.0, 0.0, 0.0, 0.0, 0.0, 0.0, 0.0, 0.0, 0.0, 0.0, 0.0, 0.0, 0.0, 0.0, 0.0, 0.0, 0.0, 0.0, 0.0, 0.0], [2.3451655579265207e-05, 0.00011864761472679675, 2.1410847693914548e-05, 0.0010850143153220415, 8.477947994833812e-05, 6.63942628307268e-05, 0.0014395663747563958, 0.0008964571752585471, 6.806241435697302e-05, 0.05334584414958954, 0.03425872325897217, 0.0011223303154110909, 0.0013964123791083694, 0.22965188324451447, 0.005080878268927336, 0.2092934399843216, 0.20710469782352448, 0.17127789556980133, 0.06504632532596588, 0.0027004394214600325, 0.011037751100957394, 0.0013378245057538152, 0.0030706601683050394, 0.00047120871022343636, 0.0, 0.0, 0.0, 0.0, 0.0, 0.0, 0.0, 0.0, 0.0, 0.0, 0.0, 0.0, 0.0, 0.0, 0.0, 0.0, 0.0, 0.0, 0.0, 0.0, 0.0, 0.0, 0.0, 0.0, 0.0, 0.0, 0.0, 0.0, 0.0, 0.0, 0.0, 0.0, 0.0, 0.0, 0.0, 0.0, 0.0, 0.0, 0.0, 0.0], [4.805054686585208e-06, 9.051414963323623e-05, 3.383142257007421e-06, 3.6560963962983806e-06, 7.1646395554125775e-06, 0.00013227078306954354, 0.0009596188901923597, 4.498552516452037e-05, 0.00013051849964540452, 0.001107710413634777, 0.0009178653708659112, 0.00023288148804567754, 0.00046840269351378083, 0.261890172958374, 0.00021764069970231503, 0.250198632478714, 0.002071959665045142, 0.006072233431041241, 0.45120275020599365, 0.0001797224977053702, 0.0005459542735479772, 0.022640421986579895, 0.000856812228448689, 1.9839737433358096e-05, 0.0, 0.0, 0.0, 0.0, 0.0, 0.0, 0.0, 0.0, 0.0, 0.0, 0.0, 0.0, 0.0, 0.0, 0.0, 0.0, 0.0, 0.0, 0.0, 0.0, 0.0, 0.0, 0.0, 0.0, 0.0, 0.0, 0.0, 0.0, 0.0, 0.0, 0.0, 0.0, 0.0, 0.0, 0.0, 0.0, 0.0, 0.0, 0.0, 0.0], [0.002008108189329505, 0.0015126642538234591, 0.0004612947814166546, 0.0017456531058996916, 0.000598565093241632, 5.429098746390082e-05, 5.4716223530704156e-05, 7.964239193825051e-05, 1.2174575203971472e-05, 0.0001722551096463576, 0.0005246298969723284, 0.001741061802022159, 5.940086703049019e-05, 0.00047984725097194314, 0.0037665546406060457, 0.007713664788752794, 0.4945359230041504, 0.12684373557567596, 0.01884440705180168, 0.003978187218308449, 0.18892019987106323, 0.012251714244484901, 0.0716782659292221, 0.061963073909282684, 0.0, 0.0, 0.0, 0.0, 0.0, 0.0, 0.0, 0.0, 0.0, 0.0, 0.0, 0.0, 0.0, 0.0, 0.0, 0.0, 0.0, 0.0, 0.0, 0.0, 0.0, 0.0, 0.0, 0.0, 0.0, 0.0, 0.0, 0.0, 0.0, 0.0, 0.0, 0.0, 0.0, 0.0, 0.0, 0.0, 0.0, 0.0, 0.0, 0.0], [0.004090782254934311, 0.004681940656155348, 0.0008797302725724876, 0.0003669385041575879, 0.0004704595194198191, 0.0013572084717452526, 0.001045319950208068, 0.0002237849257653579, 0.0009973798878490925, 0.0015107284998521209, 0.001785204978659749, 0.004179650917649269, 0.008114934898912907, 0.05885909125208855, 0.0025631915777921677, 0.1353558897972107, 0.026760075241327286, 0.030667314305901527, 0.3879731595516205, 0.0029867072589695454, 0.01901213638484478, 0.2794136106967926, 0.023347271606326103, 0.003357486566528678, 0.0, 0.0, 0.0, 0.0, 0.0, 0.0, 0.0, 0.0, 0.0, 0.0, 0.0, 0.0, 0.0, 0.0, 0.0, 0.0, 0.0, 0.0, 0.0, 0.0, 0.0, 0.0, 0.0, 0.0, 0.0, 0.0, 0.0, 0.0, 0.0, 0.0, 0.0, 0.0, 0.0, 0.0, 0.0, 0.0, 0.0, 0.0, 0.0, 0.0], [0.008247144520282745, 0.0070787412114441395, 0.0054800440557301044, 0.007339633535593748, 0.002891759853810072, 0.0003509099769871682, 0.00015474268002435565, 2.8876520445919596e-05, 3.0096383852651343e-05, 4.786370027431985e-06, 0.0001079678550013341, 0.004348872695118189, 0.000330629525706172, 0.0004665401647798717, 0.0036468305625021458, 0.0027183983474969864, 0.07468254864215851, 0.14752808213233948, 0.029220281168818474, 0.004887844435870647, 0.35003364086151123, 0.08919414132833481, 0.18112029135227203, 0.08010727912187576, 0.0, 0.0, 0.0, 0.0, 0.0, 0.0, 0.0, 0.0, 0.0, 0.0, 0.0, 0.0, 0.0, 0.0, 0.0, 0.0, 0.0, 0.0, 0.0, 0.0, 0.0, 0.0, 0.0, 0.0, 0.0, 0.0, 0.0, 0.0, 0.0, 0.0, 0.0, 0.0, 0.0, 0.0, 0.0, 0.0, 0.0, 0.0, 0.0, 0.0], [0.006941189989447594, 0.00759404432028532, 0.004720366559922695, 0.01806238479912281, 0.008169297128915787, 0.00327891344204545, 0.0021925673354417086, 0.00040678674122318625, 0.0004590656026266515, 0.00013343551836442202, 0.0005381950759328902, 0.006825305055826902, 0.00025201213429681957, 0.00044183534919284284, 0.010857740417122841, 0.0014892262406647205, 0.05871516093611717, 0.04797878861427307, 0.00781589187681675, 0.014160078018903732, 0.22458964586257935, 0.02182750217616558, 0.14670057594776154, 0.40585002303123474, 0.0, 0.0, 0.0, 0.0, 0.0, 0.0, 0.0, 0.0, 0.0, 0.0, 0.0, 0.0, 0.0, 0.0, 0.0, 0.0, 0.0, 0.0, 0.0, 0.0, 0.0, 0.0, 0.0, 0.0, 0.0, 0.0, 0.0, 0.0, 0.0, 0.0, 0.0, 0.0, 0.0, 0.0, 0.0, 0.0, 0.0, 0.0, 0.0, 0.0], [0.005350617226213217, 0.005738195031881332, 0.0071441964246332645, 0.05726886913180351, 0.0503656379878521, 0.008193306624889374, 0.0035337943118065596, 0.0015425633173435926, 7.653816282982007e-05, 0.00019244574650656432, 0.0004624372231774032, 0.0071528516709804535, 0.0002294873120263219, 7.860581536078826e-05, 0.006486984901130199, 0.0003548134118318558, 0.028869211673736572, 0.05060718581080437, 0.005918384063988924, 0.007472309283912182, 0.26585376262664795, 0.02318708226084709, 0.10618114471435547, 0.35773953795433044, 0.0, 0.0, 0.0, 0.0, 0.0, 0.0, 0.0, 0.0, 0.0, 0.0, 0.0, 0.0, 0.0, 0.0, 0.0, 0.0, 0.0, 0.0, 0.0, 0.0, 0.0, 0.0, 0.0, 0.0, 0.0, 0.0, 0.0, 0.0, 0.0, 0.0, 0.0, 0.0, 0.0, 0.0, 0.0, 0.0, 0.0, 0.0, 0.0, 0.0]], [[0.010822314769029617, 0.7070226073265076, 0.10765274614095688, 0.10785108059644699, 0.004834018647670746, 0.01357477717101574, 0.006817257031798363, 0.0005561963771469891, 0.013636543415486813, 0.0017644112231209874, 0.0003411415673326701, 0.0028867325745522976, 0.0016972374869510531, 0.0028335179667919874, 0.0007690676720812917, 0.0011463114060461521, 0.005411709193140268, 0.0005196745041757822, 0.0016753505915403366, 0.000728041457477957, 0.0003652409359347075, 0.00059932452859357, 0.003908613696694374, 0.002586156129837036, 0.0, 0.0, 0.0, 0.0, 0.0, 0.0, 0.0, 0.0, 0.0, 0.0, 0.0, 0.0, 0.0, 0.0, 0.0, 0.0, 0.0, 0.0, 0.0, 0.0, 0.0, 0.0, 0.0, 0.0, 0.0, 0.0, 0.0, 0.0, 0.0, 0.0, 0.0, 0.0, 0.0, 0.0, 0.0, 0.0, 0.0, 0.0, 0.0, 0.0], [0.02130870521068573, 0.022817175835371017, 0.09774328023195267, 0.12378186732530594, 0.06076924502849579, 0.045493461191654205, 0.07319920510053635, 0.006133354734629393, 0.01546864677220583, 0.014352054335176945, 0.008936411701142788, 0.048977840691804886, 0.007521767169237137, 0.056144554167985916, 0.029942365363240242, 0.0641402155160904, 0.041835688054561615, 0.01429175864905119, 0.08278366923332214, 0.03168325126171112, 0.011654606088995934, 0.08043095469474792, 0.01912424899637699, 0.02146557718515396, 0.0, 0.0, 0.0, 0.0, 0.0, 0.0, 0.0, 0.0, 0.0, 0.0, 0.0, 0.0, 0.0, 0.0, 0.0, 0.0, 0.0, 0.0, 0.0, 0.0, 0.0, 0.0, 0.0, 0.0, 0.0, 0.0, 0.0, 0.0, 0.0, 0.0, 0.0, 0.0, 0.0, 0.0, 0.0, 0.0, 0.0, 0.0, 0.0, 0.0], [0.01451733335852623, 0.04822401702404022, 0.05701587721705437, 0.6351880431175232, 0.040710173547267914, 0.07733248174190521, 0.049403928220272064, 0.0018723256653174758, 0.010398739948868752, 0.0050061470828950405, 0.00016354311082977802, 0.0014864952536299825, 0.0007451298297382891, 0.005342989694327116, 0.002634905045852065, 0.0030198819003999233, 0.009872694499790668, 0.000779764901380986, 0.00612532626837492, 0.0023482320830225945, 0.0012792333727702498, 0.004230925347656012, 0.008850721642374992, 0.013451124541461468, 0.0, 0.0, 0.0, 0.0, 0.0, 0.0, 0.0, 0.0, 0.0, 0.0, 0.0, 0.0, 0.0, 0.0, 0.0, 0.0, 0.0, 0.0, 0.0, 0.0, 0.0, 0.0, 0.0, 0.0, 0.0, 0.0, 0.0, 0.0, 0.0, 0.0, 0.0, 0.0, 0.0, 0.0, 0.0, 0.0, 0.0, 0.0, 0.0, 0.0], [0.010461444966495037, 0.028963854536414146, 0.029163140803575516, 0.028768625110387802, 0.027369622141122818, 0.31325796246528625, 0.4017336666584015, 0.004692068323493004, 0.051555097103118896, 0.008169461973011494, 0.0005080343689769506, 0.012259097769856453, 0.0005989531055092812, 0.010972993448376656, 0.004392821341753006, 0.006369751412421465, 0.0066636246629059315, 0.0003497066209092736, 0.013257605955004692, 0.005465041846036911, 0.0006305960705503821, 0.017929425463080406, 0.011055024340748787, 0.0054123601876199245, 0.0, 0.0, 0.0, 0.0, 0.0, 0.0, 0.0, 0.0, 0.0, 0.0, 0.0, 0.0, 0.0, 0.0, 0.0, 0.0, 0.0, 0.0, 0.0, 0.0, 0.0, 0.0, 0.0, 0.0, 0.0, 0.0, 0.0, 0.0, 0.0, 0.0, 0.0, 0.0, 0.0, 0.0, 0.0, 0.0, 0.0, 0.0, 0.0, 0.0], [0.008909455500543118, 0.047343816608190536, 0.015309572219848633, 0.02799288183450699, 0.021957119926810265, 0.3125723898410797, 0.49079808592796326, 0.0015735349152237177, 0.04747496917843819, 0.0026169379707425833, 0.00011178540444234386, 0.003062293864786625, 0.0004426852101460099, 0.006275705993175507, 0.001309876679442823, 0.0017662874888628721, 0.0006900621228851378, 6.240788206923753e-05, 0.003986776806414127, 0.001286157057620585, 0.00010224330617347732, 0.0023834765888750553, 0.0009588894317857921, 0.0010125573026016355, 0.0, 0.0, 0.0, 0.0, 0.0, 0.0, 0.0, 0.0, 0.0, 0.0, 0.0, 0.0, 0.0, 0.0, 0.0, 0.0, 0.0, 0.0, 0.0, 0.0, 0.0, 0.0, 0.0, 0.0, 0.0, 0.0, 0.0, 0.0, 0.0, 0.0, 0.0, 0.0, 0.0, 0.0, 0.0, 0.0, 0.0, 0.0, 0.0, 0.0], [0.010071390308439732, 0.0014991583302617073, 0.0027521320153027773, 0.010015739127993584, 0.01620892621576786, 0.07768275588750839, 0.501462996006012, 0.004149969667196274, 0.026351705193519592, 0.020218249410390854, 0.00455070286989212, 0.1532716155052185, 0.004059535916894674, 0.03494621440768242, 0.04182492196559906, 0.016027864068746567, 0.0019696764647960663, 0.0005979281850159168, 0.003985623363405466, 0.04729906842112541, 0.0005374109023250639, 0.0160229429602623, 0.001671314355917275, 0.0028221444226801395, 0.0, 0.0, 0.0, 0.0, 0.0, 0.0, 0.0, 0.0, 0.0, 0.0, 0.0, 0.0, 0.0, 0.0, 0.0, 0.0, 0.0, 0.0, 0.0, 0.0, 0.0, 0.0, 0.0, 0.0, 0.0, 0.0, 0.0, 0.0, 0.0, 0.0, 0.0, 0.0, 0.0, 0.0, 0.0, 0.0, 0.0, 0.0, 0.0, 0.0], [0.0024460270069539547, 0.007429656572639942, 0.007859273813664913, 0.01269305869936943, 0.005361325107514858, 0.13626393675804138, 0.2563113570213318, 0.0074134827591478825, 0.36826616525650024, 0.10650663822889328, 0.002731738379225135, 0.004110119771212339, 0.005142434500157833, 0.05269787460565567, 0.004990090150386095, 0.01218865904957056, 0.0018201665952801704, 5.075804438092746e-05, 0.0007424356881529093, 0.0038993703201413155, 1.7777880202629603e-05, 0.00012572534615173936, 0.0006498352740891278, 0.00028210345772095025, 0.0, 0.0, 0.0, 0.0, 0.0, 0.0, 0.0, 0.0, 0.0, 0.0, 0.0, 0.0, 0.0, 0.0, 0.0, 0.0, 0.0, 0.0, 0.0, 0.0, 0.0, 0.0, 0.0, 0.0, 0.0, 0.0, 0.0, 0.0, 0.0, 0.0, 0.0, 0.0, 0.0, 0.0, 0.0, 0.0, 0.0, 0.0, 0.0, 0.0], [0.0008370248833671212, 0.0025030926335603, 0.0006600741180591285, 0.0010027639800682664, 0.0013806349597871304, 0.05330813303589821, 0.18074442446231842, 0.004258750472217798, 0.3071029782295227, 0.20797856152057648, 0.0038509443402290344, 0.0012757208896800876, 0.0029998908285051584, 0.13455724716186523, 0.0018591472180560231, 0.0887303277850151, 0.0013971944572404027, 0.00011174836254213005, 0.0031262231059372425, 0.0014383334200829268, 3.499861486488953e-05, 0.0004744373436551541, 0.00030822126427665353, 5.919056275160983e-05, 0.0, 0.0, 0.0, 0.0, 0.0, 0.0, 0.0, 0.0, 0.0, 0.0, 0.0, 0.0, 0.0, 0.0, 0.0, 0.0, 0.0, 0.0, 0.0, 0.0, 0.0, 0.0, 0.0, 0.0, 0.0, 0.0, 0.0, 0.0, 0.0, 0.0, 0.0, 0.0, 0.0, 0.0, 0.0, 0.0, 0.0, 0.0, 0.0, 0.0], [0.0014877154026180506, 0.004116982687264681, 0.0005980778369121253, 0.001668862416408956, 0.00038344095810316503, 0.0036107066553086042, 0.014150270260870457, 0.0018453720258548856, 0.04242506995797157, 0.17667609453201294, 0.007557007484138012, 0.0020631630904972553, 0.01945197582244873, 0.5395426750183105, 0.001944366144016385, 0.15859879553318024, 0.007271467708051205, 0.00040197031921707094, 0.013450215570628643, 0.0012098044389858842, 5.568452615989372e-05, 0.0009389110491611063, 0.00047376283328048885, 7.76579836383462e-05, 0.0, 0.0, 0.0, 0.0, 0.0, 0.0, 0.0, 0.0, 0.0, 0.0, 0.0, 0.0, 0.0, 0.0, 0.0, 0.0, 0.0, 0.0, 0.0, 0.0, 0.0, 0.0, 0.0, 0.0, 0.0, 0.0, 0.0, 0.0, 0.0, 0.0, 0.0, 0.0, 0.0, 0.0, 0.0, 0.0, 0.0, 0.0, 0.0, 0.0], [0.00766744976863265, 0.0030637129675596952, 0.005581224337220192, 0.003972575068473816, 0.0034127638209611177, 0.007185955066233873, 0.01595206744968891, 0.021694863215088844, 0.03609410673379898, 0.1373339742422104, 0.14318838715553284, 0.047096140682697296, 0.044406089931726456, 0.2324022352695465, 0.02783920057117939, 0.12967447936534882, 0.04419872909784317, 0.007623293902724981, 0.029444823041558266, 0.026296550408005714, 0.0021958183497190475, 0.011479148641228676, 0.00912050437182188, 0.0030758902430534363, 0.0, 0.0, 0.0, 0.0, 0.0, 0.0, 0.0, 0.0, 0.0, 0.0, 0.0, 0.0, 0.0, 0.0, 0.0, 0.0, 0.0, 0.0, 0.0, 0.0, 0.0, 0.0, 0.0, 0.0, 0.0, 0.0, 0.0, 0.0, 0.0, 0.0, 0.0, 0.0, 0.0, 0.0, 0.0, 0.0, 0.0, 0.0, 0.0, 0.0], [0.004561479203402996, 0.0014974185032770038, 0.0057314918376505375, 0.002858945867046714, 0.0014342598151415586, 0.0015919625293463469, 0.0018735608318820596, 0.0005964766023680568, 0.0018128296360373497, 0.007539049256592989, 0.012065251357853413, 0.4402081370353699, 0.010732422582805157, 0.031763430684804916, 0.15881887078285217, 0.047507259994745255, 0.019067170098423958, 0.0033329941798001528, 0.008830757811665535, 0.2133507877588272, 0.0011167768388986588, 0.012198791839182377, 0.005435541272163391, 0.006074370350688696, 0.0, 0.0, 0.0, 0.0, 0.0, 0.0, 0.0, 0.0, 0.0, 0.0, 0.0, 0.0, 0.0, 0.0, 0.0, 0.0, 0.0, 0.0, 0.0, 0.0, 0.0, 0.0, 0.0, 0.0, 0.0, 0.0, 0.0, 0.0, 0.0, 0.0, 0.0, 0.0, 0.0, 0.0, 0.0, 0.0, 0.0, 0.0, 0.0, 0.0], [0.0015348218148574233, 0.004260492045432329, 0.0012255850015208125, 0.0032092141918838024, 0.00031565039535053074, 0.003557531163096428, 0.006137502379715443, 0.0002293355792062357, 0.02185698039829731, 0.02156751975417137, 0.0021734933834522963, 0.0030397213995456696, 0.03513609245419502, 0.44621631503105164, 0.007688361220061779, 0.37649792432785034, 0.022753242403268814, 0.002912341384217143, 0.026834942400455475, 0.00582006573677063, 0.0006096864235587418, 0.004095308482646942, 0.001911573694087565, 0.00041635744855739176, 0.0, 0.0, 0.0, 0.0, 0.0, 0.0, 0.0, 0.0, 0.0, 0.0, 0.0, 0.0, 0.0, 0.0, 0.0, 0.0, 0.0, 0.0, 0.0, 0.0, 0.0, 0.0, 0.0, 0.0, 0.0, 0.0, 0.0, 0.0, 0.0, 0.0, 0.0, 0.0, 0.0, 0.0, 0.0, 0.0, 0.0, 0.0, 0.0, 0.0], [0.00021854820079170167, 0.0006792921340093017, 0.00016302963194902986, 0.0009406640310771763, 7.141056266846135e-05, 0.0010338397696614265, 0.004723665304481983, 0.00011051975161535665, 0.005437921732664108, 0.01599797047674656, 0.0006475122063420713, 0.00042987297638319433, 0.003356471424922347, 0.4827081859111786, 0.0011515484657138586, 0.4417842626571655, 0.009768703952431679, 0.0014660981250926852, 0.024819061160087585, 0.0008216535788960755, 0.000305016350466758, 0.0027352378237992525, 0.0005412791506387293, 8.824050746625289e-05, 0.0, 0.0, 0.0, 0.0, 0.0, 0.0, 0.0, 0.0, 0.0, 0.0, 0.0, 0.0, 0.0, 0.0, 0.0, 0.0, 0.0, 0.0, 0.0, 0.0, 0.0, 0.0, 0.0, 0.0, 0.0, 0.0, 0.0, 0.0, 0.0, 0.0, 0.0, 0.0, 0.0, 0.0, 0.0, 0.0, 0.0, 0.0, 0.0, 0.0], [0.0017048498848453164, 0.002695414936169982, 0.0006636131438426673, 0.002648281864821911, 0.0004621575935743749, 0.0022265291772782803, 0.00885033793747425, 0.0007965173572301865, 0.0016148402355611324, 0.02030925452709198, 0.0038830209523439407, 0.006926664616912603, 0.008216294459998608, 0.376657634973526, 0.0037045192439109087, 0.263717919588089, 0.031421635299921036, 0.008710786700248718, 0.19183267652988434, 0.0030563990585505962, 0.0028044951613992453, 0.05181599408388138, 0.004166429862380028, 0.0011136764660477638, 0.0, 0.0, 0.0, 0.0, 0.0, 0.0, 0.0, 0.0, 0.0, 0.0, 0.0, 0.0, 0.0, 0.0, 0.0, 0.0, 0.0, 0.0, 0.0, 0.0, 0.0, 0.0, 0.0, 0.0, 0.0, 0.0, 0.0, 0.0, 0.0, 0.0, 0.0, 0.0, 0.0, 0.0, 0.0, 0.0, 0.0, 0.0, 0.0, 0.0], [0.001087679760530591, 0.0036703734658658504, 0.0006543126073665917, 0.00024252109869848937, 0.0002939949627034366, 0.0006683048559352756, 0.0028086123056709766, 0.000244134571403265, 0.002138798590749502, 0.003245263360440731, 0.0016756505938246846, 0.012915008701384068, 0.0017588321352377534, 0.16881152987480164, 0.0026696373242884874, 0.25395339727401733, 0.013825525529682636, 0.0050458661280572414, 0.36322686076164246, 0.0029670302756130695, 0.002165003912523389, 0.15312713384628296, 0.002402384765446186, 0.00040205236291512847, 0.0, 0.0, 0.0, 0.0, 0.0, 0.0, 0.0, 0.0, 0.0, 0.0, 0.0, 0.0, 0.0, 0.0, 0.0, 0.0, 0.0, 0.0, 0.0, 0.0, 0.0, 0.0, 0.0, 0.0, 0.0, 0.0, 0.0, 0.0, 0.0, 0.0, 0.0, 0.0, 0.0, 0.0, 0.0, 0.0, 0.0, 0.0, 0.0, 0.0], [0.004973752424120903, 0.007495585363358259, 0.004785718396306038, 0.003263436257839203, 0.004227137193083763, 0.021382644772529602, 0.026774918660521507, 0.001345994183793664, 0.002465065335854888, 0.0037417192943394184, 0.0011815415928140283, 0.027988526970148087, 0.0012431754730641842, 0.019417664036154747, 0.0052708410657942295, 0.0300250593572855, 0.018323007971048355, 0.007308297790586948, 0.22199638187885284, 0.007754272781312466, 0.013003579340875149, 0.5253908634185791, 0.03355718031525612, 0.007083617150783539, 0.0, 0.0, 0.0, 0.0, 0.0, 0.0, 0.0, 0.0, 0.0, 0.0, 0.0, 0.0, 0.0, 0.0, 0.0, 0.0, 0.0, 0.0, 0.0, 0.0, 0.0, 0.0, 0.0, 0.0, 0.0, 0.0, 0.0, 0.0, 0.0, 0.0, 0.0, 0.0, 0.0, 0.0, 0.0, 0.0, 0.0, 0.0, 0.0, 0.0], [0.012319955043494701, 0.009014290757477283, 0.0065857600420713425, 0.0030571767129004, 0.0036252024583518505, 0.001339599839411676, 0.0013077433686703444, 0.0020886522252112627, 0.0011217707069590688, 0.0015179156325757504, 0.0034578631166368723, 0.015711937099695206, 0.0013959023635834455, 0.010153994895517826, 0.007704796735197306, 0.02755032293498516, 0.08116843551397324, 0.03890352323651314, 0.1731804609298706, 0.01078301016241312, 0.05878656357526779, 0.44431549310684204, 0.05379573255777359, 0.031113876029849052, 0.0, 0.0, 0.0, 0.0, 0.0, 0.0, 0.0, 0.0, 0.0, 0.0, 0.0, 0.0, 0.0, 0.0, 0.0, 0.0, 0.0, 0.0, 0.0, 0.0, 0.0, 0.0, 0.0, 0.0, 0.0, 0.0, 0.0, 0.0, 0.0, 0.0, 0.0, 0.0, 0.0, 0.0, 0.0, 0.0, 0.0, 0.0, 0.0, 0.0], [0.007696428801864386, 0.023868413642048836, 0.016516825184226036, 0.05036688596010208, 0.0030862614512443542, 0.04405266046524048, 0.02834433503448963, 0.0005550332134589553, 0.0035749366506934166, 0.000552537792827934, 0.0001906509860418737, 0.007009920198470354, 0.0009492632816545665, 0.031864047050476074, 0.004844671580940485, 0.01775672286748886, 0.11460711061954498, 0.009937763214111328, 0.11938673257827759, 0.006661777384579182, 0.026204438880085945, 0.15412864089012146, 0.2562001943588257, 0.07164378464221954, 0.0, 0.0, 0.0, 0.0, 0.0, 0.0, 0.0, 0.0, 0.0, 0.0, 0.0, 0.0, 0.0, 0.0, 0.0, 0.0, 0.0, 0.0, 0.0, 0.0, 0.0, 0.0, 0.0, 0.0, 0.0, 0.0, 0.0, 0.0, 0.0, 0.0, 0.0, 0.0, 0.0, 0.0, 0.0, 0.0, 0.0, 0.0, 0.0, 0.0], [0.0924035981297493, 0.16067682206630707, 0.05972282588481903, 0.13826031982898712, 0.043061573058366776, 0.04781315475702286, 0.012711184099316597, 0.004977968987077475, 0.004348419606685638, 0.0014782424550503492, 0.0009769469033926725, 0.020465679466724396, 0.005045036785304546, 0.0022019795142114162, 0.021506834775209427, 0.0033773593604564667, 0.03536919504404068, 0.01609150879085064, 0.016103126108646393, 0.025761490687727928, 0.03718388080596924, 0.03554574027657509, 0.04210597649216652, 0.1728111356496811, 0.0, 0.0, 0.0, 0.0, 0.0, 0.0, 0.0, 0.0, 0.0, 0.0, 0.0, 0.0, 0.0, 0.0, 0.0, 0.0, 0.0, 0.0, 0.0, 0.0, 0.0, 0.0, 0.0, 0.0, 0.0, 0.0, 0.0, 0.0, 0.0, 0.0, 0.0, 0.0, 0.0, 0.0, 0.0, 0.0, 0.0, 0.0, 0.0, 0.0], [0.025941865518689156, 0.02861603908240795, 0.013796837069094181, 0.03154982998967171, 0.03485605865716934, 0.167445108294487, 0.4151034951210022, 0.029437363147735596, 0.027584189549088478, 0.011672696098685265, 0.004143433179706335, 0.01101304404437542, 0.014601129107177258, 0.0290821585804224, 0.017542216926813126, 0.013553732074797153, 0.00531475804746151, 0.011428466066718102, 0.01819513738155365, 0.014177058823406696, 0.019000515341758728, 0.019003381952643394, 0.013293294236063957, 0.02364819496870041, 0.0, 0.0, 0.0, 0.0, 0.0, 0.0, 0.0, 0.0, 0.0, 0.0, 0.0, 0.0, 0.0, 0.0, 0.0, 0.0, 0.0, 0.0, 0.0, 0.0, 0.0, 0.0, 0.0, 0.0, 0.0, 0.0, 0.0, 0.0, 0.0, 0.0, 0.0, 0.0, 0.0, 0.0, 0.0, 0.0, 0.0, 0.0, 0.0, 0.0]], [[6.186226528370753e-05, 0.0022083416115492582, 0.9740250706672668, 0.017314711585640907, 0.000881168816704303, 0.0003035886329598725, 0.00016781753220129758, 0.00010829959501279518, 9.553004201734439e-05, 0.0001940937218023464, 3.7875306588830426e-05, 0.0010043791262432933, 0.0001367927179671824, 0.0001362562907161191, 0.0001261856668861583, 3.0125636840239167e-05, 0.0004232628270983696, 4.832707054447383e-05, 0.00010498067422304302, 0.00021856307284906507, 4.673320290748961e-05, 8.71899610501714e-05, 0.0016190335154533386, 0.0006197473267093301, 0.0, 0.0, 0.0, 0.0, 0.0, 0.0, 0.0, 0.0, 0.0, 0.0, 0.0, 0.0, 0.0, 0.0, 0.0, 0.0, 0.0, 0.0, 0.0, 0.0, 0.0, 0.0, 0.0, 0.0, 0.0, 0.0, 0.0, 0.0, 0.0, 0.0, 0.0, 0.0, 0.0, 0.0, 0.0, 0.0, 0.0, 0.0, 0.0, 0.0], [0.002076305216178298, 0.015451009385287762, 0.9259763956069946, 0.045027390122413635, 0.00570982601493597, 0.0002824928960762918, 0.00030224453075788915, 0.00011112594074802473, 0.000141638214699924, 3.983774877269752e-05, 2.338641570531763e-05, 0.0010457286844030023, 5.164067988516763e-05, 0.00010194310016231611, 0.0007590235327370465, 3.126226511085406e-05, 5.6545202824054286e-05, 0.00012739231169689447, 0.0001750335213728249, 0.001047482481226325, 0.00011942350829485804, 0.00019637458899524063, 0.00017669153749011457, 0.0009698611684143543, 0.0, 0.0, 0.0, 0.0, 0.0, 0.0, 0.0, 0.0, 0.0, 0.0, 0.0, 0.0, 0.0, 0.0, 0.0, 0.0, 0.0, 0.0, 0.0, 0.0, 0.0, 0.0, 0.0, 0.0, 0.0, 0.0, 0.0, 0.0, 0.0, 0.0, 0.0, 0.0, 0.0, 0.0, 0.0, 0.0, 0.0, 0.0, 0.0, 0.0], [0.00037678840453736484, 0.003700620960444212, 0.06944480538368225, 0.8713441491127014, 0.03270711377263069, 0.009062031283974648, 0.00065207778243348, 2.967472573800478e-05, 5.121649519423954e-05, 7.945459219627082e-05, 1.804521843951079e-06, 0.0014959062682464719, 0.0002379446232225746, 0.00023897095525171608, 0.0025144563987851143, 2.0168165065115318e-05, 8.500593685312197e-05, 4.6533194108633325e-05, 4.8852525651454926e-05, 0.0027835785876959562, 7.290009671123698e-05, 9.615244198357686e-05, 0.00048343875096179545, 0.004426438827067614, 0.0, 0.0, 0.0, 0.0, 0.0, 0.0, 0.0, 0.0, 0.0, 0.0, 0.0, 0.0, 0.0, 0.0, 0.0, 0.0, 0.0, 0.0, 0.0, 0.0, 0.0, 0.0, 0.0, 0.0, 0.0, 0.0, 0.0, 0.0, 0.0, 0.0, 0.0, 0.0, 0.0, 0.0, 0.0, 0.0, 0.0, 0.0, 0.0, 0.0], [0.00785056222230196, 0.013909642584621906, 0.051987387239933014, 0.1281718611717224, 0.31873828172683716, 0.2902185618877411, 0.12121330201625824, 0.008925314992666245, 0.0017614886164665222, 0.000730530358850956, 7.868035027058795e-05, 0.005923314951360226, 0.0047734202817082405, 0.0021923426538705826, 0.002891356125473976, 0.00028450286481529474, 0.0007181230466812849, 0.0002946138265542686, 0.00040687000728212297, 0.0027773180045187473, 0.0004732320085167885, 0.0026448825374245644, 0.029554449021816254, 0.0034800125285983086, 0.0, 0.0, 0.0, 0.0, 0.0, 0.0, 0.0, 0.0, 0.0, 0.0, 0.0, 0.0, 0.0, 0.0, 0.0, 0.0, 0.0, 0.0, 0.0, 0.0, 0.0, 0.0, 0.0, 0.0, 0.0, 0.0, 0.0, 0.0, 0.0, 0.0, 0.0, 0.0, 0.0, 0.0, 0.0, 0.0, 0.0, 0.0, 0.0, 0.0], [5.849076478625648e-05, 0.0004902615328319371, 0.0038604075089097023, 0.004032140597701073, 0.026276933029294014, 0.9358537197113037, 0.02764509804546833, 0.0002619162842165679, 0.0002574904647190124, 4.034529411001131e-05, 5.561806801779312e-07, 0.00025185191771015525, 8.712309863767587e-06, 1.1732273378584068e-05, 0.0002473896602168679, 1.0715767757574213e-06, 2.672153414096101e-06, 3.4288771644241933e-07, 3.209527449143934e-06, 0.0004008668183814734, 7.167142257458181e-07, 2.108350054186303e-05, 6.030581425875425e-05, 0.0002126350736944005, 0.0, 0.0, 0.0, 0.0, 0.0, 0.0, 0.0, 0.0, 0.0, 0.0, 0.0, 0.0, 0.0, 0.0, 0.0, 0.0, 0.0, 0.0, 0.0, 0.0, 0.0, 0.0, 0.0, 0.0, 0.0, 0.0, 0.0, 0.0, 0.0, 0.0, 0.0, 0.0, 0.0, 0.0, 0.0, 0.0, 0.0, 0.0, 0.0, 0.0], [0.0010164388222619891, 0.000466861150925979, 0.000554790545720607, 0.012744871899485588, 0.02476429007947445, 0.02638256549835205, 0.925621509552002, 0.005529468413442373, 0.0006405526655726135, 0.00034926022635772824, 3.093254781560972e-05, 0.00038342972402460873, 0.00031384461908601224, 0.0003424386086408049, 0.00017480782116763294, 3.6690191791421967e-06, 2.551016768848058e-05, 1.4258257579058409e-06, 6.42318036625511e-06, 0.00012042219168506563, 3.5207674500270514e-06, 1.678079024713952e-05, 0.00024019487318582833, 0.00026597038959152997, 0.0, 0.0, 0.0, 0.0, 0.0, 0.0, 0.0, 0.0, 0.0, 0.0, 0.0, 0.0, 0.0, 0.0, 0.0, 0.0, 0.0, 0.0, 0.0, 0.0, 0.0, 0.0, 0.0, 0.0, 0.0, 0.0, 0.0, 0.0, 0.0, 0.0, 0.0, 0.0, 0.0, 0.0, 0.0, 0.0, 0.0, 0.0, 0.0, 0.0], [0.00024240552738774568, 0.0005115468520671129, 0.0024861700367182493, 0.0014337076572701335, 0.02295997552573681, 0.045424170792102814, 0.35577812790870667, 0.4508211612701416, 0.05634676292538643, 0.05882500112056732, 0.0031020240858197212, 0.0005685515352524817, 0.0008672357071191072, 0.0002470275794621557, 0.00013009918620809913, 7.0998053161019925e-06, 9.326609870186076e-06, 1.2230844959049136e-07, 8.731105367587588e-07, 9.19361918931827e-05, 8.551332086881303e-08, 3.772535137613886e-07, 0.0001320306764682755, 1.4184444808051921e-05, 0.0, 0.0, 0.0, 0.0, 0.0, 0.0, 0.0, 0.0, 0.0, 0.0, 0.0, 0.0, 0.0, 0.0, 0.0, 0.0, 0.0, 0.0, 0.0, 0.0, 0.0, 0.0, 0.0, 0.0, 0.0, 0.0, 0.0, 0.0, 0.0, 0.0, 0.0, 0.0, 0.0, 0.0, 0.0, 0.0, 0.0, 0.0, 0.0, 0.0], [0.00011025627463823184, 0.0006795572699047625, 0.0003161832573823631, 0.0006319399690255523, 0.0006199432536959648, 0.04692966863512993, 0.22230567038059235, 0.040172114968299866, 0.33087077736854553, 0.3369464576244354, 0.0068193841725587845, 0.0019970545545220375, 0.00012877890549134463, 0.007979233749210835, 0.0015505803748965263, 0.00043693333282135427, 5.925316145294346e-06, 7.360245604104421e-07, 3.395287194507546e-06, 0.0014781721401959658, 1.6207171427140565e-07, 1.7342389355690102e-06, 5.021571269026026e-06, 1.0317321539332625e-05, 0.0, 0.0, 0.0, 0.0, 0.0, 0.0, 0.0, 0.0, 0.0, 0.0, 0.0, 0.0, 0.0, 0.0, 0.0, 0.0, 0.0, 0.0, 0.0, 0.0, 0.0, 0.0, 0.0, 0.0, 0.0, 0.0, 0.0, 0.0, 0.0, 0.0, 0.0, 0.0, 0.0, 0.0, 0.0, 0.0, 0.0, 0.0, 0.0, 0.0], [6.844651352366782e-07, 5.4393167374655604e-06, 1.559615498081257e-06, 3.584008709367481e-06, 1.4635368188464781e-06, 2.6181227440247312e-05, 0.0003135266015306115, 0.001655935076996684, 0.0012497330317273736, 0.9575134515762329, 0.013519507832825184, 5.366728873923421e-05, 0.0025586902629584074, 0.02182026207447052, 2.817966196744237e-05, 0.001185905421152711, 3.4653148759389296e-05, 1.804010736350392e-07, 1.0532180567679461e-05, 1.562851684866473e-05, 3.954800487093735e-09, 9.687229862720415e-08, 1.0057435702037765e-06, 6.776592442747642e-08, 0.0, 0.0, 0.0, 0.0, 0.0, 0.0, 0.0, 0.0, 0.0, 0.0, 0.0, 0.0, 0.0, 0.0, 0.0, 0.0, 0.0, 0.0, 0.0, 0.0, 0.0, 0.0, 0.0, 0.0, 0.0, 0.0, 0.0, 0.0, 0.0, 0.0, 0.0, 0.0, 0.0, 0.0, 0.0, 0.0, 0.0, 0.0, 0.0, 0.0], [0.000575793907046318, 0.0003727368894033134, 0.00015016054385341704, 0.00021255527099128813, 0.00027892275829799473, 0.0007008182583376765, 0.009620511904358864, 0.0813068374991417, 0.00698099797591567, 0.37275436520576477, 0.23804597556591034, 0.0024958865251392126, 0.1392439603805542, 0.12518590688705444, 0.0013755367835983634, 0.014903207309544086, 0.0018797648372128606, 0.0002267935051349923, 0.0019833853002637625, 0.0007470864802598953, 2.416535426164046e-05, 0.0002217484579887241, 0.0006840594578534365, 2.8845264750998467e-05, 0.0, 0.0, 0.0, 0.0, 0.0, 0.0, 0.0, 0.0, 0.0, 0.0, 0.0, 0.0, 0.0, 0.0, 0.0, 0.0, 0.0, 0.0, 0.0, 0.0, 0.0, 0.0, 0.0, 0.0, 0.0, 0.0, 0.0, 0.0, 0.0, 0.0, 0.0, 0.0, 0.0, 0.0, 0.0, 0.0, 0.0, 0.0, 0.0, 0.0], [0.01408576499670744, 0.006192132830619812, 0.007185850292444229, 0.008010722696781158, 0.0055593522265553474, 0.004034330602735281, 0.017562227323651314, 0.10876423120498657, 0.013708190992474556, 0.06905314326286316, 0.24953463673591614, 0.025140710175037384, 0.17931745946407318, 0.1482197642326355, 0.01758488081395626, 0.041785821318626404, 0.019636811688542366, 0.029464302584528923, 0.00832512229681015, 0.012375233694911003, 0.005205861758440733, 0.0020122427958995104, 0.0033600160386413336, 0.003881093580275774, 0.0, 0.0, 0.0, 0.0, 0.0, 0.0, 0.0, 0.0, 0.0, 0.0, 0.0, 0.0, 0.0, 0.0, 0.0, 0.0, 0.0, 0.0, 0.0, 0.0, 0.0, 0.0, 0.0, 0.0, 0.0, 0.0, 0.0, 0.0, 0.0, 0.0, 0.0, 0.0, 0.0, 0.0, 0.0, 0.0, 0.0, 0.0, 0.0, 0.0], [7.471984281437472e-05, 0.00019645883003249764, 0.0001249580818694085, 4.295016697142273e-05, 3.268822911195457e-05, 1.9774632164626382e-05, 3.969388853874989e-05, 7.369279046542943e-05, 0.0020183951128274202, 0.0036174876149743795, 0.00919041782617569, 0.0002619230072014034, 0.9322744011878967, 0.02748045325279236, 0.0006759165553376079, 0.02133934199810028, 0.001902193296700716, 0.00011791280121542513, 0.00012684299144893885, 0.00035926647251471877, 2.5805879886320326e-06, 1.4370720236911438e-05, 1.093863193091238e-05, 2.7121504899696447e-06, 0.0, 0.0, 0.0, 0.0, 0.0, 0.0, 0.0, 0.0, 0.0, 0.0, 0.0, 0.0, 0.0, 0.0, 0.0, 0.0, 0.0, 0.0, 0.0, 0.0, 0.0, 0.0, 0.0, 0.0, 0.0, 0.0, 0.0, 0.0, 0.0, 0.0, 0.0, 0.0, 0.0, 0.0, 0.0, 0.0, 0.0, 0.0, 0.0, 0.0], [3.1066367228049785e-05, 0.0001957370259333402, 7.2851353252190165e-06, 6.827952165622264e-05, 3.898403065250022e-06, 1.2992348274565302e-05, 0.00014673052646685392, 2.653043884492945e-05, 0.003107762895524502, 0.020115826278924942, 0.0013863930944353342, 0.0001577144576003775, 0.006307342555373907, 0.5418375730514526, 0.00040426995838060975, 0.42469289898872375, 0.00045588475768454373, 0.0003561565827112645, 0.0004294698592275381, 0.0002068670728476718, 9.433296327188145e-06, 3.3551368687767535e-05, 5.490514467965113e-06, 8.500124977217638e-07, 0.0, 0.0, 0.0, 0.0, 0.0, 0.0, 0.0, 0.0, 0.0, 0.0, 0.0, 0.0, 0.0, 0.0, 0.0, 0.0, 0.0, 0.0, 0.0, 0.0, 0.0, 0.0, 0.0, 0.0, 0.0, 0.0, 0.0, 0.0, 0.0, 0.0, 0.0, 0.0, 0.0, 0.0, 0.0, 0.0, 0.0, 0.0, 0.0, 0.0], [2.2155729766382137e-06, 1.5392681234516203e-05, 2.5801857646001736e-06, 1.2513505680544768e-05, 3.7288586440809013e-07, 7.054706657072529e-06, 0.00012069928925484419, 2.8318305339780636e-05, 1.8352089909967617e-06, 0.01258569210767746, 0.000422932964283973, 0.00010308157652616501, 0.0010982755338773131, 0.7698323726654053, 6.122035847511142e-05, 0.12944422662258148, 0.0045669772662222385, 0.0009331385954283178, 0.07954937219619751, 4.1557861550245434e-05, 6.153104914119467e-05, 0.0006466658087447286, 0.00045838661026209593, 3.487959475023672e-06, 0.0, 0.0, 0.0, 0.0, 0.0, 0.0, 0.0, 0.0, 0.0, 0.0, 0.0, 0.0, 0.0, 0.0, 0.0, 0.0, 0.0, 0.0, 0.0, 0.0, 0.0, 0.0, 0.0, 0.0, 0.0, 0.0, 0.0, 0.0, 0.0, 0.0, 0.0, 0.0, 0.0, 0.0, 0.0, 0.0, 0.0, 0.0, 0.0, 0.0], [6.890595250297338e-05, 0.00042945807217620313, 7.711486978223547e-05, 3.127827585558407e-05, 9.911471352097578e-06, 9.400810085935518e-05, 0.0003256524505559355, 0.0007155215134844184, 0.0004151764151174575, 0.006905189715325832, 0.003042467636987567, 0.0010967369889840484, 0.0032382819335907698, 0.25999143719673157, 0.0005589574575424194, 0.4920557737350464, 0.002287750132381916, 0.017067840322852135, 0.1660933792591095, 0.0005097326938994229, 0.001643109368160367, 0.042764101177453995, 0.0005411513266153634, 3.7035566492704675e-05, 0.0, 0.0, 0.0, 0.0, 0.0, 0.0, 0.0, 0.0, 0.0, 0.0, 0.0, 0.0, 0.0, 0.0, 0.0, 0.0, 0.0, 0.0, 0.0, 0.0, 0.0, 0.0, 0.0, 0.0, 0.0, 0.0, 0.0, 0.0, 0.0, 0.0, 0.0, 0.0, 0.0, 0.0, 0.0, 0.0, 0.0, 0.0, 0.0, 0.0], [0.00042705974192358553, 0.0004093163297511637, 0.00010116999328602105, 0.0005188300856389105, 0.00011494606587802991, 8.461748075205833e-05, 0.0006859617424197495, 5.245568172540516e-05, 3.676243295558379e-06, 0.0002019148669205606, 5.389931902755052e-05, 0.00011897036893060431, 0.0015445677563548088, 0.03836045786738396, 9.657668852014467e-05, 0.02803739532828331, 0.06921149790287018, 0.04010200873017311, 0.470741868019104, 8.090837218333036e-05, 0.0781884491443634, 0.07997752726078033, 0.18999704718589783, 0.0008888882002793252, 0.0, 0.0, 0.0, 0.0, 0.0, 0.0, 0.0, 0.0, 0.0, 0.0, 0.0, 0.0, 0.0, 0.0, 0.0, 0.0, 0.0, 0.0, 0.0, 0.0, 0.0, 0.0, 0.0, 0.0, 0.0, 0.0, 0.0, 0.0, 0.0, 0.0, 0.0, 0.0, 0.0, 0.0, 0.0, 0.0, 0.0, 0.0, 0.0, 0.0], [0.0014761018101125956, 0.0016349463257938623, 0.0008922848501242697, 0.000406157283578068, 0.0003503701009321958, 0.0006960927858017385, 0.0002939327387139201, 0.000637292570900172, 0.0005575591931119561, 0.0007182480185292661, 0.0022665010765194893, 0.002682007383555174, 0.0007611491600982845, 0.00469054514542222, 0.0035653274971991777, 0.03276212885975838, 0.008074244484305382, 0.06627829372882843, 0.18278063833713531, 0.004318074323236942, 0.035200513899326324, 0.6438469886779785, 0.0022266802843660116, 0.002884042914956808, 0.0, 0.0, 0.0, 0.0, 0.0, 0.0, 0.0, 0.0, 0.0, 0.0, 0.0, 0.0, 0.0, 0.0, 0.0, 0.0, 0.0, 0.0, 0.0, 0.0, 0.0, 0.0, 0.0, 0.0, 0.0, 0.0, 0.0, 0.0, 0.0, 0.0, 0.0, 0.0, 0.0, 0.0, 0.0, 0.0, 0.0, 0.0, 0.0, 0.0], [0.0006732676993124187, 0.0008562402217648923, 0.004069162532687187, 0.0005749429692514241, 0.00017806673713494092, 2.52913378062658e-05, 4.72515203000512e-05, 3.510035458020866e-05, 3.2333384751837e-06, 9.323232916358393e-06, 3.5293160181026906e-05, 0.00024043147277552634, 0.0030167996883392334, 0.0018668246921151876, 8.549758786102757e-05, 0.003236655378714204, 0.0787704586982727, 0.04581727832555771, 0.06391560286283493, 9.828069596551359e-05, 0.12892138957977295, 0.034543897956609726, 0.6305351853370667, 0.0024445343296974897, 0.0, 0.0, 0.0, 0.0, 0.0, 0.0, 0.0, 0.0, 0.0, 0.0, 0.0, 0.0, 0.0, 0.0, 0.0, 0.0, 0.0, 0.0, 0.0, 0.0, 0.0, 0.0, 0.0, 0.0, 0.0, 0.0, 0.0, 0.0, 0.0, 0.0, 0.0, 0.0, 0.0, 0.0, 0.0, 0.0, 0.0, 0.0, 0.0, 0.0], [0.00794080551713705, 0.007571779657155275, 0.026479575783014297, 0.01432911865413189, 0.00284763565286994, 0.002365822670981288, 0.001294823014177382, 0.00043759436812251806, 0.00012110602256143466, 8.017951040528715e-05, 0.00013284871238283813, 0.00403228122740984, 0.0014136297395452857, 0.0014978419058024883, 0.0015214491868391633, 0.0011334347072988749, 0.034841857850551605, 0.02288438007235527, 0.013323619961738586, 0.002533542923629284, 0.24530328810214996, 0.021617669612169266, 0.47932887077331543, 0.10696689039468765, 0.0, 0.0, 0.0, 0.0, 0.0, 0.0, 0.0, 0.0, 0.0, 0.0, 0.0, 0.0, 0.0, 0.0, 0.0, 0.0, 0.0, 0.0, 0.0, 0.0, 0.0, 0.0, 0.0, 0.0, 0.0, 0.0, 0.0, 0.0, 0.0, 0.0, 0.0, 0.0, 0.0, 0.0, 0.0, 0.0, 0.0, 0.0, 0.0, 0.0], [0.0019068655092269182, 0.002592300996184349, 0.004021571483463049, 0.007689334452152252, 0.006348636467009783, 0.010188426822423935, 0.006611186545342207, 0.00013397620932664722, 2.7773530746344477e-05, 8.924178109737113e-05, 2.6930016247206368e-05, 0.000903403852134943, 0.0014777826145291328, 0.0031121319625526667, 0.0010698270052671432, 0.0017612200463190675, 0.06001414731144905, 0.005200142972171307, 0.02623645029962063, 0.001217783777974546, 0.02672833763062954, 0.026956912130117416, 0.7945834398269653, 0.011102125979959965, 0.0, 0.0, 0.0, 0.0, 0.0, 0.0, 0.0, 0.0, 0.0, 0.0, 0.0, 0.0, 0.0, 0.0, 0.0, 0.0, 0.0, 0.0, 0.0, 0.0, 0.0, 0.0, 0.0, 0.0, 0.0, 0.0, 0.0, 0.0, 0.0, 0.0, 0.0, 0.0, 0.0, 0.0, 0.0, 0.0, 0.0, 0.0, 0.0, 0.0]], [[0.0013687582686543465, 0.9507677555084229, 0.003997334744781256, 0.013659397140145302, 0.0009674524189904332, 0.001783635001629591, 0.00022314900706987828, 0.00037452252581715584, 0.0011557722464203835, 0.003939231391996145, 0.00023499722010456026, 0.002942487131804228, 0.0022438534069806337, 0.0011781565845012665, 0.0009756652871146798, 0.0031278268434107304, 0.002652742899954319, 0.000636247277725488, 0.0035635349340736866, 0.0007771452656015754, 0.0002800127840600908, 0.00027869801851920784, 0.0004674592346418649, 0.0024041144642978907, 0.0, 0.0, 0.0, 0.0, 0.0, 0.0, 0.0, 0.0, 0.0, 0.0, 0.0, 0.0, 0.0, 0.0, 0.0, 0.0, 0.0, 0.0, 0.0, 0.0, 0.0, 0.0, 0.0, 0.0, 0.0, 0.0, 0.0, 0.0, 0.0, 0.0, 0.0, 0.0, 0.0, 0.0, 0.0, 0.0, 0.0, 0.0, 0.0, 0.0], [0.023120051249861717, 0.033523380756378174, 0.929711639881134, 0.007669035345315933, 0.0012645305832847953, 0.0001777863799361512, 0.00010280306014465168, 9.32290859054774e-05, 0.0007390637183561921, 1.7709166058921255e-05, 0.00012334379425738007, 0.0005525571177713573, 0.0002932505158241838, 7.209470641100779e-05, 0.00026849680580198765, 0.0003331135376356542, 0.0002051483024843037, 0.00024856984964571893, 0.0002231408579973504, 0.00045870564645156264, 0.00023878939100541174, 0.0002494192449375987, 0.0001226255262736231, 0.0001914885942824185, 0.0, 0.0, 0.0, 0.0, 0.0, 0.0, 0.0, 0.0, 0.0, 0.0, 0.0, 0.0, 0.0, 0.0, 0.0, 0.0, 0.0, 0.0, 0.0, 0.0, 0.0, 0.0, 0.0, 0.0, 0.0, 0.0, 0.0, 0.0, 0.0, 0.0, 0.0, 0.0, 0.0, 0.0, 0.0, 0.0, 0.0, 0.0, 0.0, 0.0], [7.595474744448438e-05, 0.002805142430588603, 0.0015474774409085512, 0.9880836606025696, 0.0053539094515144825, 0.00012544718629214913, 8.575912215746939e-05, 3.5726184250961524e-06, 3.0053566661081277e-05, 7.275484676938504e-05, 1.1187711379534448e-06, 3.53240902768448e-05, 5.131367652211338e-05, 3.956295404350385e-05, 0.0005342331132851541, 2.5374753022333607e-05, 0.00012139746831962839, 1.4666841707366984e-05, 0.00012300604430492967, 0.00033705311943776906, 1.6952193618635647e-05, 0.00020885017875116318, 3.252174337831093e-06, 0.00030411325860768557, 0.0, 0.0, 0.0, 0.0, 0.0, 0.0, 0.0, 0.0, 0.0, 0.0, 0.0, 0.0, 0.0, 0.0, 0.0, 0.0, 0.0, 0.0, 0.0, 0.0, 0.0, 0.0, 0.0, 0.0, 0.0, 0.0, 0.0, 0.0, 0.0, 0.0, 0.0, 0.0, 0.0, 0.0, 0.0, 0.0, 0.0, 0.0, 0.0, 0.0], [0.00047718663699924946, 0.009433124214410782, 0.0072560799308121204, 0.35303112864494324, 0.5947905778884888, 0.001978473039343953, 0.004219082184135914, 0.0008628147770650685, 0.000714060093741864, 0.0007232096395455301, 5.907232116442174e-05, 0.0010610985336825252, 0.0007576660718768835, 6.607469549635425e-05, 0.005170264281332493, 0.00031318189576268196, 0.004399290774017572, 0.00016648287419229746, 0.0005299656768329442, 0.003333015600219369, 0.0002309410338057205, 0.0033215286675840616, 7.468694821000099e-05, 0.007031113374978304, 0.0, 0.0, 0.0, 0.0, 0.0, 0.0, 0.0, 0.0, 0.0, 0.0, 0.0, 0.0, 0.0, 0.0, 0.0, 0.0, 0.0, 0.0, 0.0, 0.0, 0.0, 0.0, 0.0, 0.0, 0.0, 0.0, 0.0, 0.0, 0.0, 0.0, 0.0, 0.0, 0.0, 0.0, 0.0, 0.0, 0.0, 0.0, 0.0, 0.0], [0.0003282628604210913, 0.01073672529309988, 0.0006045092595741153, 0.006727883126586676, 0.0054491618648171425, 0.9153625965118408, 0.04203840717673302, 6.213814776856452e-05, 0.0033688696566969156, 0.00040178661583922803, 1.880538184195757e-05, 0.0009391515632160008, 0.0016591475578024983, 0.00063188566127792, 0.0025262199342250824, 0.0006114810821600258, 0.00012901493755634874, 1.4198580174706876e-05, 0.0021411958150565624, 0.0030513727106153965, 1.269064250664087e-05, 0.002504659816622734, 0.00014740628830622882, 0.0005325099918991327, 0.0, 0.0, 0.0, 0.0, 0.0, 0.0, 0.0, 0.0, 0.0, 0.0, 0.0, 0.0, 0.0, 0.0, 0.0, 0.0, 0.0, 0.0, 0.0, 0.0, 0.0, 0.0, 0.0, 0.0, 0.0, 0.0, 0.0, 0.0, 0.0, 0.0, 0.0, 0.0, 0.0, 0.0, 0.0, 0.0, 0.0, 0.0, 0.0, 0.0], [0.0004052488075103611, 0.000435048044892028, 0.002454490400850773, 0.02051345817744732, 0.07561636716127396, 0.07088864594697952, 0.7635655999183655, 0.012591012753546238, 0.0020925726275891066, 0.006459712516516447, 0.0005193082033656538, 0.00453230831772089, 0.003818093566223979, 0.0039328159764409065, 0.013825271278619766, 0.0005915951333008707, 0.00029508862644433975, 7.199735409813002e-05, 0.00021504158212337643, 0.012833405286073685, 0.0001327467180090025, 0.0005844680708833039, 0.0004971104208379984, 0.0031285439617931843, 0.0, 0.0, 0.0, 0.0, 0.0, 0.0, 0.0, 0.0, 0.0, 0.0, 0.0, 0.0, 0.0, 0.0, 0.0, 0.0, 0.0, 0.0, 0.0, 0.0, 0.0, 0.0, 0.0, 0.0, 0.0, 0.0, 0.0, 0.0, 0.0, 0.0, 0.0, 0.0, 0.0, 0.0, 0.0, 0.0, 0.0, 0.0, 0.0, 0.0], [0.00020927275181747973, 0.018714558333158493, 0.0007160264649428427, 0.008988986723124981, 0.065719835460186, 0.029084954410791397, 0.08585367351770401, 0.10387661308050156, 0.0631314143538475, 0.5970262885093689, 0.002569089410826564, 0.002858133055269718, 0.003471358446404338, 0.00143957301042974, 0.006036587059497833, 0.002384792547672987, 0.0018324742559343576, 4.748774699692149e-06, 0.00013737083645537496, 0.0038399468176066875, 3.481099838609225e-06, 5.430788223748095e-05, 1.2876674190920312e-05, 0.0020336462184786797, 0.0, 0.0, 0.0, 0.0, 0.0, 0.0, 0.0, 0.0, 0.0, 0.0, 0.0, 0.0, 0.0, 0.0, 0.0, 0.0, 0.0, 0.0, 0.0, 0.0, 0.0, 0.0, 0.0, 0.0, 0.0, 0.0, 0.0, 0.0, 0.0, 0.0, 0.0, 0.0, 0.0, 0.0, 0.0, 0.0, 0.0, 0.0, 0.0, 0.0], [0.00011086904851254076, 0.0014309348771348596, 7.899860793258995e-05, 0.0002484871365595609, 0.0007032878347672522, 0.01949048601090908, 0.061459727585315704, 0.04152517765760422, 0.3306947648525238, 0.5288220643997192, 0.00517637562006712, 0.0003306422440800816, 9.20234015211463e-05, 0.007725847885012627, 0.0003767980670090765, 0.0013582614483311772, 1.3710577150050085e-05, 2.1522000679397024e-06, 1.7787038814276457e-05, 0.00033216067822650075, 6.392518798747915e-07, 2.6624702513800003e-06, 1.0703637371989316e-06, 5.093219897389645e-06, 0.0, 0.0, 0.0, 0.0, 0.0, 0.0, 0.0, 0.0, 0.0, 0.0, 0.0, 0.0, 0.0, 0.0, 0.0, 0.0, 0.0, 0.0, 0.0, 0.0, 0.0, 0.0, 0.0, 0.0, 0.0, 0.0, 0.0, 0.0, 0.0, 0.0, 0.0, 0.0, 0.0, 0.0, 0.0, 0.0, 0.0, 0.0, 0.0, 0.0], [3.434289510551025e-06, 0.0004903589142486453, 2.722112412811839e-06, 0.00011519556574057788, 5.004637932870537e-05, 1.8890321371145546e-05, 0.00011945212463615462, 0.0013625440187752247, 0.003630975726991892, 0.9732260704040527, 0.004309212323278189, 9.400177077623084e-05, 0.0016953309532254934, 0.009796980768442154, 0.00017117483366746455, 0.004000653047114611, 0.000633928575553, 1.8470326494934852e-06, 0.00019521934154909104, 6.904470501467586e-05, 1.31958344695704e-07, 4.20414926338708e-06, 2.5735806730153854e-07, 8.310176781378686e-06, 0.0, 0.0, 0.0, 0.0, 0.0, 0.0, 0.0, 0.0, 0.0, 0.0, 0.0, 0.0, 0.0, 0.0, 0.0, 0.0, 0.0, 0.0, 0.0, 0.0, 0.0, 0.0, 0.0, 0.0, 0.0, 0.0, 0.0, 0.0, 0.0, 0.0, 0.0, 0.0, 0.0, 0.0, 0.0, 0.0, 0.0, 0.0, 0.0, 0.0], [3.6501831345958635e-05, 0.0006147609674371779, 6.35926699033007e-05, 0.0067041111178696156, 0.002397828968241811, 0.000712748384103179, 0.00707353837788105, 0.004478516988456249, 0.008281899616122246, 0.7096373438835144, 0.035827118903398514, 0.00237585068680346, 0.030154656618833542, 0.03580360859632492, 0.06291938573122025, 0.0433834083378315, 0.021914269775152206, 0.00011786441609729081, 0.0019618833903223276, 0.023655308410525322, 2.279262844240293e-05, 0.0009435274987481534, 1.0675703379092738e-05, 0.0009089405066333711, 0.0, 0.0, 0.0, 0.0, 0.0, 0.0, 0.0, 0.0, 0.0, 0.0, 0.0, 0.0, 0.0, 0.0, 0.0, 0.0, 0.0, 0.0, 0.0, 0.0, 0.0, 0.0, 0.0, 0.0, 0.0, 0.0, 0.0, 0.0, 0.0, 0.0, 0.0, 0.0, 0.0, 0.0, 0.0, 0.0, 0.0, 0.0, 0.0, 0.0], [0.023284995928406715, 0.05666956678032875, 0.03681035339832306, 0.012906688265502453, 0.005113514605909586, 0.007640845142304897, 0.01996859535574913, 0.032537829130887985, 0.007797815836966038, 0.07122331857681274, 0.07179004698991776, 0.07373231649398804, 0.11655423790216446, 0.17474351823329926, 0.02060176059603691, 0.07486842572689056, 0.07178047299385071, 0.029279738664627075, 0.03600478917360306, 0.020191140472888947, 0.006966887041926384, 0.004123052582144737, 0.01293608732521534, 0.01247401162981987, 0.0, 0.0, 0.0, 0.0, 0.0, 0.0, 0.0, 0.0, 0.0, 0.0, 0.0, 0.0, 0.0, 0.0, 0.0, 0.0, 0.0, 0.0, 0.0, 0.0, 0.0, 0.0, 0.0, 0.0, 0.0, 0.0, 0.0, 0.0, 0.0, 0.0, 0.0, 0.0, 0.0, 0.0, 0.0, 0.0, 0.0, 0.0, 0.0, 0.0], [2.6353107386967167e-05, 0.0001796653523342684, 2.0251154637662694e-05, 6.40244034002535e-05, 3.9245307561941445e-05, 5.957448956905864e-05, 0.00014448912406805903, 1.660876296227798e-05, 0.0025659019593149424, 0.0018804462160915136, 0.005626246798783541, 0.0004656708624679595, 0.8751015663146973, 0.030733151361346245, 0.0043300301767885685, 0.06158879026770592, 0.011332196183502674, 0.00016334834799636155, 0.002669090870767832, 0.0023124809376895428, 1.086554675566731e-05, 0.0005887776496820152, 3.766421650652774e-05, 4.363379048299976e-05, 0.0, 0.0, 0.0, 0.0, 0.0, 0.0, 0.0, 0.0, 0.0, 0.0, 0.0, 0.0, 0.0, 0.0, 0.0, 0.0, 0.0, 0.0, 0.0, 0.0, 0.0, 0.0, 0.0, 0.0, 0.0, 0.0, 0.0, 0.0, 0.0, 0.0, 0.0, 0.0, 0.0, 0.0, 0.0, 0.0, 0.0, 0.0, 0.0, 0.0], [1.2920658264192753e-05, 0.00033320338116027415, 6.934435077710077e-06, 0.00024043506709858775, 2.009448508033529e-05, 3.0297671401058324e-05, 0.00020809021953027695, 4.662973515223712e-05, 0.030013583600521088, 0.03418726846575737, 0.0016145233530551195, 0.00011031948815798387, 0.0039708917029201984, 0.4560455083847046, 0.000742907403036952, 0.46632319688796997, 0.0017848201096057892, 0.000566865608561784, 0.0030913411173969507, 0.0004007539537269622, 2.899193532357458e-05, 0.00021490742801688612, 3.507932660795632e-06, 2.03153331312933e-06, 0.0, 0.0, 0.0, 0.0, 0.0, 0.0, 0.0, 0.0, 0.0, 0.0, 0.0, 0.0, 0.0, 0.0, 0.0, 0.0, 0.0, 0.0, 0.0, 0.0, 0.0, 0.0, 0.0, 0.0, 0.0, 0.0, 0.0, 0.0, 0.0, 0.0, 0.0, 0.0, 0.0, 0.0, 0.0, 0.0, 0.0, 0.0, 0.0, 0.0], [1.2468287877709372e-06, 0.00033207147498615086, 5.178500032343436e-06, 0.0006060452433302999, 1.0217780072707683e-05, 2.799689355015289e-05, 0.00035502322134561837, 3.671582817332819e-05, 1.699294625723269e-05, 0.10560835897922516, 0.0005541112623177469, 0.0012069016229361296, 0.0010915808379650116, 0.28045397996902466, 0.00836594495922327, 0.47909677028656006, 0.03268812596797943, 0.0015703338431194425, 0.07977969199419022, 0.00441242940723896, 0.00023554108338430524, 0.0030224956572055817, 3.197403566446155e-05, 0.0004903552471660078, 0.0, 0.0, 0.0, 0.0, 0.0, 0.0, 0.0, 0.0, 0.0, 0.0, 0.0, 0.0, 0.0, 0.0, 0.0, 0.0, 0.0, 0.0, 0.0, 0.0, 0.0, 0.0, 0.0, 0.0, 0.0, 0.0, 0.0, 0.0, 0.0, 0.0, 0.0, 0.0, 0.0, 0.0, 0.0, 0.0, 0.0, 0.0, 0.0, 0.0], [4.93966908834409e-05, 0.00011019784142263234, 4.003776848549023e-05, 1.4117797036306001e-05, 1.153982066171011e-05, 4.072641604579985e-05, 0.0002194110566051677, 2.270487675559707e-05, 0.0006157454336062074, 0.000790979596786201, 0.00045088090701028705, 0.0005518419784493744, 0.0003564704384189099, 0.09993766993284225, 0.0001654070510994643, 0.39401450753211975, 0.005475012585520744, 0.004763712640851736, 0.2850143611431122, 0.00019538110063876957, 0.0010598452063277364, 0.20591969788074493, 0.00015771575272083282, 2.2748592527932487e-05, 0.0, 0.0, 0.0, 0.0, 0.0, 0.0, 0.0, 0.0, 0.0, 0.0, 0.0, 0.0, 0.0, 0.0, 0.0, 0.0, 0.0, 0.0, 0.0, 0.0, 0.0, 0.0, 0.0, 0.0, 0.0, 0.0, 0.0, 0.0, 0.0, 0.0, 0.0, 0.0, 0.0, 0.0, 0.0, 0.0, 0.0, 0.0, 0.0, 0.0], [8.15939565654844e-05, 0.00046278044464997947, 0.0006536003784276545, 0.006529334932565689, 0.00314702233299613, 0.0005403232062235475, 0.005865051411092281, 0.0006248337449505925, 3.210152135579847e-05, 0.008048225194215775, 0.0003640329232439399, 0.005148524884134531, 0.0010488892439752817, 0.02876192517578602, 0.017578037455677986, 0.09389684349298477, 0.17611229419708252, 0.04400169849395752, 0.22474664449691772, 0.016953244805336, 0.1034412682056427, 0.16862434148788452, 0.01991022750735283, 0.0734272301197052, 0.0, 0.0, 0.0, 0.0, 0.0, 0.0, 0.0, 0.0, 0.0, 0.0, 0.0, 0.0, 0.0, 0.0, 0.0, 0.0, 0.0, 0.0, 0.0, 0.0, 0.0, 0.0, 0.0, 0.0, 0.0, 0.0, 0.0, 0.0, 0.0, 0.0, 0.0, 0.0, 0.0, 0.0, 0.0, 0.0, 0.0, 0.0, 0.0, 0.0], [0.001035430934280157, 9.278749348595738e-05, 0.000621762010268867, 0.0003421288274694234, 0.0002797499764710665, 0.0002302965149283409, 0.0003512851835694164, 2.9398555852822028e-05, 0.0011482838308438659, 7.436625310219824e-05, 0.0006326010334305465, 0.0006901220767758787, 0.0002952157228719443, 0.004250500351190567, 0.0013047963147982955, 0.017402449622750282, 0.010159865953028202, 0.010168798267841339, 0.06654150038957596, 0.001439570914953947, 0.008123292587697506, 0.8729898929595947, 0.0013536916812881827, 0.00044220598647370934, 0.0, 0.0, 0.0, 0.0, 0.0, 0.0, 0.0, 0.0, 0.0, 0.0, 0.0, 0.0, 0.0, 0.0, 0.0, 0.0, 0.0, 0.0, 0.0, 0.0, 0.0, 0.0, 0.0, 0.0, 0.0, 0.0, 0.0, 0.0, 0.0, 0.0, 0.0, 0.0, 0.0, 0.0, 0.0, 0.0, 0.0, 0.0, 0.0, 0.0], [0.00047554977936670184, 0.0009269530419260263, 0.0012297418434172869, 0.004532362800091505, 0.0009843053994700313, 0.00019252797937951982, 0.0002418536168988794, 2.877896804420743e-05, 1.9863329725922085e-05, 6.392953946487978e-05, 0.00014823082892689854, 0.0018228068947792053, 0.021797554567456245, 0.0037914703134447336, 0.002955887233838439, 0.0070991856046020985, 0.17326205968856812, 0.04891134425997734, 0.1403021216392517, 0.0032994176726788282, 0.12181655317544937, 0.1929488182067871, 0.17341819405555725, 0.09973050653934479, 0.0, 0.0, 0.0, 0.0, 0.0, 0.0, 0.0, 0.0, 0.0, 0.0, 0.0, 0.0, 0.0, 0.0, 0.0, 0.0, 0.0, 0.0, 0.0, 0.0, 0.0, 0.0, 0.0, 0.0, 0.0, 0.0, 0.0, 0.0, 0.0, 0.0, 0.0, 0.0, 0.0, 0.0, 0.0, 0.0, 0.0, 0.0, 0.0, 0.0], [0.017123140394687653, 0.1378554403781891, 0.017375903204083443, 0.06125853210687637, 0.00820041075348854, 0.009496323764324188, 0.001232546172104776, 0.0014162383740767837, 9.217840124620125e-05, 0.0006298794178292155, 0.00018640983034856617, 0.008087611757218838, 0.0034581164363771677, 0.0003056475252378732, 0.0015796945663169026, 0.0005752712022513151, 0.060086023062467575, 0.01387301366776228, 0.014178154990077019, 0.0023701409809291363, 0.0603509396314621, 0.009003455750644207, 0.07397924363613129, 0.4972856342792511, 0.0, 0.0, 0.0, 0.0, 0.0, 0.0, 0.0, 0.0, 0.0, 0.0, 0.0, 0.0, 0.0, 0.0, 0.0, 0.0, 0.0, 0.0, 0.0, 0.0, 0.0, 0.0, 0.0, 0.0, 0.0, 0.0, 0.0, 0.0, 0.0, 0.0, 0.0, 0.0, 0.0, 0.0, 0.0, 0.0, 0.0, 0.0, 0.0, 0.0], [4.62077914562542e-05, 0.0011164953466504812, 0.00025831692619249225, 0.015452620573341846, 0.0016153070610016584, 0.0024311011657118797, 0.0037579548079520464, 0.00011989264021394774, 5.431053978099953e-06, 0.0013947138795629144, 0.00012967342627234757, 0.00826810859143734, 0.0034805138129740953, 0.0028010851237922907, 0.10370662808418274, 0.00607763696461916, 0.18684323132038116, 0.007657149340957403, 0.022131839767098427, 0.08558512479066849, 0.016819195821881294, 0.01635563373565674, 0.025588715448975563, 0.48835745453834534, 0.0, 0.0, 0.0, 0.0, 0.0, 0.0, 0.0, 0.0, 0.0, 0.0, 0.0, 0.0, 0.0, 0.0, 0.0, 0.0, 0.0, 0.0, 0.0, 0.0, 0.0, 0.0, 0.0, 0.0, 0.0, 0.0, 0.0, 0.0, 0.0, 0.0, 0.0, 0.0, 0.0, 0.0, 0.0, 0.0, 0.0, 0.0, 0.0, 0.0]], [[0.006434296257793903, 0.37400132417678833, 0.3190777003765106, 0.07293438166379929, 0.01706520840525627, 0.05146101862192154, 0.0029934789054095745, 0.005795176140964031, 0.0018197789322584867, 0.009000931866466999, 0.0022110261488705873, 0.017918171361088753, 0.0044455030001699924, 0.004649477079510689, 0.011904442682862282, 0.0038858542684465647, 0.009977174922823906, 0.013064333237707615, 0.00939925853163004, 0.012942414730787277, 0.009017519652843475, 0.0034653586335480213, 0.01744060404598713, 0.019095487892627716, 0.0, 0.0, 0.0, 0.0, 0.0, 0.0, 0.0, 0.0, 0.0, 0.0, 0.0, 0.0, 0.0, 0.0, 0.0, 0.0, 0.0, 0.0, 0.0, 0.0, 0.0, 0.0, 0.0, 0.0, 0.0, 0.0, 0.0, 0.0, 0.0, 0.0, 0.0, 0.0, 0.0, 0.0, 0.0, 0.0, 0.0, 0.0, 0.0, 0.0], [0.0035760446917265654, 0.009184625931084156, 0.9614846110343933, 0.012263037264347076, 0.0022503985092043877, 0.0007317470153793693, 0.00028253858909010887, 8.314346632687375e-05, 0.00013275434321258217, 6.731233497703215e-06, 6.3734820287209e-05, 0.0015982770128175616, 6.713786569889635e-05, 8.430569869233295e-05, 0.002270286437124014, 9.184502414427698e-05, 4.8544679884798825e-05, 0.00028240904794074595, 0.00017412543820682913, 0.004048698116093874, 0.00022018277377355844, 0.0002986574254464358, 8.829255966702476e-05, 0.0006678487989120185, 0.0, 0.0, 0.0, 0.0, 0.0, 0.0, 0.0, 0.0, 0.0, 0.0, 0.0, 0.0, 0.0, 0.0, 0.0, 0.0, 0.0, 0.0, 0.0, 0.0, 0.0, 0.0, 0.0, 0.0, 0.0, 0.0, 0.0, 0.0, 0.0, 0.0, 0.0, 0.0, 0.0, 0.0, 0.0, 0.0, 0.0, 0.0, 0.0, 0.0], [0.00010387774091213942, 0.0006619553896598518, 0.004191767890006304, 0.9865459203720093, 0.004499401897192001, 0.001498986966907978, 2.8279866455704905e-05, 3.669193802124937e-06, 3.6592784454114735e-05, 0.0001750223309500143, 1.4603929230361246e-06, 2.205279997724574e-05, 1.2745871572406031e-05, 0.00026087084552273154, 0.00022790193906985223, 0.00017182283045258373, 0.0006751539185643196, 7.838142482796684e-05, 0.00018489199283067137, 0.0001671252102823928, 6.800946721341461e-05, 0.00027536245761439204, 1.8938679204438813e-05, 8.96937635843642e-05, 0.0, 0.0, 0.0, 0.0, 0.0, 0.0, 0.0, 0.0, 0.0, 0.0, 0.0, 0.0, 0.0, 0.0, 0.0, 0.0, 0.0, 0.0, 0.0, 0.0, 0.0, 0.0, 0.0, 0.0, 0.0, 0.0, 0.0, 0.0, 0.0, 0.0, 0.0, 0.0, 0.0, 0.0, 0.0, 0.0, 0.0, 0.0, 0.0, 0.0], [0.02905368059873581, 0.03626950457692146, 0.07017948478460312, 0.6015503406524658, 0.14268645644187927, 0.027159325778484344, 0.008254812099039555, 0.003921572118997574, 0.002241984475404024, 0.0031901728361845016, 0.0005572722875513136, 0.009679680690169334, 0.00022834788251202554, 0.0012011212529614568, 0.005349228158593178, 0.0019686331506818533, 0.013153716921806335, 0.003760103601962328, 0.005418487824499607, 0.004800848662853241, 0.004729432985186577, 0.019346488639712334, 0.0017404184909537435, 0.003558801021426916, 0.0, 0.0, 0.0, 0.0, 0.0, 0.0, 0.0, 0.0, 0.0, 0.0, 0.0, 0.0, 0.0, 0.0, 0.0, 0.0, 0.0, 0.0, 0.0, 0.0, 0.0, 0.0, 0.0, 0.0, 0.0, 0.0, 0.0, 0.0, 0.0, 0.0, 0.0, 0.0, 0.0, 0.0, 0.0, 0.0, 0.0, 0.0, 0.0, 0.0], [2.7053711164626293e-05, 0.00026720159803517163, 0.008045228198170662, 0.003625847864896059, 0.003470159135758877, 0.9702805280685425, 0.010420371778309345, 9.5129304099828e-05, 0.0009941766038537025, 3.5446882975520566e-05, 4.199907834845362e-06, 0.0003056119312532246, 4.1177259845426306e-05, 5.348426566342823e-05, 0.0005581595469266176, 3.098920205957256e-05, 7.40626928745769e-05, 2.7480280095915077e-06, 2.165785372199025e-05, 0.0012067548232153058, 4.806643119081855e-06, 0.00011288246605545282, 0.00019030043040402234, 0.0001320777228102088, 0.0, 0.0, 0.0, 0.0, 0.0, 0.0, 0.0, 0.0, 0.0, 0.0, 0.0, 0.0, 0.0, 0.0, 0.0, 0.0, 0.0, 0.0, 0.0, 0.0, 0.0, 0.0, 0.0, 0.0, 0.0, 0.0, 0.0, 0.0, 0.0, 0.0, 0.0, 0.0, 0.0, 0.0, 0.0, 0.0, 0.0, 0.0, 0.0, 0.0], [0.005659294780343771, 0.0005495866062119603, 0.0032913759350776672, 0.010650783777236938, 0.01945650763809681, 0.08972995728254318, 0.7515444755554199, 0.01923244632780552, 0.014265418983995914, 0.00810746569186449, 0.002938940655440092, 0.04294029623270035, 0.0036800913512706757, 0.003300492884591222, 0.010102695785462856, 0.000595180899836123, 0.00022838385484647006, 8.554314263164997e-05, 0.0004346424830146134, 0.010395470075309277, 0.00010328632924938574, 0.0011881303507834673, 0.000814185244962573, 0.0007053924491629004, 0.0, 0.0, 0.0, 0.0, 0.0, 0.0, 0.0, 0.0, 0.0, 0.0, 0.0, 0.0, 0.0, 0.0, 0.0, 0.0, 0.0, 0.0, 0.0, 0.0, 0.0, 0.0, 0.0, 0.0, 0.0, 0.0, 0.0, 0.0, 0.0, 0.0, 0.0, 0.0, 0.0, 0.0, 0.0, 0.0, 0.0, 0.0, 0.0, 0.0], [0.00015397007518913597, 0.0016612173058092594, 0.0007356469286605716, 0.003696307772770524, 0.007237488869577646, 0.019294442608952522, 0.04772564768791199, 0.7175470590591431, 0.068633534014225, 0.12089413404464722, 0.006566865369677544, 0.0032200729474425316, 0.00021822225244250149, 0.0002780746144708246, 0.0009785086149349809, 5.495132063515484e-05, 0.0001818704477045685, 2.538823082431918e-06, 2.0737983504659496e-05, 0.0007437040912918746, 1.6440924355265452e-06, 1.392974445479922e-05, 1.1099914445367176e-05, 0.00012836678070016205, 0.0, 0.0, 0.0, 0.0, 0.0, 0.0, 0.0, 0.0, 0.0, 0.0, 0.0, 0.0, 0.0, 0.0, 0.0, 0.0, 0.0, 0.0, 0.0, 0.0, 0.0, 0.0, 0.0, 0.0, 0.0, 0.0, 0.0, 0.0, 0.0, 0.0, 0.0, 0.0, 0.0, 0.0, 0.0, 0.0, 0.0, 0.0, 0.0, 0.0], [1.2700055549430544e-06, 0.00015499517030548304, 6.559579924214631e-05, 0.0006636614562012255, 0.00024730406585149467, 0.10195464640855789, 0.2370084673166275, 0.012001974508166313, 0.24231065809726715, 0.38326263427734375, 0.003577703610062599, 0.00029529386665672064, 0.00010110816219821572, 0.008865567855536938, 0.003906086552888155, 0.0011542472057044506, 4.592397090164013e-05, 1.984425352929975e-06, 9.139193025475834e-06, 0.0043138740584254265, 7.599027753713017e-07, 4.4646462811215315e-06, 3.060235940210987e-06, 4.955337499268353e-05, 0.0, 0.0, 0.0, 0.0, 0.0, 0.0, 0.0, 0.0, 0.0, 0.0, 0.0, 0.0, 0.0, 0.0, 0.0, 0.0, 0.0, 0.0, 0.0, 0.0, 0.0, 0.0, 0.0, 0.0, 0.0, 0.0, 0.0, 0.0, 0.0, 0.0, 0.0, 0.0, 0.0, 0.0, 0.0, 0.0, 0.0, 0.0, 0.0, 0.0], [2.0573388326283748e-07, 2.6174759113928303e-05, 1.7248340782316518e-06, 0.00019167375285178423, 1.1853713658638299e-05, 0.00011255245772190392, 0.00041983401752077043, 0.002627958543598652, 0.006032404024153948, 0.8585279583930969, 0.020784324035048485, 3.4026212233584374e-05, 0.004852220881730318, 0.08922043442726135, 0.00015272339805960655, 0.011285265907645226, 0.005016759503632784, 1.5770659956615418e-05, 0.0005749444826506078, 7.102338713593781e-05, 1.0112380550708622e-06, 2.435719761706423e-05, 2.405485247436445e-06, 1.2411677744239569e-05, 0.0, 0.0, 0.0, 0.0, 0.0, 0.0, 0.0, 0.0, 0.0, 0.0, 0.0, 0.0, 0.0, 0.0, 0.0, 0.0, 0.0, 0.0, 0.0, 0.0, 0.0, 0.0, 0.0, 0.0, 0.0, 0.0, 0.0, 0.0, 0.0, 0.0, 0.0, 0.0, 0.0, 0.0, 0.0, 0.0, 0.0, 0.0, 0.0, 0.0], [0.013068296015262604, 0.005537360906600952, 0.0006424259627237916, 0.0030395742505788803, 0.0030037981923669577, 0.000421182659920305, 0.0056238300167024136, 0.04357767477631569, 0.048705972731113434, 0.11257501691579819, 0.6653783917427063, 0.006116763222962618, 0.03032228909432888, 0.03818454220890999, 0.0025571943260729313, 0.00709333922713995, 0.003846055129542947, 0.0014222705503925681, 0.00376954791136086, 0.0010974478209391236, 0.0002440262760501355, 0.003432230558246374, 0.00012929324293509126, 0.00021143947378732264, 0.0, 0.0, 0.0, 0.0, 0.0, 0.0, 0.0, 0.0, 0.0, 0.0, 0.0, 0.0, 0.0, 0.0, 0.0, 0.0, 0.0, 0.0, 0.0, 0.0, 0.0, 0.0, 0.0, 0.0, 0.0, 0.0, 0.0, 0.0, 0.0, 0.0, 0.0, 0.0, 0.0, 0.0, 0.0, 0.0, 0.0, 0.0, 0.0, 0.0], [0.07360482215881348, 0.010220060124993324, 0.03907259926199913, 0.002553954953327775, 0.004322384018450975, 0.002310505136847496, 0.020533496513962746, 0.11147651821374893, 0.004289538599550724, 0.009981050156056881, 0.15861989557743073, 0.3153972029685974, 0.16237494349479675, 0.019916415214538574, 0.01810327172279358, 0.00236577563919127, 0.0015784658025950193, 0.008852691389620304, 0.0034344771411269903, 0.019068969413638115, 0.0018161360640078783, 0.001003850600682199, 0.006827083416283131, 0.002275911159813404, 0.0, 0.0, 0.0, 0.0, 0.0, 0.0, 0.0, 0.0, 0.0, 0.0, 0.0, 0.0, 0.0, 0.0, 0.0, 0.0, 0.0, 0.0, 0.0, 0.0, 0.0, 0.0, 0.0, 0.0, 0.0, 0.0, 0.0, 0.0, 0.0, 0.0, 0.0, 0.0, 0.0, 0.0, 0.0, 0.0, 0.0, 0.0, 0.0, 0.0], [0.00028022550395689905, 0.00022038571478333324, 0.0001634843210922554, 0.00013389013474807143, 6.788982136640698e-05, 0.00015284318942576647, 0.00011949401232413948, 9.617073374101892e-05, 0.010028204880654812, 0.002309221774339676, 0.014970498159527779, 0.0003991661360487342, 0.7461851835250854, 0.06502719968557358, 0.001064345589838922, 0.08478285372257233, 0.0694502666592598, 0.0005264997598715127, 0.0015519950538873672, 0.0008490910986438394, 5.35692015546374e-05, 0.0010551008163020015, 0.00040211057057604194, 0.00011028890003217384, 0.0, 0.0, 0.0, 0.0, 0.0, 0.0, 0.0, 0.0, 0.0, 0.0, 0.0, 0.0, 0.0, 0.0, 0.0, 0.0, 0.0, 0.0, 0.0, 0.0, 0.0, 0.0, 0.0, 0.0, 0.0, 0.0, 0.0, 0.0, 0.0, 0.0, 0.0, 0.0, 0.0, 0.0, 0.0, 0.0, 0.0, 0.0, 0.0, 0.0], [2.087062966893427e-06, 5.416514613898471e-05, 8.910947144613601e-06, 0.0006051341770216823, 1.6575457266299054e-05, 4.3150670535396785e-05, 0.00014518186799250543, 1.997590334212873e-05, 0.004471634514629841, 0.03287234902381897, 0.0018255721079185605, 4.909399285679683e-05, 0.0040801591239869595, 0.492540568113327, 0.0010510316351428628, 0.4525225758552551, 0.005728759802877903, 0.0014353595906868577, 0.001618448761291802, 0.0006684864638373256, 8.499183604726568e-05, 0.00014219386503100395, 8.792109838395845e-06, 4.850243840337498e-06, 0.0, 0.0, 0.0, 0.0, 0.0, 0.0, 0.0, 0.0, 0.0, 0.0, 0.0, 0.0, 0.0, 0.0, 0.0, 0.0, 0.0, 0.0, 0.0, 0.0, 0.0, 0.0, 0.0, 0.0, 0.0, 0.0, 0.0, 0.0, 0.0, 0.0, 0.0, 0.0, 0.0, 0.0, 0.0, 0.0, 0.0, 0.0, 0.0, 0.0], [4.6083373490546364e-06, 0.00010470378038007766, 1.1199579603271559e-05, 0.0006075941491872072, 1.1754544175346382e-05, 4.688277840614319e-05, 0.0013703991426154971, 5.773988232249394e-05, 1.3944816600997001e-05, 0.02652265690267086, 0.0030773626640439034, 0.0005104847950860858, 0.000813415739685297, 0.4325751066207886, 0.0004505158867686987, 0.28478360176086426, 0.03787253797054291, 0.02600269205868244, 0.16897642612457275, 0.00026909910957328975, 0.003103044582530856, 0.012308676727116108, 0.0003322320699226111, 0.0001732839155010879, 0.0, 0.0, 0.0, 0.0, 0.0, 0.0, 0.0, 0.0, 0.0, 0.0, 0.0, 0.0, 0.0, 0.0, 0.0, 0.0, 0.0, 0.0, 0.0, 0.0, 0.0, 0.0, 0.0, 0.0, 0.0, 0.0, 0.0, 0.0, 0.0, 0.0, 0.0, 0.0, 0.0, 0.0, 0.0, 0.0, 0.0, 0.0, 0.0, 0.0], [4.3021864257752895e-05, 0.00043908320367336273, 0.0001383374910801649, 8.719263860257342e-05, 4.476532558328472e-05, 0.0002215719869127497, 0.00641741044819355, 0.0002399244549451396, 0.000653676746878773, 0.0021787926089018583, 0.005814172327518463, 0.029680462554097176, 0.004828575532883406, 0.18653030693531036, 0.0033935641404241323, 0.21813635528087616, 0.015281641855835915, 0.011045806109905243, 0.2779076099395752, 0.004932284355163574, 0.001919445814564824, 0.2290964424610138, 0.0007535574259236455, 0.00021600286709144711, 0.0, 0.0, 0.0, 0.0, 0.0, 0.0, 0.0, 0.0, 0.0, 0.0, 0.0, 0.0, 0.0, 0.0, 0.0, 0.0, 0.0, 0.0, 0.0, 0.0, 0.0, 0.0, 0.0, 0.0, 0.0, 0.0, 0.0, 0.0, 0.0, 0.0, 0.0, 0.0, 0.0, 0.0, 0.0, 0.0, 0.0, 0.0, 0.0, 0.0], [4.143264231970534e-05, 0.0001442821230739355, 0.00016533794405404478, 0.0016088804695755243, 0.00016180930833797902, 0.0001112877725972794, 0.0011604279279708862, 9.688657883089036e-05, 3.0265680834418163e-05, 0.0009035387774929404, 0.0016330201178789139, 0.0015934346010908484, 0.000639395322650671, 0.025339961051940918, 0.001211718306876719, 0.10361640900373459, 0.06554026156663895, 0.10207845270633698, 0.29568079113960266, 0.0012334720231592655, 0.11547558754682541, 0.27504605054855347, 0.002651782240718603, 0.003835605690255761, 0.0, 0.0, 0.0, 0.0, 0.0, 0.0, 0.0, 0.0, 0.0, 0.0, 0.0, 0.0, 0.0, 0.0, 0.0, 0.0, 0.0, 0.0, 0.0, 0.0, 0.0, 0.0, 0.0, 0.0, 0.0, 0.0, 0.0, 0.0, 0.0, 0.0, 0.0, 0.0, 0.0, 0.0, 0.0, 0.0, 0.0, 0.0, 0.0, 0.0], [0.0026309946551918983, 0.0005751278367824852, 0.00024855852825567126, 0.00017489360470790416, 0.0002473527565598488, 0.0002300913620274514, 0.0004503501404542476, 1.1091048691014294e-05, 0.000349365989677608, 9.49468303588219e-05, 0.00037779597914777696, 0.0012107330840080976, 0.0009266295819543302, 0.0025238296948373318, 0.000724678102415055, 0.017307600006461143, 0.009829035960137844, 0.007450703531503677, 0.071474589407444, 0.0008810761501081288, 0.00847439095377922, 0.8691789507865906, 0.0037941120099276304, 0.0008331355056725442, 0.0, 0.0, 0.0, 0.0, 0.0, 0.0, 0.0, 0.0, 0.0, 0.0, 0.0, 0.0, 0.0, 0.0, 0.0, 0.0, 0.0, 0.0, 0.0, 0.0, 0.0, 0.0, 0.0, 0.0, 0.0, 0.0, 0.0, 0.0, 0.0, 0.0, 0.0, 0.0, 0.0, 0.0, 0.0, 0.0, 0.0, 0.0, 0.0, 0.0], [0.0010477356845512986, 0.000651080219540745, 0.0004340754239819944, 0.002247351687401533, 0.00020521653641480953, 0.00011412746971473098, 9.379440598422661e-05, 2.4692486476851627e-05, 3.936374469049042e-06, 6.2800886553304736e-06, 6.230287544894964e-05, 0.0003953244013246149, 0.0005968440673314035, 0.0021726666018366814, 0.00023207477352116257, 0.0033796688076108694, 0.2603120505809784, 0.06321995705366135, 0.039464518427848816, 0.0002887460868805647, 0.2924095690250397, 0.08904392272233963, 0.11171580851078033, 0.13187828660011292, 0.0, 0.0, 0.0, 0.0, 0.0, 0.0, 0.0, 0.0, 0.0, 0.0, 0.0, 0.0, 0.0, 0.0, 0.0, 0.0, 0.0, 0.0, 0.0, 0.0, 0.0, 0.0, 0.0, 0.0, 0.0, 0.0, 0.0, 0.0, 0.0, 0.0, 0.0, 0.0, 0.0, 0.0, 0.0, 0.0, 0.0, 0.0, 0.0, 0.0], [0.00021633217693306506, 0.0031262633856385946, 0.0035270124208182096, 0.013506973162293434, 0.0013022148050367832, 0.0017824298702180386, 0.0008109471527859569, 0.0013054055161774158, 6.414140807464719e-05, 0.00017041592218447477, 0.00035794160794466734, 0.002528739394620061, 0.00031155991018749774, 0.0010902147041633725, 0.0021702235098928213, 0.0010177489602938294, 0.04226556047797203, 0.013946685008704662, 0.012410751543939114, 0.003381941467523575, 0.07156500220298767, 0.014839908108115196, 0.010365393944084644, 0.7979361414909363, 0.0, 0.0, 0.0, 0.0, 0.0, 0.0, 0.0, 0.0, 0.0, 0.0, 0.0, 0.0, 0.0, 0.0, 0.0, 0.0, 0.0, 0.0, 0.0, 0.0, 0.0, 0.0, 0.0, 0.0, 0.0, 0.0, 0.0, 0.0, 0.0, 0.0, 0.0, 0.0, 0.0, 0.0, 0.0, 0.0, 0.0, 0.0, 0.0, 0.0], [0.11968652158975601, 0.012873481027781963, 0.02872936613857746, 0.027580291032791138, 0.018312452360987663, 0.006787303369492292, 0.002368582645431161, 0.002263604197651148, 2.557797051849775e-05, 9.552363189868629e-05, 0.00020744511857628822, 0.002809234894812107, 0.0003717137442436069, 0.00017886271234601736, 0.0008121115388348699, 0.0004475546593312174, 0.11774656176567078, 0.026796096935868263, 0.004977458156645298, 0.000908652669750154, 0.11145753413438797, 0.009494616650044918, 0.2659652829170227, 0.23910409212112427, 0.0, 0.0, 0.0, 0.0, 0.0, 0.0, 0.0, 0.0, 0.0, 0.0, 0.0, 0.0, 0.0, 0.0, 0.0, 0.0, 0.0, 0.0, 0.0, 0.0, 0.0, 0.0, 0.0, 0.0, 0.0, 0.0, 0.0, 0.0, 0.0, 0.0, 0.0, 0.0, 0.0, 0.0, 0.0, 0.0, 0.0, 0.0, 0.0, 0.0]], [[6.853182185295736e-06, 0.003228151937946677, 0.9675663709640503, 0.01855059340596199, 0.0005086588789708912, 0.00019155273912474513, 6.413095889001852e-06, 6.79232252878137e-05, 2.0412753656273708e-05, 0.00020190828945487738, 6.381438652169891e-06, 0.0008026812574826181, 3.530372850946151e-05, 2.111440153385047e-05, 0.002418090356513858, 3.7647205317625776e-05, 9.435117681277916e-05, 0.00024285324616357684, 3.4310152841499075e-05, 0.003854383947327733, 0.00018379453103989363, 2.387182757956907e-05, 0.0004010657430626452, 0.0014953004429116845, 0.0, 0.0, 0.0, 0.0, 0.0, 0.0, 0.0, 0.0, 0.0, 0.0, 0.0, 0.0, 0.0, 0.0, 0.0, 0.0, 0.0, 0.0, 0.0, 0.0, 0.0, 0.0, 0.0, 0.0, 0.0, 0.0, 0.0, 0.0, 0.0, 0.0, 0.0, 0.0, 0.0, 0.0, 0.0, 0.0, 0.0, 0.0, 0.0, 0.0], [0.00019647637964226305, 0.0017409117426723242, 0.9870244264602661, 0.003020991338416934, 0.0003236587217543274, 3.722403562278487e-05, 3.094045041507343e-06, 3.0342296213348163e-06, 6.096357537899166e-06, 4.065759924287704e-07, 6.091345312597696e-07, 0.0003892301465384662, 2.1736175312980777e-06, 1.3260549849292147e-06, 0.0022108631674200296, 2.484426204318879e-06, 5.853457423654618e-06, 1.4109677977103274e-05, 1.0800885320350062e-05, 0.00455522071570158, 1.4962815839680843e-05, 2.774821587081533e-05, 6.986653170315549e-05, 0.0003384382580406964, 0.0, 0.0, 0.0, 0.0, 0.0, 0.0, 0.0, 0.0, 0.0, 0.0, 0.0, 0.0, 0.0, 0.0, 0.0, 0.0, 0.0, 0.0, 0.0, 0.0, 0.0, 0.0, 0.0, 0.0, 0.0, 0.0, 0.0, 0.0, 0.0, 0.0, 0.0, 0.0, 0.0, 0.0, 0.0, 0.0, 0.0, 0.0, 0.0, 0.0], [1.3270159797684755e-05, 0.0006588517571799457, 0.0016026657540351152, 0.9271530508995056, 0.06851912289857864, 0.0008685024222359061, 2.828082870109938e-05, 5.014502676203847e-06, 3.51853009306069e-06, 9.041786142915953e-06, 1.5774266159951367e-07, 2.0767816749867052e-05, 1.7388842934451532e-06, 4.423861355462577e-06, 0.00025194650515913963, 5.325183337845374e-06, 6.125582149252295e-05, 0.00011122948490083218, 3.694496626849286e-05, 0.00018204835942015052, 0.000207237244467251, 0.00014801471843384206, 4.063078449689783e-05, 6.714701157761738e-05, 0.0, 0.0, 0.0, 0.0, 0.0, 0.0, 0.0, 0.0, 0.0, 0.0, 0.0, 0.0, 0.0, 0.0, 0.0, 0.0, 0.0, 0.0, 0.0, 0.0, 0.0, 0.0, 0.0, 0.0, 0.0, 0.0, 0.0, 0.0, 0.0, 0.0, 0.0, 0.0, 0.0, 0.0, 0.0, 0.0, 0.0, 0.0, 0.0, 0.0], [0.00014401527005247772, 0.0011109630577266216, 0.0012438601115718484, 0.1626690775156021, 0.8285828232765198, 0.002568436088040471, 0.0012267634738236666, 0.00012592227722052485, 4.9593571020523086e-05, 1.3490748642652761e-05, 6.477780061686644e-06, 0.0003292636829428375, 6.806426995353831e-07, 2.390578629274387e-06, 0.0005925011937506497, 6.467323601100361e-06, 0.00011813159653684124, 8.307705138577148e-05, 1.495183641964104e-05, 0.00045760406646877527, 0.00020477813086472452, 0.00033210733090527356, 3.856212060782127e-05, 7.804432971170172e-05, 0.0, 0.0, 0.0, 0.0, 0.0, 0.0, 0.0, 0.0, 0.0, 0.0, 0.0, 0.0, 0.0, 0.0, 0.0, 0.0, 0.0, 0.0, 0.0, 0.0, 0.0, 0.0, 0.0, 0.0, 0.0, 0.0, 0.0, 0.0, 0.0, 0.0, 0.0, 0.0, 0.0, 0.0, 0.0, 0.0, 0.0, 0.0, 0.0, 0.0], [5.61049091629684e-05, 0.00010565255797700956, 0.00030070755747146904, 0.000586729496717453, 0.004547938238829374, 0.9897710084915161, 0.0029748822562396526, 5.545650128624402e-05, 0.00021342748368624598, 8.339011401403695e-06, 7.891840709817188e-07, 0.0002163743629353121, 4.244062893121736e-06, 1.9732492546609137e-06, 0.00036884102155454457, 3.563891937119479e-07, 2.536664851504611e-07, 2.3595639220275189e-07, 4.012144472653745e-06, 0.0006271047750487924, 5.799621476398897e-07, 9.321310244558845e-06, 0.0001326413912465796, 1.3032389688305557e-05, 0.0, 0.0, 0.0, 0.0, 0.0, 0.0, 0.0, 0.0, 0.0, 0.0, 0.0, 0.0, 0.0, 0.0, 0.0, 0.0, 0.0, 0.0, 0.0, 0.0, 0.0, 0.0, 0.0, 0.0, 0.0, 0.0, 0.0, 0.0, 0.0, 0.0, 0.0, 0.0, 0.0, 0.0, 0.0, 0.0, 0.0, 0.0, 0.0, 0.0], [0.017557015642523766, 0.0008894766797311604, 0.00018680984794627875, 0.006239534355700016, 0.12793460488319397, 0.12029093503952026, 0.6571096181869507, 0.02522151730954647, 0.02968308888375759, 0.0040485914796590805, 0.0030214604921638966, 0.0020859173964709044, 0.000829480413813144, 0.00045043803402222693, 0.001118053449317813, 0.000177875641384162, 0.0006554175051860511, 2.2992742742644623e-05, 8.202042226912454e-05, 0.0008628103532828391, 7.168440788518637e-05, 0.0005435955245047808, 0.00036623934283852577, 0.0005508085014298558, 0.0, 0.0, 0.0, 0.0, 0.0, 0.0, 0.0, 0.0, 0.0, 0.0, 0.0, 0.0, 0.0, 0.0, 0.0, 0.0, 0.0, 0.0, 0.0, 0.0, 0.0, 0.0, 0.0, 0.0, 0.0, 0.0, 0.0, 0.0, 0.0, 0.0, 0.0, 0.0, 0.0, 0.0, 0.0, 0.0, 0.0, 0.0, 0.0, 0.0], [4.323625034885481e-05, 0.0003534141287673265, 0.0003244267136324197, 0.0023631576914340258, 0.13976986706256866, 0.043676380068063736, 0.033614084124565125, 0.6102338433265686, 0.08614515513181686, 0.07293276488780975, 0.007708019111305475, 0.0006331434124149382, 0.00023173584486357868, 3.7673151382477954e-05, 0.001084386371076107, 2.056721677945461e-05, 2.3692549802944995e-05, 9.174376600640244e-07, 4.54326567478347e-07, 0.0007432294660247862, 1.3194304528951761e-06, 1.3767262316832785e-06, 7.552420811407501e-06, 4.953077223035507e-05, 0.0, 0.0, 0.0, 0.0, 0.0, 0.0, 0.0, 0.0, 0.0, 0.0, 0.0, 0.0, 0.0, 0.0, 0.0, 0.0, 0.0, 0.0, 0.0, 0.0, 0.0, 0.0, 0.0, 0.0, 0.0, 0.0, 0.0, 0.0, 0.0, 0.0, 0.0, 0.0, 0.0, 0.0, 0.0, 0.0, 0.0, 0.0, 0.0, 0.0], [3.934300707442162e-07, 1.212110510095954e-05, 2.9047865609754808e-05, 2.354661592107732e-05, 9.224325185641646e-05, 0.008454229682683945, 0.006142476107925177, 0.006648635026067495, 0.39343053102493286, 0.578271746635437, 0.004249087534844875, 0.0003715475322678685, 7.119320798665285e-06, 0.000325121363857761, 0.0008891542092896998, 6.61794692859985e-05, 2.3086337819222535e-07, 3.584215235719057e-08, 8.086556846365056e-08, 0.0009854455711320043, 8.456953359825548e-09, 3.7322585910715134e-08, 2.813955291003367e-07, 6.207364435795171e-07, 0.0, 0.0, 0.0, 0.0, 0.0, 0.0, 0.0, 0.0, 0.0, 0.0, 0.0, 0.0, 0.0, 0.0, 0.0, 0.0, 0.0, 0.0, 0.0, 0.0, 0.0, 0.0, 0.0, 0.0, 0.0, 0.0, 0.0, 0.0, 0.0, 0.0, 0.0, 0.0, 0.0, 0.0, 0.0, 0.0, 0.0, 0.0, 0.0, 0.0], [1.134321792051196e-06, 5.528119345399318e-06, 1.1374752375559183e-06, 4.827218617720064e-06, 9.214081728714518e-06, 1.0697494872147217e-05, 8.97227437235415e-05, 0.005548891145735979, 0.006929637864232063, 0.8834437131881714, 0.09469202905893326, 2.7029105694964528e-05, 0.002128331921994686, 0.005710287019610405, 4.055185490869917e-05, 0.0012972572585567832, 3.6659206671174616e-05, 3.7315089684852865e-06, 3.1208921882353025e-06, 1.585976679052692e-05, 9.054280525333525e-08, 2.1994171106598515e-07, 2.1339349132176721e-07, 1.0886087409289757e-07, 0.0, 0.0, 0.0, 0.0, 0.0, 0.0, 0.0, 0.0, 0.0, 0.0, 0.0, 0.0, 0.0, 0.0, 0.0, 0.0, 0.0, 0.0, 0.0, 0.0, 0.0, 0.0, 0.0, 0.0, 0.0, 0.0, 0.0, 0.0, 0.0, 0.0, 0.0, 0.0, 0.0, 0.0, 0.0, 0.0, 0.0, 0.0, 0.0, 0.0], [0.00017221187590621412, 8.373190212296322e-05, 3.87679465347901e-05, 5.8755696954904124e-05, 0.00023888854775577784, 1.2224764759594109e-05, 0.00018914820975624025, 0.025407712906599045, 0.004334679804742336, 0.01414136029779911, 0.9490647912025452, 0.0001843104255385697, 0.003478206926956773, 0.0010870444821193814, 0.0001516310148872435, 0.0006430284702219069, 0.00041357410373166203, 0.00017354715964756906, 1.9826844436465763e-05, 6.038234641891904e-05, 1.4567153812095057e-05, 2.7969426810159348e-05, 8.500296644342598e-07, 2.8731953989336034e-06, 0.0, 0.0, 0.0, 0.0, 0.0, 0.0, 0.0, 0.0, 0.0, 0.0, 0.0, 0.0, 0.0, 0.0, 0.0, 0.0, 0.0, 0.0, 0.0, 0.0, 0.0, 0.0, 0.0, 0.0, 0.0, 0.0, 0.0, 0.0, 0.0, 0.0, 0.0, 0.0, 0.0, 0.0, 0.0, 0.0, 0.0, 0.0, 0.0, 0.0], [0.0015553509583696723, 0.0011487737065181136, 0.0004750381631311029, 0.0003679332439787686, 0.00043862778693437576, 0.0005867491126991808, 0.0017838369822129607, 0.015694687142968178, 0.016126595437526703, 0.05432042479515076, 0.19087067246437073, 0.00610044039785862, 0.3961499333381653, 0.226471945643425, 0.007660237606614828, 0.060159504413604736, 0.007151251658797264, 0.0033488853368908167, 0.00297747110016644, 0.005192618817090988, 0.0002960472775157541, 0.0003704330010805279, 0.0005732267163693905, 0.00017916302022058517, 0.0, 0.0, 0.0, 0.0, 0.0, 0.0, 0.0, 0.0, 0.0, 0.0, 0.0, 0.0, 0.0, 0.0, 0.0, 0.0, 0.0, 0.0, 0.0, 0.0, 0.0, 0.0, 0.0, 0.0, 0.0, 0.0, 0.0, 0.0, 0.0, 0.0, 0.0, 0.0, 0.0, 0.0, 0.0, 0.0, 0.0, 0.0, 0.0, 0.0], [0.0014077912783250213, 0.00018957989232148975, 1.6929509001784027e-05, 8.992575203592423e-06, 8.845392585499212e-06, 7.115279458957957e-06, 9.056148883246351e-06, 0.00014255443238653243, 0.007496392820030451, 0.004856682848185301, 0.014733959920704365, 0.00021843747526872903, 0.8699091672897339, 0.05505639687180519, 0.0021578341256827116, 0.03905567526817322, 0.0034170951694250107, 9.850425703916699e-05, 0.00018939233268611133, 0.000938187469728291, 3.067943225687486e-06, 1.5033768249850255e-05, 5.7646433560876176e-05, 5.727498319174629e-06, 0.0, 0.0, 0.0, 0.0, 0.0, 0.0, 0.0, 0.0, 0.0, 0.0, 0.0, 0.0, 0.0, 0.0, 0.0, 0.0, 0.0, 0.0, 0.0, 0.0, 0.0, 0.0, 0.0, 0.0, 0.0, 0.0, 0.0, 0.0, 0.0, 0.0, 0.0, 0.0, 0.0, 0.0, 0.0, 0.0, 0.0, 0.0, 0.0, 0.0], [6.452764864661731e-07, 2.0318122551543638e-05, 8.072890409493994e-07, 1.0361669410485774e-05, 1.4772006124985637e-06, 1.4591400940844323e-06, 8.689476999279577e-06, 1.311137657467043e-05, 0.0038394529838114977, 0.03595958650112152, 0.005686641205102205, 0.00012660834181588143, 0.002752439584583044, 0.3646073639392853, 0.0008526460733264685, 0.5840110778808594, 0.0002895187644753605, 0.0010416380828246474, 0.00038563297130167484, 0.00036166058271192014, 1.2807259736291599e-05, 1.5031793736852705e-05, 8.993540632218355e-07, 1.1091425022868862e-07, 0.0, 0.0, 0.0, 0.0, 0.0, 0.0, 0.0, 0.0, 0.0, 0.0, 0.0, 0.0, 0.0, 0.0, 0.0, 0.0, 0.0, 0.0, 0.0, 0.0, 0.0, 0.0, 0.0, 0.0, 0.0, 0.0, 0.0, 0.0, 0.0, 0.0, 0.0, 0.0, 0.0, 0.0, 0.0, 0.0, 0.0, 0.0, 0.0, 0.0], [1.510765741841169e-06, 1.9686845917021856e-05, 4.569488737615757e-06, 5.5729076848365366e-05, 3.6134606489213184e-06, 8.151616839313647e-07, 3.972455670009367e-05, 3.35960321535822e-05, 7.615753474965459e-06, 0.02580409310758114, 0.016460152342915535, 9.290875459555537e-05, 0.0017458382062613964, 0.1708730012178421, 7.163176633184776e-05, 0.5374389290809631, 0.018817275762557983, 0.19557319581508636, 0.025021206587553024, 3.289869346190244e-05, 0.006829417310655117, 0.0010566316777840257, 8.797283953754231e-06, 7.0814407990837935e-06, 0.0, 0.0, 0.0, 0.0, 0.0, 0.0, 0.0, 0.0, 0.0, 0.0, 0.0, 0.0, 0.0, 0.0, 0.0, 0.0, 0.0, 0.0, 0.0, 0.0, 0.0, 0.0, 0.0, 0.0, 0.0, 0.0, 0.0, 0.0, 0.0, 0.0, 0.0, 0.0, 0.0, 0.0, 0.0, 0.0, 0.0, 0.0, 0.0, 0.0], [4.3324041598680196e-07, 6.437524007196771e-06, 3.4787089475685207e-07, 3.994122153017088e-07, 2.9189507699811656e-07, 1.0988189842464635e-06, 1.950480327650439e-05, 2.0875618247373495e-06, 3.397975524421781e-05, 0.00012757784861605614, 0.002026377711445093, 0.00014449820446316153, 0.0022529647685587406, 0.1137312576174736, 1.7484508134657517e-05, 0.43336570262908936, 0.0014988462207838893, 0.011655578389763832, 0.3527851402759552, 1.493915533501422e-05, 0.0006980690523050725, 0.0816146731376648, 2.103569386235904e-06, 2.7416010084380105e-07, 0.0, 0.0, 0.0, 0.0, 0.0, 0.0, 0.0, 0.0, 0.0, 0.0, 0.0, 0.0, 0.0, 0.0, 0.0, 0.0, 0.0, 0.0, 0.0, 0.0, 0.0, 0.0, 0.0, 0.0, 0.0, 0.0, 0.0, 0.0, 0.0, 0.0, 0.0, 0.0, 0.0, 0.0, 0.0, 0.0, 0.0, 0.0, 0.0, 0.0], [0.0001113558464567177, 0.0002938516263384372, 0.00014107392053119838, 0.0013332043308764696, 0.0006835692911408842, 1.1081528100476135e-05, 0.00022400882153306156, 4.5009895984549075e-05, 9.938601579051465e-06, 8.157190313795581e-05, 0.0009662993252277374, 0.00017306239169556648, 0.00020354680600576103, 0.0018601774936541915, 0.00013103536912240088, 0.02691047079861164, 0.09398814290761948, 0.2574635446071625, 0.06000662222504616, 9.931528620654717e-05, 0.36927515268325806, 0.18500974774360657, 0.00021262236987240613, 0.0007656116504222155, 0.0, 0.0, 0.0, 0.0, 0.0, 0.0, 0.0, 0.0, 0.0, 0.0, 0.0, 0.0, 0.0, 0.0, 0.0, 0.0, 0.0, 0.0, 0.0, 0.0, 0.0, 0.0, 0.0, 0.0, 0.0, 0.0, 0.0, 0.0, 0.0, 0.0, 0.0, 0.0, 0.0, 0.0, 0.0, 0.0, 0.0, 0.0, 0.0, 0.0], [0.0006314515485428274, 0.00011021267710020766, 1.0756329174910206e-05, 1.9836305000353605e-05, 1.6338901332346722e-05, 7.343970082729356e-06, 8.732602873351425e-05, 1.903441670947359e-06, 6.840650894446298e-05, 8.364822861040011e-06, 0.00014871385064907372, 0.00012442843581084162, 0.0002150145883206278, 0.0014077709056437016, 2.5997705961344764e-05, 0.008868841454386711, 0.00916959997266531, 0.0027421158738434315, 0.18559066951274872, 2.2801070372224785e-05, 0.0017854718025773764, 0.7888242602348328, 7.787394133629277e-05, 3.451752127148211e-05, 0.0, 0.0, 0.0, 0.0, 0.0, 0.0, 0.0, 0.0, 0.0, 0.0, 0.0, 0.0, 0.0, 0.0, 0.0, 0.0, 0.0, 0.0, 0.0, 0.0, 0.0, 0.0, 0.0, 0.0, 0.0, 0.0, 0.0, 0.0, 0.0, 0.0, 0.0, 0.0, 0.0, 0.0, 0.0, 0.0, 0.0, 0.0, 0.0, 0.0], [0.0008973325602710247, 0.0014700072351843119, 0.003060914808884263, 0.001890705432742834, 0.0003126791852992028, 6.440618562919553e-06, 1.2559544302348513e-05, 1.371326743537793e-05, 2.1646385448548244e-06, 3.138805141134071e-06, 1.1988950063823722e-05, 0.0002026108995778486, 0.0018636450404301286, 0.0006035898695699871, 0.00024224465596489608, 0.003054980421438813, 0.17055943608283997, 0.0812210813164711, 0.048340924084186554, 0.0002709015680011362, 0.4612634479999542, 0.1440550833940506, 0.04782547801733017, 0.03281491622328758, 0.0, 0.0, 0.0, 0.0, 0.0, 0.0, 0.0, 0.0, 0.0, 0.0, 0.0, 0.0, 0.0, 0.0, 0.0, 0.0, 0.0, 0.0, 0.0, 0.0, 0.0, 0.0, 0.0, 0.0, 0.0, 0.0, 0.0, 0.0, 0.0, 0.0, 0.0, 0.0, 0.0, 0.0, 0.0, 0.0, 0.0, 0.0, 0.0, 0.0], [0.00011653297406155616, 0.008218546397984028, 0.08046915382146835, 0.06126175448298454, 0.009787242859601974, 0.0010884783696383238, 0.00024111621314659715, 0.0002574003883637488, 6.899144500494003e-05, 0.0005227347719483078, 9.164791845250875e-05, 0.000890030583832413, 0.0007870669360272586, 0.000495746498927474, 0.003606654703617096, 0.007158593274652958, 0.06529565155506134, 0.045473862439394, 0.01918730139732361, 0.005955778062343597, 0.3886391520500183, 0.07509411871433258, 0.009619911201298237, 0.2156725376844406, 0.0, 0.0, 0.0, 0.0, 0.0, 0.0, 0.0, 0.0, 0.0, 0.0, 0.0, 0.0, 0.0, 0.0, 0.0, 0.0, 0.0, 0.0, 0.0, 0.0, 0.0, 0.0, 0.0, 0.0, 0.0, 0.0, 0.0, 0.0, 0.0, 0.0, 0.0, 0.0, 0.0, 0.0, 0.0, 0.0, 0.0, 0.0, 0.0, 0.0], [0.0034422622993588448, 0.008044456131756306, 0.03420305252075195, 0.10018925368785858, 0.09548487514257431, 0.024318909272551537, 0.005474181845784187, 0.005079983733594418, 2.359966492804233e-05, 0.00013837209553457797, 0.0002025382564170286, 0.002165647689253092, 0.0008395838085561991, 0.0002159527357434854, 0.0019081678474321961, 0.0002347604458918795, 0.022328581660985947, 0.050837162882089615, 0.009664325043559074, 0.002349676564335823, 0.3538059890270233, 0.02840087190270424, 0.13029417395591736, 0.12035366892814636, 0.0, 0.0, 0.0, 0.0, 0.0, 0.0, 0.0, 0.0, 0.0, 0.0, 0.0, 0.0, 0.0, 0.0, 0.0, 0.0, 0.0, 0.0, 0.0, 0.0, 0.0, 0.0, 0.0, 0.0, 0.0, 0.0, 0.0, 0.0, 0.0, 0.0, 0.0, 0.0, 0.0, 0.0, 0.0, 0.0, 0.0, 0.0, 0.0, 0.0]]]], \"left_text\": [\"Que\", \"sera\\u0300\", \"seguida\", \"a\", \"16\", \"h\", \"deu\", \"espectacle\", \"Contes\", \"d\", \"'\", \"un\", \"uti\\u0301s\", \"de\", \"Gric\", \"de\", \"Prat\", \"pad\", \"pad\", \"pad\"], \"right_text\": [\"[BOS]\", \"Elle\", \"sera\", \"suivie\", \"\\u00e0\", \"16\", \"h\", \"du\", \"spectacle\", \"Contes\", \"d\", \"'\", \"un\", \"Dom\", \"##an\", \"Aca\", \"##bat\", \"de\", \"Gri\", \"##c\", \"de\", \"Prat\", \".\", \"[EOS]\", \"pad\", \"pad\", \"pad\", \"pad\", \"pad\", \"pad\", \"pad\", \"pad\", \"pad\", \"pad\", \"pad\", \"pad\", \"pad\", \"pad\", \"pad\", \"pad\", \"pad\", \"pad\", \"pad\", \"pad\", \"pad\", \"pad\", \"pad\", \"pad\", \"pad\", \"pad\", \"pad\", \"pad\", \"pad\", \"pad\", \"pad\", \"pad\", \"pad\", \"pad\", \"pad\", \"pad\", \"pad\", \"pad\", \"pad\", \"pad\"]}], \"default_filter\": \"0\", \"root_div_id\": \"bertviz-f28d8a7b03cb47c3874dbf8d917f5914\", \"layer\": null, \"heads\": null, \"include_layers\": [0]}; // HACK: {\"attention\": [{\"name\": \"Cross\", \"attn\": [[[[0.002863685367628932, 0.027075067162513733, 0.15336965024471283, 0.15152542293071747, 0.35026466846466064, 0.07665899395942688, 0.01152848731726408, 0.0005881913821212947, 0.03579116240143776, 0.003990357741713524, 0.0044002593494951725, 0.0016566170379519463, 0.011049535125494003, 0.00911686196923256, 0.0034917450975626707, 0.034975554794073105, 0.009375054389238358, 0.006880301982164383, 0.024431295692920685, 0.003044420387595892, 0.0037864656187593937, 0.06878668069839478, 0.003945640288293362, 0.001403902773745358, 0.0, 0.0, 0.0, 0.0, 0.0, 0.0, 0.0, 0.0, 0.0, 0.0, 0.0, 0.0, 0.0, 0.0, 0.0, 0.0, 0.0, 0.0, 0.0, 0.0, 0.0, 0.0, 0.0, 0.0, 0.0, 0.0, 0.0, 0.0, 0.0, 0.0, 0.0, 0.0, 0.0, 0.0, 0.0, 0.0, 0.0, 0.0, 0.0, 0.0], [0.01695355400443077, 0.053385596722364426, 0.6999046802520752, 0.05445631593465805, 0.0562165305018425, 0.007201506290584803, 0.00371166062541306, 0.0010365312919020653, 0.002416974864900112, 0.00031473487615585327, 0.001430320437066257, 0.027179118245840073, 0.002384314313530922, 0.0032129036262631416, 0.007230536546558142, 0.003837136784568429, 0.001503085601143539, 0.0025120461359620094, 0.02407602220773697, 0.009406630881130695, 0.0014330812264233828, 0.016363875940442085, 0.002251783385872841, 0.0015810424229130149, 0.0, 0.0, 0.0, 0.0, 0.0, 0.0, 0.0, 0.0, 0.0, 0.0, 0.0, 0.0, 0.0, 0.0, 0.0, 0.0, 0.0, 0.0, 0.0, 0.0, 0.0, 0.0, 0.0, 0.0, 0.0, 0.0, 0.0, 0.0, 0.0, 0.0, 0.0, 0.0, 0.0, 0.0, 0.0, 0.0, 0.0, 0.0, 0.0, 0.0], [0.0003641139774117619, 0.002619312610477209, 0.025218570604920387, 0.5557667016983032, 0.3165176212787628, 0.012284851633012295, 0.0017779470654204488, 0.00030019786208868027, 0.0010757852578535676, 0.0013952445005998015, 0.0003350404149387032, 0.0002846345887519419, 0.00024622268392704427, 0.000744668475817889, 0.0011513984063640237, 0.0009589699911884964, 0.004236998502165079, 0.003098849207162857, 0.00525288563221693, 0.0010429791873320937, 0.004630134906619787, 0.05198528617620468, 0.004694873001426458, 0.004016708116978407, 0.0, 0.0, 0.0, 0.0, 0.0, 0.0, 0.0, 0.0, 0.0, 0.0, 0.0, 0.0, 0.0, 0.0, 0.0, 0.0, 0.0, 0.0, 0.0, 0.0, 0.0, 0.0, 0.0, 0.0, 0.0, 0.0, 0.0, 0.0, 0.0, 0.0, 0.0, 0.0, 0.0, 0.0, 0.0, 0.0, 0.0, 0.0, 0.0, 0.0], [0.005891974084079266, 0.021415600553154945, 0.021626707166433334, 0.1122020035982132, 0.6741908192634583, 0.05047489330172539, 0.009348458610475063, 0.0033141046296805143, 0.011971762403845787, 0.0022169749718159437, 0.008328727446496487, 0.011783106252551079, 0.0016890056431293488, 0.0002500742848496884, 0.006726016756147146, 0.00117120158392936, 0.005612443666905165, 0.003474848112091422, 0.0010655864607542753, 0.006808585487306118, 0.005910577718168497, 0.019894134253263474, 0.0054470812901854515, 0.009185334667563438, 0.0, 0.0, 0.0, 0.0, 0.0, 0.0, 0.0, 0.0, 0.0, 0.0, 0.0, 0.0, 0.0, 0.0, 0.0, 0.0, 0.0, 0.0, 0.0, 0.0, 0.0, 0.0, 0.0, 0.0, 0.0, 0.0, 0.0, 0.0, 0.0, 0.0, 0.0, 0.0, 0.0, 0.0, 0.0, 0.0, 0.0, 0.0, 0.0, 0.0], [2.3399043129757047e-05, 0.00022764714958611876, 0.00041714817052707076, 0.0018156709847971797, 0.003102916292846203, 0.9157392978668213, 0.06779751926660538, 3.38570935127791e-05, 0.00876278430223465, 0.00033640983747318387, 1.7356234820908867e-05, 1.750608134898357e-05, 3.4671527828322724e-05, 6.12714429735206e-05, 8.837100904202089e-05, 8.049917232710868e-05, 1.3239371583040338e-05, 3.053363570870715e-06, 0.00022776720288675278, 0.00010937889601336792, 4.864564289164264e-06, 0.000997845083475113, 1.4614148312830366e-05, 7.292232476174831e-05, 0.0, 0.0, 0.0, 0.0, 0.0, 0.0, 0.0, 0.0, 0.0, 0.0, 0.0, 0.0, 0.0, 0.0, 0.0, 0.0, 0.0, 0.0, 0.0, 0.0, 0.0, 0.0, 0.0, 0.0, 0.0, 0.0, 0.0, 0.0, 0.0, 0.0, 0.0, 0.0, 0.0, 0.0, 0.0, 0.0, 0.0, 0.0, 0.0, 0.0], [0.02770064026117325, 0.010282075963914394, 0.003907316830009222, 0.008743086829781532, 0.05128142610192299, 0.15202750265598297, 0.5473859310150146, 0.039486974477767944, 0.03898349776864052, 0.0018793230410665274, 0.0091309929266572, 0.06564465165138245, 0.011323495768010616, 0.0004846853844355792, 0.010010618716478348, 0.0001831559929996729, 0.0003324885619804263, 0.00015140596951823682, 0.0002795833570417017, 0.010507915169000626, 0.00028050984838046134, 0.0015380186960101128, 0.0008315597078762949, 0.007623150013387203, 0.0, 0.0, 0.0, 0.0, 0.0, 0.0, 0.0, 0.0, 0.0, 0.0, 0.0, 0.0, 0.0, 0.0, 0.0, 0.0, 0.0, 0.0, 0.0, 0.0, 0.0, 0.0, 0.0, 0.0, 0.0, 0.0, 0.0, 0.0, 0.0, 0.0, 0.0, 0.0, 0.0, 0.0, 0.0, 0.0, 0.0, 0.0, 0.0, 0.0], [0.0011127716861665249, 0.0037147311959415674, 0.002623003674671054, 0.002414268208667636, 0.04773198440670967, 0.13483813405036926, 0.05716409906744957, 0.047382902354002, 0.636409342288971, 0.030438462272286415, 0.025760645046830177, 0.0016801534220576286, 0.002544129965826869, 0.00020341337949503213, 0.002927151508629322, 0.00012391628115437925, 4.358665682957508e-05, 6.085608220018912e-06, 2.1399941033450887e-05, 0.0022290523629635572, 6.406276042980608e-06, 7.201695552794263e-05, 2.3635853722225875e-05, 0.0005288549000397325, 0.0, 0.0, 0.0, 0.0, 0.0, 0.0, 0.0, 0.0, 0.0, 0.0, 0.0, 0.0, 0.0, 0.0, 0.0, 0.0, 0.0, 0.0, 0.0, 0.0, 0.0, 0.0, 0.0, 0.0, 0.0, 0.0, 0.0, 0.0, 0.0, 0.0, 0.0, 0.0, 0.0, 0.0, 0.0, 0.0, 0.0, 0.0, 0.0, 0.0], [9.50364483287558e-06, 0.00011729723337339237, 2.6028255888377316e-05, 4.97992878081277e-05, 3.7238023651298136e-05, 0.015182270668447018, 0.024099227041006088, 0.0009388876496814191, 0.7157351970672607, 0.23317822813987732, 0.0037732834462076426, 2.2949117919779383e-05, 0.00014185711916070431, 0.004164761397987604, 0.00034118987969122827, 0.00190465128980577, 1.2127000445616432e-05, 6.223907575986232e-07, 9.235225661541335e-06, 0.0002512241480872035, 1.8669355483780237e-07, 1.850735543484916e-06, 1.5369884920346522e-07, 2.2008484847901855e-06, 0.0, 0.0, 0.0, 0.0, 0.0, 0.0, 0.0, 0.0, 0.0, 0.0, 0.0, 0.0, 0.0, 0.0, 0.0, 0.0, 0.0, 0.0, 0.0, 0.0, 0.0, 0.0, 0.0, 0.0, 0.0, 0.0, 0.0, 0.0, 0.0, 0.0, 0.0, 0.0, 0.0, 0.0, 0.0, 0.0, 0.0, 0.0, 0.0, 0.0], [4.400965553941205e-05, 0.00021934972028248012, 5.520920967683196e-05, 0.00024922931334003806, 0.0005559445708058774, 0.0003707306459546089, 0.0005643503391183913, 0.0008927117451094091, 0.0558706596493721, 0.29786479473114014, 0.5593863725662231, 0.0006716718198731542, 0.040460262447595596, 0.01431325078010559, 0.0014735484728589654, 0.024013102054595947, 0.0014479781966656446, 0.0002708357060328126, 0.00023624410096090287, 0.0008019169908948243, 1.769597474776674e-05, 0.000199614412849769, 5.137539119459689e-06, 1.544649785500951e-05, 0.0, 0.0, 0.0, 0.0, 0.0, 0.0, 0.0, 0.0, 0.0, 0.0, 0.0, 0.0, 0.0, 0.0, 0.0, 0.0, 0.0, 0.0, 0.0, 0.0, 0.0, 0.0, 0.0, 0.0, 0.0, 0.0, 0.0, 0.0, 0.0, 0.0, 0.0, 0.0, 0.0, 0.0, 0.0, 0.0, 0.0, 0.0, 0.0, 0.0], [8.174662798410282e-05, 0.00020545847655739635, 3.941733666579239e-05, 0.00016140575462486595, 0.0033948388881981373, 0.00018520197772886604, 9.563740604789928e-05, 0.0006977880839258432, 0.003549508284777403, 0.010033306665718555, 0.9407230615615845, 0.0018408241448923945, 0.032655443996191025, 0.0003272174799349159, 0.0008675272692926228, 0.002162196207791567, 0.0005847747670486569, 0.0012846665922552347, 7.090109284035861e-05, 0.00048690513358451426, 0.00021383256535045803, 0.0002841179084498435, 1.4518470379698556e-05, 3.971277692471631e-05, 0.0, 0.0, 0.0, 0.0, 0.0, 0.0, 0.0, 0.0, 0.0, 0.0, 0.0, 0.0, 0.0, 0.0, 0.0, 0.0, 0.0, 0.0, 0.0, 0.0, 0.0, 0.0, 0.0, 0.0, 0.0, 0.0, 0.0, 0.0, 0.0, 0.0, 0.0, 0.0, 0.0, 0.0, 0.0, 0.0, 0.0, 0.0, 0.0, 0.0], [0.012104975059628487, 0.0033934060484170914, 0.003039655974134803, 0.00031847256468608975, 0.0003219794889446348, 3.9412014302797616e-05, 0.0001756366400513798, 0.0010341410525143147, 9.96959934127517e-05, 0.00011044089478673413, 0.015791304409503937, 0.9281388521194458, 0.012051695957779884, 0.0007738310960121453, 0.006493501365184784, 0.00032809333060868084, 0.0009013970848172903, 0.0014329851837828755, 0.0011831895681098104, 0.0104769766330719, 0.0003374895313754678, 0.0003249270375818014, 0.0003959308669436723, 0.000732081476598978, 0.0, 0.0, 0.0, 0.0, 0.0, 0.0, 0.0, 0.0, 0.0, 0.0, 0.0, 0.0, 0.0, 0.0, 0.0, 0.0, 0.0, 0.0, 0.0, 0.0, 0.0, 0.0, 0.0, 0.0, 0.0, 0.0, 0.0, 0.0, 0.0, 0.0, 0.0, 0.0, 0.0, 0.0, 0.0, 0.0, 0.0, 0.0, 0.0, 0.0], [0.00038576635415665805, 0.0006572876591235399, 0.0002579254796728492, 0.0002772936422843486, 0.0005385534605011344, 0.0007583764963783324, 0.0005213831318542361, 9.918337309500203e-05, 0.06404369324445724, 0.013439178466796875, 0.044356223195791245, 0.00027070316718891263, 0.3976408839225769, 0.05718563124537468, 0.0023085721768438816, 0.39627066254615784, 0.011073154397308826, 0.0020844866521656513, 0.004175996873527765, 0.0012108413502573967, 0.00019687859457917511, 0.002152935368940234, 6.777296221116558e-05, 2.674241113709286e-05, 0.0, 0.0, 0.0, 0.0, 0.0, 0.0, 0.0, 0.0, 0.0, 0.0, 0.0, 0.0, 0.0, 0.0, 0.0, 0.0, 0.0, 0.0, 0.0, 0.0, 0.0, 0.0, 0.0, 0.0, 0.0, 0.0, 0.0, 0.0, 0.0, 0.0, 0.0, 0.0, 0.0, 0.0, 0.0, 0.0, 0.0, 0.0, 0.0, 0.0], [3.623129305196926e-05, 0.00022866501240059733, 2.8353075322229415e-05, 0.00015759514644742012, 2.303247310919687e-05, 0.00014552737411577255, 0.00042864729766733944, 3.6467055906541646e-05, 0.021019261330366135, 0.02651984989643097, 0.002213879255577922, 2.8174770704936236e-05, 0.0025988139677792788, 0.21387773752212524, 0.0008659953600727022, 0.723143458366394, 0.003850898938253522, 0.0012720474041998386, 0.0024960346054285765, 0.00044119457015767694, 0.00011753602302633226, 0.00045291733113117516, 1.2727274224744178e-05, 4.9248415052716155e-06, 0.0, 0.0, 0.0, 0.0, 0.0, 0.0, 0.0, 0.0, 0.0, 0.0, 0.0, 0.0, 0.0, 0.0, 0.0, 0.0, 0.0, 0.0, 0.0, 0.0, 0.0, 0.0, 0.0, 0.0, 0.0, 0.0, 0.0, 0.0, 0.0, 0.0, 0.0, 0.0, 0.0, 0.0, 0.0, 0.0, 0.0, 0.0, 0.0, 0.0], [7.494973397115245e-05, 0.00034489919198676944, 0.00011716180597431958, 0.0005904128775000572, 0.00043914062553085387, 0.00021830324840266258, 0.0008156191324815154, 0.0001920909999171272, 0.00032470651785843074, 0.022301988676190376, 0.11629645526409149, 0.0015260109212249517, 0.03473413363099098, 0.055472712963819504, 0.0010451015550643206, 0.3347257673740387, 0.05352437496185303, 0.20243802666664124, 0.08608304709196091, 0.000718321418389678, 0.029968656599521637, 0.05706992372870445, 0.0006943676853552461, 0.0002837992797140032, 0.0, 0.0, 0.0, 0.0, 0.0, 0.0, 0.0, 0.0, 0.0, 0.0, 0.0, 0.0, 0.0, 0.0, 0.0, 0.0, 0.0, 0.0, 0.0, 0.0, 0.0, 0.0, 0.0, 0.0, 0.0, 0.0, 0.0, 0.0, 0.0, 0.0, 0.0, 0.0, 0.0, 0.0, 0.0, 0.0, 0.0, 0.0, 0.0, 0.0], [1.0662729437171947e-05, 0.00016971553850453347, 2.6933816116070375e-05, 2.0325225705164485e-05, 1.4861675481370185e-05, 9.93999419733882e-05, 0.0008642550092190504, 1.0650676813384052e-05, 0.0004723015008494258, 0.0019370713271200657, 0.006124875508248806, 0.002583030378445983, 0.0017543016001582146, 0.02763012982904911, 0.0002786646655295044, 0.15202327072620392, 0.00348148331977427, 0.0066400207579135895, 0.5248920917510986, 0.0003421285073272884, 0.0009599372860975564, 0.26960107684135437, 3.6444438592297956e-05, 2.633394433360081e-05, 0.0, 0.0, 0.0, 0.0, 0.0, 0.0, 0.0, 0.0, 0.0, 0.0, 0.0, 0.0, 0.0, 0.0, 0.0, 0.0, 0.0, 0.0, 0.0, 0.0, 0.0, 0.0, 0.0, 0.0, 0.0, 0.0, 0.0, 0.0, 0.0, 0.0, 0.0, 0.0, 0.0, 0.0, 0.0, 0.0, 0.0, 0.0, 0.0, 0.0], [0.0010146118002012372, 0.001757514663040638, 0.0003059822483919561, 0.0011357635958120227, 0.002454346977174282, 0.0005393762839958072, 0.00038647884503006935, 6.90625820425339e-05, 9.377063543070108e-05, 0.0002316531172255054, 0.006417192984372377, 0.012877288274466991, 0.006153964437544346, 0.0006242653471417725, 0.00294596329331398, 0.015755057334899902, 0.04732643812894821, 0.25356385111808777, 0.02990935742855072, 0.003251126268878579, 0.4244039058685303, 0.16168202459812164, 0.00809091329574585, 0.019010081887245178, 0.0, 0.0, 0.0, 0.0, 0.0, 0.0, 0.0, 0.0, 0.0, 0.0, 0.0, 0.0, 0.0, 0.0, 0.0, 0.0, 0.0, 0.0, 0.0, 0.0, 0.0, 0.0, 0.0, 0.0, 0.0, 0.0, 0.0, 0.0, 0.0, 0.0, 0.0, 0.0, 0.0, 0.0, 0.0, 0.0, 0.0, 0.0, 0.0, 0.0], [0.00020788698748219758, 0.0008637376595288515, 0.0005816922057420015, 0.0007400000467896461, 0.00036023592110723257, 0.0010564849944785237, 0.003113415325060487, 6.794049113523215e-05, 0.00021070509683340788, 0.001268977764993906, 0.000802098133135587, 0.002348662819713354, 0.0005783920059911907, 0.008273168466985226, 0.001072339597158134, 0.03598114103078842, 0.032684534788131714, 0.024501066654920578, 0.21965043246746063, 0.0014258340233936906, 0.01813768781721592, 0.6384360790252686, 0.005627691745758057, 0.002009807853028178, 0.0, 0.0, 0.0, 0.0, 0.0, 0.0, 0.0, 0.0, 0.0, 0.0, 0.0, 0.0, 0.0, 0.0, 0.0, 0.0, 0.0, 0.0, 0.0, 0.0, 0.0, 0.0, 0.0, 0.0, 0.0, 0.0, 0.0, 0.0, 0.0, 0.0, 0.0, 0.0, 0.0, 0.0, 0.0, 0.0, 0.0, 0.0, 0.0, 0.0], [0.0008456181967630982, 0.0009523408953100443, 0.0005153638194315135, 0.0016210898756980896, 0.0008231686661019921, 9.548512753099203e-05, 7.350579835474491e-05, 8.384452485188376e-06, 2.6538258680375293e-05, 1.611520565347746e-05, 0.00015875042299740016, 0.0016075680032372475, 0.0010874285362660885, 0.00040609497227706015, 0.0008972217910923064, 0.005208620335906744, 0.11317766457796097, 0.14704006910324097, 0.024733491241931915, 0.0010946453548967838, 0.48255640268325806, 0.14117354154586792, 0.02567693032324314, 0.05020386353135109, 0.0, 0.0, 0.0, 0.0, 0.0, 0.0, 0.0, 0.0, 0.0, 0.0, 0.0, 0.0, 0.0, 0.0, 0.0, 0.0, 0.0, 0.0, 0.0, 0.0, 0.0, 0.0, 0.0, 0.0, 0.0, 0.0, 0.0, 0.0, 0.0, 0.0, 0.0, 0.0, 0.0, 0.0, 0.0, 0.0, 0.0, 0.0, 0.0, 0.0], [0.009875249117612839, 0.008063891902565956, 0.0031431447714567184, 0.018756352365016937, 0.0075668455101549625, 0.001304687699303031, 0.00040612579323351383, 0.00016090157441794872, 0.00015064534090925008, 5.733688158215955e-05, 0.0007506577530875802, 0.09152766317129135, 0.0015874967211857438, 0.00013015106378588825, 0.012019212357699871, 0.00039415652281604707, 0.013203826732933521, 0.031043846160173416, 0.0028824969194829464, 0.01887737400829792, 0.11338086426258087, 0.014098023064434528, 0.00750921992585063, 0.6431097388267517, 0.0, 0.0, 0.0, 0.0, 0.0, 0.0, 0.0, 0.0, 0.0, 0.0, 0.0, 0.0, 0.0, 0.0, 0.0, 0.0, 0.0, 0.0, 0.0, 0.0, 0.0, 0.0, 0.0, 0.0, 0.0, 0.0, 0.0, 0.0, 0.0, 0.0, 0.0, 0.0, 0.0, 0.0, 0.0, 0.0, 0.0, 0.0, 0.0, 0.0], [0.003514643758535385, 0.0021736978087574244, 0.0035987875889986753, 0.01201043464243412, 0.03392145037651062, 0.009707394056022167, 0.0032093951012939215, 0.0019595331978052855, 0.0004157809598837048, 0.0005693907150998712, 0.002699342556297779, 0.0025567759294062853, 0.0053567904978990555, 0.000316799123538658, 0.002283512381836772, 0.0011120457202196121, 0.08185847103595734, 0.06104595586657524, 0.011177562177181244, 0.0026046454440802336, 0.2957857549190521, 0.10319384932518005, 0.1778707057237625, 0.18105730414390564, 0.0, 0.0, 0.0, 0.0, 0.0, 0.0, 0.0, 0.0, 0.0, 0.0, 0.0, 0.0, 0.0, 0.0, 0.0, 0.0, 0.0, 0.0, 0.0, 0.0, 0.0, 0.0, 0.0, 0.0, 0.0, 0.0, 0.0, 0.0, 0.0, 0.0, 0.0, 0.0, 0.0, 0.0, 0.0, 0.0, 0.0, 0.0, 0.0, 0.0]], [[0.0003158218751195818, 0.021005161106586456, 0.7681923508644104, 0.17650555074214935, 0.002160109346732497, 0.0030881145503371954, 0.00255071884021163, 1.3094553651171736e-05, 0.001452083233743906, 0.00020690455858130008, 2.0047958969371393e-05, 0.0033834646455943584, 0.0007332018576562405, 0.0002801947994157672, 0.005764797795563936, 0.000474568922072649, 0.0024725901894271374, 0.00010809242667164654, 0.0002011962205870077, 0.007867904379963875, 9.831843635765836e-05, 0.0013075013412162662, 0.00037626526318490505, 0.0014218519208952785, 0.0, 0.0, 0.0, 0.0, 0.0, 0.0, 0.0, 0.0, 0.0, 0.0, 0.0, 0.0, 0.0, 0.0, 0.0, 0.0, 0.0, 0.0, 0.0, 0.0, 0.0, 0.0, 0.0, 0.0, 0.0, 0.0, 0.0, 0.0, 0.0, 0.0, 0.0, 0.0, 0.0, 0.0, 0.0, 0.0, 0.0, 0.0, 0.0, 0.0], [0.0025611300952732563, 0.05284750089049339, 0.7086343169212341, 0.1136879026889801, 0.002720776479691267, 0.0028430430684238672, 0.0014602631563320756, 1.0077212209580466e-05, 0.0013819384621456265, 2.3340013285633177e-05, 2.434235102555249e-05, 0.006197513081133366, 0.00012710306327790022, 0.00019772900850512087, 0.04053496941924095, 0.000673404720146209, 0.0007222163840197027, 0.0003042090393137187, 0.0002200626186095178, 0.05893954262137413, 0.00020039069931954145, 0.0009565988439135253, 9.768526069819927e-05, 0.004634057637304068, 0.0, 0.0, 0.0, 0.0, 0.0, 0.0, 0.0, 0.0, 0.0, 0.0, 0.0, 0.0, 0.0, 0.0, 0.0, 0.0, 0.0, 0.0, 0.0, 0.0, 0.0, 0.0, 0.0, 0.0, 0.0, 0.0, 0.0, 0.0, 0.0, 0.0, 0.0, 0.0, 0.0, 0.0, 0.0, 0.0, 0.0, 0.0, 0.0, 0.0], [0.0002671243855729699, 0.004766198340803385, 0.008620837703347206, 0.9593825340270996, 0.008783753961324692, 0.005933570209890604, 0.0012071183882653713, 3.897222541127121e-06, 0.0006146761006675661, 6.162057252367958e-05, 1.059452074514411e-06, 0.0004806446086149663, 9.192964171234053e-06, 4.802640978596173e-05, 0.004457919392734766, 7.474557060049847e-05, 0.0005633556866087019, 1.0941887921944726e-05, 2.937030694738496e-05, 0.0035391405690461397, 1.4091057892073877e-05, 0.00032420409843325615, 1.2513546607806347e-05, 0.0007933276938274503, 0.0, 0.0, 0.0, 0.0, 0.0, 0.0, 0.0, 0.0, 0.0, 0.0, 0.0, 0.0, 0.0, 0.0, 0.0, 0.0, 0.0, 0.0, 0.0, 0.0, 0.0, 0.0, 0.0, 0.0, 0.0, 0.0, 0.0, 0.0, 0.0, 0.0, 0.0, 0.0, 0.0, 0.0, 0.0, 0.0, 0.0, 0.0, 0.0, 0.0], [0.002511772559955716, 0.020412005484104156, 0.01986403949558735, 0.3063754141330719, 0.06802667677402496, 0.25710558891296387, 0.08001893758773804, 0.0006035085534676909, 0.0709102600812912, 0.008016522042453289, 0.00040041108150035143, 0.006334954407066107, 0.0022261932026594877, 0.004105922766029835, 0.019795797765254974, 0.01279248483479023, 0.047836363315582275, 0.00030235902522690594, 0.0035205392632633448, 0.017059272155165672, 0.0004635897639673203, 0.039823662489652634, 0.001535558607429266, 0.009958168491721153, 0.0, 0.0, 0.0, 0.0, 0.0, 0.0, 0.0, 0.0, 0.0, 0.0, 0.0, 0.0, 0.0, 0.0, 0.0, 0.0, 0.0, 0.0, 0.0, 0.0, 0.0, 0.0, 0.0, 0.0, 0.0, 0.0, 0.0, 0.0, 0.0, 0.0, 0.0, 0.0, 0.0, 0.0, 0.0, 0.0, 0.0, 0.0, 0.0, 0.0], [0.0009658380877226591, 0.0018238849006593227, 0.0016658911481499672, 0.0025441711768507957, 0.010587265715003014, 0.8132680058479309, 0.11242428421974182, 5.4177700803847983e-05, 0.028732625767588615, 0.00035132182529196143, 3.7383342714747414e-05, 0.001704971306025982, 0.00017696530267130584, 0.0003063325129915029, 0.010509850457310677, 0.00016280464478768408, 0.00018203492800239474, 5.22118807566585e-06, 6.997415039222687e-05, 0.013170688413083553, 4.891082426183857e-06, 0.0003840783319901675, 0.00011222614557482302, 0.0007550911977887154, 0.0, 0.0, 0.0, 0.0, 0.0, 0.0, 0.0, 0.0, 0.0, 0.0, 0.0, 0.0, 0.0, 0.0, 0.0, 0.0, 0.0, 0.0, 0.0, 0.0, 0.0, 0.0, 0.0, 0.0, 0.0, 0.0, 0.0, 0.0, 0.0, 0.0, 0.0, 0.0, 0.0, 0.0, 0.0, 0.0, 0.0, 0.0, 0.0, 0.0], [0.0029500725213438272, 0.001286044716835022, 0.00039903854485601187, 0.015852928161621094, 0.020086349919438362, 0.1404193937778473, 0.7254119515419006, 0.0012825564481317997, 0.03893003985285759, 0.004605568945407867, 0.0003788708127103746, 0.004668551962822676, 0.001210150308907032, 0.004277773667126894, 0.010845690965652466, 0.0022007517982274294, 0.0021157742012292147, 1.837062336562667e-05, 0.00019981434161309153, 0.010163554921746254, 3.92171714338474e-05, 0.002178765134885907, 0.0004370264941826463, 0.01004177425056696, 0.0, 0.0, 0.0, 0.0, 0.0, 0.0, 0.0, 0.0, 0.0, 0.0, 0.0, 0.0, 0.0, 0.0, 0.0, 0.0, 0.0, 0.0, 0.0, 0.0, 0.0, 0.0, 0.0, 0.0, 0.0, 0.0, 0.0, 0.0, 0.0, 0.0, 0.0, 0.0, 0.0, 0.0, 0.0, 0.0, 0.0, 0.0, 0.0, 0.0], [0.00010132377065019682, 0.0005416017957031727, 0.00039158499566838145, 0.002002786146476865, 0.004527967888861895, 0.07153680175542831, 0.20761175453662872, 0.018953150138258934, 0.5470717549324036, 0.14075256884098053, 0.001652275794185698, 0.0004507375997491181, 0.0009519904269836843, 0.000767624587751925, 0.0010808384977281094, 0.0004035721649415791, 0.0002425887214485556, 2.6962050014844863e-07, 3.195247927578748e-06, 0.0007808815571479499, 2.2562640822343383e-07, 6.101951839809772e-06, 1.6773608876974322e-05, 0.0001516110060038045, 0.0, 0.0, 0.0, 0.0, 0.0, 0.0, 0.0, 0.0, 0.0, 0.0, 0.0, 0.0, 0.0, 0.0, 0.0, 0.0, 0.0, 0.0, 0.0, 0.0, 0.0, 0.0, 0.0, 0.0, 0.0, 0.0, 0.0, 0.0, 0.0, 0.0, 0.0, 0.0, 0.0, 0.0, 0.0, 0.0, 0.0, 0.0, 0.0, 0.0], [3.7982685171300545e-05, 0.00045312056317925453, 2.7079844585387036e-05, 0.0002127657935488969, 0.00020157144172117114, 0.07483979314565659, 0.18634465336799622, 0.004261907655745745, 0.5403703451156616, 0.165731742978096, 0.005893453024327755, 0.0008732436690479517, 0.00025569359422661364, 0.008338467217981815, 0.005464454647153616, 0.0019066155655309558, 8.193789835786447e-05, 1.6155738649104023e-06, 3.4047245662804926e-06, 0.004581092856824398, 4.984375436833943e-07, 2.8020153877150733e-06, 5.321262960933382e-06, 0.00011051088222302496, 0.0, 0.0, 0.0, 0.0, 0.0, 0.0, 0.0, 0.0, 0.0, 0.0, 0.0, 0.0, 0.0, 0.0, 0.0, 0.0, 0.0, 0.0, 0.0, 0.0, 0.0, 0.0, 0.0, 0.0, 0.0, 0.0, 0.0, 0.0, 0.0, 0.0, 0.0, 0.0, 0.0, 0.0, 0.0, 0.0, 0.0, 0.0, 0.0, 0.0], [3.94977769246907e-06, 2.8058608222636394e-05, 3.0093149234744487e-06, 2.7445303203421645e-05, 7.3247560976597015e-06, 5.829924702993594e-05, 0.000387568463338539, 0.0007062111981213093, 0.026404330506920815, 0.7332252860069275, 0.05575671046972275, 0.0001380777102895081, 0.05111546814441681, 0.08735094219446182, 0.0001615847577340901, 0.0386507473886013, 0.005754129961133003, 4.19201705881278e-06, 0.0001215686570503749, 7.831260154489428e-05, 1.79985534032312e-07, 1.2180974408693146e-05, 2.159349833164015e-06, 2.3385216536553344e-06, 0.0, 0.0, 0.0, 0.0, 0.0, 0.0, 0.0, 0.0, 0.0, 0.0, 0.0, 0.0, 0.0, 0.0, 0.0, 0.0, 0.0, 0.0, 0.0, 0.0, 0.0, 0.0, 0.0, 0.0, 0.0, 0.0, 0.0, 0.0, 0.0, 0.0, 0.0, 0.0, 0.0, 0.0, 0.0, 0.0, 0.0, 0.0, 0.0, 0.0], [0.0003431241784710437, 0.0004449689295142889, 0.00014846697740722448, 0.0010575457708910108, 0.00030600326135754585, 0.0007679909467697144, 0.0021703329402953386, 0.005521763581782579, 0.0567127950489521, 0.2963401675224304, 0.24413444101810455, 0.001812917529605329, 0.1601550579071045, 0.08661654591560364, 0.002032178919762373, 0.10836172103881836, 0.02777215465903282, 0.00016467762179672718, 0.0022767139598727226, 0.0010285851312801242, 2.5402247047168203e-05, 0.0015384455909952521, 7.330866355914623e-05, 0.0001946730335475877, 0.0, 0.0, 0.0, 0.0, 0.0, 0.0, 0.0, 0.0, 0.0, 0.0, 0.0, 0.0, 0.0, 0.0, 0.0, 0.0, 0.0, 0.0, 0.0, 0.0, 0.0, 0.0, 0.0, 0.0, 0.0, 0.0, 0.0, 0.0, 0.0, 0.0, 0.0, 0.0, 0.0, 0.0, 0.0, 0.0, 0.0, 0.0, 0.0, 0.0], [0.00036564934998750687, 0.001606579520739615, 0.0009420260903425515, 0.0013988114660605788, 0.00027045217575505376, 0.0017760265618562698, 0.007071030791848898, 0.0012377947568893433, 0.027360953390598297, 0.08543079346418381, 0.049506980925798416, 0.007190668489784002, 0.10798550397157669, 0.400989294052124, 0.009232543408870697, 0.2236611247062683, 0.057172901928424835, 0.0022043203935027122, 0.0038178337272256613, 0.008469423279166222, 0.0002781954826787114, 0.0008486599544994533, 0.0006350261974148452, 0.0005472542252391577, 0.0, 0.0, 0.0, 0.0, 0.0, 0.0, 0.0, 0.0, 0.0, 0.0, 0.0, 0.0, 0.0, 0.0, 0.0, 0.0, 0.0, 0.0, 0.0, 0.0, 0.0, 0.0, 0.0, 0.0, 0.0, 0.0, 0.0, 0.0, 0.0, 0.0, 0.0, 0.0, 0.0, 0.0, 0.0, 0.0, 0.0, 0.0, 0.0, 0.0], [1.2710957889794372e-05, 6.41335136606358e-05, 9.593993127055e-06, 1.9664803403429687e-05, 3.9145279515651055e-06, 2.412914182059467e-05, 6.229082646314055e-05, 2.8531590032798704e-06, 0.013390728272497654, 0.0033399832900613546, 0.0026940091047436, 0.00021699977514799684, 0.20766334235668182, 0.1867411881685257, 0.0015003244625404477, 0.5487158298492432, 0.03422940522432327, 8.233484550146386e-05, 0.00021832463971804827, 0.0009151994599960744, 3.073017069255002e-06, 5.897379742236808e-05, 2.1790590835735202e-05, 9.148874596576206e-06, 0.0, 0.0, 0.0, 0.0, 0.0, 0.0, 0.0, 0.0, 0.0, 0.0, 0.0, 0.0, 0.0, 0.0, 0.0, 0.0, 0.0, 0.0, 0.0, 0.0, 0.0, 0.0, 0.0, 0.0, 0.0, 0.0, 0.0, 0.0, 0.0, 0.0, 0.0, 0.0, 0.0, 0.0, 0.0, 0.0, 0.0, 0.0, 0.0, 0.0], [6.073257736716187e-06, 0.0001027706457534805, 2.442741561026196e-06, 6.681714876322076e-05, 3.44608565683302e-06, 1.7022350220941007e-05, 4.67604877485428e-05, 1.0485674465599004e-05, 0.00424620695412159, 0.005587458144873381, 0.001370249199680984, 0.00019464408978819847, 0.006413449067622423, 0.3386666178703308, 0.0024889055639505386, 0.6272600293159485, 0.010503716766834259, 0.001086337142623961, 0.0005337341572158039, 0.001292465371079743, 4.115331466891803e-05, 4.322885433793999e-05, 9.664979188528378e-06, 6.280042271100683e-06, 0.0, 0.0, 0.0, 0.0, 0.0, 0.0, 0.0, 0.0, 0.0, 0.0, 0.0, 0.0, 0.0, 0.0, 0.0, 0.0, 0.0, 0.0, 0.0, 0.0, 0.0, 0.0, 0.0, 0.0, 0.0, 0.0, 0.0, 0.0, 0.0, 0.0, 0.0, 0.0, 0.0, 0.0, 0.0, 0.0, 0.0, 0.0, 0.0, 0.0], [2.5703482151584467e-06, 4.42287273472175e-05, 4.387593435239978e-06, 9.091976971831173e-05, 6.287146447903069e-07, 1.5651997955501429e-06, 1.5533209079876542e-05, 5.182673248782521e-06, 5.634464287140872e-06, 0.007304460275918245, 0.0028590194415301085, 0.00029830753919668496, 0.007790016010403633, 0.15493974089622498, 0.00015113368863239884, 0.5342798829078674, 0.19999368488788605, 0.004741397686302662, 0.07726806402206421, 9.010028588818386e-05, 0.00035696919076144695, 0.009701481088995934, 2.052101081062574e-05, 3.458618448348716e-05, 0.0, 0.0, 0.0, 0.0, 0.0, 0.0, 0.0, 0.0, 0.0, 0.0, 0.0, 0.0, 0.0, 0.0, 0.0, 0.0, 0.0, 0.0, 0.0, 0.0, 0.0, 0.0, 0.0, 0.0, 0.0, 0.0, 0.0, 0.0, 0.0, 0.0, 0.0, 0.0, 0.0, 0.0, 0.0, 0.0, 0.0, 0.0, 0.0, 0.0], [2.7891483114217408e-05, 0.00023111829068511724, 1.5536374121438712e-05, 2.2122278096503578e-05, 3.2642033147567417e-06, 1.851126944529824e-05, 0.00017178749840240926, 9.722432878334075e-06, 0.0001409907272318378, 0.0005936896777711809, 0.0013376432470977306, 0.0014849129365757108, 0.003160570515319705, 0.1783420741558075, 0.0008156074909493327, 0.40120747685432434, 0.027369413524866104, 0.022579722106456757, 0.2247859686613083, 0.0008840485825203359, 0.003633051412180066, 0.1328042596578598, 0.00019589900330174714, 0.00016469460388179868, 0.0, 0.0, 0.0, 0.0, 0.0, 0.0, 0.0, 0.0, 0.0, 0.0, 0.0, 0.0, 0.0, 0.0, 0.0, 0.0, 0.0, 0.0, 0.0, 0.0, 0.0, 0.0, 0.0, 0.0, 0.0, 0.0, 0.0, 0.0, 0.0, 0.0, 0.0, 0.0, 0.0, 0.0, 0.0, 0.0, 0.0, 0.0, 0.0, 0.0], [9.294998744735494e-05, 0.0001396176521666348, 0.00010131105955224484, 0.0006523311021737754, 8.208113285945728e-05, 9.51608526520431e-05, 0.00017005400150083005, 1.181217248813482e-05, 6.993930128373904e-06, 0.00013396675058174878, 0.00014720947365276515, 0.00024491583462804556, 0.0008735141600482166, 0.0033389045856893063, 0.00010559346264926717, 0.036726973950862885, 0.22244320809841156, 0.014799114316701889, 0.19422149658203125, 0.00012214701564516872, 0.04396136850118637, 0.473613440990448, 0.004435667302459478, 0.003480157582089305, 0.0, 0.0, 0.0, 0.0, 0.0, 0.0, 0.0, 0.0, 0.0, 0.0, 0.0, 0.0, 0.0, 0.0, 0.0, 0.0, 0.0, 0.0, 0.0, 0.0, 0.0, 0.0, 0.0, 0.0, 0.0, 0.0, 0.0, 0.0, 0.0, 0.0, 0.0, 0.0, 0.0, 0.0, 0.0, 0.0, 0.0, 0.0, 0.0, 0.0], [0.0030600521713495255, 0.003256028052419424, 0.00044493796303868294, 0.0008396673365496099, 0.00037852980312891304, 0.0003883069148287177, 0.0007400652393698692, 0.0001333001273451373, 0.00040952040581032634, 0.0003170027630403638, 0.0014295501168817282, 0.006479091010987759, 0.002340705366805196, 0.009388698264956474, 0.0033913920633494854, 0.02963169477880001, 0.03432052582502365, 0.034133847802877426, 0.14708495140075684, 0.0036400218959897757, 0.026760274544358253, 0.6737950444221497, 0.0039042015559971333, 0.013732647523283958, 0.0, 0.0, 0.0, 0.0, 0.0, 0.0, 0.0, 0.0, 0.0, 0.0, 0.0, 0.0, 0.0, 0.0, 0.0, 0.0, 0.0, 0.0, 0.0, 0.0, 0.0, 0.0, 0.0, 0.0, 0.0, 0.0, 0.0, 0.0, 0.0, 0.0, 0.0, 0.0, 0.0, 0.0, 0.0, 0.0, 0.0, 0.0, 0.0, 0.0], [0.00013192991900723428, 0.0002750648418441415, 0.0008686168002896011, 0.0028094244189560413, 5.7887220464181155e-05, 2.9509898013202474e-05, 2.0516294171102345e-05, 1.8585008092486532e-06, 1.1443554285506252e-05, 1.4055169231141917e-05, 1.4714008102600928e-05, 0.00014260104217100888, 0.0012042684247717261, 0.0019344770116731524, 0.00016503968799952418, 0.02439088746905327, 0.5719143748283386, 0.019179753959178925, 0.05003555119037628, 0.00022368266945704818, 0.07810293883085251, 0.21080949902534485, 0.026052212342619896, 0.011609776876866817, 0.0, 0.0, 0.0, 0.0, 0.0, 0.0, 0.0, 0.0, 0.0, 0.0, 0.0, 0.0, 0.0, 0.0, 0.0, 0.0, 0.0, 0.0, 0.0, 0.0, 0.0, 0.0, 0.0, 0.0, 0.0, 0.0, 0.0, 0.0, 0.0, 0.0, 0.0, 0.0, 0.0, 0.0, 0.0, 0.0, 0.0, 0.0, 0.0, 0.0], [0.0004200973780825734, 0.0025882250629365444, 0.011096342466771603, 0.013729898259043694, 0.0007822918705642223, 0.004038290120661259, 0.0032489232253283262, 2.1476935216924176e-05, 0.00022977020125836134, 0.00019619747763499618, 5.7825040130410343e-05, 0.0011371099390089512, 0.000665523111820221, 0.001784427324309945, 0.0006442491430789232, 0.009948172606527805, 0.5530748963356018, 0.0027890056371688843, 0.03786202520132065, 0.0014780837809666991, 0.019391927868127823, 0.24684986472129822, 0.019261326640844345, 0.06870406866073608, 0.0, 0.0, 0.0, 0.0, 0.0, 0.0, 0.0, 0.0, 0.0, 0.0, 0.0, 0.0, 0.0, 0.0, 0.0, 0.0, 0.0, 0.0, 0.0, 0.0, 0.0, 0.0, 0.0, 0.0, 0.0, 0.0, 0.0, 0.0, 0.0, 0.0, 0.0, 0.0, 0.0, 0.0, 0.0, 0.0, 0.0, 0.0, 0.0, 0.0], [0.008131159469485283, 0.0038796577136963606, 0.019518515095114708, 0.06006835773587227, 0.02218329720199108, 0.0077017610892653465, 0.0028278983663767576, 0.001754778902977705, 0.00024996892898343503, 0.0014898296212777495, 0.0007884257356636226, 0.0023751305416226387, 0.007784517481923103, 0.0021830005571246147, 0.0017485619755461812, 0.006682202219963074, 0.3619571626186371, 0.0208300594240427, 0.057285208255052567, 0.0018903659656643867, 0.08469443023204803, 0.10266445577144623, 0.15399226546287537, 0.06731905043125153, 0.0, 0.0, 0.0, 0.0, 0.0, 0.0, 0.0, 0.0, 0.0, 0.0, 0.0, 0.0, 0.0, 0.0, 0.0, 0.0, 0.0, 0.0, 0.0, 0.0, 0.0, 0.0, 0.0, 0.0, 0.0, 0.0, 0.0, 0.0, 0.0, 0.0, 0.0, 0.0, 0.0, 0.0, 0.0, 0.0, 0.0, 0.0, 0.0, 0.0]], [[0.0009070691303350031, 0.02083759568631649, 0.29423603415489197, 0.4627757966518402, 0.06329513341188431, 0.030534571036696434, 0.07846900075674057, 0.0002542583388276398, 0.002138962736353278, 8.801904186839238e-05, 0.0002747304970398545, 0.0012049619108438492, 0.0004237550310790539, 0.0015423372387886047, 0.0071610999293625355, 0.0007043309742584825, 0.002762277377769351, 0.011182572692632675, 0.0025852674152702093, 0.005398120265454054, 0.006372224539518356, 0.0020536703523248434, 0.004183399025350809, 0.000614803982898593, 0.0, 0.0, 0.0, 0.0, 0.0, 0.0, 0.0, 0.0, 0.0, 0.0, 0.0, 0.0, 0.0, 0.0, 0.0, 0.0, 0.0, 0.0, 0.0, 0.0, 0.0, 0.0, 0.0, 0.0, 0.0, 0.0, 0.0, 0.0, 0.0, 0.0, 0.0, 0.0, 0.0, 0.0, 0.0, 0.0, 0.0, 0.0, 0.0, 0.0], [0.0015793096972629428, 0.011944303289055824, 0.6154879331588745, 0.3429151475429535, 0.007633446715772152, 0.00238107331097126, 0.011754883453249931, 0.00023833895102143288, 0.0007974045583978295, 0.00017051096074283123, 4.815196371055208e-05, 3.107958400505595e-05, 1.6526104445802048e-05, 0.0004982203245162964, 0.0003624726668931544, 0.00030539778526872396, 0.001062322175130248, 0.0002704761573113501, 0.0011156982509419322, 0.0003109931421931833, 0.0001983498368645087, 0.0004979358054697514, 0.0002022916596615687, 0.00017771573038771749, 0.0, 0.0, 0.0, 0.0, 0.0, 0.0, 0.0, 0.0, 0.0, 0.0, 0.0, 0.0, 0.0, 0.0, 0.0, 0.0, 0.0, 0.0, 0.0, 0.0, 0.0, 0.0, 0.0, 0.0, 0.0, 0.0, 0.0, 0.0, 0.0, 0.0, 0.0, 0.0, 0.0, 0.0, 0.0, 0.0, 0.0, 0.0, 0.0, 0.0], [0.000600657716859132, 0.002157638082280755, 0.02492130920290947, 0.9363606572151184, 0.028389979153871536, 0.0020484905689954758, 0.0029272630345076323, 4.68637517769821e-05, 8.531808998668566e-05, 0.00010156424104934558, 3.939447651646333e-06, 5.437368236016482e-05, 7.456614525835903e-07, 2.0672374375863e-05, 0.000399638811359182, 1.36143989948323e-05, 0.0004477313777897507, 3.153543730149977e-05, 0.00015502447786275297, 0.0003127858799416572, 5.4241922043729573e-05, 0.00015367058222182095, 0.00015982502372935414, 0.0005523876752704382, 0.0, 0.0, 0.0, 0.0, 0.0, 0.0, 0.0, 0.0, 0.0, 0.0, 0.0, 0.0, 0.0, 0.0, 0.0, 0.0, 0.0, 0.0, 0.0, 0.0, 0.0, 0.0, 0.0, 0.0, 0.0, 0.0, 0.0, 0.0, 0.0, 0.0, 0.0, 0.0, 0.0, 0.0, 0.0, 0.0, 0.0, 0.0, 0.0, 0.0], [0.019029591232538223, 0.0243779718875885, 0.060564637184143066, 0.1501651257276535, 0.6029547452926636, 0.018308257684111595, 0.01681351102888584, 0.018217626959085464, 0.004423403646796942, 0.0011139748385176063, 0.0016295014647766948, 0.01441187784075737, 4.227945828461088e-05, 5.795086326543242e-05, 0.017549807205796242, 0.0001939143257914111, 0.006818566471338272, 0.0010343167232349515, 0.0003015178954228759, 0.016650883480906487, 0.0015941908350214362, 0.0008383608656004071, 0.007469678297638893, 0.015438245609402657, 0.0, 0.0, 0.0, 0.0, 0.0, 0.0, 0.0, 0.0, 0.0, 0.0, 0.0, 0.0, 0.0, 0.0, 0.0, 0.0, 0.0, 0.0, 0.0, 0.0, 0.0, 0.0, 0.0, 0.0, 0.0, 0.0, 0.0, 0.0, 0.0, 0.0, 0.0, 0.0, 0.0, 0.0, 0.0, 0.0, 0.0, 0.0, 0.0, 0.0], [1.1375460417184513e-05, 0.00041511745075695217, 0.000568755145650357, 0.0035322844050824642, 0.007091190665960312, 0.3337455987930298, 0.6505610942840576, 0.00023567836615256965, 0.001879679155535996, 0.0003101558249909431, 4.374427589937113e-06, 1.991133285628166e-05, 5.036507673139567e-07, 0.00010558016947470605, 0.00012616578896995634, 2.5633284167270176e-05, 1.3066256542515475e-05, 1.8399690588921658e-06, 0.0006803954020142555, 0.00012145968503318727, 2.4618691440991824e-06, 0.0003091237449552864, 0.00015848416660446674, 8.00675552454777e-05, 0.0, 0.0, 0.0, 0.0, 0.0, 0.0, 0.0, 0.0, 0.0, 0.0, 0.0, 0.0, 0.0, 0.0, 0.0, 0.0, 0.0, 0.0, 0.0, 0.0, 0.0, 0.0, 0.0, 0.0, 0.0, 0.0, 0.0, 0.0, 0.0, 0.0, 0.0, 0.0, 0.0, 0.0, 0.0, 0.0, 0.0, 0.0, 0.0, 0.0], [0.018411414697766304, 0.009433883242309093, 0.05215844511985779, 0.10274694859981537, 0.16778916120529175, 0.064536914229393, 0.3674977123737335, 0.06647444516420364, 0.05075361952185631, 0.011173740029335022, 0.004727387335151434, 0.02539163827896118, 0.00029280921444296837, 0.0005861262907274067, 0.022471776232123375, 0.00017059696256183088, 0.003632701002061367, 6.371628114720806e-05, 0.0002659221354406327, 0.021708447486162186, 6.624206434935331e-05, 0.0002829797740560025, 0.00285067455843091, 0.006512617692351341, 0.0, 0.0, 0.0, 0.0, 0.0, 0.0, 0.0, 0.0, 0.0, 0.0, 0.0, 0.0, 0.0, 0.0, 0.0, 0.0, 0.0, 0.0, 0.0, 0.0, 0.0, 0.0, 0.0, 0.0, 0.0, 0.0, 0.0, 0.0, 0.0, 0.0, 0.0, 0.0, 0.0, 0.0, 0.0, 0.0, 0.0, 0.0, 0.0, 0.0], [0.00041309642256237566, 0.0007006757659837604, 0.0009529507951810956, 0.002874897327274084, 0.05645901709794998, 0.09877621382474899, 0.33714166283607483, 0.2649967670440674, 0.18188218772411346, 0.031673166900873184, 0.004107819404453039, 0.0027935795951634645, 4.2363404645584524e-05, 0.00010980563092743978, 0.008837852627038956, 3.750023097381927e-05, 0.00021306930284481496, 1.5966968476277543e-06, 7.1392173595086206e-06, 0.007228609174489975, 9.691522109278594e-07, 3.893352186423726e-06, 0.00020030014275107533, 0.0005448450101539493, 0.0, 0.0, 0.0, 0.0, 0.0, 0.0, 0.0, 0.0, 0.0, 0.0, 0.0, 0.0, 0.0, 0.0, 0.0, 0.0, 0.0, 0.0, 0.0, 0.0, 0.0, 0.0, 0.0, 0.0, 0.0, 0.0, 0.0, 0.0, 0.0, 0.0, 0.0, 0.0, 0.0, 0.0, 0.0, 0.0, 0.0, 0.0, 0.0, 0.0], [1.7655756892054342e-05, 9.597715688869357e-05, 1.554395566927269e-05, 4.441654891707003e-05, 0.00021599784668069333, 0.013109144754707813, 0.09731985628604889, 0.028414826840162277, 0.5254533290863037, 0.3150372803211212, 0.012414932250976562, 9.81111588771455e-05, 7.93483413872309e-05, 0.0051882765255868435, 0.000979989068582654, 0.0008428011788055301, 2.0698678781627677e-05, 1.0477516525497776e-06, 7.0050878093752544e-06, 0.0006329420139081776, 1.839893855049013e-07, 5.082207508166903e-07, 3.7933864405204076e-06, 6.321385171759175e-06, 0.0, 0.0, 0.0, 0.0, 0.0, 0.0, 0.0, 0.0, 0.0, 0.0, 0.0, 0.0, 0.0, 0.0, 0.0, 0.0, 0.0, 0.0, 0.0, 0.0, 0.0, 0.0, 0.0, 0.0, 0.0, 0.0, 0.0, 0.0, 0.0, 0.0, 0.0, 0.0, 0.0, 0.0, 0.0, 0.0, 0.0, 0.0, 0.0, 0.0], [5.0702572480076924e-05, 3.677377026178874e-05, 1.0941487744275946e-05, 0.00011377862392691895, 0.00018153911514673382, 0.00024679454509168863, 0.0023850048892199993, 0.022310951724648476, 0.03514691814780235, 0.7928309440612793, 0.10443678498268127, 0.0011200339067727327, 0.004126125015318394, 0.025427570566534996, 0.004112068098038435, 0.003968349192291498, 0.0011817185441032052, 2.2191185053088702e-05, 3.793299038079567e-05, 0.0022197505459189415, 8.244709306381992e-07, 1.3760283081865055e-06, 2.1651465431204997e-05, 9.14458814804675e-06, 0.0, 0.0, 0.0, 0.0, 0.0, 0.0, 0.0, 0.0, 0.0, 0.0, 0.0, 0.0, 0.0, 0.0, 0.0, 0.0, 0.0, 0.0, 0.0, 0.0, 0.0, 0.0, 0.0, 0.0, 0.0, 0.0, 0.0, 0.0, 0.0, 0.0, 0.0, 0.0, 0.0, 0.0, 0.0, 0.0, 0.0, 0.0, 0.0, 0.0], [0.0007519166683778167, 0.0003015013935510069, 0.00023790038540028036, 0.0011451481841504574, 0.003048216225579381, 0.000998767325654626, 0.0040586041286587715, 0.10946094244718552, 0.011510838754475117, 0.29599446058273315, 0.4085506498813629, 0.007571263238787651, 0.02462209016084671, 0.016495781019330025, 0.02612355537712574, 0.014137843623757362, 0.050656337291002274, 0.004125557839870453, 0.0004815748252440244, 0.01654786430299282, 0.0004963371902704239, 7.303665188373998e-05, 0.0016874305438250303, 0.0009223722154274583, 0.0, 0.0, 0.0, 0.0, 0.0, 0.0, 0.0, 0.0, 0.0, 0.0, 0.0, 0.0, 0.0, 0.0, 0.0, 0.0, 0.0, 0.0, 0.0, 0.0, 0.0, 0.0, 0.0, 0.0, 0.0, 0.0, 0.0, 0.0, 0.0, 0.0, 0.0, 0.0, 0.0, 0.0, 0.0, 0.0, 0.0, 0.0, 0.0, 0.0], [0.005539131350815296, 0.002914902986958623, 0.0037787340115755796, 0.0027796428184956312, 0.0030503948219120502, 0.0007326657068915665, 0.0019701721612364054, 0.023298729211091995, 0.004868147894740105, 0.02078949473798275, 0.14784948527812958, 0.040886253118515015, 0.35845544934272766, 0.1106993556022644, 0.024003783240914345, 0.08595915138721466, 0.060519296675920486, 0.04486611858010292, 0.016607757657766342, 0.019974227994680405, 0.006043275818228722, 0.00487843994051218, 0.007169903255999088, 0.0023655304685235023, 0.0, 0.0, 0.0, 0.0, 0.0, 0.0, 0.0, 0.0, 0.0, 0.0, 0.0, 0.0, 0.0, 0.0, 0.0, 0.0, 0.0, 0.0, 0.0, 0.0, 0.0, 0.0, 0.0, 0.0, 0.0, 0.0, 0.0, 0.0, 0.0, 0.0, 0.0, 0.0, 0.0, 0.0, 0.0, 0.0, 0.0, 0.0, 0.0, 0.0], [0.0003732246404979378, 0.0003818743280135095, 4.8191814130404964e-05, 7.895120506873354e-05, 4.923209417029284e-05, 0.0001823517814045772, 0.0003672348102554679, 0.00021702703088521957, 0.018926085904240608, 0.027046946808695793, 0.013934229500591755, 0.0005781746585853398, 0.05276160314679146, 0.44467484951019287, 0.00514229154214263, 0.41058218479156494, 0.014801638200879097, 0.0005120194400660694, 0.006019342690706253, 0.0029183379374444485, 1.4686940630781464e-05, 0.000248466880293563, 0.00012119256280129775, 1.9909612092305906e-05, 0.0, 0.0, 0.0, 0.0, 0.0, 0.0, 0.0, 0.0, 0.0, 0.0, 0.0, 0.0, 0.0, 0.0, 0.0, 0.0, 0.0, 0.0, 0.0, 0.0, 0.0, 0.0, 0.0, 0.0, 0.0, 0.0, 0.0, 0.0, 0.0, 0.0, 0.0, 0.0, 0.0, 0.0, 0.0, 0.0, 0.0, 0.0, 0.0, 0.0], [0.00018279650248587132, 0.0005738279432989657, 3.379032568773255e-05, 0.00034479342866688967, 6.925235356902704e-05, 0.00019048285321332514, 0.002052797470241785, 0.0016280623385682702, 0.009641701355576515, 0.09496073424816132, 0.030517425388097763, 0.0011736517772078514, 0.003157910192385316, 0.5481265187263489, 0.005943454336374998, 0.2788516879081726, 0.011441781185567379, 0.0020951787009835243, 0.005399088840931654, 0.0031962392386049032, 8.421242091571912e-05, 0.00012490972585510463, 0.00017356856551487, 3.60996818926651e-05, 0.0, 0.0, 0.0, 0.0, 0.0, 0.0, 0.0, 0.0, 0.0, 0.0, 0.0, 0.0, 0.0, 0.0, 0.0, 0.0, 0.0, 0.0, 0.0, 0.0, 0.0, 0.0, 0.0, 0.0, 0.0, 0.0, 0.0, 0.0, 0.0, 0.0, 0.0, 0.0, 0.0, 0.0, 0.0, 0.0, 0.0, 0.0, 0.0, 0.0], [2.3451655579265207e-05, 0.00011864761472679675, 2.1410847693914548e-05, 0.0010850143153220415, 8.477947994833812e-05, 6.63942628307268e-05, 0.0014395663747563958, 0.0008964571752585471, 6.806241435697302e-05, 0.05334584414958954, 0.03425872325897217, 0.0011223303154110909, 0.0013964123791083694, 0.22965188324451447, 0.005080878268927336, 0.2092934399843216, 0.20710469782352448, 0.17127789556980133, 0.06504632532596588, 0.0027004394214600325, 0.011037751100957394, 0.0013378245057538152, 0.0030706601683050394, 0.00047120871022343636, 0.0, 0.0, 0.0, 0.0, 0.0, 0.0, 0.0, 0.0, 0.0, 0.0, 0.0, 0.0, 0.0, 0.0, 0.0, 0.0, 0.0, 0.0, 0.0, 0.0, 0.0, 0.0, 0.0, 0.0, 0.0, 0.0, 0.0, 0.0, 0.0, 0.0, 0.0, 0.0, 0.0, 0.0, 0.0, 0.0, 0.0, 0.0, 0.0, 0.0], [4.805054686585208e-06, 9.051414963323623e-05, 3.383142257007421e-06, 3.6560963962983806e-06, 7.1646395554125775e-06, 0.00013227078306954354, 0.0009596188901923597, 4.498552516452037e-05, 0.00013051849964540452, 0.001107710413634777, 0.0009178653708659112, 0.00023288148804567754, 0.00046840269351378083, 0.261890172958374, 0.00021764069970231503, 0.250198632478714, 0.002071959665045142, 0.006072233431041241, 0.45120275020599365, 0.0001797224977053702, 0.0005459542735479772, 0.022640421986579895, 0.000856812228448689, 1.9839737433358096e-05, 0.0, 0.0, 0.0, 0.0, 0.0, 0.0, 0.0, 0.0, 0.0, 0.0, 0.0, 0.0, 0.0, 0.0, 0.0, 0.0, 0.0, 0.0, 0.0, 0.0, 0.0, 0.0, 0.0, 0.0, 0.0, 0.0, 0.0, 0.0, 0.0, 0.0, 0.0, 0.0, 0.0, 0.0, 0.0, 0.0, 0.0, 0.0, 0.0, 0.0], [0.002008108189329505, 0.0015126642538234591, 0.0004612947814166546, 0.0017456531058996916, 0.000598565093241632, 5.429098746390082e-05, 5.4716223530704156e-05, 7.964239193825051e-05, 1.2174575203971472e-05, 0.0001722551096463576, 0.0005246298969723284, 0.001741061802022159, 5.940086703049019e-05, 0.00047984725097194314, 0.0037665546406060457, 0.007713664788752794, 0.4945359230041504, 0.12684373557567596, 0.01884440705180168, 0.003978187218308449, 0.18892019987106323, 0.012251714244484901, 0.0716782659292221, 0.061963073909282684, 0.0, 0.0, 0.0, 0.0, 0.0, 0.0, 0.0, 0.0, 0.0, 0.0, 0.0, 0.0, 0.0, 0.0, 0.0, 0.0, 0.0, 0.0, 0.0, 0.0, 0.0, 0.0, 0.0, 0.0, 0.0, 0.0, 0.0, 0.0, 0.0, 0.0, 0.0, 0.0, 0.0, 0.0, 0.0, 0.0, 0.0, 0.0, 0.0, 0.0], [0.004090782254934311, 0.004681940656155348, 0.0008797302725724876, 0.0003669385041575879, 0.0004704595194198191, 0.0013572084717452526, 0.001045319950208068, 0.0002237849257653579, 0.0009973798878490925, 0.0015107284998521209, 0.001785204978659749, 0.004179650917649269, 0.008114934898912907, 0.05885909125208855, 0.0025631915777921677, 0.1353558897972107, 0.026760075241327286, 0.030667314305901527, 0.3879731595516205, 0.0029867072589695454, 0.01901213638484478, 0.2794136106967926, 0.023347271606326103, 0.003357486566528678, 0.0, 0.0, 0.0, 0.0, 0.0, 0.0, 0.0, 0.0, 0.0, 0.0, 0.0, 0.0, 0.0, 0.0, 0.0, 0.0, 0.0, 0.0, 0.0, 0.0, 0.0, 0.0, 0.0, 0.0, 0.0, 0.0, 0.0, 0.0, 0.0, 0.0, 0.0, 0.0, 0.0, 0.0, 0.0, 0.0, 0.0, 0.0, 0.0, 0.0], [0.008247144520282745, 0.0070787412114441395, 0.0054800440557301044, 0.007339633535593748, 0.002891759853810072, 0.0003509099769871682, 0.00015474268002435565, 2.8876520445919596e-05, 3.0096383852651343e-05, 4.786370027431985e-06, 0.0001079678550013341, 0.004348872695118189, 0.000330629525706172, 0.0004665401647798717, 0.0036468305625021458, 0.0027183983474969864, 0.07468254864215851, 0.14752808213233948, 0.029220281168818474, 0.004887844435870647, 0.35003364086151123, 0.08919414132833481, 0.18112029135227203, 0.08010727912187576, 0.0, 0.0, 0.0, 0.0, 0.0, 0.0, 0.0, 0.0, 0.0, 0.0, 0.0, 0.0, 0.0, 0.0, 0.0, 0.0, 0.0, 0.0, 0.0, 0.0, 0.0, 0.0, 0.0, 0.0, 0.0, 0.0, 0.0, 0.0, 0.0, 0.0, 0.0, 0.0, 0.0, 0.0, 0.0, 0.0, 0.0, 0.0, 0.0, 0.0], [0.006941189989447594, 0.00759404432028532, 0.004720366559922695, 0.01806238479912281, 0.008169297128915787, 0.00327891344204545, 0.0021925673354417086, 0.00040678674122318625, 0.0004590656026266515, 0.00013343551836442202, 0.0005381950759328902, 0.006825305055826902, 0.00025201213429681957, 0.00044183534919284284, 0.010857740417122841, 0.0014892262406647205, 0.05871516093611717, 0.04797878861427307, 0.00781589187681675, 0.014160078018903732, 0.22458964586257935, 0.02182750217616558, 0.14670057594776154, 0.40585002303123474, 0.0, 0.0, 0.0, 0.0, 0.0, 0.0, 0.0, 0.0, 0.0, 0.0, 0.0, 0.0, 0.0, 0.0, 0.0, 0.0, 0.0, 0.0, 0.0, 0.0, 0.0, 0.0, 0.0, 0.0, 0.0, 0.0, 0.0, 0.0, 0.0, 0.0, 0.0, 0.0, 0.0, 0.0, 0.0, 0.0, 0.0, 0.0, 0.0, 0.0], [0.005350617226213217, 0.005738195031881332, 0.0071441964246332645, 0.05726886913180351, 0.0503656379878521, 0.008193306624889374, 0.0035337943118065596, 0.0015425633173435926, 7.653816282982007e-05, 0.00019244574650656432, 0.0004624372231774032, 0.0071528516709804535, 0.0002294873120263219, 7.860581536078826e-05, 0.006486984901130199, 0.0003548134118318558, 0.028869211673736572, 0.05060718581080437, 0.005918384063988924, 0.007472309283912182, 0.26585376262664795, 0.02318708226084709, 0.10618114471435547, 0.35773953795433044, 0.0, 0.0, 0.0, 0.0, 0.0, 0.0, 0.0, 0.0, 0.0, 0.0, 0.0, 0.0, 0.0, 0.0, 0.0, 0.0, 0.0, 0.0, 0.0, 0.0, 0.0, 0.0, 0.0, 0.0, 0.0, 0.0, 0.0, 0.0, 0.0, 0.0, 0.0, 0.0, 0.0, 0.0, 0.0, 0.0, 0.0, 0.0, 0.0, 0.0]], [[0.010822314769029617, 0.7070226073265076, 0.10765274614095688, 0.10785108059644699, 0.004834018647670746, 0.01357477717101574, 0.006817257031798363, 0.0005561963771469891, 0.013636543415486813, 0.0017644112231209874, 0.0003411415673326701, 0.0028867325745522976, 0.0016972374869510531, 0.0028335179667919874, 0.0007690676720812917, 0.0011463114060461521, 0.005411709193140268, 0.0005196745041757822, 0.0016753505915403366, 0.000728041457477957, 0.0003652409359347075, 0.00059932452859357, 0.003908613696694374, 0.002586156129837036, 0.0, 0.0, 0.0, 0.0, 0.0, 0.0, 0.0, 0.0, 0.0, 0.0, 0.0, 0.0, 0.0, 0.0, 0.0, 0.0, 0.0, 0.0, 0.0, 0.0, 0.0, 0.0, 0.0, 0.0, 0.0, 0.0, 0.0, 0.0, 0.0, 0.0, 0.0, 0.0, 0.0, 0.0, 0.0, 0.0, 0.0, 0.0, 0.0, 0.0], [0.02130870521068573, 0.022817175835371017, 0.09774328023195267, 0.12378186732530594, 0.06076924502849579, 0.045493461191654205, 0.07319920510053635, 0.006133354734629393, 0.01546864677220583, 0.014352054335176945, 0.008936411701142788, 0.048977840691804886, 0.007521767169237137, 0.056144554167985916, 0.029942365363240242, 0.0641402155160904, 0.041835688054561615, 0.01429175864905119, 0.08278366923332214, 0.03168325126171112, 0.011654606088995934, 0.08043095469474792, 0.01912424899637699, 0.02146557718515396, 0.0, 0.0, 0.0, 0.0, 0.0, 0.0, 0.0, 0.0, 0.0, 0.0, 0.0, 0.0, 0.0, 0.0, 0.0, 0.0, 0.0, 0.0, 0.0, 0.0, 0.0, 0.0, 0.0, 0.0, 0.0, 0.0, 0.0, 0.0, 0.0, 0.0, 0.0, 0.0, 0.0, 0.0, 0.0, 0.0, 0.0, 0.0, 0.0, 0.0], [0.01451733335852623, 0.04822401702404022, 0.05701587721705437, 0.6351880431175232, 0.040710173547267914, 0.07733248174190521, 0.049403928220272064, 0.0018723256653174758, 0.010398739948868752, 0.0050061470828950405, 0.00016354311082977802, 0.0014864952536299825, 0.0007451298297382891, 0.005342989694327116, 0.002634905045852065, 0.0030198819003999233, 0.009872694499790668, 0.000779764901380986, 0.00612532626837492, 0.0023482320830225945, 0.0012792333727702498, 0.004230925347656012, 0.008850721642374992, 0.013451124541461468, 0.0, 0.0, 0.0, 0.0, 0.0, 0.0, 0.0, 0.0, 0.0, 0.0, 0.0, 0.0, 0.0, 0.0, 0.0, 0.0, 0.0, 0.0, 0.0, 0.0, 0.0, 0.0, 0.0, 0.0, 0.0, 0.0, 0.0, 0.0, 0.0, 0.0, 0.0, 0.0, 0.0, 0.0, 0.0, 0.0, 0.0, 0.0, 0.0, 0.0], [0.010461444966495037, 0.028963854536414146, 0.029163140803575516, 0.028768625110387802, 0.027369622141122818, 0.31325796246528625, 0.4017336666584015, 0.004692068323493004, 0.051555097103118896, 0.008169461973011494, 0.0005080343689769506, 0.012259097769856453, 0.0005989531055092812, 0.010972993448376656, 0.004392821341753006, 0.006369751412421465, 0.0066636246629059315, 0.0003497066209092736, 0.013257605955004692, 0.005465041846036911, 0.0006305960705503821, 0.017929425463080406, 0.011055024340748787, 0.0054123601876199245, 0.0, 0.0, 0.0, 0.0, 0.0, 0.0, 0.0, 0.0, 0.0, 0.0, 0.0, 0.0, 0.0, 0.0, 0.0, 0.0, 0.0, 0.0, 0.0, 0.0, 0.0, 0.0, 0.0, 0.0, 0.0, 0.0, 0.0, 0.0, 0.0, 0.0, 0.0, 0.0, 0.0, 0.0, 0.0, 0.0, 0.0, 0.0, 0.0, 0.0], [0.008909455500543118, 0.047343816608190536, 0.015309572219848633, 0.02799288183450699, 0.021957119926810265, 0.3125723898410797, 0.49079808592796326, 0.0015735349152237177, 0.04747496917843819, 0.0026169379707425833, 0.00011178540444234386, 0.003062293864786625, 0.0004426852101460099, 0.006275705993175507, 0.001309876679442823, 0.0017662874888628721, 0.0006900621228851378, 6.240788206923753e-05, 0.003986776806414127, 0.001286157057620585, 0.00010224330617347732, 0.0023834765888750553, 0.0009588894317857921, 0.0010125573026016355, 0.0, 0.0, 0.0, 0.0, 0.0, 0.0, 0.0, 0.0, 0.0, 0.0, 0.0, 0.0, 0.0, 0.0, 0.0, 0.0, 0.0, 0.0, 0.0, 0.0, 0.0, 0.0, 0.0, 0.0, 0.0, 0.0, 0.0, 0.0, 0.0, 0.0, 0.0, 0.0, 0.0, 0.0, 0.0, 0.0, 0.0, 0.0, 0.0, 0.0], [0.010071390308439732, 0.0014991583302617073, 0.0027521320153027773, 0.010015739127993584, 0.01620892621576786, 0.07768275588750839, 0.501462996006012, 0.004149969667196274, 0.026351705193519592, 0.020218249410390854, 0.00455070286989212, 0.1532716155052185, 0.004059535916894674, 0.03494621440768242, 0.04182492196559906, 0.016027864068746567, 0.0019696764647960663, 0.0005979281850159168, 0.003985623363405466, 0.04729906842112541, 0.0005374109023250639, 0.0160229429602623, 0.001671314355917275, 0.0028221444226801395, 0.0, 0.0, 0.0, 0.0, 0.0, 0.0, 0.0, 0.0, 0.0, 0.0, 0.0, 0.0, 0.0, 0.0, 0.0, 0.0, 0.0, 0.0, 0.0, 0.0, 0.0, 0.0, 0.0, 0.0, 0.0, 0.0, 0.0, 0.0, 0.0, 0.0, 0.0, 0.0, 0.0, 0.0, 0.0, 0.0, 0.0, 0.0, 0.0, 0.0], [0.0024460270069539547, 0.007429656572639942, 0.007859273813664913, 0.01269305869936943, 0.005361325107514858, 0.13626393675804138, 0.2563113570213318, 0.0074134827591478825, 0.36826616525650024, 0.10650663822889328, 0.002731738379225135, 0.004110119771212339, 0.005142434500157833, 0.05269787460565567, 0.004990090150386095, 0.01218865904957056, 0.0018201665952801704, 5.075804438092746e-05, 0.0007424356881529093, 0.0038993703201413155, 1.7777880202629603e-05, 0.00012572534615173936, 0.0006498352740891278, 0.00028210345772095025, 0.0, 0.0, 0.0, 0.0, 0.0, 0.0, 0.0, 0.0, 0.0, 0.0, 0.0, 0.0, 0.0, 0.0, 0.0, 0.0, 0.0, 0.0, 0.0, 0.0, 0.0, 0.0, 0.0, 0.0, 0.0, 0.0, 0.0, 0.0, 0.0, 0.0, 0.0, 0.0, 0.0, 0.0, 0.0, 0.0, 0.0, 0.0, 0.0, 0.0], [0.0008370248833671212, 0.0025030926335603, 0.0006600741180591285, 0.0010027639800682664, 0.0013806349597871304, 0.05330813303589821, 0.18074442446231842, 0.004258750472217798, 0.3071029782295227, 0.20797856152057648, 0.0038509443402290344, 0.0012757208896800876, 0.0029998908285051584, 0.13455724716186523, 0.0018591472180560231, 0.0887303277850151, 0.0013971944572404027, 0.00011174836254213005, 0.0031262231059372425, 0.0014383334200829268, 3.499861486488953e-05, 0.0004744373436551541, 0.00030822126427665353, 5.919056275160983e-05, 0.0, 0.0, 0.0, 0.0, 0.0, 0.0, 0.0, 0.0, 0.0, 0.0, 0.0, 0.0, 0.0, 0.0, 0.0, 0.0, 0.0, 0.0, 0.0, 0.0, 0.0, 0.0, 0.0, 0.0, 0.0, 0.0, 0.0, 0.0, 0.0, 0.0, 0.0, 0.0, 0.0, 0.0, 0.0, 0.0, 0.0, 0.0, 0.0, 0.0], [0.0014877154026180506, 0.004116982687264681, 0.0005980778369121253, 0.001668862416408956, 0.00038344095810316503, 0.0036107066553086042, 0.014150270260870457, 0.0018453720258548856, 0.04242506995797157, 0.17667609453201294, 0.007557007484138012, 0.0020631630904972553, 0.01945197582244873, 0.5395426750183105, 0.001944366144016385, 0.15859879553318024, 0.007271467708051205, 0.00040197031921707094, 0.013450215570628643, 0.0012098044389858842, 5.568452615989372e-05, 0.0009389110491611063, 0.00047376283328048885, 7.76579836383462e-05, 0.0, 0.0, 0.0, 0.0, 0.0, 0.0, 0.0, 0.0, 0.0, 0.0, 0.0, 0.0, 0.0, 0.0, 0.0, 0.0, 0.0, 0.0, 0.0, 0.0, 0.0, 0.0, 0.0, 0.0, 0.0, 0.0, 0.0, 0.0, 0.0, 0.0, 0.0, 0.0, 0.0, 0.0, 0.0, 0.0, 0.0, 0.0, 0.0, 0.0], [0.00766744976863265, 0.0030637129675596952, 0.005581224337220192, 0.003972575068473816, 0.0034127638209611177, 0.007185955066233873, 0.01595206744968891, 0.021694863215088844, 0.03609410673379898, 0.1373339742422104, 0.14318838715553284, 0.047096140682697296, 0.044406089931726456, 0.2324022352695465, 0.02783920057117939, 0.12967447936534882, 0.04419872909784317, 0.007623293902724981, 0.029444823041558266, 0.026296550408005714, 0.0021958183497190475, 0.011479148641228676, 0.00912050437182188, 0.0030758902430534363, 0.0, 0.0, 0.0, 0.0, 0.0, 0.0, 0.0, 0.0, 0.0, 0.0, 0.0, 0.0, 0.0, 0.0, 0.0, 0.0, 0.0, 0.0, 0.0, 0.0, 0.0, 0.0, 0.0, 0.0, 0.0, 0.0, 0.0, 0.0, 0.0, 0.0, 0.0, 0.0, 0.0, 0.0, 0.0, 0.0, 0.0, 0.0, 0.0, 0.0], [0.004561479203402996, 0.0014974185032770038, 0.0057314918376505375, 0.002858945867046714, 0.0014342598151415586, 0.0015919625293463469, 0.0018735608318820596, 0.0005964766023680568, 0.0018128296360373497, 0.007539049256592989, 0.012065251357853413, 0.4402081370353699, 0.010732422582805157, 0.031763430684804916, 0.15881887078285217, 0.047507259994745255, 0.019067170098423958, 0.0033329941798001528, 0.008830757811665535, 0.2133507877588272, 0.0011167768388986588, 0.012198791839182377, 0.005435541272163391, 0.006074370350688696, 0.0, 0.0, 0.0, 0.0, 0.0, 0.0, 0.0, 0.0, 0.0, 0.0, 0.0, 0.0, 0.0, 0.0, 0.0, 0.0, 0.0, 0.0, 0.0, 0.0, 0.0, 0.0, 0.0, 0.0, 0.0, 0.0, 0.0, 0.0, 0.0, 0.0, 0.0, 0.0, 0.0, 0.0, 0.0, 0.0, 0.0, 0.0, 0.0, 0.0], [0.0015348218148574233, 0.004260492045432329, 0.0012255850015208125, 0.0032092141918838024, 0.00031565039535053074, 0.003557531163096428, 0.006137502379715443, 0.0002293355792062357, 0.02185698039829731, 0.02156751975417137, 0.0021734933834522963, 0.0030397213995456696, 0.03513609245419502, 0.44621631503105164, 0.007688361220061779, 0.37649792432785034, 0.022753242403268814, 0.002912341384217143, 0.026834942400455475, 0.00582006573677063, 0.0006096864235587418, 0.004095308482646942, 0.001911573694087565, 0.00041635744855739176, 0.0, 0.0, 0.0, 0.0, 0.0, 0.0, 0.0, 0.0, 0.0, 0.0, 0.0, 0.0, 0.0, 0.0, 0.0, 0.0, 0.0, 0.0, 0.0, 0.0, 0.0, 0.0, 0.0, 0.0, 0.0, 0.0, 0.0, 0.0, 0.0, 0.0, 0.0, 0.0, 0.0, 0.0, 0.0, 0.0, 0.0, 0.0, 0.0, 0.0], [0.00021854820079170167, 0.0006792921340093017, 0.00016302963194902986, 0.0009406640310771763, 7.141056266846135e-05, 0.0010338397696614265, 0.004723665304481983, 0.00011051975161535665, 0.005437921732664108, 0.01599797047674656, 0.0006475122063420713, 0.00042987297638319433, 0.003356471424922347, 0.4827081859111786, 0.0011515484657138586, 0.4417842626571655, 0.009768703952431679, 0.0014660981250926852, 0.024819061160087585, 0.0008216535788960755, 0.000305016350466758, 0.0027352378237992525, 0.0005412791506387293, 8.824050746625289e-05, 0.0, 0.0, 0.0, 0.0, 0.0, 0.0, 0.0, 0.0, 0.0, 0.0, 0.0, 0.0, 0.0, 0.0, 0.0, 0.0, 0.0, 0.0, 0.0, 0.0, 0.0, 0.0, 0.0, 0.0, 0.0, 0.0, 0.0, 0.0, 0.0, 0.0, 0.0, 0.0, 0.0, 0.0, 0.0, 0.0, 0.0, 0.0, 0.0, 0.0], [0.0017048498848453164, 0.002695414936169982, 0.0006636131438426673, 0.002648281864821911, 0.0004621575935743749, 0.0022265291772782803, 0.00885033793747425, 0.0007965173572301865, 0.0016148402355611324, 0.02030925452709198, 0.0038830209523439407, 0.006926664616912603, 0.008216294459998608, 0.376657634973526, 0.0037045192439109087, 0.263717919588089, 0.031421635299921036, 0.008710786700248718, 0.19183267652988434, 0.0030563990585505962, 0.0028044951613992453, 0.05181599408388138, 0.004166429862380028, 0.0011136764660477638, 0.0, 0.0, 0.0, 0.0, 0.0, 0.0, 0.0, 0.0, 0.0, 0.0, 0.0, 0.0, 0.0, 0.0, 0.0, 0.0, 0.0, 0.0, 0.0, 0.0, 0.0, 0.0, 0.0, 0.0, 0.0, 0.0, 0.0, 0.0, 0.0, 0.0, 0.0, 0.0, 0.0, 0.0, 0.0, 0.0, 0.0, 0.0, 0.0, 0.0], [0.001087679760530591, 0.0036703734658658504, 0.0006543126073665917, 0.00024252109869848937, 0.0002939949627034366, 0.0006683048559352756, 0.0028086123056709766, 0.000244134571403265, 0.002138798590749502, 0.003245263360440731, 0.0016756505938246846, 0.012915008701384068, 0.0017588321352377534, 0.16881152987480164, 0.0026696373242884874, 0.25395339727401733, 0.013825525529682636, 0.0050458661280572414, 0.36322686076164246, 0.0029670302756130695, 0.002165003912523389, 0.15312713384628296, 0.002402384765446186, 0.00040205236291512847, 0.0, 0.0, 0.0, 0.0, 0.0, 0.0, 0.0, 0.0, 0.0, 0.0, 0.0, 0.0, 0.0, 0.0, 0.0, 0.0, 0.0, 0.0, 0.0, 0.0, 0.0, 0.0, 0.0, 0.0, 0.0, 0.0, 0.0, 0.0, 0.0, 0.0, 0.0, 0.0, 0.0, 0.0, 0.0, 0.0, 0.0, 0.0, 0.0, 0.0], [0.004973752424120903, 0.007495585363358259, 0.004785718396306038, 0.003263436257839203, 0.004227137193083763, 0.021382644772529602, 0.026774918660521507, 0.001345994183793664, 0.002465065335854888, 0.0037417192943394184, 0.0011815415928140283, 0.027988526970148087, 0.0012431754730641842, 0.019417664036154747, 0.0052708410657942295, 0.0300250593572855, 0.018323007971048355, 0.007308297790586948, 0.22199638187885284, 0.007754272781312466, 0.013003579340875149, 0.5253908634185791, 0.03355718031525612, 0.007083617150783539, 0.0, 0.0, 0.0, 0.0, 0.0, 0.0, 0.0, 0.0, 0.0, 0.0, 0.0, 0.0, 0.0, 0.0, 0.0, 0.0, 0.0, 0.0, 0.0, 0.0, 0.0, 0.0, 0.0, 0.0, 0.0, 0.0, 0.0, 0.0, 0.0, 0.0, 0.0, 0.0, 0.0, 0.0, 0.0, 0.0, 0.0, 0.0, 0.0, 0.0], [0.012319955043494701, 0.009014290757477283, 0.0065857600420713425, 0.0030571767129004, 0.0036252024583518505, 0.001339599839411676, 0.0013077433686703444, 0.0020886522252112627, 0.0011217707069590688, 0.0015179156325757504, 0.0034578631166368723, 0.015711937099695206, 0.0013959023635834455, 0.010153994895517826, 0.007704796735197306, 0.02755032293498516, 0.08116843551397324, 0.03890352323651314, 0.1731804609298706, 0.01078301016241312, 0.05878656357526779, 0.44431549310684204, 0.05379573255777359, 0.031113876029849052, 0.0, 0.0, 0.0, 0.0, 0.0, 0.0, 0.0, 0.0, 0.0, 0.0, 0.0, 0.0, 0.0, 0.0, 0.0, 0.0, 0.0, 0.0, 0.0, 0.0, 0.0, 0.0, 0.0, 0.0, 0.0, 0.0, 0.0, 0.0, 0.0, 0.0, 0.0, 0.0, 0.0, 0.0, 0.0, 0.0, 0.0, 0.0, 0.0, 0.0], [0.007696428801864386, 0.023868413642048836, 0.016516825184226036, 0.05036688596010208, 0.0030862614512443542, 0.04405266046524048, 0.02834433503448963, 0.0005550332134589553, 0.0035749366506934166, 0.000552537792827934, 0.0001906509860418737, 0.007009920198470354, 0.0009492632816545665, 0.031864047050476074, 0.004844671580940485, 0.01775672286748886, 0.11460711061954498, 0.009937763214111328, 0.11938673257827759, 0.006661777384579182, 0.026204438880085945, 0.15412864089012146, 0.2562001943588257, 0.07164378464221954, 0.0, 0.0, 0.0, 0.0, 0.0, 0.0, 0.0, 0.0, 0.0, 0.0, 0.0, 0.0, 0.0, 0.0, 0.0, 0.0, 0.0, 0.0, 0.0, 0.0, 0.0, 0.0, 0.0, 0.0, 0.0, 0.0, 0.0, 0.0, 0.0, 0.0, 0.0, 0.0, 0.0, 0.0, 0.0, 0.0, 0.0, 0.0, 0.0, 0.0], [0.0924035981297493, 0.16067682206630707, 0.05972282588481903, 0.13826031982898712, 0.043061573058366776, 0.04781315475702286, 0.012711184099316597, 0.004977968987077475, 0.004348419606685638, 0.0014782424550503492, 0.0009769469033926725, 0.020465679466724396, 0.005045036785304546, 0.0022019795142114162, 0.021506834775209427, 0.0033773593604564667, 0.03536919504404068, 0.01609150879085064, 0.016103126108646393, 0.025761490687727928, 0.03718388080596924, 0.03554574027657509, 0.04210597649216652, 0.1728111356496811, 0.0, 0.0, 0.0, 0.0, 0.0, 0.0, 0.0, 0.0, 0.0, 0.0, 0.0, 0.0, 0.0, 0.0, 0.0, 0.0, 0.0, 0.0, 0.0, 0.0, 0.0, 0.0, 0.0, 0.0, 0.0, 0.0, 0.0, 0.0, 0.0, 0.0, 0.0, 0.0, 0.0, 0.0, 0.0, 0.0, 0.0, 0.0, 0.0, 0.0], [0.025941865518689156, 0.02861603908240795, 0.013796837069094181, 0.03154982998967171, 0.03485605865716934, 0.167445108294487, 0.4151034951210022, 0.029437363147735596, 0.027584189549088478, 0.011672696098685265, 0.004143433179706335, 0.01101304404437542, 0.014601129107177258, 0.0290821585804224, 0.017542216926813126, 0.013553732074797153, 0.00531475804746151, 0.011428466066718102, 0.01819513738155365, 0.014177058823406696, 0.019000515341758728, 0.019003381952643394, 0.013293294236063957, 0.02364819496870041, 0.0, 0.0, 0.0, 0.0, 0.0, 0.0, 0.0, 0.0, 0.0, 0.0, 0.0, 0.0, 0.0, 0.0, 0.0, 0.0, 0.0, 0.0, 0.0, 0.0, 0.0, 0.0, 0.0, 0.0, 0.0, 0.0, 0.0, 0.0, 0.0, 0.0, 0.0, 0.0, 0.0, 0.0, 0.0, 0.0, 0.0, 0.0, 0.0, 0.0]], [[6.186226528370753e-05, 0.0022083416115492582, 0.9740250706672668, 0.017314711585640907, 0.000881168816704303, 0.0003035886329598725, 0.00016781753220129758, 0.00010829959501279518, 9.553004201734439e-05, 0.0001940937218023464, 3.7875306588830426e-05, 0.0010043791262432933, 0.0001367927179671824, 0.0001362562907161191, 0.0001261856668861583, 3.0125636840239167e-05, 0.0004232628270983696, 4.832707054447383e-05, 0.00010498067422304302, 0.00021856307284906507, 4.673320290748961e-05, 8.71899610501714e-05, 0.0016190335154533386, 0.0006197473267093301, 0.0, 0.0, 0.0, 0.0, 0.0, 0.0, 0.0, 0.0, 0.0, 0.0, 0.0, 0.0, 0.0, 0.0, 0.0, 0.0, 0.0, 0.0, 0.0, 0.0, 0.0, 0.0, 0.0, 0.0, 0.0, 0.0, 0.0, 0.0, 0.0, 0.0, 0.0, 0.0, 0.0, 0.0, 0.0, 0.0, 0.0, 0.0, 0.0, 0.0], [0.002076305216178298, 0.015451009385287762, 0.9259763956069946, 0.045027390122413635, 0.00570982601493597, 0.0002824928960762918, 0.00030224453075788915, 0.00011112594074802473, 0.000141638214699924, 3.983774877269752e-05, 2.338641570531763e-05, 0.0010457286844030023, 5.164067988516763e-05, 0.00010194310016231611, 0.0007590235327370465, 3.126226511085406e-05, 5.6545202824054286e-05, 0.00012739231169689447, 0.0001750335213728249, 0.001047482481226325, 0.00011942350829485804, 0.00019637458899524063, 0.00017669153749011457, 0.0009698611684143543, 0.0, 0.0, 0.0, 0.0, 0.0, 0.0, 0.0, 0.0, 0.0, 0.0, 0.0, 0.0, 0.0, 0.0, 0.0, 0.0, 0.0, 0.0, 0.0, 0.0, 0.0, 0.0, 0.0, 0.0, 0.0, 0.0, 0.0, 0.0, 0.0, 0.0, 0.0, 0.0, 0.0, 0.0, 0.0, 0.0, 0.0, 0.0, 0.0, 0.0], [0.00037678840453736484, 0.003700620960444212, 0.06944480538368225, 0.8713441491127014, 0.03270711377263069, 0.009062031283974648, 0.00065207778243348, 2.967472573800478e-05, 5.121649519423954e-05, 7.945459219627082e-05, 1.804521843951079e-06, 0.0014959062682464719, 0.0002379446232225746, 0.00023897095525171608, 0.0025144563987851143, 2.0168165065115318e-05, 8.500593685312197e-05, 4.6533194108633325e-05, 4.8852525651454926e-05, 0.0027835785876959562, 7.290009671123698e-05, 9.615244198357686e-05, 0.00048343875096179545, 0.004426438827067614, 0.0, 0.0, 0.0, 0.0, 0.0, 0.0, 0.0, 0.0, 0.0, 0.0, 0.0, 0.0, 0.0, 0.0, 0.0, 0.0, 0.0, 0.0, 0.0, 0.0, 0.0, 0.0, 0.0, 0.0, 0.0, 0.0, 0.0, 0.0, 0.0, 0.0, 0.0, 0.0, 0.0, 0.0, 0.0, 0.0, 0.0, 0.0, 0.0, 0.0], [0.00785056222230196, 0.013909642584621906, 0.051987387239933014, 0.1281718611717224, 0.31873828172683716, 0.2902185618877411, 0.12121330201625824, 0.008925314992666245, 0.0017614886164665222, 0.000730530358850956, 7.868035027058795e-05, 0.005923314951360226, 0.0047734202817082405, 0.0021923426538705826, 0.002891356125473976, 0.00028450286481529474, 0.0007181230466812849, 0.0002946138265542686, 0.00040687000728212297, 0.0027773180045187473, 0.0004732320085167885, 0.0026448825374245644, 0.029554449021816254, 0.0034800125285983086, 0.0, 0.0, 0.0, 0.0, 0.0, 0.0, 0.0, 0.0, 0.0, 0.0, 0.0, 0.0, 0.0, 0.0, 0.0, 0.0, 0.0, 0.0, 0.0, 0.0, 0.0, 0.0, 0.0, 0.0, 0.0, 0.0, 0.0, 0.0, 0.0, 0.0, 0.0, 0.0, 0.0, 0.0, 0.0, 0.0, 0.0, 0.0, 0.0, 0.0], [5.849076478625648e-05, 0.0004902615328319371, 0.0038604075089097023, 0.004032140597701073, 0.026276933029294014, 0.9358537197113037, 0.02764509804546833, 0.0002619162842165679, 0.0002574904647190124, 4.034529411001131e-05, 5.561806801779312e-07, 0.00025185191771015525, 8.712309863767587e-06, 1.1732273378584068e-05, 0.0002473896602168679, 1.0715767757574213e-06, 2.672153414096101e-06, 3.4288771644241933e-07, 3.209527449143934e-06, 0.0004008668183814734, 7.167142257458181e-07, 2.108350054186303e-05, 6.030581425875425e-05, 0.0002126350736944005, 0.0, 0.0, 0.0, 0.0, 0.0, 0.0, 0.0, 0.0, 0.0, 0.0, 0.0, 0.0, 0.0, 0.0, 0.0, 0.0, 0.0, 0.0, 0.0, 0.0, 0.0, 0.0, 0.0, 0.0, 0.0, 0.0, 0.0, 0.0, 0.0, 0.0, 0.0, 0.0, 0.0, 0.0, 0.0, 0.0, 0.0, 0.0, 0.0, 0.0], [0.0010164388222619891, 0.000466861150925979, 0.000554790545720607, 0.012744871899485588, 0.02476429007947445, 0.02638256549835205, 0.925621509552002, 0.005529468413442373, 0.0006405526655726135, 0.00034926022635772824, 3.093254781560972e-05, 0.00038342972402460873, 0.00031384461908601224, 0.0003424386086408049, 0.00017480782116763294, 3.6690191791421967e-06, 2.551016768848058e-05, 1.4258257579058409e-06, 6.42318036625511e-06, 0.00012042219168506563, 3.5207674500270514e-06, 1.678079024713952e-05, 0.00024019487318582833, 0.00026597038959152997, 0.0, 0.0, 0.0, 0.0, 0.0, 0.0, 0.0, 0.0, 0.0, 0.0, 0.0, 0.0, 0.0, 0.0, 0.0, 0.0, 0.0, 0.0, 0.0, 0.0, 0.0, 0.0, 0.0, 0.0, 0.0, 0.0, 0.0, 0.0, 0.0, 0.0, 0.0, 0.0, 0.0, 0.0, 0.0, 0.0, 0.0, 0.0, 0.0, 0.0], [0.00024240552738774568, 0.0005115468520671129, 0.0024861700367182493, 0.0014337076572701335, 0.02295997552573681, 0.045424170792102814, 0.35577812790870667, 0.4508211612701416, 0.05634676292538643, 0.05882500112056732, 0.0031020240858197212, 0.0005685515352524817, 0.0008672357071191072, 0.0002470275794621557, 0.00013009918620809913, 7.0998053161019925e-06, 9.326609870186076e-06, 1.2230844959049136e-07, 8.731105367587588e-07, 9.19361918931827e-05, 8.551332086881303e-08, 3.772535137613886e-07, 0.0001320306764682755, 1.4184444808051921e-05, 0.0, 0.0, 0.0, 0.0, 0.0, 0.0, 0.0, 0.0, 0.0, 0.0, 0.0, 0.0, 0.0, 0.0, 0.0, 0.0, 0.0, 0.0, 0.0, 0.0, 0.0, 0.0, 0.0, 0.0, 0.0, 0.0, 0.0, 0.0, 0.0, 0.0, 0.0, 0.0, 0.0, 0.0, 0.0, 0.0, 0.0, 0.0, 0.0, 0.0], [0.00011025627463823184, 0.0006795572699047625, 0.0003161832573823631, 0.0006319399690255523, 0.0006199432536959648, 0.04692966863512993, 0.22230567038059235, 0.040172114968299866, 0.33087077736854553, 0.3369464576244354, 0.0068193841725587845, 0.0019970545545220375, 0.00012877890549134463, 0.007979233749210835, 0.0015505803748965263, 0.00043693333282135427, 5.925316145294346e-06, 7.360245604104421e-07, 3.395287194507546e-06, 0.0014781721401959658, 1.6207171427140565e-07, 1.7342389355690102e-06, 5.021571269026026e-06, 1.0317321539332625e-05, 0.0, 0.0, 0.0, 0.0, 0.0, 0.0, 0.0, 0.0, 0.0, 0.0, 0.0, 0.0, 0.0, 0.0, 0.0, 0.0, 0.0, 0.0, 0.0, 0.0, 0.0, 0.0, 0.0, 0.0, 0.0, 0.0, 0.0, 0.0, 0.0, 0.0, 0.0, 0.0, 0.0, 0.0, 0.0, 0.0, 0.0, 0.0, 0.0, 0.0], [6.844651352366782e-07, 5.4393167374655604e-06, 1.559615498081257e-06, 3.584008709367481e-06, 1.4635368188464781e-06, 2.6181227440247312e-05, 0.0003135266015306115, 0.001655935076996684, 0.0012497330317273736, 0.9575134515762329, 0.013519507832825184, 5.366728873923421e-05, 0.0025586902629584074, 0.02182026207447052, 2.817966196744237e-05, 0.001185905421152711, 3.4653148759389296e-05, 1.804010736350392e-07, 1.0532180567679461e-05, 1.562851684866473e-05, 3.954800487093735e-09, 9.687229862720415e-08, 1.0057435702037765e-06, 6.776592442747642e-08, 0.0, 0.0, 0.0, 0.0, 0.0, 0.0, 0.0, 0.0, 0.0, 0.0, 0.0, 0.0, 0.0, 0.0, 0.0, 0.0, 0.0, 0.0, 0.0, 0.0, 0.0, 0.0, 0.0, 0.0, 0.0, 0.0, 0.0, 0.0, 0.0, 0.0, 0.0, 0.0, 0.0, 0.0, 0.0, 0.0, 0.0, 0.0, 0.0, 0.0], [0.000575793907046318, 0.0003727368894033134, 0.00015016054385341704, 0.00021255527099128813, 0.00027892275829799473, 0.0007008182583376765, 0.009620511904358864, 0.0813068374991417, 0.00698099797591567, 0.37275436520576477, 0.23804597556591034, 0.0024958865251392126, 0.1392439603805542, 0.12518590688705444, 0.0013755367835983634, 0.014903207309544086, 0.0018797648372128606, 0.0002267935051349923, 0.0019833853002637625, 0.0007470864802598953, 2.416535426164046e-05, 0.0002217484579887241, 0.0006840594578534365, 2.8845264750998467e-05, 0.0, 0.0, 0.0, 0.0, 0.0, 0.0, 0.0, 0.0, 0.0, 0.0, 0.0, 0.0, 0.0, 0.0, 0.0, 0.0, 0.0, 0.0, 0.0, 0.0, 0.0, 0.0, 0.0, 0.0, 0.0, 0.0, 0.0, 0.0, 0.0, 0.0, 0.0, 0.0, 0.0, 0.0, 0.0, 0.0, 0.0, 0.0, 0.0, 0.0], [0.01408576499670744, 0.006192132830619812, 0.007185850292444229, 0.008010722696781158, 0.0055593522265553474, 0.004034330602735281, 0.017562227323651314, 0.10876423120498657, 0.013708190992474556, 0.06905314326286316, 0.24953463673591614, 0.025140710175037384, 0.17931745946407318, 0.1482197642326355, 0.01758488081395626, 0.041785821318626404, 0.019636811688542366, 0.029464302584528923, 0.00832512229681015, 0.012375233694911003, 0.005205861758440733, 0.0020122427958995104, 0.0033600160386413336, 0.003881093580275774, 0.0, 0.0, 0.0, 0.0, 0.0, 0.0, 0.0, 0.0, 0.0, 0.0, 0.0, 0.0, 0.0, 0.0, 0.0, 0.0, 0.0, 0.0, 0.0, 0.0, 0.0, 0.0, 0.0, 0.0, 0.0, 0.0, 0.0, 0.0, 0.0, 0.0, 0.0, 0.0, 0.0, 0.0, 0.0, 0.0, 0.0, 0.0, 0.0, 0.0], [7.471984281437472e-05, 0.00019645883003249764, 0.0001249580818694085, 4.295016697142273e-05, 3.268822911195457e-05, 1.9774632164626382e-05, 3.969388853874989e-05, 7.369279046542943e-05, 0.0020183951128274202, 0.0036174876149743795, 0.00919041782617569, 0.0002619230072014034, 0.9322744011878967, 0.02748045325279236, 0.0006759165553376079, 0.02133934199810028, 0.001902193296700716, 0.00011791280121542513, 0.00012684299144893885, 0.00035926647251471877, 2.5805879886320326e-06, 1.4370720236911438e-05, 1.093863193091238e-05, 2.7121504899696447e-06, 0.0, 0.0, 0.0, 0.0, 0.0, 0.0, 0.0, 0.0, 0.0, 0.0, 0.0, 0.0, 0.0, 0.0, 0.0, 0.0, 0.0, 0.0, 0.0, 0.0, 0.0, 0.0, 0.0, 0.0, 0.0, 0.0, 0.0, 0.0, 0.0, 0.0, 0.0, 0.0, 0.0, 0.0, 0.0, 0.0, 0.0, 0.0, 0.0, 0.0], [3.1066367228049785e-05, 0.0001957370259333402, 7.2851353252190165e-06, 6.827952165622264e-05, 3.898403065250022e-06, 1.2992348274565302e-05, 0.00014673052646685392, 2.653043884492945e-05, 0.003107762895524502, 0.020115826278924942, 0.0013863930944353342, 0.0001577144576003775, 0.006307342555373907, 0.5418375730514526, 0.00040426995838060975, 0.42469289898872375, 0.00045588475768454373, 0.0003561565827112645, 0.0004294698592275381, 0.0002068670728476718, 9.433296327188145e-06, 3.3551368687767535e-05, 5.490514467965113e-06, 8.500124977217638e-07, 0.0, 0.0, 0.0, 0.0, 0.0, 0.0, 0.0, 0.0, 0.0, 0.0, 0.0, 0.0, 0.0, 0.0, 0.0, 0.0, 0.0, 0.0, 0.0, 0.0, 0.0, 0.0, 0.0, 0.0, 0.0, 0.0, 0.0, 0.0, 0.0, 0.0, 0.0, 0.0, 0.0, 0.0, 0.0, 0.0, 0.0, 0.0, 0.0, 0.0], [2.2155729766382137e-06, 1.5392681234516203e-05, 2.5801857646001736e-06, 1.2513505680544768e-05, 3.7288586440809013e-07, 7.054706657072529e-06, 0.00012069928925484419, 2.8318305339780636e-05, 1.8352089909967617e-06, 0.01258569210767746, 0.000422932964283973, 0.00010308157652616501, 0.0010982755338773131, 0.7698323726654053, 6.122035847511142e-05, 0.12944422662258148, 0.0045669772662222385, 0.0009331385954283178, 0.07954937219619751, 4.1557861550245434e-05, 6.153104914119467e-05, 0.0006466658087447286, 0.00045838661026209593, 3.487959475023672e-06, 0.0, 0.0, 0.0, 0.0, 0.0, 0.0, 0.0, 0.0, 0.0, 0.0, 0.0, 0.0, 0.0, 0.0, 0.0, 0.0, 0.0, 0.0, 0.0, 0.0, 0.0, 0.0, 0.0, 0.0, 0.0, 0.0, 0.0, 0.0, 0.0, 0.0, 0.0, 0.0, 0.0, 0.0, 0.0, 0.0, 0.0, 0.0, 0.0, 0.0], [6.890595250297338e-05, 0.00042945807217620313, 7.711486978223547e-05, 3.127827585558407e-05, 9.911471352097578e-06, 9.400810085935518e-05, 0.0003256524505559355, 0.0007155215134844184, 0.0004151764151174575, 0.006905189715325832, 0.003042467636987567, 0.0010967369889840484, 0.0032382819335907698, 0.25999143719673157, 0.0005589574575424194, 0.4920557737350464, 0.002287750132381916, 0.017067840322852135, 0.1660933792591095, 0.0005097326938994229, 0.001643109368160367, 0.042764101177453995, 0.0005411513266153634, 3.7035566492704675e-05, 0.0, 0.0, 0.0, 0.0, 0.0, 0.0, 0.0, 0.0, 0.0, 0.0, 0.0, 0.0, 0.0, 0.0, 0.0, 0.0, 0.0, 0.0, 0.0, 0.0, 0.0, 0.0, 0.0, 0.0, 0.0, 0.0, 0.0, 0.0, 0.0, 0.0, 0.0, 0.0, 0.0, 0.0, 0.0, 0.0, 0.0, 0.0, 0.0, 0.0], [0.00042705974192358553, 0.0004093163297511637, 0.00010116999328602105, 0.0005188300856389105, 0.00011494606587802991, 8.461748075205833e-05, 0.0006859617424197495, 5.245568172540516e-05, 3.676243295558379e-06, 0.0002019148669205606, 5.389931902755052e-05, 0.00011897036893060431, 0.0015445677563548088, 0.03836045786738396, 9.657668852014467e-05, 0.02803739532828331, 0.06921149790287018, 0.04010200873017311, 0.470741868019104, 8.090837218333036e-05, 0.0781884491443634, 0.07997752726078033, 0.18999704718589783, 0.0008888882002793252, 0.0, 0.0, 0.0, 0.0, 0.0, 0.0, 0.0, 0.0, 0.0, 0.0, 0.0, 0.0, 0.0, 0.0, 0.0, 0.0, 0.0, 0.0, 0.0, 0.0, 0.0, 0.0, 0.0, 0.0, 0.0, 0.0, 0.0, 0.0, 0.0, 0.0, 0.0, 0.0, 0.0, 0.0, 0.0, 0.0, 0.0, 0.0, 0.0, 0.0], [0.0014761018101125956, 0.0016349463257938623, 0.0008922848501242697, 0.000406157283578068, 0.0003503701009321958, 0.0006960927858017385, 0.0002939327387139201, 0.000637292570900172, 0.0005575591931119561, 0.0007182480185292661, 0.0022665010765194893, 0.002682007383555174, 0.0007611491600982845, 0.00469054514542222, 0.0035653274971991777, 0.03276212885975838, 0.008074244484305382, 0.06627829372882843, 0.18278063833713531, 0.004318074323236942, 0.035200513899326324, 0.6438469886779785, 0.0022266802843660116, 0.002884042914956808, 0.0, 0.0, 0.0, 0.0, 0.0, 0.0, 0.0, 0.0, 0.0, 0.0, 0.0, 0.0, 0.0, 0.0, 0.0, 0.0, 0.0, 0.0, 0.0, 0.0, 0.0, 0.0, 0.0, 0.0, 0.0, 0.0, 0.0, 0.0, 0.0, 0.0, 0.0, 0.0, 0.0, 0.0, 0.0, 0.0, 0.0, 0.0, 0.0, 0.0], [0.0006732676993124187, 0.0008562402217648923, 0.004069162532687187, 0.0005749429692514241, 0.00017806673713494092, 2.52913378062658e-05, 4.72515203000512e-05, 3.510035458020866e-05, 3.2333384751837e-06, 9.323232916358393e-06, 3.5293160181026906e-05, 0.00024043147277552634, 0.0030167996883392334, 0.0018668246921151876, 8.549758786102757e-05, 0.003236655378714204, 0.0787704586982727, 0.04581727832555771, 0.06391560286283493, 9.828069596551359e-05, 0.12892138957977295, 0.034543897956609726, 0.6305351853370667, 0.0024445343296974897, 0.0, 0.0, 0.0, 0.0, 0.0, 0.0, 0.0, 0.0, 0.0, 0.0, 0.0, 0.0, 0.0, 0.0, 0.0, 0.0, 0.0, 0.0, 0.0, 0.0, 0.0, 0.0, 0.0, 0.0, 0.0, 0.0, 0.0, 0.0, 0.0, 0.0, 0.0, 0.0, 0.0, 0.0, 0.0, 0.0, 0.0, 0.0, 0.0, 0.0], [0.00794080551713705, 0.007571779657155275, 0.026479575783014297, 0.01432911865413189, 0.00284763565286994, 0.002365822670981288, 0.001294823014177382, 0.00043759436812251806, 0.00012110602256143466, 8.017951040528715e-05, 0.00013284871238283813, 0.00403228122740984, 0.0014136297395452857, 0.0014978419058024883, 0.0015214491868391633, 0.0011334347072988749, 0.034841857850551605, 0.02288438007235527, 0.013323619961738586, 0.002533542923629284, 0.24530328810214996, 0.021617669612169266, 0.47932887077331543, 0.10696689039468765, 0.0, 0.0, 0.0, 0.0, 0.0, 0.0, 0.0, 0.0, 0.0, 0.0, 0.0, 0.0, 0.0, 0.0, 0.0, 0.0, 0.0, 0.0, 0.0, 0.0, 0.0, 0.0, 0.0, 0.0, 0.0, 0.0, 0.0, 0.0, 0.0, 0.0, 0.0, 0.0, 0.0, 0.0, 0.0, 0.0, 0.0, 0.0, 0.0, 0.0], [0.0019068655092269182, 0.002592300996184349, 0.004021571483463049, 0.007689334452152252, 0.006348636467009783, 0.010188426822423935, 0.006611186545342207, 0.00013397620932664722, 2.7773530746344477e-05, 8.924178109737113e-05, 2.6930016247206368e-05, 0.000903403852134943, 0.0014777826145291328, 0.0031121319625526667, 0.0010698270052671432, 0.0017612200463190675, 0.06001414731144905, 0.005200142972171307, 0.02623645029962063, 0.001217783777974546, 0.02672833763062954, 0.026956912130117416, 0.7945834398269653, 0.011102125979959965, 0.0, 0.0, 0.0, 0.0, 0.0, 0.0, 0.0, 0.0, 0.0, 0.0, 0.0, 0.0, 0.0, 0.0, 0.0, 0.0, 0.0, 0.0, 0.0, 0.0, 0.0, 0.0, 0.0, 0.0, 0.0, 0.0, 0.0, 0.0, 0.0, 0.0, 0.0, 0.0, 0.0, 0.0, 0.0, 0.0, 0.0, 0.0, 0.0, 0.0]], [[0.0013687582686543465, 0.9507677555084229, 0.003997334744781256, 0.013659397140145302, 0.0009674524189904332, 0.001783635001629591, 0.00022314900706987828, 0.00037452252581715584, 0.0011557722464203835, 0.003939231391996145, 0.00023499722010456026, 0.002942487131804228, 0.0022438534069806337, 0.0011781565845012665, 0.0009756652871146798, 0.0031278268434107304, 0.002652742899954319, 0.000636247277725488, 0.0035635349340736866, 0.0007771452656015754, 0.0002800127840600908, 0.00027869801851920784, 0.0004674592346418649, 0.0024041144642978907, 0.0, 0.0, 0.0, 0.0, 0.0, 0.0, 0.0, 0.0, 0.0, 0.0, 0.0, 0.0, 0.0, 0.0, 0.0, 0.0, 0.0, 0.0, 0.0, 0.0, 0.0, 0.0, 0.0, 0.0, 0.0, 0.0, 0.0, 0.0, 0.0, 0.0, 0.0, 0.0, 0.0, 0.0, 0.0, 0.0, 0.0, 0.0, 0.0, 0.0], [0.023120051249861717, 0.033523380756378174, 0.929711639881134, 0.007669035345315933, 0.0012645305832847953, 0.0001777863799361512, 0.00010280306014465168, 9.32290859054774e-05, 0.0007390637183561921, 1.7709166058921255e-05, 0.00012334379425738007, 0.0005525571177713573, 0.0002932505158241838, 7.209470641100779e-05, 0.00026849680580198765, 0.0003331135376356542, 0.0002051483024843037, 0.00024856984964571893, 0.0002231408579973504, 0.00045870564645156264, 0.00023878939100541174, 0.0002494192449375987, 0.0001226255262736231, 0.0001914885942824185, 0.0, 0.0, 0.0, 0.0, 0.0, 0.0, 0.0, 0.0, 0.0, 0.0, 0.0, 0.0, 0.0, 0.0, 0.0, 0.0, 0.0, 0.0, 0.0, 0.0, 0.0, 0.0, 0.0, 0.0, 0.0, 0.0, 0.0, 0.0, 0.0, 0.0, 0.0, 0.0, 0.0, 0.0, 0.0, 0.0, 0.0, 0.0, 0.0, 0.0], [7.595474744448438e-05, 0.002805142430588603, 0.0015474774409085512, 0.9880836606025696, 0.0053539094515144825, 0.00012544718629214913, 8.575912215746939e-05, 3.5726184250961524e-06, 3.0053566661081277e-05, 7.275484676938504e-05, 1.1187711379534448e-06, 3.53240902768448e-05, 5.131367652211338e-05, 3.956295404350385e-05, 0.0005342331132851541, 2.5374753022333607e-05, 0.00012139746831962839, 1.4666841707366984e-05, 0.00012300604430492967, 0.00033705311943776906, 1.6952193618635647e-05, 0.00020885017875116318, 3.252174337831093e-06, 0.00030411325860768557, 0.0, 0.0, 0.0, 0.0, 0.0, 0.0, 0.0, 0.0, 0.0, 0.0, 0.0, 0.0, 0.0, 0.0, 0.0, 0.0, 0.0, 0.0, 0.0, 0.0, 0.0, 0.0, 0.0, 0.0, 0.0, 0.0, 0.0, 0.0, 0.0, 0.0, 0.0, 0.0, 0.0, 0.0, 0.0, 0.0, 0.0, 0.0, 0.0, 0.0], [0.00047718663699924946, 0.009433124214410782, 0.0072560799308121204, 0.35303112864494324, 0.5947905778884888, 0.001978473039343953, 0.004219082184135914, 0.0008628147770650685, 0.000714060093741864, 0.0007232096395455301, 5.907232116442174e-05, 0.0010610985336825252, 0.0007576660718768835, 6.607469549635425e-05, 0.005170264281332493, 0.00031318189576268196, 0.004399290774017572, 0.00016648287419229746, 0.0005299656768329442, 0.003333015600219369, 0.0002309410338057205, 0.0033215286675840616, 7.468694821000099e-05, 0.007031113374978304, 0.0, 0.0, 0.0, 0.0, 0.0, 0.0, 0.0, 0.0, 0.0, 0.0, 0.0, 0.0, 0.0, 0.0, 0.0, 0.0, 0.0, 0.0, 0.0, 0.0, 0.0, 0.0, 0.0, 0.0, 0.0, 0.0, 0.0, 0.0, 0.0, 0.0, 0.0, 0.0, 0.0, 0.0, 0.0, 0.0, 0.0, 0.0, 0.0, 0.0], [0.0003282628604210913, 0.01073672529309988, 0.0006045092595741153, 0.006727883126586676, 0.0054491618648171425, 0.9153625965118408, 0.04203840717673302, 6.213814776856452e-05, 0.0033688696566969156, 0.00040178661583922803, 1.880538184195757e-05, 0.0009391515632160008, 0.0016591475578024983, 0.00063188566127792, 0.0025262199342250824, 0.0006114810821600258, 0.00012901493755634874, 1.4198580174706876e-05, 0.0021411958150565624, 0.0030513727106153965, 1.269064250664087e-05, 0.002504659816622734, 0.00014740628830622882, 0.0005325099918991327, 0.0, 0.0, 0.0, 0.0, 0.0, 0.0, 0.0, 0.0, 0.0, 0.0, 0.0, 0.0, 0.0, 0.0, 0.0, 0.0, 0.0, 0.0, 0.0, 0.0, 0.0, 0.0, 0.0, 0.0, 0.0, 0.0, 0.0, 0.0, 0.0, 0.0, 0.0, 0.0, 0.0, 0.0, 0.0, 0.0, 0.0, 0.0, 0.0, 0.0], [0.0004052488075103611, 0.000435048044892028, 0.002454490400850773, 0.02051345817744732, 0.07561636716127396, 0.07088864594697952, 0.7635655999183655, 0.012591012753546238, 0.0020925726275891066, 0.006459712516516447, 0.0005193082033656538, 0.00453230831772089, 0.003818093566223979, 0.0039328159764409065, 0.013825271278619766, 0.0005915951333008707, 0.00029508862644433975, 7.199735409813002e-05, 0.00021504158212337643, 0.012833405286073685, 0.0001327467180090025, 0.0005844680708833039, 0.0004971104208379984, 0.0031285439617931843, 0.0, 0.0, 0.0, 0.0, 0.0, 0.0, 0.0, 0.0, 0.0, 0.0, 0.0, 0.0, 0.0, 0.0, 0.0, 0.0, 0.0, 0.0, 0.0, 0.0, 0.0, 0.0, 0.0, 0.0, 0.0, 0.0, 0.0, 0.0, 0.0, 0.0, 0.0, 0.0, 0.0, 0.0, 0.0, 0.0, 0.0, 0.0, 0.0, 0.0], [0.00020927275181747973, 0.018714558333158493, 0.0007160264649428427, 0.008988986723124981, 0.065719835460186, 0.029084954410791397, 0.08585367351770401, 0.10387661308050156, 0.0631314143538475, 0.5970262885093689, 0.002569089410826564, 0.002858133055269718, 0.003471358446404338, 0.00143957301042974, 0.006036587059497833, 0.002384792547672987, 0.0018324742559343576, 4.748774699692149e-06, 0.00013737083645537496, 0.0038399468176066875, 3.481099838609225e-06, 5.430788223748095e-05, 1.2876674190920312e-05, 0.0020336462184786797, 0.0, 0.0, 0.0, 0.0, 0.0, 0.0, 0.0, 0.0, 0.0, 0.0, 0.0, 0.0, 0.0, 0.0, 0.0, 0.0, 0.0, 0.0, 0.0, 0.0, 0.0, 0.0, 0.0, 0.0, 0.0, 0.0, 0.0, 0.0, 0.0, 0.0, 0.0, 0.0, 0.0, 0.0, 0.0, 0.0, 0.0, 0.0, 0.0, 0.0], [0.00011086904851254076, 0.0014309348771348596, 7.899860793258995e-05, 0.0002484871365595609, 0.0007032878347672522, 0.01949048601090908, 0.061459727585315704, 0.04152517765760422, 0.3306947648525238, 0.5288220643997192, 0.00517637562006712, 0.0003306422440800816, 9.20234015211463e-05, 0.007725847885012627, 0.0003767980670090765, 0.0013582614483311772, 1.3710577150050085e-05, 2.1522000679397024e-06, 1.7787038814276457e-05, 0.00033216067822650075, 6.392518798747915e-07, 2.6624702513800003e-06, 1.0703637371989316e-06, 5.093219897389645e-06, 0.0, 0.0, 0.0, 0.0, 0.0, 0.0, 0.0, 0.0, 0.0, 0.0, 0.0, 0.0, 0.0, 0.0, 0.0, 0.0, 0.0, 0.0, 0.0, 0.0, 0.0, 0.0, 0.0, 0.0, 0.0, 0.0, 0.0, 0.0, 0.0, 0.0, 0.0, 0.0, 0.0, 0.0, 0.0, 0.0, 0.0, 0.0, 0.0, 0.0], [3.434289510551025e-06, 0.0004903589142486453, 2.722112412811839e-06, 0.00011519556574057788, 5.004637932870537e-05, 1.8890321371145546e-05, 0.00011945212463615462, 0.0013625440187752247, 0.003630975726991892, 0.9732260704040527, 0.004309212323278189, 9.400177077623084e-05, 0.0016953309532254934, 0.009796980768442154, 0.00017117483366746455, 0.004000653047114611, 0.000633928575553, 1.8470326494934852e-06, 0.00019521934154909104, 6.904470501467586e-05, 1.31958344695704e-07, 4.20414926338708e-06, 2.5735806730153854e-07, 8.310176781378686e-06, 0.0, 0.0, 0.0, 0.0, 0.0, 0.0, 0.0, 0.0, 0.0, 0.0, 0.0, 0.0, 0.0, 0.0, 0.0, 0.0, 0.0, 0.0, 0.0, 0.0, 0.0, 0.0, 0.0, 0.0, 0.0, 0.0, 0.0, 0.0, 0.0, 0.0, 0.0, 0.0, 0.0, 0.0, 0.0, 0.0, 0.0, 0.0, 0.0, 0.0], [3.6501831345958635e-05, 0.0006147609674371779, 6.35926699033007e-05, 0.0067041111178696156, 0.002397828968241811, 0.000712748384103179, 0.00707353837788105, 0.004478516988456249, 0.008281899616122246, 0.7096373438835144, 0.035827118903398514, 0.00237585068680346, 0.030154656618833542, 0.03580360859632492, 0.06291938573122025, 0.0433834083378315, 0.021914269775152206, 0.00011786441609729081, 0.0019618833903223276, 0.023655308410525322, 2.279262844240293e-05, 0.0009435274987481534, 1.0675703379092738e-05, 0.0009089405066333711, 0.0, 0.0, 0.0, 0.0, 0.0, 0.0, 0.0, 0.0, 0.0, 0.0, 0.0, 0.0, 0.0, 0.0, 0.0, 0.0, 0.0, 0.0, 0.0, 0.0, 0.0, 0.0, 0.0, 0.0, 0.0, 0.0, 0.0, 0.0, 0.0, 0.0, 0.0, 0.0, 0.0, 0.0, 0.0, 0.0, 0.0, 0.0, 0.0, 0.0], [0.023284995928406715, 0.05666956678032875, 0.03681035339832306, 0.012906688265502453, 0.005113514605909586, 0.007640845142304897, 0.01996859535574913, 0.032537829130887985, 0.007797815836966038, 0.07122331857681274, 0.07179004698991776, 0.07373231649398804, 0.11655423790216446, 0.17474351823329926, 0.02060176059603691, 0.07486842572689056, 0.07178047299385071, 0.029279738664627075, 0.03600478917360306, 0.020191140472888947, 0.006966887041926384, 0.004123052582144737, 0.01293608732521534, 0.01247401162981987, 0.0, 0.0, 0.0, 0.0, 0.0, 0.0, 0.0, 0.0, 0.0, 0.0, 0.0, 0.0, 0.0, 0.0, 0.0, 0.0, 0.0, 0.0, 0.0, 0.0, 0.0, 0.0, 0.0, 0.0, 0.0, 0.0, 0.0, 0.0, 0.0, 0.0, 0.0, 0.0, 0.0, 0.0, 0.0, 0.0, 0.0, 0.0, 0.0, 0.0], [2.6353107386967167e-05, 0.0001796653523342684, 2.0251154637662694e-05, 6.40244034002535e-05, 3.9245307561941445e-05, 5.957448956905864e-05, 0.00014448912406805903, 1.660876296227798e-05, 0.0025659019593149424, 0.0018804462160915136, 0.005626246798783541, 0.0004656708624679595, 0.8751015663146973, 0.030733151361346245, 0.0043300301767885685, 0.06158879026770592, 0.011332196183502674, 0.00016334834799636155, 0.002669090870767832, 0.0023124809376895428, 1.086554675566731e-05, 0.0005887776496820152, 3.766421650652774e-05, 4.363379048299976e-05, 0.0, 0.0, 0.0, 0.0, 0.0, 0.0, 0.0, 0.0, 0.0, 0.0, 0.0, 0.0, 0.0, 0.0, 0.0, 0.0, 0.0, 0.0, 0.0, 0.0, 0.0, 0.0, 0.0, 0.0, 0.0, 0.0, 0.0, 0.0, 0.0, 0.0, 0.0, 0.0, 0.0, 0.0, 0.0, 0.0, 0.0, 0.0, 0.0, 0.0], [1.2920658264192753e-05, 0.00033320338116027415, 6.934435077710077e-06, 0.00024043506709858775, 2.009448508033529e-05, 3.0297671401058324e-05, 0.00020809021953027695, 4.662973515223712e-05, 0.030013583600521088, 0.03418726846575737, 0.0016145233530551195, 0.00011031948815798387, 0.0039708917029201984, 0.4560455083847046, 0.000742907403036952, 0.46632319688796997, 0.0017848201096057892, 0.000566865608561784, 0.0030913411173969507, 0.0004007539537269622, 2.899193532357458e-05, 0.00021490742801688612, 3.507932660795632e-06, 2.03153331312933e-06, 0.0, 0.0, 0.0, 0.0, 0.0, 0.0, 0.0, 0.0, 0.0, 0.0, 0.0, 0.0, 0.0, 0.0, 0.0, 0.0, 0.0, 0.0, 0.0, 0.0, 0.0, 0.0, 0.0, 0.0, 0.0, 0.0, 0.0, 0.0, 0.0, 0.0, 0.0, 0.0, 0.0, 0.0, 0.0, 0.0, 0.0, 0.0, 0.0, 0.0], [1.2468287877709372e-06, 0.00033207147498615086, 5.178500032343436e-06, 0.0006060452433302999, 1.0217780072707683e-05, 2.799689355015289e-05, 0.00035502322134561837, 3.671582817332819e-05, 1.699294625723269e-05, 0.10560835897922516, 0.0005541112623177469, 0.0012069016229361296, 0.0010915808379650116, 0.28045397996902466, 0.00836594495922327, 0.47909677028656006, 0.03268812596797943, 0.0015703338431194425, 0.07977969199419022, 0.00441242940723896, 0.00023554108338430524, 0.0030224956572055817, 3.197403566446155e-05, 0.0004903552471660078, 0.0, 0.0, 0.0, 0.0, 0.0, 0.0, 0.0, 0.0, 0.0, 0.0, 0.0, 0.0, 0.0, 0.0, 0.0, 0.0, 0.0, 0.0, 0.0, 0.0, 0.0, 0.0, 0.0, 0.0, 0.0, 0.0, 0.0, 0.0, 0.0, 0.0, 0.0, 0.0, 0.0, 0.0, 0.0, 0.0, 0.0, 0.0, 0.0, 0.0], [4.93966908834409e-05, 0.00011019784142263234, 4.003776848549023e-05, 1.4117797036306001e-05, 1.153982066171011e-05, 4.072641604579985e-05, 0.0002194110566051677, 2.270487675559707e-05, 0.0006157454336062074, 0.000790979596786201, 0.00045088090701028705, 0.0005518419784493744, 0.0003564704384189099, 0.09993766993284225, 0.0001654070510994643, 0.39401450753211975, 0.005475012585520744, 0.004763712640851736, 0.2850143611431122, 0.00019538110063876957, 0.0010598452063277364, 0.20591969788074493, 0.00015771575272083282, 2.2748592527932487e-05, 0.0, 0.0, 0.0, 0.0, 0.0, 0.0, 0.0, 0.0, 0.0, 0.0, 0.0, 0.0, 0.0, 0.0, 0.0, 0.0, 0.0, 0.0, 0.0, 0.0, 0.0, 0.0, 0.0, 0.0, 0.0, 0.0, 0.0, 0.0, 0.0, 0.0, 0.0, 0.0, 0.0, 0.0, 0.0, 0.0, 0.0, 0.0, 0.0, 0.0], [8.15939565654844e-05, 0.00046278044464997947, 0.0006536003784276545, 0.006529334932565689, 0.00314702233299613, 0.0005403232062235475, 0.005865051411092281, 0.0006248337449505925, 3.210152135579847e-05, 0.008048225194215775, 0.0003640329232439399, 0.005148524884134531, 0.0010488892439752817, 0.02876192517578602, 0.017578037455677986, 0.09389684349298477, 0.17611229419708252, 0.04400169849395752, 0.22474664449691772, 0.016953244805336, 0.1034412682056427, 0.16862434148788452, 0.01991022750735283, 0.0734272301197052, 0.0, 0.0, 0.0, 0.0, 0.0, 0.0, 0.0, 0.0, 0.0, 0.0, 0.0, 0.0, 0.0, 0.0, 0.0, 0.0, 0.0, 0.0, 0.0, 0.0, 0.0, 0.0, 0.0, 0.0, 0.0, 0.0, 0.0, 0.0, 0.0, 0.0, 0.0, 0.0, 0.0, 0.0, 0.0, 0.0, 0.0, 0.0, 0.0, 0.0], [0.001035430934280157, 9.278749348595738e-05, 0.000621762010268867, 0.0003421288274694234, 0.0002797499764710665, 0.0002302965149283409, 0.0003512851835694164, 2.9398555852822028e-05, 0.0011482838308438659, 7.436625310219824e-05, 0.0006326010334305465, 0.0006901220767758787, 0.0002952157228719443, 0.004250500351190567, 0.0013047963147982955, 0.017402449622750282, 0.010159865953028202, 0.010168798267841339, 0.06654150038957596, 0.001439570914953947, 0.008123292587697506, 0.8729898929595947, 0.0013536916812881827, 0.00044220598647370934, 0.0, 0.0, 0.0, 0.0, 0.0, 0.0, 0.0, 0.0, 0.0, 0.0, 0.0, 0.0, 0.0, 0.0, 0.0, 0.0, 0.0, 0.0, 0.0, 0.0, 0.0, 0.0, 0.0, 0.0, 0.0, 0.0, 0.0, 0.0, 0.0, 0.0, 0.0, 0.0, 0.0, 0.0, 0.0, 0.0, 0.0, 0.0, 0.0, 0.0], [0.00047554977936670184, 0.0009269530419260263, 0.0012297418434172869, 0.004532362800091505, 0.0009843053994700313, 0.00019252797937951982, 0.0002418536168988794, 2.877896804420743e-05, 1.9863329725922085e-05, 6.392953946487978e-05, 0.00014823082892689854, 0.0018228068947792053, 0.021797554567456245, 0.0037914703134447336, 0.002955887233838439, 0.0070991856046020985, 0.17326205968856812, 0.04891134425997734, 0.1403021216392517, 0.0032994176726788282, 0.12181655317544937, 0.1929488182067871, 0.17341819405555725, 0.09973050653934479, 0.0, 0.0, 0.0, 0.0, 0.0, 0.0, 0.0, 0.0, 0.0, 0.0, 0.0, 0.0, 0.0, 0.0, 0.0, 0.0, 0.0, 0.0, 0.0, 0.0, 0.0, 0.0, 0.0, 0.0, 0.0, 0.0, 0.0, 0.0, 0.0, 0.0, 0.0, 0.0, 0.0, 0.0, 0.0, 0.0, 0.0, 0.0, 0.0, 0.0], [0.017123140394687653, 0.1378554403781891, 0.017375903204083443, 0.06125853210687637, 0.00820041075348854, 0.009496323764324188, 0.001232546172104776, 0.0014162383740767837, 9.217840124620125e-05, 0.0006298794178292155, 0.00018640983034856617, 0.008087611757218838, 0.0034581164363771677, 0.0003056475252378732, 0.0015796945663169026, 0.0005752712022513151, 0.060086023062467575, 0.01387301366776228, 0.014178154990077019, 0.0023701409809291363, 0.0603509396314621, 0.009003455750644207, 0.07397924363613129, 0.4972856342792511, 0.0, 0.0, 0.0, 0.0, 0.0, 0.0, 0.0, 0.0, 0.0, 0.0, 0.0, 0.0, 0.0, 0.0, 0.0, 0.0, 0.0, 0.0, 0.0, 0.0, 0.0, 0.0, 0.0, 0.0, 0.0, 0.0, 0.0, 0.0, 0.0, 0.0, 0.0, 0.0, 0.0, 0.0, 0.0, 0.0, 0.0, 0.0, 0.0, 0.0], [4.62077914562542e-05, 0.0011164953466504812, 0.00025831692619249225, 0.015452620573341846, 0.0016153070610016584, 0.0024311011657118797, 0.0037579548079520464, 0.00011989264021394774, 5.431053978099953e-06, 0.0013947138795629144, 0.00012967342627234757, 0.00826810859143734, 0.0034805138129740953, 0.0028010851237922907, 0.10370662808418274, 0.00607763696461916, 0.18684323132038116, 0.007657149340957403, 0.022131839767098427, 0.08558512479066849, 0.016819195821881294, 0.01635563373565674, 0.025588715448975563, 0.48835745453834534, 0.0, 0.0, 0.0, 0.0, 0.0, 0.0, 0.0, 0.0, 0.0, 0.0, 0.0, 0.0, 0.0, 0.0, 0.0, 0.0, 0.0, 0.0, 0.0, 0.0, 0.0, 0.0, 0.0, 0.0, 0.0, 0.0, 0.0, 0.0, 0.0, 0.0, 0.0, 0.0, 0.0, 0.0, 0.0, 0.0, 0.0, 0.0, 0.0, 0.0]], [[0.006434296257793903, 0.37400132417678833, 0.3190777003765106, 0.07293438166379929, 0.01706520840525627, 0.05146101862192154, 0.0029934789054095745, 0.005795176140964031, 0.0018197789322584867, 0.009000931866466999, 0.0022110261488705873, 0.017918171361088753, 0.0044455030001699924, 0.004649477079510689, 0.011904442682862282, 0.0038858542684465647, 0.009977174922823906, 0.013064333237707615, 0.00939925853163004, 0.012942414730787277, 0.009017519652843475, 0.0034653586335480213, 0.01744060404598713, 0.019095487892627716, 0.0, 0.0, 0.0, 0.0, 0.0, 0.0, 0.0, 0.0, 0.0, 0.0, 0.0, 0.0, 0.0, 0.0, 0.0, 0.0, 0.0, 0.0, 0.0, 0.0, 0.0, 0.0, 0.0, 0.0, 0.0, 0.0, 0.0, 0.0, 0.0, 0.0, 0.0, 0.0, 0.0, 0.0, 0.0, 0.0, 0.0, 0.0, 0.0, 0.0], [0.0035760446917265654, 0.009184625931084156, 0.9614846110343933, 0.012263037264347076, 0.0022503985092043877, 0.0007317470153793693, 0.00028253858909010887, 8.314346632687375e-05, 0.00013275434321258217, 6.731233497703215e-06, 6.3734820287209e-05, 0.0015982770128175616, 6.713786569889635e-05, 8.430569869233295e-05, 0.002270286437124014, 9.184502414427698e-05, 4.8544679884798825e-05, 0.00028240904794074595, 0.00017412543820682913, 0.004048698116093874, 0.00022018277377355844, 0.0002986574254464358, 8.829255966702476e-05, 0.0006678487989120185, 0.0, 0.0, 0.0, 0.0, 0.0, 0.0, 0.0, 0.0, 0.0, 0.0, 0.0, 0.0, 0.0, 0.0, 0.0, 0.0, 0.0, 0.0, 0.0, 0.0, 0.0, 0.0, 0.0, 0.0, 0.0, 0.0, 0.0, 0.0, 0.0, 0.0, 0.0, 0.0, 0.0, 0.0, 0.0, 0.0, 0.0, 0.0, 0.0, 0.0], [0.00010387774091213942, 0.0006619553896598518, 0.004191767890006304, 0.9865459203720093, 0.004499401897192001, 0.001498986966907978, 2.8279866455704905e-05, 3.669193802124937e-06, 3.6592784454114735e-05, 0.0001750223309500143, 1.4603929230361246e-06, 2.205279997724574e-05, 1.2745871572406031e-05, 0.00026087084552273154, 0.00022790193906985223, 0.00017182283045258373, 0.0006751539185643196, 7.838142482796684e-05, 0.00018489199283067137, 0.0001671252102823928, 6.800946721341461e-05, 0.00027536245761439204, 1.8938679204438813e-05, 8.96937635843642e-05, 0.0, 0.0, 0.0, 0.0, 0.0, 0.0, 0.0, 0.0, 0.0, 0.0, 0.0, 0.0, 0.0, 0.0, 0.0, 0.0, 0.0, 0.0, 0.0, 0.0, 0.0, 0.0, 0.0, 0.0, 0.0, 0.0, 0.0, 0.0, 0.0, 0.0, 0.0, 0.0, 0.0, 0.0, 0.0, 0.0, 0.0, 0.0, 0.0, 0.0], [0.02905368059873581, 0.03626950457692146, 0.07017948478460312, 0.6015503406524658, 0.14268645644187927, 0.027159325778484344, 0.008254812099039555, 0.003921572118997574, 0.002241984475404024, 0.0031901728361845016, 0.0005572722875513136, 0.009679680690169334, 0.00022834788251202554, 0.0012011212529614568, 0.005349228158593178, 0.0019686331506818533, 0.013153716921806335, 0.003760103601962328, 0.005418487824499607, 0.004800848662853241, 0.004729432985186577, 0.019346488639712334, 0.0017404184909537435, 0.003558801021426916, 0.0, 0.0, 0.0, 0.0, 0.0, 0.0, 0.0, 0.0, 0.0, 0.0, 0.0, 0.0, 0.0, 0.0, 0.0, 0.0, 0.0, 0.0, 0.0, 0.0, 0.0, 0.0, 0.0, 0.0, 0.0, 0.0, 0.0, 0.0, 0.0, 0.0, 0.0, 0.0, 0.0, 0.0, 0.0, 0.0, 0.0, 0.0, 0.0, 0.0], [2.7053711164626293e-05, 0.00026720159803517163, 0.008045228198170662, 0.003625847864896059, 0.003470159135758877, 0.9702805280685425, 0.010420371778309345, 9.5129304099828e-05, 0.0009941766038537025, 3.5446882975520566e-05, 4.199907834845362e-06, 0.0003056119312532246, 4.1177259845426306e-05, 5.348426566342823e-05, 0.0005581595469266176, 3.098920205957256e-05, 7.40626928745769e-05, 2.7480280095915077e-06, 2.165785372199025e-05, 0.0012067548232153058, 4.806643119081855e-06, 0.00011288246605545282, 0.00019030043040402234, 0.0001320777228102088, 0.0, 0.0, 0.0, 0.0, 0.0, 0.0, 0.0, 0.0, 0.0, 0.0, 0.0, 0.0, 0.0, 0.0, 0.0, 0.0, 0.0, 0.0, 0.0, 0.0, 0.0, 0.0, 0.0, 0.0, 0.0, 0.0, 0.0, 0.0, 0.0, 0.0, 0.0, 0.0, 0.0, 0.0, 0.0, 0.0, 0.0, 0.0, 0.0, 0.0], [0.005659294780343771, 0.0005495866062119603, 0.0032913759350776672, 0.010650783777236938, 0.01945650763809681, 0.08972995728254318, 0.7515444755554199, 0.01923244632780552, 0.014265418983995914, 0.00810746569186449, 0.002938940655440092, 0.04294029623270035, 0.0036800913512706757, 0.003300492884591222, 0.010102695785462856, 0.000595180899836123, 0.00022838385484647006, 8.554314263164997e-05, 0.0004346424830146134, 0.010395470075309277, 0.00010328632924938574, 0.0011881303507834673, 0.000814185244962573, 0.0007053924491629004, 0.0, 0.0, 0.0, 0.0, 0.0, 0.0, 0.0, 0.0, 0.0, 0.0, 0.0, 0.0, 0.0, 0.0, 0.0, 0.0, 0.0, 0.0, 0.0, 0.0, 0.0, 0.0, 0.0, 0.0, 0.0, 0.0, 0.0, 0.0, 0.0, 0.0, 0.0, 0.0, 0.0, 0.0, 0.0, 0.0, 0.0, 0.0, 0.0, 0.0], [0.00015397007518913597, 0.0016612173058092594, 0.0007356469286605716, 0.003696307772770524, 0.007237488869577646, 0.019294442608952522, 0.04772564768791199, 0.7175470590591431, 0.068633534014225, 0.12089413404464722, 0.006566865369677544, 0.0032200729474425316, 0.00021822225244250149, 0.0002780746144708246, 0.0009785086149349809, 5.495132063515484e-05, 0.0001818704477045685, 2.538823082431918e-06, 2.0737983504659496e-05, 0.0007437040912918746, 1.6440924355265452e-06, 1.392974445479922e-05, 1.1099914445367176e-05, 0.00012836678070016205, 0.0, 0.0, 0.0, 0.0, 0.0, 0.0, 0.0, 0.0, 0.0, 0.0, 0.0, 0.0, 0.0, 0.0, 0.0, 0.0, 0.0, 0.0, 0.0, 0.0, 0.0, 0.0, 0.0, 0.0, 0.0, 0.0, 0.0, 0.0, 0.0, 0.0, 0.0, 0.0, 0.0, 0.0, 0.0, 0.0, 0.0, 0.0, 0.0, 0.0], [1.2700055549430544e-06, 0.00015499517030548304, 6.559579924214631e-05, 0.0006636614562012255, 0.00024730406585149467, 0.10195464640855789, 0.2370084673166275, 0.012001974508166313, 0.24231065809726715, 0.38326263427734375, 0.003577703610062599, 0.00029529386665672064, 0.00010110816219821572, 0.008865567855536938, 0.003906086552888155, 0.0011542472057044506, 4.592397090164013e-05, 1.984425352929975e-06, 9.139193025475834e-06, 0.0043138740584254265, 7.599027753713017e-07, 4.4646462811215315e-06, 3.060235940210987e-06, 4.955337499268353e-05, 0.0, 0.0, 0.0, 0.0, 0.0, 0.0, 0.0, 0.0, 0.0, 0.0, 0.0, 0.0, 0.0, 0.0, 0.0, 0.0, 0.0, 0.0, 0.0, 0.0, 0.0, 0.0, 0.0, 0.0, 0.0, 0.0, 0.0, 0.0, 0.0, 0.0, 0.0, 0.0, 0.0, 0.0, 0.0, 0.0, 0.0, 0.0, 0.0, 0.0], [2.0573388326283748e-07, 2.6174759113928303e-05, 1.7248340782316518e-06, 0.00019167375285178423, 1.1853713658638299e-05, 0.00011255245772190392, 0.00041983401752077043, 0.002627958543598652, 0.006032404024153948, 0.8585279583930969, 0.020784324035048485, 3.4026212233584374e-05, 0.004852220881730318, 0.08922043442726135, 0.00015272339805960655, 0.011285265907645226, 0.005016759503632784, 1.5770659956615418e-05, 0.0005749444826506078, 7.102338713593781e-05, 1.0112380550708622e-06, 2.435719761706423e-05, 2.405485247436445e-06, 1.2411677744239569e-05, 0.0, 0.0, 0.0, 0.0, 0.0, 0.0, 0.0, 0.0, 0.0, 0.0, 0.0, 0.0, 0.0, 0.0, 0.0, 0.0, 0.0, 0.0, 0.0, 0.0, 0.0, 0.0, 0.0, 0.0, 0.0, 0.0, 0.0, 0.0, 0.0, 0.0, 0.0, 0.0, 0.0, 0.0, 0.0, 0.0, 0.0, 0.0, 0.0, 0.0], [0.013068296015262604, 0.005537360906600952, 0.0006424259627237916, 0.0030395742505788803, 0.0030037981923669577, 0.000421182659920305, 0.0056238300167024136, 0.04357767477631569, 0.048705972731113434, 0.11257501691579819, 0.6653783917427063, 0.006116763222962618, 0.03032228909432888, 0.03818454220890999, 0.0025571943260729313, 0.00709333922713995, 0.003846055129542947, 0.0014222705503925681, 0.00376954791136086, 0.0010974478209391236, 0.0002440262760501355, 0.003432230558246374, 0.00012929324293509126, 0.00021143947378732264, 0.0, 0.0, 0.0, 0.0, 0.0, 0.0, 0.0, 0.0, 0.0, 0.0, 0.0, 0.0, 0.0, 0.0, 0.0, 0.0, 0.0, 0.0, 0.0, 0.0, 0.0, 0.0, 0.0, 0.0, 0.0, 0.0, 0.0, 0.0, 0.0, 0.0, 0.0, 0.0, 0.0, 0.0, 0.0, 0.0, 0.0, 0.0, 0.0, 0.0], [0.07360482215881348, 0.010220060124993324, 0.03907259926199913, 0.002553954953327775, 0.004322384018450975, 0.002310505136847496, 0.020533496513962746, 0.11147651821374893, 0.004289538599550724, 0.009981050156056881, 0.15861989557743073, 0.3153972029685974, 0.16237494349479675, 0.019916415214538574, 0.01810327172279358, 0.00236577563919127, 0.0015784658025950193, 0.008852691389620304, 0.0034344771411269903, 0.019068969413638115, 0.0018161360640078783, 0.001003850600682199, 0.006827083416283131, 0.002275911159813404, 0.0, 0.0, 0.0, 0.0, 0.0, 0.0, 0.0, 0.0, 0.0, 0.0, 0.0, 0.0, 0.0, 0.0, 0.0, 0.0, 0.0, 0.0, 0.0, 0.0, 0.0, 0.0, 0.0, 0.0, 0.0, 0.0, 0.0, 0.0, 0.0, 0.0, 0.0, 0.0, 0.0, 0.0, 0.0, 0.0, 0.0, 0.0, 0.0, 0.0], [0.00028022550395689905, 0.00022038571478333324, 0.0001634843210922554, 0.00013389013474807143, 6.788982136640698e-05, 0.00015284318942576647, 0.00011949401232413948, 9.617073374101892e-05, 0.010028204880654812, 0.002309221774339676, 0.014970498159527779, 0.0003991661360487342, 0.7461851835250854, 0.06502719968557358, 0.001064345589838922, 0.08478285372257233, 0.0694502666592598, 0.0005264997598715127, 0.0015519950538873672, 0.0008490910986438394, 5.35692015546374e-05, 0.0010551008163020015, 0.00040211057057604194, 0.00011028890003217384, 0.0, 0.0, 0.0, 0.0, 0.0, 0.0, 0.0, 0.0, 0.0, 0.0, 0.0, 0.0, 0.0, 0.0, 0.0, 0.0, 0.0, 0.0, 0.0, 0.0, 0.0, 0.0, 0.0, 0.0, 0.0, 0.0, 0.0, 0.0, 0.0, 0.0, 0.0, 0.0, 0.0, 0.0, 0.0, 0.0, 0.0, 0.0, 0.0, 0.0], [2.087062966893427e-06, 5.416514613898471e-05, 8.910947144613601e-06, 0.0006051341770216823, 1.6575457266299054e-05, 4.3150670535396785e-05, 0.00014518186799250543, 1.997590334212873e-05, 0.004471634514629841, 0.03287234902381897, 0.0018255721079185605, 4.909399285679683e-05, 0.0040801591239869595, 0.492540568113327, 0.0010510316351428628, 0.4525225758552551, 0.005728759802877903, 0.0014353595906868577, 0.001618448761291802, 0.0006684864638373256, 8.499183604726568e-05, 0.00014219386503100395, 8.792109838395845e-06, 4.850243840337498e-06, 0.0, 0.0, 0.0, 0.0, 0.0, 0.0, 0.0, 0.0, 0.0, 0.0, 0.0, 0.0, 0.0, 0.0, 0.0, 0.0, 0.0, 0.0, 0.0, 0.0, 0.0, 0.0, 0.0, 0.0, 0.0, 0.0, 0.0, 0.0, 0.0, 0.0, 0.0, 0.0, 0.0, 0.0, 0.0, 0.0, 0.0, 0.0, 0.0, 0.0], [4.6083373490546364e-06, 0.00010470378038007766, 1.1199579603271559e-05, 0.0006075941491872072, 1.1754544175346382e-05, 4.688277840614319e-05, 0.0013703991426154971, 5.773988232249394e-05, 1.3944816600997001e-05, 0.02652265690267086, 0.0030773626640439034, 0.0005104847950860858, 0.000813415739685297, 0.4325751066207886, 0.0004505158867686987, 0.28478360176086426, 0.03787253797054291, 0.02600269205868244, 0.16897642612457275, 0.00026909910957328975, 0.003103044582530856, 0.012308676727116108, 0.0003322320699226111, 0.0001732839155010879, 0.0, 0.0, 0.0, 0.0, 0.0, 0.0, 0.0, 0.0, 0.0, 0.0, 0.0, 0.0, 0.0, 0.0, 0.0, 0.0, 0.0, 0.0, 0.0, 0.0, 0.0, 0.0, 0.0, 0.0, 0.0, 0.0, 0.0, 0.0, 0.0, 0.0, 0.0, 0.0, 0.0, 0.0, 0.0, 0.0, 0.0, 0.0, 0.0, 0.0], [4.3021864257752895e-05, 0.00043908320367336273, 0.0001383374910801649, 8.719263860257342e-05, 4.476532558328472e-05, 0.0002215719869127497, 0.00641741044819355, 0.0002399244549451396, 0.000653676746878773, 0.0021787926089018583, 0.005814172327518463, 0.029680462554097176, 0.004828575532883406, 0.18653030693531036, 0.0033935641404241323, 0.21813635528087616, 0.015281641855835915, 0.011045806109905243, 0.2779076099395752, 0.004932284355163574, 0.001919445814564824, 0.2290964424610138, 0.0007535574259236455, 0.00021600286709144711, 0.0, 0.0, 0.0, 0.0, 0.0, 0.0, 0.0, 0.0, 0.0, 0.0, 0.0, 0.0, 0.0, 0.0, 0.0, 0.0, 0.0, 0.0, 0.0, 0.0, 0.0, 0.0, 0.0, 0.0, 0.0, 0.0, 0.0, 0.0, 0.0, 0.0, 0.0, 0.0, 0.0, 0.0, 0.0, 0.0, 0.0, 0.0, 0.0, 0.0], [4.143264231970534e-05, 0.0001442821230739355, 0.00016533794405404478, 0.0016088804695755243, 0.00016180930833797902, 0.0001112877725972794, 0.0011604279279708862, 9.688657883089036e-05, 3.0265680834418163e-05, 0.0009035387774929404, 0.0016330201178789139, 0.0015934346010908484, 0.000639395322650671, 0.025339961051940918, 0.001211718306876719, 0.10361640900373459, 0.06554026156663895, 0.10207845270633698, 0.29568079113960266, 0.0012334720231592655, 0.11547558754682541, 0.27504605054855347, 0.002651782240718603, 0.003835605690255761, 0.0, 0.0, 0.0, 0.0, 0.0, 0.0, 0.0, 0.0, 0.0, 0.0, 0.0, 0.0, 0.0, 0.0, 0.0, 0.0, 0.0, 0.0, 0.0, 0.0, 0.0, 0.0, 0.0, 0.0, 0.0, 0.0, 0.0, 0.0, 0.0, 0.0, 0.0, 0.0, 0.0, 0.0, 0.0, 0.0, 0.0, 0.0, 0.0, 0.0], [0.0026309946551918983, 0.0005751278367824852, 0.00024855852825567126, 0.00017489360470790416, 0.0002473527565598488, 0.0002300913620274514, 0.0004503501404542476, 1.1091048691014294e-05, 0.000349365989677608, 9.49468303588219e-05, 0.00037779597914777696, 0.0012107330840080976, 0.0009266295819543302, 0.0025238296948373318, 0.000724678102415055, 0.017307600006461143, 0.009829035960137844, 0.007450703531503677, 0.071474589407444, 0.0008810761501081288, 0.00847439095377922, 0.8691789507865906, 0.0037941120099276304, 0.0008331355056725442, 0.0, 0.0, 0.0, 0.0, 0.0, 0.0, 0.0, 0.0, 0.0, 0.0, 0.0, 0.0, 0.0, 0.0, 0.0, 0.0, 0.0, 0.0, 0.0, 0.0, 0.0, 0.0, 0.0, 0.0, 0.0, 0.0, 0.0, 0.0, 0.0, 0.0, 0.0, 0.0, 0.0, 0.0, 0.0, 0.0, 0.0, 0.0, 0.0, 0.0], [0.0010477356845512986, 0.000651080219540745, 0.0004340754239819944, 0.002247351687401533, 0.00020521653641480953, 0.00011412746971473098, 9.379440598422661e-05, 2.4692486476851627e-05, 3.936374469049042e-06, 6.2800886553304736e-06, 6.230287544894964e-05, 0.0003953244013246149, 0.0005968440673314035, 0.0021726666018366814, 0.00023207477352116257, 0.0033796688076108694, 0.2603120505809784, 0.06321995705366135, 0.039464518427848816, 0.0002887460868805647, 0.2924095690250397, 0.08904392272233963, 0.11171580851078033, 0.13187828660011292, 0.0, 0.0, 0.0, 0.0, 0.0, 0.0, 0.0, 0.0, 0.0, 0.0, 0.0, 0.0, 0.0, 0.0, 0.0, 0.0, 0.0, 0.0, 0.0, 0.0, 0.0, 0.0, 0.0, 0.0, 0.0, 0.0, 0.0, 0.0, 0.0, 0.0, 0.0, 0.0, 0.0, 0.0, 0.0, 0.0, 0.0, 0.0, 0.0, 0.0], [0.00021633217693306506, 0.0031262633856385946, 0.0035270124208182096, 0.013506973162293434, 0.0013022148050367832, 0.0017824298702180386, 0.0008109471527859569, 0.0013054055161774158, 6.414140807464719e-05, 0.00017041592218447477, 0.00035794160794466734, 0.002528739394620061, 0.00031155991018749774, 0.0010902147041633725, 0.0021702235098928213, 0.0010177489602938294, 0.04226556047797203, 0.013946685008704662, 0.012410751543939114, 0.003381941467523575, 0.07156500220298767, 0.014839908108115196, 0.010365393944084644, 0.7979361414909363, 0.0, 0.0, 0.0, 0.0, 0.0, 0.0, 0.0, 0.0, 0.0, 0.0, 0.0, 0.0, 0.0, 0.0, 0.0, 0.0, 0.0, 0.0, 0.0, 0.0, 0.0, 0.0, 0.0, 0.0, 0.0, 0.0, 0.0, 0.0, 0.0, 0.0, 0.0, 0.0, 0.0, 0.0, 0.0, 0.0, 0.0, 0.0, 0.0, 0.0], [0.11968652158975601, 0.012873481027781963, 0.02872936613857746, 0.027580291032791138, 0.018312452360987663, 0.006787303369492292, 0.002368582645431161, 0.002263604197651148, 2.557797051849775e-05, 9.552363189868629e-05, 0.00020744511857628822, 0.002809234894812107, 0.0003717137442436069, 0.00017886271234601736, 0.0008121115388348699, 0.0004475546593312174, 0.11774656176567078, 0.026796096935868263, 0.004977458156645298, 0.000908652669750154, 0.11145753413438797, 0.009494616650044918, 0.2659652829170227, 0.23910409212112427, 0.0, 0.0, 0.0, 0.0, 0.0, 0.0, 0.0, 0.0, 0.0, 0.0, 0.0, 0.0, 0.0, 0.0, 0.0, 0.0, 0.0, 0.0, 0.0, 0.0, 0.0, 0.0, 0.0, 0.0, 0.0, 0.0, 0.0, 0.0, 0.0, 0.0, 0.0, 0.0, 0.0, 0.0, 0.0, 0.0, 0.0, 0.0, 0.0, 0.0]], [[6.853182185295736e-06, 0.003228151937946677, 0.9675663709640503, 0.01855059340596199, 0.0005086588789708912, 0.00019155273912474513, 6.413095889001852e-06, 6.79232252878137e-05, 2.0412753656273708e-05, 0.00020190828945487738, 6.381438652169891e-06, 0.0008026812574826181, 3.530372850946151e-05, 2.111440153385047e-05, 0.002418090356513858, 3.7647205317625776e-05, 9.435117681277916e-05, 0.00024285324616357684, 3.4310152841499075e-05, 0.003854383947327733, 0.00018379453103989363, 2.387182757956907e-05, 0.0004010657430626452, 0.0014953004429116845, 0.0, 0.0, 0.0, 0.0, 0.0, 0.0, 0.0, 0.0, 0.0, 0.0, 0.0, 0.0, 0.0, 0.0, 0.0, 0.0, 0.0, 0.0, 0.0, 0.0, 0.0, 0.0, 0.0, 0.0, 0.0, 0.0, 0.0, 0.0, 0.0, 0.0, 0.0, 0.0, 0.0, 0.0, 0.0, 0.0, 0.0, 0.0, 0.0, 0.0], [0.00019647637964226305, 0.0017409117426723242, 0.9870244264602661, 0.003020991338416934, 0.0003236587217543274, 3.722403562278487e-05, 3.094045041507343e-06, 3.0342296213348163e-06, 6.096357537899166e-06, 4.065759924287704e-07, 6.091345312597696e-07, 0.0003892301465384662, 2.1736175312980777e-06, 1.3260549849292147e-06, 0.0022108631674200296, 2.484426204318879e-06, 5.853457423654618e-06, 1.4109677977103274e-05, 1.0800885320350062e-05, 0.00455522071570158, 1.4962815839680843e-05, 2.774821587081533e-05, 6.986653170315549e-05, 0.0003384382580406964, 0.0, 0.0, 0.0, 0.0, 0.0, 0.0, 0.0, 0.0, 0.0, 0.0, 0.0, 0.0, 0.0, 0.0, 0.0, 0.0, 0.0, 0.0, 0.0, 0.0, 0.0, 0.0, 0.0, 0.0, 0.0, 0.0, 0.0, 0.0, 0.0, 0.0, 0.0, 0.0, 0.0, 0.0, 0.0, 0.0, 0.0, 0.0, 0.0, 0.0], [1.3270159797684755e-05, 0.0006588517571799457, 0.0016026657540351152, 0.9271530508995056, 0.06851912289857864, 0.0008685024222359061, 2.828082870109938e-05, 5.014502676203847e-06, 3.51853009306069e-06, 9.041786142915953e-06, 1.5774266159951367e-07, 2.0767816749867052e-05, 1.7388842934451532e-06, 4.423861355462577e-06, 0.00025194650515913963, 5.325183337845374e-06, 6.125582149252295e-05, 0.00011122948490083218, 3.694496626849286e-05, 0.00018204835942015052, 0.000207237244467251, 0.00014801471843384206, 4.063078449689783e-05, 6.714701157761738e-05, 0.0, 0.0, 0.0, 0.0, 0.0, 0.0, 0.0, 0.0, 0.0, 0.0, 0.0, 0.0, 0.0, 0.0, 0.0, 0.0, 0.0, 0.0, 0.0, 0.0, 0.0, 0.0, 0.0, 0.0, 0.0, 0.0, 0.0, 0.0, 0.0, 0.0, 0.0, 0.0, 0.0, 0.0, 0.0, 0.0, 0.0, 0.0, 0.0, 0.0], [0.00014401527005247772, 0.0011109630577266216, 0.0012438601115718484, 0.1626690775156021, 0.8285828232765198, 0.002568436088040471, 0.0012267634738236666, 0.00012592227722052485, 4.9593571020523086e-05, 1.3490748642652761e-05, 6.477780061686644e-06, 0.0003292636829428375, 6.806426995353831e-07, 2.390578629274387e-06, 0.0005925011937506497, 6.467323601100361e-06, 0.00011813159653684124, 8.307705138577148e-05, 1.495183641964104e-05, 0.00045760406646877527, 0.00020477813086472452, 0.00033210733090527356, 3.856212060782127e-05, 7.804432971170172e-05, 0.0, 0.0, 0.0, 0.0, 0.0, 0.0, 0.0, 0.0, 0.0, 0.0, 0.0, 0.0, 0.0, 0.0, 0.0, 0.0, 0.0, 0.0, 0.0, 0.0, 0.0, 0.0, 0.0, 0.0, 0.0, 0.0, 0.0, 0.0, 0.0, 0.0, 0.0, 0.0, 0.0, 0.0, 0.0, 0.0, 0.0, 0.0, 0.0, 0.0], [5.61049091629684e-05, 0.00010565255797700956, 0.00030070755747146904, 0.000586729496717453, 0.004547938238829374, 0.9897710084915161, 0.0029748822562396526, 5.545650128624402e-05, 0.00021342748368624598, 8.339011401403695e-06, 7.891840709817188e-07, 0.0002163743629353121, 4.244062893121736e-06, 1.9732492546609137e-06, 0.00036884102155454457, 3.563891937119479e-07, 2.536664851504611e-07, 2.3595639220275189e-07, 4.012144472653745e-06, 0.0006271047750487924, 5.799621476398897e-07, 9.321310244558845e-06, 0.0001326413912465796, 1.3032389688305557e-05, 0.0, 0.0, 0.0, 0.0, 0.0, 0.0, 0.0, 0.0, 0.0, 0.0, 0.0, 0.0, 0.0, 0.0, 0.0, 0.0, 0.0, 0.0, 0.0, 0.0, 0.0, 0.0, 0.0, 0.0, 0.0, 0.0, 0.0, 0.0, 0.0, 0.0, 0.0, 0.0, 0.0, 0.0, 0.0, 0.0, 0.0, 0.0, 0.0, 0.0], [0.017557015642523766, 0.0008894766797311604, 0.00018680984794627875, 0.006239534355700016, 0.12793460488319397, 0.12029093503952026, 0.6571096181869507, 0.02522151730954647, 0.02968308888375759, 0.0040485914796590805, 0.0030214604921638966, 0.0020859173964709044, 0.000829480413813144, 0.00045043803402222693, 0.001118053449317813, 0.000177875641384162, 0.0006554175051860511, 2.2992742742644623e-05, 8.202042226912454e-05, 0.0008628103532828391, 7.168440788518637e-05, 0.0005435955245047808, 0.00036623934283852577, 0.0005508085014298558, 0.0, 0.0, 0.0, 0.0, 0.0, 0.0, 0.0, 0.0, 0.0, 0.0, 0.0, 0.0, 0.0, 0.0, 0.0, 0.0, 0.0, 0.0, 0.0, 0.0, 0.0, 0.0, 0.0, 0.0, 0.0, 0.0, 0.0, 0.0, 0.0, 0.0, 0.0, 0.0, 0.0, 0.0, 0.0, 0.0, 0.0, 0.0, 0.0, 0.0], [4.323625034885481e-05, 0.0003534141287673265, 0.0003244267136324197, 0.0023631576914340258, 0.13976986706256866, 0.043676380068063736, 0.033614084124565125, 0.6102338433265686, 0.08614515513181686, 0.07293276488780975, 0.007708019111305475, 0.0006331434124149382, 0.00023173584486357868, 3.7673151382477954e-05, 0.001084386371076107, 2.056721677945461e-05, 2.3692549802944995e-05, 9.174376600640244e-07, 4.54326567478347e-07, 0.0007432294660247862, 1.3194304528951761e-06, 1.3767262316832785e-06, 7.552420811407501e-06, 4.953077223035507e-05, 0.0, 0.0, 0.0, 0.0, 0.0, 0.0, 0.0, 0.0, 0.0, 0.0, 0.0, 0.0, 0.0, 0.0, 0.0, 0.0, 0.0, 0.0, 0.0, 0.0, 0.0, 0.0, 0.0, 0.0, 0.0, 0.0, 0.0, 0.0, 0.0, 0.0, 0.0, 0.0, 0.0, 0.0, 0.0, 0.0, 0.0, 0.0, 0.0, 0.0], [3.934300707442162e-07, 1.212110510095954e-05, 2.9047865609754808e-05, 2.354661592107732e-05, 9.224325185641646e-05, 0.008454229682683945, 0.006142476107925177, 0.006648635026067495, 0.39343053102493286, 0.578271746635437, 0.004249087534844875, 0.0003715475322678685, 7.119320798665285e-06, 0.000325121363857761, 0.0008891542092896998, 6.61794692859985e-05, 2.3086337819222535e-07, 3.584215235719057e-08, 8.086556846365056e-08, 0.0009854455711320043, 8.456953359825548e-09, 3.7322585910715134e-08, 2.813955291003367e-07, 6.207364435795171e-07, 0.0, 0.0, 0.0, 0.0, 0.0, 0.0, 0.0, 0.0, 0.0, 0.0, 0.0, 0.0, 0.0, 0.0, 0.0, 0.0, 0.0, 0.0, 0.0, 0.0, 0.0, 0.0, 0.0, 0.0, 0.0, 0.0, 0.0, 0.0, 0.0, 0.0, 0.0, 0.0, 0.0, 0.0, 0.0, 0.0, 0.0, 0.0, 0.0, 0.0], [1.134321792051196e-06, 5.528119345399318e-06, 1.1374752375559183e-06, 4.827218617720064e-06, 9.214081728714518e-06, 1.0697494872147217e-05, 8.97227437235415e-05, 0.005548891145735979, 0.006929637864232063, 0.8834437131881714, 0.09469202905893326, 2.7029105694964528e-05, 0.002128331921994686, 0.005710287019610405, 4.055185490869917e-05, 0.0012972572585567832, 3.6659206671174616e-05, 3.7315089684852865e-06, 3.1208921882353025e-06, 1.585976679052692e-05, 9.054280525333525e-08, 2.1994171106598515e-07, 2.1339349132176721e-07, 1.0886087409289757e-07, 0.0, 0.0, 0.0, 0.0, 0.0, 0.0, 0.0, 0.0, 0.0, 0.0, 0.0, 0.0, 0.0, 0.0, 0.0, 0.0, 0.0, 0.0, 0.0, 0.0, 0.0, 0.0, 0.0, 0.0, 0.0, 0.0, 0.0, 0.0, 0.0, 0.0, 0.0, 0.0, 0.0, 0.0, 0.0, 0.0, 0.0, 0.0, 0.0, 0.0], [0.00017221187590621412, 8.373190212296322e-05, 3.87679465347901e-05, 5.8755696954904124e-05, 0.00023888854775577784, 1.2224764759594109e-05, 0.00018914820975624025, 0.025407712906599045, 0.004334679804742336, 0.01414136029779911, 0.9490647912025452, 0.0001843104255385697, 0.003478206926956773, 0.0010870444821193814, 0.0001516310148872435, 0.0006430284702219069, 0.00041357410373166203, 0.00017354715964756906, 1.9826844436465763e-05, 6.038234641891904e-05, 1.4567153812095057e-05, 2.7969426810159348e-05, 8.500296644342598e-07, 2.8731953989336034e-06, 0.0, 0.0, 0.0, 0.0, 0.0, 0.0, 0.0, 0.0, 0.0, 0.0, 0.0, 0.0, 0.0, 0.0, 0.0, 0.0, 0.0, 0.0, 0.0, 0.0, 0.0, 0.0, 0.0, 0.0, 0.0, 0.0, 0.0, 0.0, 0.0, 0.0, 0.0, 0.0, 0.0, 0.0, 0.0, 0.0, 0.0, 0.0, 0.0, 0.0], [0.0015553509583696723, 0.0011487737065181136, 0.0004750381631311029, 0.0003679332439787686, 0.00043862778693437576, 0.0005867491126991808, 0.0017838369822129607, 0.015694687142968178, 0.016126595437526703, 0.05432042479515076, 0.19087067246437073, 0.00610044039785862, 0.3961499333381653, 0.226471945643425, 0.007660237606614828, 0.060159504413604736, 0.007151251658797264, 0.0033488853368908167, 0.00297747110016644, 0.005192618817090988, 0.0002960472775157541, 0.0003704330010805279, 0.0005732267163693905, 0.00017916302022058517, 0.0, 0.0, 0.0, 0.0, 0.0, 0.0, 0.0, 0.0, 0.0, 0.0, 0.0, 0.0, 0.0, 0.0, 0.0, 0.0, 0.0, 0.0, 0.0, 0.0, 0.0, 0.0, 0.0, 0.0, 0.0, 0.0, 0.0, 0.0, 0.0, 0.0, 0.0, 0.0, 0.0, 0.0, 0.0, 0.0, 0.0, 0.0, 0.0, 0.0], [0.0014077912783250213, 0.00018957989232148975, 1.6929509001784027e-05, 8.992575203592423e-06, 8.845392585499212e-06, 7.115279458957957e-06, 9.056148883246351e-06, 0.00014255443238653243, 0.007496392820030451, 0.004856682848185301, 0.014733959920704365, 0.00021843747526872903, 0.8699091672897339, 0.05505639687180519, 0.0021578341256827116, 0.03905567526817322, 0.0034170951694250107, 9.850425703916699e-05, 0.00018939233268611133, 0.000938187469728291, 3.067943225687486e-06, 1.5033768249850255e-05, 5.7646433560876176e-05, 5.727498319174629e-06, 0.0, 0.0, 0.0, 0.0, 0.0, 0.0, 0.0, 0.0, 0.0, 0.0, 0.0, 0.0, 0.0, 0.0, 0.0, 0.0, 0.0, 0.0, 0.0, 0.0, 0.0, 0.0, 0.0, 0.0, 0.0, 0.0, 0.0, 0.0, 0.0, 0.0, 0.0, 0.0, 0.0, 0.0, 0.0, 0.0, 0.0, 0.0, 0.0, 0.0], [6.452764864661731e-07, 2.0318122551543638e-05, 8.072890409493994e-07, 1.0361669410485774e-05, 1.4772006124985637e-06, 1.4591400940844323e-06, 8.689476999279577e-06, 1.311137657467043e-05, 0.0038394529838114977, 0.03595958650112152, 0.005686641205102205, 0.00012660834181588143, 0.002752439584583044, 0.3646073639392853, 0.0008526460733264685, 0.5840110778808594, 0.0002895187644753605, 0.0010416380828246474, 0.00038563297130167484, 0.00036166058271192014, 1.2807259736291599e-05, 1.5031793736852705e-05, 8.993540632218355e-07, 1.1091425022868862e-07, 0.0, 0.0, 0.0, 0.0, 0.0, 0.0, 0.0, 0.0, 0.0, 0.0, 0.0, 0.0, 0.0, 0.0, 0.0, 0.0, 0.0, 0.0, 0.0, 0.0, 0.0, 0.0, 0.0, 0.0, 0.0, 0.0, 0.0, 0.0, 0.0, 0.0, 0.0, 0.0, 0.0, 0.0, 0.0, 0.0, 0.0, 0.0, 0.0, 0.0], [1.510765741841169e-06, 1.9686845917021856e-05, 4.569488737615757e-06, 5.5729076848365366e-05, 3.6134606489213184e-06, 8.151616839313647e-07, 3.972455670009367e-05, 3.35960321535822e-05, 7.615753474965459e-06, 0.02580409310758114, 0.016460152342915535, 9.290875459555537e-05, 0.0017458382062613964, 0.1708730012178421, 7.163176633184776e-05, 0.5374389290809631, 0.018817275762557983, 0.19557319581508636, 0.025021206587553024, 3.289869346190244e-05, 0.006829417310655117, 0.0010566316777840257, 8.797283953754231e-06, 7.0814407990837935e-06, 0.0, 0.0, 0.0, 0.0, 0.0, 0.0, 0.0, 0.0, 0.0, 0.0, 0.0, 0.0, 0.0, 0.0, 0.0, 0.0, 0.0, 0.0, 0.0, 0.0, 0.0, 0.0, 0.0, 0.0, 0.0, 0.0, 0.0, 0.0, 0.0, 0.0, 0.0, 0.0, 0.0, 0.0, 0.0, 0.0, 0.0, 0.0, 0.0, 0.0], [4.3324041598680196e-07, 6.437524007196771e-06, 3.4787089475685207e-07, 3.994122153017088e-07, 2.9189507699811656e-07, 1.0988189842464635e-06, 1.950480327650439e-05, 2.0875618247373495e-06, 3.397975524421781e-05, 0.00012757784861605614, 0.002026377711445093, 0.00014449820446316153, 0.0022529647685587406, 0.1137312576174736, 1.7484508134657517e-05, 0.43336570262908936, 0.0014988462207838893, 0.011655578389763832, 0.3527851402759552, 1.493915533501422e-05, 0.0006980690523050725, 0.0816146731376648, 2.103569386235904e-06, 2.7416010084380105e-07, 0.0, 0.0, 0.0, 0.0, 0.0, 0.0, 0.0, 0.0, 0.0, 0.0, 0.0, 0.0, 0.0, 0.0, 0.0, 0.0, 0.0, 0.0, 0.0, 0.0, 0.0, 0.0, 0.0, 0.0, 0.0, 0.0, 0.0, 0.0, 0.0, 0.0, 0.0, 0.0, 0.0, 0.0, 0.0, 0.0, 0.0, 0.0, 0.0, 0.0], [0.0001113558464567177, 0.0002938516263384372, 0.00014107392053119838, 0.0013332043308764696, 0.0006835692911408842, 1.1081528100476135e-05, 0.00022400882153306156, 4.5009895984549075e-05, 9.938601579051465e-06, 8.157190313795581e-05, 0.0009662993252277374, 0.00017306239169556648, 0.00020354680600576103, 0.0018601774936541915, 0.00013103536912240088, 0.02691047079861164, 0.09398814290761948, 0.2574635446071625, 0.06000662222504616, 9.931528620654717e-05, 0.36927515268325806, 0.18500974774360657, 0.00021262236987240613, 0.0007656116504222155, 0.0, 0.0, 0.0, 0.0, 0.0, 0.0, 0.0, 0.0, 0.0, 0.0, 0.0, 0.0, 0.0, 0.0, 0.0, 0.0, 0.0, 0.0, 0.0, 0.0, 0.0, 0.0, 0.0, 0.0, 0.0, 0.0, 0.0, 0.0, 0.0, 0.0, 0.0, 0.0, 0.0, 0.0, 0.0, 0.0, 0.0, 0.0, 0.0, 0.0], [0.0006314515485428274, 0.00011021267710020766, 1.0756329174910206e-05, 1.9836305000353605e-05, 1.6338901332346722e-05, 7.343970082729356e-06, 8.732602873351425e-05, 1.903441670947359e-06, 6.840650894446298e-05, 8.364822861040011e-06, 0.00014871385064907372, 0.00012442843581084162, 0.0002150145883206278, 0.0014077709056437016, 2.5997705961344764e-05, 0.008868841454386711, 0.00916959997266531, 0.0027421158738434315, 0.18559066951274872, 2.2801070372224785e-05, 0.0017854718025773764, 0.7888242602348328, 7.787394133629277e-05, 3.451752127148211e-05, 0.0, 0.0, 0.0, 0.0, 0.0, 0.0, 0.0, 0.0, 0.0, 0.0, 0.0, 0.0, 0.0, 0.0, 0.0, 0.0, 0.0, 0.0, 0.0, 0.0, 0.0, 0.0, 0.0, 0.0, 0.0, 0.0, 0.0, 0.0, 0.0, 0.0, 0.0, 0.0, 0.0, 0.0, 0.0, 0.0, 0.0, 0.0, 0.0, 0.0], [0.0008973325602710247, 0.0014700072351843119, 0.003060914808884263, 0.001890705432742834, 0.0003126791852992028, 6.440618562919553e-06, 1.2559544302348513e-05, 1.371326743537793e-05, 2.1646385448548244e-06, 3.138805141134071e-06, 1.1988950063823722e-05, 0.0002026108995778486, 0.0018636450404301286, 0.0006035898695699871, 0.00024224465596489608, 0.003054980421438813, 0.17055943608283997, 0.0812210813164711, 0.048340924084186554, 0.0002709015680011362, 0.4612634479999542, 0.1440550833940506, 0.04782547801733017, 0.03281491622328758, 0.0, 0.0, 0.0, 0.0, 0.0, 0.0, 0.0, 0.0, 0.0, 0.0, 0.0, 0.0, 0.0, 0.0, 0.0, 0.0, 0.0, 0.0, 0.0, 0.0, 0.0, 0.0, 0.0, 0.0, 0.0, 0.0, 0.0, 0.0, 0.0, 0.0, 0.0, 0.0, 0.0, 0.0, 0.0, 0.0, 0.0, 0.0, 0.0, 0.0], [0.00011653297406155616, 0.008218546397984028, 0.08046915382146835, 0.06126175448298454, 0.009787242859601974, 0.0010884783696383238, 0.00024111621314659715, 0.0002574003883637488, 6.899144500494003e-05, 0.0005227347719483078, 9.164791845250875e-05, 0.000890030583832413, 0.0007870669360272586, 0.000495746498927474, 0.003606654703617096, 0.007158593274652958, 0.06529565155506134, 0.045473862439394, 0.01918730139732361, 0.005955778062343597, 0.3886391520500183, 0.07509411871433258, 0.009619911201298237, 0.2156725376844406, 0.0, 0.0, 0.0, 0.0, 0.0, 0.0, 0.0, 0.0, 0.0, 0.0, 0.0, 0.0, 0.0, 0.0, 0.0, 0.0, 0.0, 0.0, 0.0, 0.0, 0.0, 0.0, 0.0, 0.0, 0.0, 0.0, 0.0, 0.0, 0.0, 0.0, 0.0, 0.0, 0.0, 0.0, 0.0, 0.0, 0.0, 0.0, 0.0, 0.0], [0.0034422622993588448, 0.008044456131756306, 0.03420305252075195, 0.10018925368785858, 0.09548487514257431, 0.024318909272551537, 0.005474181845784187, 0.005079983733594418, 2.359966492804233e-05, 0.00013837209553457797, 0.0002025382564170286, 0.002165647689253092, 0.0008395838085561991, 0.0002159527357434854, 0.0019081678474321961, 0.0002347604458918795, 0.022328581660985947, 0.050837162882089615, 0.009664325043559074, 0.002349676564335823, 0.3538059890270233, 0.02840087190270424, 0.13029417395591736, 0.12035366892814636, 0.0, 0.0, 0.0, 0.0, 0.0, 0.0, 0.0, 0.0, 0.0, 0.0, 0.0, 0.0, 0.0, 0.0, 0.0, 0.0, 0.0, 0.0, 0.0, 0.0, 0.0, 0.0, 0.0, 0.0, 0.0, 0.0, 0.0, 0.0, 0.0, 0.0, 0.0, 0.0, 0.0, 0.0, 0.0, 0.0, 0.0, 0.0, 0.0, 0.0]]]], \"left_text\": [\"Que\", \"sera\\u0300\", \"seguida\", \"a\", \"16\", \"h\", \"deu\", \"espectacle\", \"Contes\", \"d\", \"'\", \"un\", \"uti\\u0301s\", \"de\", \"Gric\", \"de\", \"Prat\", \"pad\", \"pad\", \"pad\"], \"right_text\": [\"[BOS]\", \"Elle\", \"sera\", \"suivie\", \"\\u00e0\", \"16\", \"h\", \"du\", \"spectacle\", \"Contes\", \"d\", \"'\", \"un\", \"Dom\", \"##an\", \"Aca\", \"##bat\", \"de\", \"Gri\", \"##c\", \"de\", \"Prat\", \".\", \"[EOS]\", \"pad\", \"pad\", \"pad\", \"pad\", \"pad\", \"pad\", \"pad\", \"pad\", \"pad\", \"pad\", \"pad\", \"pad\", \"pad\", \"pad\", \"pad\", \"pad\", \"pad\", \"pad\", \"pad\", \"pad\", \"pad\", \"pad\", \"pad\", \"pad\", \"pad\", \"pad\", \"pad\", \"pad\", \"pad\", \"pad\", \"pad\", \"pad\", \"pad\", \"pad\", \"pad\", \"pad\", \"pad\", \"pad\", \"pad\", \"pad\"]}], \"default_filter\": \"0\", \"root_div_id\": \"bertviz-f28d8a7b03cb47c3874dbf8d917f5914\", \"layer\": null, \"heads\": null, \"include_layers\": [0]} is a template marker that is replaced by actual params.\n    const TEXT_SIZE = 15;\n    const BOXWIDTH = 110;\n    const BOXHEIGHT = 22.5;\n    const MATRIX_WIDTH = 115;\n    const CHECKBOX_SIZE = 20;\n    const TEXT_TOP = 30;\n\n    console.log(\"d3 version\", d3.version)\n    let headColors;\n    try {\n        headColors = d3.scaleOrdinal(d3.schemeCategory10);\n    } catch (err) {\n        console.log('Older d3 version')\n        headColors = d3.scale.category10();\n    }\n    let config = {};\n    initialize();\n    renderVis();\n\n    function initialize() {\n        config.attention = params['attention'];\n        config.filter = params['default_filter'];\n        config.rootDivId = params['root_div_id'];\n        config.nLayers = config.attention[config.filter]['attn'].length;\n        config.nHeads = config.attention[config.filter]['attn'][0].length;\n        config.layers = params['include_layers']\n\n        if (params['heads']) {\n            config.headVis = new Array(config.nHeads).fill(false);\n            params['heads'].forEach(x => config.headVis[x] = true);\n        } else {\n            config.headVis = new Array(config.nHeads).fill(true);\n        }\n        config.initialTextLength = config.attention[config.filter].right_text.length;\n        config.layer_seq = (params['layer'] == null ? 0 : config.layers.findIndex(layer => params['layer'] === layer));\n        config.layer = config.layers[config.layer_seq]\n\n        let layerEl = $(`#${config.rootDivId} #layer`);\n        for (const layer of config.layers) {\n            layerEl.append($(\"<option />\").val(layer).text(layer));\n        }\n        layerEl.val(config.layer).change();\n        layerEl.on('change', function (e) {\n            config.layer = +e.currentTarget.value;\n            config.layer_seq = config.layers.findIndex(layer => config.layer === layer);\n            renderVis();\n        });\n\n        $(`#${config.rootDivId} #filter`).on('change', function (e) {\n            config.filter = e.currentTarget.value;\n            renderVis();\n        });\n    }\n\n    function renderVis() {\n\n        // Load parameters\n        const attnData = config.attention[config.filter];\n        const leftText = attnData.left_text;\n        const rightText = attnData.right_text;\n\n        // Select attention for given layer\n        const layerAttention = attnData.attn[config.layer_seq];\n\n        // Clear vis\n        $(`#${config.rootDivId} #vis`).empty();\n\n        // Determine size of visualization\n        const height = Math.max(leftText.length, rightText.length) * BOXHEIGHT + TEXT_TOP;\n        const svg = d3.select(`#${config.rootDivId} #vis`)\n            .append('svg')\n            .attr(\"width\", \"100%\")\n            .attr(\"height\", height + \"px\");\n\n        // Display tokens on left and right side of visualization\n        renderText(svg, leftText, true, layerAttention, 0);\n        renderText(svg, rightText, false, layerAttention, MATRIX_WIDTH + BOXWIDTH);\n\n        // Render attention arcs\n        renderAttention(svg, layerAttention);\n\n        // Draw squares at top of visualization, one for each head\n        drawCheckboxes(0, svg, layerAttention);\n    }\n\n    function renderText(svg, text, isLeft, attention, leftPos) {\n\n        const textContainer = svg.append(\"svg:g\")\n            .attr(\"id\", isLeft ? \"left\" : \"right\");\n\n        // Add attention highlights superimposed over words\n        textContainer.append(\"g\")\n            .classed(\"attentionBoxes\", true)\n            .selectAll(\"g\")\n            .data(attention)\n            .enter()\n            .append(\"g\")\n            .attr(\"head-index\", (d, i) => i)\n            .selectAll(\"rect\")\n            .data(d => isLeft ? d : transpose(d)) // if right text, transpose attention to get right-to-left weights\n            .enter()\n            .append(\"rect\")\n            .attr(\"x\", function () {\n                var headIndex = +this.parentNode.getAttribute(\"head-index\");\n                return leftPos + boxOffsets(headIndex);\n            })\n            .attr(\"y\", (+1) * BOXHEIGHT)\n            .attr(\"width\", BOXWIDTH / activeHeads())\n            .attr(\"height\", BOXHEIGHT)\n            .attr(\"fill\", function () {\n                return headColors(+this.parentNode.getAttribute(\"head-index\"))\n            })\n            .style(\"opacity\", 0.0);\n\n        const tokenContainer = textContainer.append(\"g\").selectAll(\"g\")\n            .data(text)\n            .enter()\n            .append(\"g\");\n\n        // Add gray background that appears when hovering over text\n        tokenContainer.append(\"rect\")\n            .classed(\"background\", true)\n            .style(\"opacity\", 0.0)\n            .attr(\"fill\", \"lightgray\")\n            .attr(\"x\", leftPos)\n            .attr(\"y\", (d, i) => TEXT_TOP + i * BOXHEIGHT)\n            .attr(\"width\", BOXWIDTH)\n            .attr(\"height\", BOXHEIGHT);\n\n        // Add token text\n        const textEl = tokenContainer.append(\"text\")\n            .text(d => d)\n            .attr(\"font-size\", TEXT_SIZE + \"px\")\n            .style(\"cursor\", \"default\")\n            .style(\"-webkit-user-select\", \"none\")\n            .attr(\"x\", leftPos)\n            .attr(\"y\", (d, i) => TEXT_TOP + i * BOXHEIGHT);\n\n        if (isLeft) {\n            textEl.style(\"text-anchor\", \"end\")\n                .attr(\"dx\", BOXWIDTH - 0.5 * TEXT_SIZE)\n                .attr(\"dy\", TEXT_SIZE);\n        } else {\n            textEl.style(\"text-anchor\", \"start\")\n                .attr(\"dx\", +0.5 * TEXT_SIZE)\n                .attr(\"dy\", TEXT_SIZE);\n        }\n\n        tokenContainer.on(\"mouseover\", function (d, index) {\n\n            // Show gray background for moused-over token\n            textContainer.selectAll(\".background\")\n                .style(\"opacity\", (d, i) => i === index ? 1.0 : 0.0)\n\n            // Reset visibility attribute for any previously highlighted attention arcs\n            svg.select(\"#attention\")\n                .selectAll(\"line[visibility='visible']\")\n                .attr(\"visibility\", null)\n\n            // Hide group containing attention arcs\n            svg.select(\"#attention\").attr(\"visibility\", \"hidden\");\n\n            // Set to visible appropriate attention arcs to be highlighted\n            if (isLeft) {\n                svg.select(\"#attention\").selectAll(\"line[left-token-index='\" + index + \"']\").attr(\"visibility\", \"visible\");\n            } else {\n                svg.select(\"#attention\").selectAll(\"line[right-token-index='\" + index + \"']\").attr(\"visibility\", \"visible\");\n            }\n\n            // Update color boxes superimposed over tokens\n            const id = isLeft ? \"right\" : \"left\";\n            const leftPos = isLeft ? MATRIX_WIDTH + BOXWIDTH : 0;\n            svg.select(\"#\" + id)\n                .selectAll(\".attentionBoxes\")\n                .selectAll(\"g\")\n                .attr(\"head-index\", (d, i) => i)\n                .selectAll(\"rect\")\n                .attr(\"x\", function () {\n                    const headIndex = +this.parentNode.getAttribute(\"head-index\");\n                    return leftPos + boxOffsets(headIndex);\n                })\n                .attr(\"y\", (d, i) => TEXT_TOP + i * BOXHEIGHT)\n                .attr(\"width\", BOXWIDTH / activeHeads())\n                .attr(\"height\", BOXHEIGHT)\n                .style(\"opacity\", function (d) {\n                    const headIndex = +this.parentNode.getAttribute(\"head-index\");\n                    if (config.headVis[headIndex])\n                        if (d) {\n                            return d[index];\n                        } else {\n                            return 0.0;\n                        }\n                    else\n                        return 0.0;\n                });\n        });\n\n        textContainer.on(\"mouseleave\", function () {\n\n            // Unhighlight selected token\n            d3.select(this).selectAll(\".background\")\n                .style(\"opacity\", 0.0);\n\n            // Reset visibility attributes for previously selected lines\n            svg.select(\"#attention\")\n                .selectAll(\"line[visibility='visible']\")\n                .attr(\"visibility\", null) ;\n            svg.select(\"#attention\").attr(\"visibility\", \"visible\");\n\n            // Reset highlights superimposed over tokens\n            svg.selectAll(\".attentionBoxes\")\n                .selectAll(\"g\")\n                .selectAll(\"rect\")\n                .style(\"opacity\", 0.0);\n        });\n    }\n\n    function renderAttention(svg, attention) {\n\n        // Remove previous dom elements\n        svg.select(\"#attention\").remove();\n\n        // Add new elements\n        svg.append(\"g\")\n            .attr(\"id\", \"attention\") // Container for all attention arcs\n            .selectAll(\".headAttention\")\n            .data(attention)\n            .enter()\n            .append(\"g\")\n            .classed(\"headAttention\", true) // Group attention arcs by head\n            .attr(\"head-index\", (d, i) => i)\n            .selectAll(\".tokenAttention\")\n            .data(d => d)\n            .enter()\n            .append(\"g\")\n            .classed(\"tokenAttention\", true) // Group attention arcs by left token\n            .attr(\"left-token-index\", (d, i) => i)\n            .selectAll(\"line\")\n            .data(d => d)\n            .enter()\n            .append(\"line\")\n            .attr(\"x1\", BOXWIDTH)\n            .attr(\"y1\", function () {\n                const leftTokenIndex = +this.parentNode.getAttribute(\"left-token-index\")\n                return TEXT_TOP + leftTokenIndex * BOXHEIGHT + (BOXHEIGHT / 2)\n            })\n            .attr(\"x2\", BOXWIDTH + MATRIX_WIDTH)\n            .attr(\"y2\", (d, rightTokenIndex) => TEXT_TOP + rightTokenIndex * BOXHEIGHT + (BOXHEIGHT / 2))\n            .attr(\"stroke-width\", 2)\n            .attr(\"stroke\", function () {\n                const headIndex = +this.parentNode.parentNode.getAttribute(\"head-index\");\n                return headColors(headIndex)\n            })\n            .attr(\"left-token-index\", function () {\n                return +this.parentNode.getAttribute(\"left-token-index\")\n            })\n            .attr(\"right-token-index\", (d, i) => i)\n        ;\n        updateAttention(svg)\n    }\n\n    function updateAttention(svg) {\n        svg.select(\"#attention\")\n            .selectAll(\"line\")\n            .attr(\"stroke-opacity\", function (d) {\n                const headIndex = +this.parentNode.parentNode.getAttribute(\"head-index\");\n                // If head is selected\n                if (config.headVis[headIndex]) {\n                    // Set opacity to attention weight divided by number of active heads\n                    return d / activeHeads()\n                } else {\n                    return 0.0;\n                }\n            })\n    }\n\n    function boxOffsets(i) {\n        const numHeadsAbove = config.headVis.reduce(\n            function (acc, val, cur) {\n                return val && cur < i ? acc + 1 : acc;\n            }, 0);\n        return numHeadsAbove * (BOXWIDTH / activeHeads());\n    }\n\n    function activeHeads() {\n        return config.headVis.reduce(function (acc, val) {\n            return val ? acc + 1 : acc;\n        }, 0);\n    }\n\n    function drawCheckboxes(top, svg) {\n        const checkboxContainer = svg.append(\"g\");\n        const checkbox = checkboxContainer.selectAll(\"rect\")\n            .data(config.headVis)\n            .enter()\n            .append(\"rect\")\n            .attr(\"fill\", (d, i) => headColors(i))\n            .attr(\"x\", (d, i) => i * CHECKBOX_SIZE)\n            .attr(\"y\", top)\n            .attr(\"width\", CHECKBOX_SIZE)\n            .attr(\"height\", CHECKBOX_SIZE);\n\n        function updateCheckboxes() {\n            checkboxContainer.selectAll(\"rect\")\n                .data(config.headVis)\n                .attr(\"fill\", (d, i) => d ? headColors(i): lighten(headColors(i)));\n        }\n\n        updateCheckboxes();\n\n        checkbox.on(\"click\", function (d, i) {\n            if (config.headVis[i] && activeHeads() === 1) return;\n            config.headVis[i] = !config.headVis[i];\n            updateCheckboxes();\n            updateAttention(svg);\n        });\n\n        checkbox.on(\"dblclick\", function (d, i) {\n            // If we double click on the only active head then reset\n            if (config.headVis[i] && activeHeads() === 1) {\n                config.headVis = new Array(config.nHeads).fill(true);\n            } else {\n                config.headVis = new Array(config.nHeads).fill(false);\n                config.headVis[i] = true;\n            }\n            updateCheckboxes();\n            updateAttention(svg);\n        });\n    }\n\n    function lighten(color) {\n        const c = d3.hsl(color);\n        const increment = (1 - c.l) * 0.6;\n        c.l += increment;\n        c.s -= increment;\n        return c;\n    }\n\n    function transpose(mat) {\n        return mat[0].map(function (col, i) {\n            return mat.map(function (row) {\n                return row[i];\n            });\n        });\n    }\n\n});",
            "text/plain": [
              "<IPython.core.display.Javascript object>"
            ]
          },
          "metadata": {},
          "output_type": "display_data"
        }
      ],
      "source": [
        "from bertviz import head_view, model_view\n",
        "attn_weights_formatted = tf.expand_dims(attn_weights, axis=0) # to mimic list of layers\n",
        "\n",
        "import torch\n",
        "attn_weights_torch = torch.tensor(attn_weights_formatted.numpy())\n",
        "\n",
        "head_view(cross_attention=attn_weights_torch, encoder_tokens=enc_tokens_padded, decoder_tokens=dec_tokens_padded)"
      ]
    },
    {
      "cell_type": "code",
      "execution_count": null,
      "metadata": {
        "id": "9YZPUZoieHJY"
      },
      "outputs": [],
      "source": []
    }
  ],
  "metadata": {
    "accelerator": "GPU",
    "colab": {
      "gpuType": "T4",
      "provenance": []
    },
    "kernelspec": {
      "display_name": "Python 3",
      "name": "python3"
    },
    "language_info": {
      "codemirror_mode": {
        "name": "ipython",
        "version": 3
      },
      "file_extension": ".py",
      "mimetype": "text/x-python",
      "name": "python",
      "nbconvert_exporter": "python",
      "pygments_lexer": "ipython3",
      "version": "3.8.10"
    },
    "widgets": {
      "application/vnd.jupyter.widget-state+json": {
        "0290e21261424c1c96e519978b2bc3ee": {
          "model_module": "@jupyter-widgets/controls",
          "model_module_version": "1.5.0",
          "model_name": "HTMLModel",
          "state": {
            "_dom_classes": [],
            "_model_module": "@jupyter-widgets/controls",
            "_model_module_version": "1.5.0",
            "_model_name": "HTMLModel",
            "_view_count": null,
            "_view_module": "@jupyter-widgets/controls",
            "_view_module_version": "1.5.0",
            "_view_name": "HTMLView",
            "description": "",
            "description_tooltip": null,
            "layout": "IPY_MODEL_95fd4e7bba9f48fcbc84c0dbb657a1bb",
            "placeholder": "​",
            "style": "IPY_MODEL_1a96a39364864cfe93c985cdda1bcc12",
            "value": " 420/420 [00:00&lt;00:00, 26.0kB/s]"
          }
        },
        "081210c708184bd0ade047f385733322": {
          "model_module": "@jupyter-widgets/base",
          "model_module_version": "1.2.0",
          "model_name": "LayoutModel",
          "state": {
            "_model_module": "@jupyter-widgets/base",
            "_model_module_version": "1.2.0",
            "_model_name": "LayoutModel",
            "_view_count": null,
            "_view_module": "@jupyter-widgets/base",
            "_view_module_version": "1.2.0",
            "_view_name": "LayoutView",
            "align_content": null,
            "align_items": null,
            "align_self": null,
            "border": null,
            "bottom": null,
            "display": null,
            "flex": null,
            "flex_flow": null,
            "grid_area": null,
            "grid_auto_columns": null,
            "grid_auto_flow": null,
            "grid_auto_rows": null,
            "grid_column": null,
            "grid_gap": null,
            "grid_row": null,
            "grid_template_areas": null,
            "grid_template_columns": null,
            "grid_template_rows": null,
            "height": null,
            "justify_content": null,
            "justify_items": null,
            "left": null,
            "margin": null,
            "max_height": null,
            "max_width": null,
            "min_height": null,
            "min_width": null,
            "object_fit": null,
            "object_position": null,
            "order": null,
            "overflow": null,
            "overflow_x": null,
            "overflow_y": null,
            "padding": null,
            "right": null,
            "top": null,
            "visibility": null,
            "width": null
          }
        },
        "0914c1cee6c346bf9e52c235c3d3bde8": {
          "model_module": "@jupyter-widgets/base",
          "model_module_version": "1.2.0",
          "model_name": "LayoutModel",
          "state": {
            "_model_module": "@jupyter-widgets/base",
            "_model_module_version": "1.2.0",
            "_model_name": "LayoutModel",
            "_view_count": null,
            "_view_module": "@jupyter-widgets/base",
            "_view_module_version": "1.2.0",
            "_view_name": "LayoutView",
            "align_content": null,
            "align_items": null,
            "align_self": null,
            "border": null,
            "bottom": null,
            "display": null,
            "flex": null,
            "flex_flow": null,
            "grid_area": null,
            "grid_auto_columns": null,
            "grid_auto_flow": null,
            "grid_auto_rows": null,
            "grid_column": null,
            "grid_gap": null,
            "grid_row": null,
            "grid_template_areas": null,
            "grid_template_columns": null,
            "grid_template_rows": null,
            "height": null,
            "justify_content": null,
            "justify_items": null,
            "left": null,
            "margin": null,
            "max_height": null,
            "max_width": null,
            "min_height": null,
            "min_width": null,
            "object_fit": null,
            "object_position": null,
            "order": null,
            "overflow": null,
            "overflow_x": null,
            "overflow_y": null,
            "padding": null,
            "right": null,
            "top": null,
            "visibility": null,
            "width": null
          }
        },
        "151cf68e1a4c41a6bf6b74195569fd28": {
          "model_module": "@jupyter-widgets/controls",
          "model_module_version": "1.5.0",
          "model_name": "ProgressStyleModel",
          "state": {
            "_model_module": "@jupyter-widgets/controls",
            "_model_module_version": "1.5.0",
            "_model_name": "ProgressStyleModel",
            "_view_count": null,
            "_view_module": "@jupyter-widgets/base",
            "_view_module_version": "1.2.0",
            "_view_name": "StyleView",
            "bar_color": null,
            "description_width": ""
          }
        },
        "1a96a39364864cfe93c985cdda1bcc12": {
          "model_module": "@jupyter-widgets/controls",
          "model_module_version": "1.5.0",
          "model_name": "DescriptionStyleModel",
          "state": {
            "_model_module": "@jupyter-widgets/controls",
            "_model_module_version": "1.5.0",
            "_model_name": "DescriptionStyleModel",
            "_view_count": null,
            "_view_module": "@jupyter-widgets/base",
            "_view_module_version": "1.2.0",
            "_view_name": "StyleView",
            "description_width": ""
          }
        },
        "2cc9da18c5c340bc892ccbce46b824a2": {
          "model_module": "@jupyter-widgets/base",
          "model_module_version": "1.2.0",
          "model_name": "LayoutModel",
          "state": {
            "_model_module": "@jupyter-widgets/base",
            "_model_module_version": "1.2.0",
            "_model_name": "LayoutModel",
            "_view_count": null,
            "_view_module": "@jupyter-widgets/base",
            "_view_module_version": "1.2.0",
            "_view_name": "LayoutView",
            "align_content": null,
            "align_items": null,
            "align_self": null,
            "border": null,
            "bottom": null,
            "display": null,
            "flex": null,
            "flex_flow": null,
            "grid_area": null,
            "grid_auto_columns": null,
            "grid_auto_flow": null,
            "grid_auto_rows": null,
            "grid_column": null,
            "grid_gap": null,
            "grid_row": null,
            "grid_template_areas": null,
            "grid_template_columns": null,
            "grid_template_rows": null,
            "height": null,
            "justify_content": null,
            "justify_items": null,
            "left": null,
            "margin": null,
            "max_height": null,
            "max_width": null,
            "min_height": null,
            "min_width": null,
            "object_fit": null,
            "object_position": null,
            "order": null,
            "overflow": null,
            "overflow_x": null,
            "overflow_y": null,
            "padding": null,
            "right": null,
            "top": null,
            "visibility": null,
            "width": null
          }
        },
        "3bad43f61ebd4e0997f0fa0172ba79ad": {
          "model_module": "@jupyter-widgets/base",
          "model_module_version": "1.2.0",
          "model_name": "LayoutModel",
          "state": {
            "_model_module": "@jupyter-widgets/base",
            "_model_module_version": "1.2.0",
            "_model_name": "LayoutModel",
            "_view_count": null,
            "_view_module": "@jupyter-widgets/base",
            "_view_module_version": "1.2.0",
            "_view_name": "LayoutView",
            "align_content": null,
            "align_items": null,
            "align_self": null,
            "border": null,
            "bottom": null,
            "display": null,
            "flex": null,
            "flex_flow": null,
            "grid_area": null,
            "grid_auto_columns": null,
            "grid_auto_flow": null,
            "grid_auto_rows": null,
            "grid_column": null,
            "grid_gap": null,
            "grid_row": null,
            "grid_template_areas": null,
            "grid_template_columns": null,
            "grid_template_rows": null,
            "height": null,
            "justify_content": null,
            "justify_items": null,
            "left": null,
            "margin": null,
            "max_height": null,
            "max_width": null,
            "min_height": null,
            "min_width": null,
            "object_fit": null,
            "object_position": null,
            "order": null,
            "overflow": null,
            "overflow_x": null,
            "overflow_y": null,
            "padding": null,
            "right": null,
            "top": null,
            "visibility": null,
            "width": null
          }
        },
        "4279d9193f2f486f94a52b7471024d55": {
          "model_module": "@jupyter-widgets/controls",
          "model_module_version": "1.5.0",
          "model_name": "ProgressStyleModel",
          "state": {
            "_model_module": "@jupyter-widgets/controls",
            "_model_module_version": "1.5.0",
            "_model_name": "ProgressStyleModel",
            "_view_count": null,
            "_view_module": "@jupyter-widgets/base",
            "_view_module_version": "1.2.0",
            "_view_name": "StyleView",
            "bar_color": null,
            "description_width": ""
          }
        },
        "4823e9b9419a4ba5abb3511ea5aaf0c4": {
          "model_module": "@jupyter-widgets/controls",
          "model_module_version": "1.5.0",
          "model_name": "DescriptionStyleModel",
          "state": {
            "_model_module": "@jupyter-widgets/controls",
            "_model_module_version": "1.5.0",
            "_model_name": "DescriptionStyleModel",
            "_view_count": null,
            "_view_module": "@jupyter-widgets/base",
            "_view_module_version": "1.2.0",
            "_view_name": "StyleView",
            "description_width": ""
          }
        },
        "48db8c598e0846c0b6d0d0c9399f6379": {
          "model_module": "@jupyter-widgets/controls",
          "model_module_version": "1.5.0",
          "model_name": "FloatProgressModel",
          "state": {
            "_dom_classes": [],
            "_model_module": "@jupyter-widgets/controls",
            "_model_module_version": "1.5.0",
            "_model_name": "FloatProgressModel",
            "_view_count": null,
            "_view_module": "@jupyter-widgets/controls",
            "_view_module_version": "1.5.0",
            "_view_name": "ProgressView",
            "bar_style": "success",
            "description": "",
            "description_tooltip": null,
            "layout": "IPY_MODEL_2cc9da18c5c340bc892ccbce46b824a2",
            "max": 83,
            "min": 0,
            "orientation": "horizontal",
            "style": "IPY_MODEL_4279d9193f2f486f94a52b7471024d55",
            "value": 83
          }
        },
        "522bf0947193421db9267a37cec0035c": {
          "model_module": "@jupyter-widgets/controls",
          "model_module_version": "1.5.0",
          "model_name": "DescriptionStyleModel",
          "state": {
            "_model_module": "@jupyter-widgets/controls",
            "_model_module_version": "1.5.0",
            "_model_name": "DescriptionStyleModel",
            "_view_count": null,
            "_view_module": "@jupyter-widgets/base",
            "_view_module_version": "1.2.0",
            "_view_name": "StyleView",
            "description_width": ""
          }
        },
        "6ce5030c86c74e77b7d218e72cff681b": {
          "model_module": "@jupyter-widgets/controls",
          "model_module_version": "1.5.0",
          "model_name": "FloatProgressModel",
          "state": {
            "_dom_classes": [],
            "_model_module": "@jupyter-widgets/controls",
            "_model_module_version": "1.5.0",
            "_model_name": "FloatProgressModel",
            "_view_count": null,
            "_view_module": "@jupyter-widgets/controls",
            "_view_module_version": "1.5.0",
            "_view_name": "ProgressView",
            "bar_style": "success",
            "description": "",
            "description_tooltip": null,
            "layout": "IPY_MODEL_707d665b8edc4376b3bf5db96dc5b3fe",
            "max": 420,
            "min": 0,
            "orientation": "horizontal",
            "style": "IPY_MODEL_76dedcf233be4f89a341e7fc8f8846ba",
            "value": 420
          }
        },
        "6dba5a7d7c8e431eafd116c9c15c29d3": {
          "model_module": "@jupyter-widgets/controls",
          "model_module_version": "1.5.0",
          "model_name": "HBoxModel",
          "state": {
            "_dom_classes": [],
            "_model_module": "@jupyter-widgets/controls",
            "_model_module_version": "1.5.0",
            "_model_name": "HBoxModel",
            "_view_count": null,
            "_view_module": "@jupyter-widgets/controls",
            "_view_module_version": "1.5.0",
            "_view_name": "HBoxView",
            "box_style": "",
            "children": [
              "IPY_MODEL_7b3dadad0c75491d9d7f233e2b8737c1",
              "IPY_MODEL_f236cd634d2845ca9ea29d1eab1fba0c",
              "IPY_MODEL_79d6769d9ad24c7dad151991eb06982d"
            ],
            "layout": "IPY_MODEL_3bad43f61ebd4e0997f0fa0172ba79ad"
          }
        },
        "707d665b8edc4376b3bf5db96dc5b3fe": {
          "model_module": "@jupyter-widgets/base",
          "model_module_version": "1.2.0",
          "model_name": "LayoutModel",
          "state": {
            "_model_module": "@jupyter-widgets/base",
            "_model_module_version": "1.2.0",
            "_model_name": "LayoutModel",
            "_view_count": null,
            "_view_module": "@jupyter-widgets/base",
            "_view_module_version": "1.2.0",
            "_view_name": "LayoutView",
            "align_content": null,
            "align_items": null,
            "align_self": null,
            "border": null,
            "bottom": null,
            "display": null,
            "flex": null,
            "flex_flow": null,
            "grid_area": null,
            "grid_auto_columns": null,
            "grid_auto_flow": null,
            "grid_auto_rows": null,
            "grid_column": null,
            "grid_gap": null,
            "grid_row": null,
            "grid_template_areas": null,
            "grid_template_columns": null,
            "grid_template_rows": null,
            "height": null,
            "justify_content": null,
            "justify_items": null,
            "left": null,
            "margin": null,
            "max_height": null,
            "max_width": null,
            "min_height": null,
            "min_width": null,
            "object_fit": null,
            "object_position": null,
            "order": null,
            "overflow": null,
            "overflow_x": null,
            "overflow_y": null,
            "padding": null,
            "right": null,
            "top": null,
            "visibility": null,
            "width": null
          }
        },
        "71dc91b051284502ad945d03fcbba96f": {
          "model_module": "@jupyter-widgets/base",
          "model_module_version": "1.2.0",
          "model_name": "LayoutModel",
          "state": {
            "_model_module": "@jupyter-widgets/base",
            "_model_module_version": "1.2.0",
            "_model_name": "LayoutModel",
            "_view_count": null,
            "_view_module": "@jupyter-widgets/base",
            "_view_module_version": "1.2.0",
            "_view_name": "LayoutView",
            "align_content": null,
            "align_items": null,
            "align_self": null,
            "border": null,
            "bottom": null,
            "display": null,
            "flex": null,
            "flex_flow": null,
            "grid_area": null,
            "grid_auto_columns": null,
            "grid_auto_flow": null,
            "grid_auto_rows": null,
            "grid_column": null,
            "grid_gap": null,
            "grid_row": null,
            "grid_template_areas": null,
            "grid_template_columns": null,
            "grid_template_rows": null,
            "height": null,
            "justify_content": null,
            "justify_items": null,
            "left": null,
            "margin": null,
            "max_height": null,
            "max_width": null,
            "min_height": null,
            "min_width": null,
            "object_fit": null,
            "object_position": null,
            "order": null,
            "overflow": null,
            "overflow_x": null,
            "overflow_y": null,
            "padding": null,
            "right": null,
            "top": null,
            "visibility": null,
            "width": null
          }
        },
        "73e40d7298d54093a953f7f4355d8892": {
          "model_module": "@jupyter-widgets/controls",
          "model_module_version": "1.5.0",
          "model_name": "DescriptionStyleModel",
          "state": {
            "_model_module": "@jupyter-widgets/controls",
            "_model_module_version": "1.5.0",
            "_model_name": "DescriptionStyleModel",
            "_view_count": null,
            "_view_module": "@jupyter-widgets/base",
            "_view_module_version": "1.2.0",
            "_view_name": "StyleView",
            "description_width": ""
          }
        },
        "76dedcf233be4f89a341e7fc8f8846ba": {
          "model_module": "@jupyter-widgets/controls",
          "model_module_version": "1.5.0",
          "model_name": "ProgressStyleModel",
          "state": {
            "_model_module": "@jupyter-widgets/controls",
            "_model_module_version": "1.5.0",
            "_model_name": "ProgressStyleModel",
            "_view_count": null,
            "_view_module": "@jupyter-widgets/base",
            "_view_module_version": "1.2.0",
            "_view_name": "StyleView",
            "bar_color": null,
            "description_width": ""
          }
        },
        "785ffebff29d4c68820c29e1c295067a": {
          "model_module": "@jupyter-widgets/controls",
          "model_module_version": "1.5.0",
          "model_name": "DescriptionStyleModel",
          "state": {
            "_model_module": "@jupyter-widgets/controls",
            "_model_module_version": "1.5.0",
            "_model_name": "DescriptionStyleModel",
            "_view_count": null,
            "_view_module": "@jupyter-widgets/base",
            "_view_module_version": "1.2.0",
            "_view_name": "StyleView",
            "description_width": ""
          }
        },
        "79ab831f9b734c849056e667d68b2939": {
          "model_module": "@jupyter-widgets/controls",
          "model_module_version": "1.5.0",
          "model_name": "DescriptionStyleModel",
          "state": {
            "_model_module": "@jupyter-widgets/controls",
            "_model_module_version": "1.5.0",
            "_model_name": "DescriptionStyleModel",
            "_view_count": null,
            "_view_module": "@jupyter-widgets/base",
            "_view_module_version": "1.2.0",
            "_view_name": "StyleView",
            "description_width": ""
          }
        },
        "79d6769d9ad24c7dad151991eb06982d": {
          "model_module": "@jupyter-widgets/controls",
          "model_module_version": "1.5.0",
          "model_name": "HTMLModel",
          "state": {
            "_dom_classes": [],
            "_model_module": "@jupyter-widgets/controls",
            "_model_module_version": "1.5.0",
            "_model_name": "HTMLModel",
            "_view_count": null,
            "_view_module": "@jupyter-widgets/controls",
            "_view_module_version": "1.5.0",
            "_view_name": "HTMLView",
            "description": "",
            "description_tooltip": null,
            "layout": "IPY_MODEL_0914c1cee6c346bf9e52c235c3d3bde8",
            "placeholder": "​",
            "style": "IPY_MODEL_785ffebff29d4c68820c29e1c295067a",
            "value": " 227k/227k [00:00&lt;00:00, 1.18MB/s]"
          }
        },
        "7b3dadad0c75491d9d7f233e2b8737c1": {
          "model_module": "@jupyter-widgets/controls",
          "model_module_version": "1.5.0",
          "model_name": "HTMLModel",
          "state": {
            "_dom_classes": [],
            "_model_module": "@jupyter-widgets/controls",
            "_model_module_version": "1.5.0",
            "_model_name": "HTMLModel",
            "_view_count": null,
            "_view_module": "@jupyter-widgets/controls",
            "_view_module_version": "1.5.0",
            "_view_name": "HTMLView",
            "description": "",
            "description_tooltip": null,
            "layout": "IPY_MODEL_71dc91b051284502ad945d03fcbba96f",
            "placeholder": "​",
            "style": "IPY_MODEL_79ab831f9b734c849056e667d68b2939",
            "value": "vocab.txt: 100%"
          }
        },
        "95fd4e7bba9f48fcbc84c0dbb657a1bb": {
          "model_module": "@jupyter-widgets/base",
          "model_module_version": "1.2.0",
          "model_name": "LayoutModel",
          "state": {
            "_model_module": "@jupyter-widgets/base",
            "_model_module_version": "1.2.0",
            "_model_name": "LayoutModel",
            "_view_count": null,
            "_view_module": "@jupyter-widgets/base",
            "_view_module_version": "1.2.0",
            "_view_name": "LayoutView",
            "align_content": null,
            "align_items": null,
            "align_self": null,
            "border": null,
            "bottom": null,
            "display": null,
            "flex": null,
            "flex_flow": null,
            "grid_area": null,
            "grid_auto_columns": null,
            "grid_auto_flow": null,
            "grid_auto_rows": null,
            "grid_column": null,
            "grid_gap": null,
            "grid_row": null,
            "grid_template_areas": null,
            "grid_template_columns": null,
            "grid_template_rows": null,
            "height": null,
            "justify_content": null,
            "justify_items": null,
            "left": null,
            "margin": null,
            "max_height": null,
            "max_width": null,
            "min_height": null,
            "min_width": null,
            "object_fit": null,
            "object_position": null,
            "order": null,
            "overflow": null,
            "overflow_x": null,
            "overflow_y": null,
            "padding": null,
            "right": null,
            "top": null,
            "visibility": null,
            "width": null
          }
        },
        "a324140fd2de4666b49a29d1cbd0ff91": {
          "model_module": "@jupyter-widgets/controls",
          "model_module_version": "1.5.0",
          "model_name": "HTMLModel",
          "state": {
            "_dom_classes": [],
            "_model_module": "@jupyter-widgets/controls",
            "_model_module_version": "1.5.0",
            "_model_name": "HTMLModel",
            "_view_count": null,
            "_view_module": "@jupyter-widgets/controls",
            "_view_module_version": "1.5.0",
            "_view_name": "HTMLView",
            "description": "",
            "description_tooltip": null,
            "layout": "IPY_MODEL_fc193539726545b29eda938aff5286b1",
            "placeholder": "​",
            "style": "IPY_MODEL_4823e9b9419a4ba5abb3511ea5aaf0c4",
            "value": "config.json: 100%"
          }
        },
        "a8e36f41d4504616aaf5c5f53f8e429f": {
          "model_module": "@jupyter-widgets/base",
          "model_module_version": "1.2.0",
          "model_name": "LayoutModel",
          "state": {
            "_model_module": "@jupyter-widgets/base",
            "_model_module_version": "1.2.0",
            "_model_name": "LayoutModel",
            "_view_count": null,
            "_view_module": "@jupyter-widgets/base",
            "_view_module_version": "1.2.0",
            "_view_name": "LayoutView",
            "align_content": null,
            "align_items": null,
            "align_self": null,
            "border": null,
            "bottom": null,
            "display": null,
            "flex": null,
            "flex_flow": null,
            "grid_area": null,
            "grid_auto_columns": null,
            "grid_auto_flow": null,
            "grid_auto_rows": null,
            "grid_column": null,
            "grid_gap": null,
            "grid_row": null,
            "grid_template_areas": null,
            "grid_template_columns": null,
            "grid_template_rows": null,
            "height": null,
            "justify_content": null,
            "justify_items": null,
            "left": null,
            "margin": null,
            "max_height": null,
            "max_width": null,
            "min_height": null,
            "min_width": null,
            "object_fit": null,
            "object_position": null,
            "order": null,
            "overflow": null,
            "overflow_x": null,
            "overflow_y": null,
            "padding": null,
            "right": null,
            "top": null,
            "visibility": null,
            "width": null
          }
        },
        "b40b147094034fc6844a8e4505e436fc": {
          "model_module": "@jupyter-widgets/base",
          "model_module_version": "1.2.0",
          "model_name": "LayoutModel",
          "state": {
            "_model_module": "@jupyter-widgets/base",
            "_model_module_version": "1.2.0",
            "_model_name": "LayoutModel",
            "_view_count": null,
            "_view_module": "@jupyter-widgets/base",
            "_view_module_version": "1.2.0",
            "_view_name": "LayoutView",
            "align_content": null,
            "align_items": null,
            "align_self": null,
            "border": null,
            "bottom": null,
            "display": null,
            "flex": null,
            "flex_flow": null,
            "grid_area": null,
            "grid_auto_columns": null,
            "grid_auto_flow": null,
            "grid_auto_rows": null,
            "grid_column": null,
            "grid_gap": null,
            "grid_row": null,
            "grid_template_areas": null,
            "grid_template_columns": null,
            "grid_template_rows": null,
            "height": null,
            "justify_content": null,
            "justify_items": null,
            "left": null,
            "margin": null,
            "max_height": null,
            "max_width": null,
            "min_height": null,
            "min_width": null,
            "object_fit": null,
            "object_position": null,
            "order": null,
            "overflow": null,
            "overflow_x": null,
            "overflow_y": null,
            "padding": null,
            "right": null,
            "top": null,
            "visibility": null,
            "width": null
          }
        },
        "b8a3a1984fd64b558c645d4e720088e6": {
          "model_module": "@jupyter-widgets/base",
          "model_module_version": "1.2.0",
          "model_name": "LayoutModel",
          "state": {
            "_model_module": "@jupyter-widgets/base",
            "_model_module_version": "1.2.0",
            "_model_name": "LayoutModel",
            "_view_count": null,
            "_view_module": "@jupyter-widgets/base",
            "_view_module_version": "1.2.0",
            "_view_name": "LayoutView",
            "align_content": null,
            "align_items": null,
            "align_self": null,
            "border": null,
            "bottom": null,
            "display": null,
            "flex": null,
            "flex_flow": null,
            "grid_area": null,
            "grid_auto_columns": null,
            "grid_auto_flow": null,
            "grid_auto_rows": null,
            "grid_column": null,
            "grid_gap": null,
            "grid_row": null,
            "grid_template_areas": null,
            "grid_template_columns": null,
            "grid_template_rows": null,
            "height": null,
            "justify_content": null,
            "justify_items": null,
            "left": null,
            "margin": null,
            "max_height": null,
            "max_width": null,
            "min_height": null,
            "min_width": null,
            "object_fit": null,
            "object_position": null,
            "order": null,
            "overflow": null,
            "overflow_x": null,
            "overflow_y": null,
            "padding": null,
            "right": null,
            "top": null,
            "visibility": null,
            "width": null
          }
        },
        "cb28f003f0fd477fb06755e66e9f3432": {
          "model_module": "@jupyter-widgets/controls",
          "model_module_version": "1.5.0",
          "model_name": "HTMLModel",
          "state": {
            "_dom_classes": [],
            "_model_module": "@jupyter-widgets/controls",
            "_model_module_version": "1.5.0",
            "_model_name": "HTMLModel",
            "_view_count": null,
            "_view_module": "@jupyter-widgets/controls",
            "_view_module_version": "1.5.0",
            "_view_name": "HTMLView",
            "description": "",
            "description_tooltip": null,
            "layout": "IPY_MODEL_e4d75c63616840adb7d4949aac13bda3",
            "placeholder": "​",
            "style": "IPY_MODEL_73e40d7298d54093a953f7f4355d8892",
            "value": "tokenizer_config.json: 100%"
          }
        },
        "d8b6005c4ddf463fada6052040108aff": {
          "model_module": "@jupyter-widgets/controls",
          "model_module_version": "1.5.0",
          "model_name": "HBoxModel",
          "state": {
            "_dom_classes": [],
            "_model_module": "@jupyter-widgets/controls",
            "_model_module_version": "1.5.0",
            "_model_name": "HBoxModel",
            "_view_count": null,
            "_view_module": "@jupyter-widgets/controls",
            "_view_module_version": "1.5.0",
            "_view_name": "HBoxView",
            "box_style": "",
            "children": [
              "IPY_MODEL_a324140fd2de4666b49a29d1cbd0ff91",
              "IPY_MODEL_6ce5030c86c74e77b7d218e72cff681b",
              "IPY_MODEL_0290e21261424c1c96e519978b2bc3ee"
            ],
            "layout": "IPY_MODEL_081210c708184bd0ade047f385733322"
          }
        },
        "da989fe499254e9eb62a86f8b21d7551": {
          "model_module": "@jupyter-widgets/controls",
          "model_module_version": "1.5.0",
          "model_name": "HTMLModel",
          "state": {
            "_dom_classes": [],
            "_model_module": "@jupyter-widgets/controls",
            "_model_module_version": "1.5.0",
            "_model_name": "HTMLModel",
            "_view_count": null,
            "_view_module": "@jupyter-widgets/controls",
            "_view_module_version": "1.5.0",
            "_view_name": "HTMLView",
            "description": "",
            "description_tooltip": null,
            "layout": "IPY_MODEL_b8a3a1984fd64b558c645d4e720088e6",
            "placeholder": "​",
            "style": "IPY_MODEL_522bf0947193421db9267a37cec0035c",
            "value": " 83.0/83.0 [00:00&lt;00:00, 5.78kB/s]"
          }
        },
        "e4d75c63616840adb7d4949aac13bda3": {
          "model_module": "@jupyter-widgets/base",
          "model_module_version": "1.2.0",
          "model_name": "LayoutModel",
          "state": {
            "_model_module": "@jupyter-widgets/base",
            "_model_module_version": "1.2.0",
            "_model_name": "LayoutModel",
            "_view_count": null,
            "_view_module": "@jupyter-widgets/base",
            "_view_module_version": "1.2.0",
            "_view_name": "LayoutView",
            "align_content": null,
            "align_items": null,
            "align_self": null,
            "border": null,
            "bottom": null,
            "display": null,
            "flex": null,
            "flex_flow": null,
            "grid_area": null,
            "grid_auto_columns": null,
            "grid_auto_flow": null,
            "grid_auto_rows": null,
            "grid_column": null,
            "grid_gap": null,
            "grid_row": null,
            "grid_template_areas": null,
            "grid_template_columns": null,
            "grid_template_rows": null,
            "height": null,
            "justify_content": null,
            "justify_items": null,
            "left": null,
            "margin": null,
            "max_height": null,
            "max_width": null,
            "min_height": null,
            "min_width": null,
            "object_fit": null,
            "object_position": null,
            "order": null,
            "overflow": null,
            "overflow_x": null,
            "overflow_y": null,
            "padding": null,
            "right": null,
            "top": null,
            "visibility": null,
            "width": null
          }
        },
        "f236cd634d2845ca9ea29d1eab1fba0c": {
          "model_module": "@jupyter-widgets/controls",
          "model_module_version": "1.5.0",
          "model_name": "FloatProgressModel",
          "state": {
            "_dom_classes": [],
            "_model_module": "@jupyter-widgets/controls",
            "_model_module_version": "1.5.0",
            "_model_name": "FloatProgressModel",
            "_view_count": null,
            "_view_module": "@jupyter-widgets/controls",
            "_view_module_version": "1.5.0",
            "_view_name": "ProgressView",
            "bar_style": "success",
            "description": "",
            "description_tooltip": null,
            "layout": "IPY_MODEL_b40b147094034fc6844a8e4505e436fc",
            "max": 227141,
            "min": 0,
            "orientation": "horizontal",
            "style": "IPY_MODEL_151cf68e1a4c41a6bf6b74195569fd28",
            "value": 227141
          }
        },
        "f6b999693dfb42e4ac190fc81f0cf5e6": {
          "model_module": "@jupyter-widgets/controls",
          "model_module_version": "1.5.0",
          "model_name": "HBoxModel",
          "state": {
            "_dom_classes": [],
            "_model_module": "@jupyter-widgets/controls",
            "_model_module_version": "1.5.0",
            "_model_name": "HBoxModel",
            "_view_count": null,
            "_view_module": "@jupyter-widgets/controls",
            "_view_module_version": "1.5.0",
            "_view_name": "HBoxView",
            "box_style": "",
            "children": [
              "IPY_MODEL_cb28f003f0fd477fb06755e66e9f3432",
              "IPY_MODEL_48db8c598e0846c0b6d0d0c9399f6379",
              "IPY_MODEL_da989fe499254e9eb62a86f8b21d7551"
            ],
            "layout": "IPY_MODEL_a8e36f41d4504616aaf5c5f53f8e429f"
          }
        },
        "fc193539726545b29eda938aff5286b1": {
          "model_module": "@jupyter-widgets/base",
          "model_module_version": "1.2.0",
          "model_name": "LayoutModel",
          "state": {
            "_model_module": "@jupyter-widgets/base",
            "_model_module_version": "1.2.0",
            "_model_name": "LayoutModel",
            "_view_count": null,
            "_view_module": "@jupyter-widgets/base",
            "_view_module_version": "1.2.0",
            "_view_name": "LayoutView",
            "align_content": null,
            "align_items": null,
            "align_self": null,
            "border": null,
            "bottom": null,
            "display": null,
            "flex": null,
            "flex_flow": null,
            "grid_area": null,
            "grid_auto_columns": null,
            "grid_auto_flow": null,
            "grid_auto_rows": null,
            "grid_column": null,
            "grid_gap": null,
            "grid_row": null,
            "grid_template_areas": null,
            "grid_template_columns": null,
            "grid_template_rows": null,
            "height": null,
            "justify_content": null,
            "justify_items": null,
            "left": null,
            "margin": null,
            "max_height": null,
            "max_width": null,
            "min_height": null,
            "min_width": null,
            "object_fit": null,
            "object_position": null,
            "order": null,
            "overflow": null,
            "overflow_x": null,
            "overflow_y": null,
            "padding": null,
            "right": null,
            "top": null,
            "visibility": null,
            "width": null
          }
        }
      }
    }
  },
  "nbformat": 4,
  "nbformat_minor": 0
}
